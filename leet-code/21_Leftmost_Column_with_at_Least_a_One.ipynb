{
 "cells": [
  {
   "cell_type": "markdown",
   "metadata": {},
   "source": [
    "# 21. Leftmost Column with at Least a One\n",
    "\n",
    "(This problem is an interactive problem.)\n",
    "\n",
    "A binary matrix means that all elements are 0 or 1. For each individual row of the matrix, this row is sorted in non-decreasing order.\n",
    "\n",
    "Given a row-sorted binary matrix binaryMatrix, return leftmost column index(0-indexed) with at least a 1 in it. If such index doesn't exist, return -1.\n",
    "\n",
    "You can't access the Binary Matrix directly.  You may only access the matrix using a BinaryMatrix interface:\n",
    "\n",
    "* `BinaryMatrix.get(x, y)` returns the element of the matrix at index `(x, y)` (0-indexed).\n",
    "* `BinaryMatrix.dimensions()` returns a list of 2 elements `[n, m]`, which means the matrix is `n * m`."
   ]
  },
  {
   "cell_type": "code",
   "execution_count": 50,
   "metadata": {},
   "outputs": [],
   "source": [
    "matrix = [[0,0,0,1],[0,0,1,1],[0,1,1,1]]\n",
    "matrix = [[0,0],[0,1]]"
   ]
  },
  {
   "cell_type": "markdown",
   "metadata": {},
   "source": [
    "### Binary Search by Row\n",
    "\n",
    "For each row, use binary search to find the first occurrence of a `1`. If the `1` occurs earlier (column-wise) than any previously found `1`s, update the earliest `col_num` variable.\n",
    "\n",
    "* Time Complexity: $O(n\\log{}m)$ - perform binary search ($O(\\log{}m)$) for each of the $n$ rows\n",
    "* Space Complexity: $O(1)$ - constant space"
   ]
  },
  {
   "cell_type": "code",
   "execution_count": 63,
   "metadata": {},
   "outputs": [],
   "source": [
    "def solution(matrix):\n",
    "    n = len(matrix)\n",
    "    m = len(matrix[0])\n",
    "    col_num = m + 1\n",
    "\n",
    "    for i in range(n):\n",
    "        left = 0\n",
    "        right = m - 1\n",
    "\n",
    "        while left <= right:\n",
    "            midpoint = left + (right - left) // 2\n",
    "\n",
    "            if matrix[i][midpoint] == 1:\n",
    "                if midpoint < col_num:\n",
    "                    col_num = midpoint\n",
    "                right = midpoint - 1\n",
    "            else:\n",
    "                left = midpoint + 1\n",
    "\n",
    "    if col_num > m:\n",
    "        return -1\n",
    "    else:\n",
    "        return col_num"
   ]
  },
  {
   "cell_type": "code",
   "execution_count": 65,
   "metadata": {},
   "outputs": [
    {
     "data": {
      "text/plain": [
       "1"
      ]
     },
     "execution_count": 65,
     "metadata": {},
     "output_type": "execute_result"
    }
   ],
   "source": [
    "solution(matrix)"
   ]
  }
 ],
 "metadata": {
  "kernelspec": {
   "display_name": "Python 3",
   "language": "python",
   "name": "python3"
  },
  "language_info": {
   "codemirror_mode": {
    "name": "ipython",
    "version": 3
   },
   "file_extension": ".py",
   "mimetype": "text/x-python",
   "name": "python",
   "nbconvert_exporter": "python",
   "pygments_lexer": "ipython3",
   "version": "3.7.3"
  }
 },
 "nbformat": 4,
 "nbformat_minor": 4
}
