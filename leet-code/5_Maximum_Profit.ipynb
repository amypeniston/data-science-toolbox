{
 "cells": [
  {
   "cell_type": "markdown",
   "metadata": {},
   "source": [
    "# 5. Maximum Profit\n",
    "\n",
    "Say you have an array for which the ith element is the price of a given stock on day i.\n",
    "\n",
    "Design an algorithm to find the maximum profit. You may complete as many transactions as you like (i.e., buy one and sell one share of the stock multiple times).\n",
    "\n",
    "Note: You may not engage in multiple transactions at the same time (i.e., you must sell the stock before you buy again)."
   ]
  },
  {
   "cell_type": "code",
   "execution_count": 109,
   "metadata": {},
   "outputs": [],
   "source": [
    "def run_test_cases(func):\n",
    "    assert(func([7,1,5,3,6,4]) == 7)\n",
    "    assert(func([1,2,3,4,5]) == 4)\n",
    "    assert(func([7,6,4,3,1]) == 0)\n",
    "    assert(func([1,5,2,3,7,6,4,5]) == 10)\n",
    "    assert(func([2,1,4,5,2,9,7]) == 11)\n",
    "    print(\"Tests passed\")"
   ]
  },
  {
   "cell_type": "markdown",
   "metadata": {},
   "source": [
    "### One Pass\n",
    "\n",
    "* Time Complexity: $O(n)$\n",
    "* Space Complexity: $O(1)$"
   ]
  },
  {
   "cell_type": "code",
   "execution_count": 104,
   "metadata": {},
   "outputs": [],
   "source": [
    "def solution(prices):\n",
    "    profit = 0\n",
    "    for i in range(1, len(prices)):\n",
    "        profit += max(0, prices[i] - prices[i-1])\n",
    "\n",
    "    return profit"
   ]
  },
  {
   "cell_type": "code",
   "execution_count": 103,
   "metadata": {},
   "outputs": [
    {
     "name": "stdout",
     "output_type": "stream",
     "text": [
      "Tests passed\n"
     ]
    }
   ],
   "source": [
    "run_test_cases(solution)"
   ]
  },
  {
   "cell_type": "markdown",
   "metadata": {},
   "source": [
    "### Overcomplicated Naive Solution\n",
    "\n",
    "* Time Complexity: $O(n)$\n",
    "* Space Complexity: $O(1)$"
   ]
  },
  {
   "cell_type": "code",
   "execution_count": 116,
   "metadata": {},
   "outputs": [
    {
     "data": {
      "text/plain": [
       "4"
      ]
     },
     "execution_count": 116,
     "metadata": {},
     "output_type": "execute_result"
    }
   ],
   "source": [
    "def solution(prices):\n",
    "    profit = 0\n",
    "    local_min = prices[0]\n",
    "    local_max = prices[0]\n",
    "    i = 0\n",
    "    while (i < len(prices) - 1):\n",
    "        # Iterate through until a local min is found\n",
    "        while (i < len(prices) - 1) and (prices[i] >= prices[i + 1]):\n",
    "            i += 1\n",
    "        local_min = prices[i]\n",
    "        # Iterate through until a local max is found\n",
    "        while (i < len(prices) - 1) and (prices[i] <= prices[i + 1]):\n",
    "            i += 1\n",
    "        local_max = prices[i]\n",
    "        \n",
    "        profit += local_max - local_min\n",
    "        \n",
    "    return profit\n",
    "\n",
    "solution(prices)"
   ]
  },
  {
   "cell_type": "code",
   "execution_count": 114,
   "metadata": {},
   "outputs": [
    {
     "name": "stdout",
     "output_type": "stream",
     "text": [
      "Tests passed\n"
     ]
    }
   ],
   "source": [
    "run_test_cases(solution)"
   ]
  },
  {
   "cell_type": "code",
   "execution_count": null,
   "metadata": {},
   "outputs": [],
   "source": []
  }
 ],
 "metadata": {
  "kernelspec": {
   "display_name": "Python 3",
   "language": "python",
   "name": "python3"
  },
  "language_info": {
   "codemirror_mode": {
    "name": "ipython",
    "version": 3
   },
   "file_extension": ".py",
   "mimetype": "text/x-python",
   "name": "python",
   "nbconvert_exporter": "python",
   "pygments_lexer": "ipython3",
   "version": "3.7.3"
  }
 },
 "nbformat": 4,
 "nbformat_minor": 4
}
