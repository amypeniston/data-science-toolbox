{
 "cells": [
  {
   "cell_type": "markdown",
   "metadata": {},
   "source": [
    "# Backspace String Compare\n",
    "\n",
    "Given two strings `S` and `T`, return if they are equal when both are typed into empty text editors. `#` means a backspace character."
   ]
  },
  {
   "cell_type": "code",
   "execution_count": 47,
   "metadata": {},
   "outputs": [],
   "source": [
    "import itertools"
   ]
  },
  {
   "cell_type": "code",
   "execution_count": 3,
   "metadata": {},
   "outputs": [],
   "source": [
    "S = \"ab#c\"\n",
    "T = \"ad#c\""
   ]
  },
  {
   "cell_type": "code",
   "execution_count": 20,
   "metadata": {},
   "outputs": [],
   "source": [
    "S = \"ab##\"\n",
    "T = \"c#d#\""
   ]
  },
  {
   "cell_type": "markdown",
   "metadata": {},
   "source": [
    "### Reverse Solution\n",
    "\n",
    "* Time Complexity: $O(m + n)$ - to traverse both strings (the number of elements in `S` and `T`)\n",
    "* Space Complexity: $O(1)$ - to store a single variable\n",
    "\n",
    "Runtime: 16 ms | Memory: 13.9 MB"
   ]
  },
  {
   "cell_type": "code",
   "execution_count": 56,
   "metadata": {},
   "outputs": [],
   "source": [
    "def reverse_solution(S, T):\n",
    "    def parse_str(X):\n",
    "        skip = 0\n",
    "        for c in reversed(X):\n",
    "            if c == '#':\n",
    "                skip += 1\n",
    "            elif skip:\n",
    "                skip -= 1\n",
    "            else:\n",
    "                yield c\n",
    "    return all(s == t for s, t in itertools.zip_longest(parse_str(S), parse_str(T)))"
   ]
  },
  {
   "cell_type": "code",
   "execution_count": 58,
   "metadata": {},
   "outputs": [
    {
     "data": {
      "text/plain": [
       "True"
      ]
     },
     "execution_count": 58,
     "metadata": {},
     "output_type": "execute_result"
    }
   ],
   "source": [
    "reverse_solution(S, T)"
   ]
  },
  {
   "cell_type": "markdown",
   "metadata": {},
   "source": [
    "### List Splicing Solution\n",
    "\n",
    "* Time Complexity: $O(m + n)$ - to traverse both strings (the number of elements in `S` and `T`)\n",
    "* Space Complexity: $O(1)$ - to store a single variable\n",
    "\n",
    "Runtime: 24 ms | Memory: 13.8 MB"
   ]
  },
  {
   "cell_type": "code",
   "execution_count": 35,
   "metadata": {},
   "outputs": [],
   "source": [
    "def list_splicing_solution(S, T):\n",
    "    def parse_str(X):\n",
    "        while '#' in X:\n",
    "            idx = X.index('#')\n",
    "            X = X[:idx-1] + X[idx+1:] if idx > 1 else X[idx+1:]\n",
    "        return X\n",
    "    return parse_str(S) == parse_str(T)"
   ]
  },
  {
   "cell_type": "code",
   "execution_count": 36,
   "metadata": {},
   "outputs": [
    {
     "data": {
      "text/plain": [
       "True"
      ]
     },
     "execution_count": 36,
     "metadata": {},
     "output_type": "execute_result"
    }
   ],
   "source": [
    "list_splicing_solution(S, T)"
   ]
  },
  {
   "cell_type": "markdown",
   "metadata": {},
   "source": [
    "### List Solution\n",
    "\n",
    "* Time Complexity: $O(m + n)$ - to traverse both strings (the number of elements in `S` and `T`)\n",
    "* Space Complexity: $O(m + n)$\n",
    "\n",
    "Runtime: 28 ms | Memory: 13.8 MB"
   ]
  },
  {
   "cell_type": "code",
   "execution_count": 27,
   "metadata": {},
   "outputs": [],
   "source": [
    "def list_solution(S, T):\n",
    "\n",
    "    def parse_string(X):\n",
    "        parsed = []\n",
    "\n",
    "        for c in X:\n",
    "            if c != \"#\":\n",
    "                parsed.append(c)\n",
    "            elif parsed:\n",
    "                parsed.pop()\n",
    "        return \"\".join(parsed)\n",
    "    return parse_string(S) == parse_string(T)"
   ]
  },
  {
   "cell_type": "code",
   "execution_count": 28,
   "metadata": {},
   "outputs": [
    {
     "data": {
      "text/plain": [
       "True"
      ]
     },
     "execution_count": 28,
     "metadata": {},
     "output_type": "execute_result"
    }
   ],
   "source": [
    "list_solution(S, T)"
   ]
  },
  {
   "cell_type": "code",
   "execution_count": 21,
   "metadata": {},
   "outputs": [],
   "source": [
    "def list_solution_original(S, T):\n",
    "    chars_S = []\n",
    "    chars_T = []\n",
    "\n",
    "    for c in S:\n",
    "        if c == '#' and len(chars_S):\n",
    "            _ = chars_S.pop()\n",
    "        elif c != \"#\":\n",
    "            chars_S.append(c)\n",
    "\n",
    "    for c in T:\n",
    "        if c == '#' and len(chars_T):\n",
    "            _ = chars_T.pop()\n",
    "        elif c != \"#\":\n",
    "            chars_T.append(c)\n",
    "\n",
    "    return chars_S == chars_T"
   ]
  },
  {
   "cell_type": "code",
   "execution_count": 22,
   "metadata": {},
   "outputs": [
    {
     "data": {
      "text/plain": [
       "True"
      ]
     },
     "execution_count": 22,
     "metadata": {},
     "output_type": "execute_result"
    }
   ],
   "source": [
    "list_solution_original(S, T)"
   ]
  }
 ],
 "metadata": {
  "kernelspec": {
   "display_name": "Python 3",
   "language": "python",
   "name": "python3"
  },
  "language_info": {
   "codemirror_mode": {
    "name": "ipython",
    "version": 3
   },
   "file_extension": ".py",
   "mimetype": "text/x-python",
   "name": "python",
   "nbconvert_exporter": "python",
   "pygments_lexer": "ipython3",
   "version": "3.7.3"
  }
 },
 "nbformat": 4,
 "nbformat_minor": 4
}
