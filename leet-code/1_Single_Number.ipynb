{
 "cells": [
  {
   "cell_type": "markdown",
   "metadata": {},
   "source": [
    "# Day 1: Single Number"
   ]
  },
  {
   "cell_type": "markdown",
   "metadata": {},
   "source": [
    "Given a non-empty array of integers, every element appears twice except for one. Find that single one."
   ]
  },
  {
   "cell_type": "code",
   "execution_count": 14,
   "metadata": {},
   "outputs": [],
   "source": [
    "def run_test_cases(func):\n",
    "    assert func([4,1,2,1,2]) == 4\n",
    "    assert func([0]) == 0\n",
    "    assert func([2,1,2,1,3]) == 3\n",
    "    print(\"Tests Passed\")"
   ]
  },
  {
   "cell_type": "markdown",
   "metadata": {},
   "source": [
    "### List Approach\n",
    "\n",
    "* Time Complexity: $O(n^2)$\n",
    "* Space Complexity: $O(n)$"
   ]
  },
  {
   "cell_type": "code",
   "execution_count": 12,
   "metadata": {},
   "outputs": [],
   "source": [
    "def solution_list(arr):\n",
    "    no_dups = [] # Space - O(n)\n",
    "    \n",
    "    for n in arr: # Time - O(n)\n",
    "        if n in no_dups: # Time - O(n)\n",
    "            no_dups.remove(n)\n",
    "        else:\n",
    "            no_dups.append(n)\n",
    "    return no_dups.pop()"
   ]
  },
  {
   "cell_type": "code",
   "execution_count": 15,
   "metadata": {},
   "outputs": [
    {
     "name": "stdout",
     "output_type": "stream",
     "text": [
      "Tests Passed\n"
     ]
    }
   ],
   "source": [
    "run_test_cases(solution_list)"
   ]
  },
  {
   "cell_type": "markdown",
   "metadata": {},
   "source": [
    "### Hash Table Approach\n",
    "\n",
    "* Time Complexity: $O(n*1) = O(n)$\n",
    "* Space Complexity: $O(n)$"
   ]
  },
  {
   "cell_type": "code",
   "execution_count": 24,
   "metadata": {},
   "outputs": [],
   "source": [
    "from collections import defaultdict # Auto-initializes keys\n",
    "def solution_hash_table(arr):\n",
    "    hash_table = defaultdict(int) # Space - O(n)\n",
    "    \n",
    "    for n in arr: # Time - O(n)\n",
    "        hash_table[n] += 1\n",
    "    \n",
    "    for n in hash_table: # Time - O(1)\n",
    "        if hash_table[n] == 1:\n",
    "            return n"
   ]
  },
  {
   "cell_type": "code",
   "execution_count": 25,
   "metadata": {},
   "outputs": [
    {
     "name": "stdout",
     "output_type": "stream",
     "text": [
      "Tests Passed\n"
     ]
    }
   ],
   "source": [
    "run_test_cases(solution_hash_table)"
   ]
  },
  {
   "cell_type": "markdown",
   "metadata": {},
   "source": [
    "### Set Approach\n",
    "\n",
    "Rationale: $2 * (x + y + z) - (x + y + x + y + z) = z$\n",
    "\n",
    "* Time Complexity: $O(n + n) = O(n)$\n",
    "* Space Complexity: $O(n + n) = O(n)$"
   ]
  },
  {
   "cell_type": "code",
   "execution_count": 26,
   "metadata": {},
   "outputs": [],
   "source": [
    "def solution_sets(arr):\n",
    "    \n",
    "    return 2 * sum(set(arr)) - sum(arr) # Time - O(n) + O(n) (operations are O(n) because they perform adjacent sums through list of items)"
   ]
  },
  {
   "cell_type": "code",
   "execution_count": 27,
   "metadata": {},
   "outputs": [
    {
     "name": "stdout",
     "output_type": "stream",
     "text": [
      "Tests Passed\n"
     ]
    }
   ],
   "source": [
    "run_test_cases(solution_sets)"
   ]
  }
 ],
 "metadata": {
  "kernelspec": {
   "display_name": "Python 3",
   "language": "python",
   "name": "python3"
  },
  "language_info": {
   "codemirror_mode": {
    "name": "ipython",
    "version": 3
   },
   "file_extension": ".py",
   "mimetype": "text/x-python",
   "name": "python",
   "nbconvert_exporter": "python",
   "pygments_lexer": "ipython3",
   "version": "3.7.3"
  }
 },
 "nbformat": 4,
 "nbformat_minor": 4
}
