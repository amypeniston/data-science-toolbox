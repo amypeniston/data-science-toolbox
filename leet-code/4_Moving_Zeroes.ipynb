{
 "cells": [
  {
   "cell_type": "markdown",
   "metadata": {},
   "source": [
    "# Moving Zeroes\n",
    "\n",
    "Given an array nums, write a function to move all 0's to the end of it while maintaining the relative order of the non-zero elements.\n",
    "\n",
    "Note:\n",
    "\n",
    "* You must do this in-place without making a copy of the array.\n",
    "* Minimize the total number of operations."
   ]
  },
  {
   "cell_type": "markdown",
   "metadata": {},
   "source": [
    "### Naive Solution\n",
    "\n",
    "* Space Complexity: $O(1)$\n",
    "* Time Complexity: $O(n^2)$"
   ]
  },
  {
   "cell_type": "code",
   "execution_count": 23,
   "metadata": {},
   "outputs": [
    {
     "name": "stdout",
     "output_type": "stream",
     "text": [
      "[1, 0, 0, 3, 12]\n",
      "[1, 3, 0, 0, 12]\n",
      "[1, 3, 12, 0, 0]\n",
      "[1, 3, 12, 0, 0]\n",
      "[1, 3, 12, 0, 0]\n"
     ]
    }
   ],
   "source": [
    "nums = [0,1,0,3,12]\n",
    "\n",
    "for i in range(len(nums)):\n",
    "    if nums[i] == 0:\n",
    "        for j in range(len(nums[i:])):\n",
    "            if nums[i+j] != 0:\n",
    "                temp = nums[i]\n",
    "                nums[i] = nums[i+j]\n",
    "                nums[i+j] = temp\n",
    "                break;\n",
    "    print(nums)"
   ]
  },
  {
   "cell_type": "markdown",
   "metadata": {},
   "source": [
    "### Two Sub-Processes\n",
    "\n",
    "First, handle non-zero numbers, moving them to the front of the list when encountered and updating the last_non_zero index. Then, fill remaining spaces in array with zeroes (i.e. from the last_non_zero index to the end of the array).\n",
    "\n",
    "* Space Complexity: $O(1)$\n",
    "* Time Complexity: $O(n)$"
   ]
  },
  {
   "cell_type": "code",
   "execution_count": 27,
   "metadata": {},
   "outputs": [
    {
     "name": "stdout",
     "output_type": "stream",
     "text": [
      "[1, 3, 12, 3, 12]\n",
      "[1, 3, 12, 0, 0]\n"
     ]
    }
   ],
   "source": [
    "nums = [0,1,0,3,12]\n",
    "\n",
    "last_non_zero = 0\n",
    "for i in range(len(nums)):\n",
    "    if nums[i] != 0:\n",
    "        nums[last_non_zero] = nums[i]\n",
    "        last_non_zero += 1\n",
    "        \n",
    "print(nums)\n",
    "\n",
    "for i in range(last_non_zero, len(nums)):\n",
    "    nums[i] = 0\n",
    "            \n",
    "print(nums)"
   ]
  },
  {
   "cell_type": "markdown",
   "metadata": {},
   "source": [
    "### Swap\n",
    "\n",
    "Combine the sub-processes into 1 loop.\n",
    "\n",
    "* Space Complexity: $O(1)$\n",
    "* Time Complexity: $O(n)$"
   ]
  },
  {
   "cell_type": "code",
   "execution_count": 30,
   "metadata": {},
   "outputs": [
    {
     "name": "stdout",
     "output_type": "stream",
     "text": [
      "[1, 3, 12, 0, 0]\n"
     ]
    }
   ],
   "source": [
    "nums = [0,1,0,3,12]\n",
    "\n",
    "last_non_zero = 0\n",
    "for i in range(len(nums)):\n",
    "    n = nums[i]\n",
    "    if n != 0:\n",
    "        nums[last_non_zero], nums[i] = nums[i], nums[last_non_zero]\n",
    "        last_non_zero += 1\n",
    "\n",
    "print(nums)"
   ]
  }
 ],
 "metadata": {
  "kernelspec": {
   "display_name": "Python 3",
   "language": "python",
   "name": "python3"
  },
  "language_info": {
   "codemirror_mode": {
    "name": "ipython",
    "version": 3
   },
   "file_extension": ".py",
   "mimetype": "text/x-python",
   "name": "python",
   "nbconvert_exporter": "python",
   "pygments_lexer": "ipython3",
   "version": "3.7.3"
  }
 },
 "nbformat": 4,
 "nbformat_minor": 4
}
