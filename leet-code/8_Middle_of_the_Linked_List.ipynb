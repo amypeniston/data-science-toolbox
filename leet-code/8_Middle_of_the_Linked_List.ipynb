{
 "cells": [
  {
   "cell_type": "markdown",
   "metadata": {},
   "source": [
    "# 8. Middle of the Linked List\n",
    "\n",
    "Given a non-empty, singly linked list with head node `head`, return a middle node of linked list.\n",
    "\n",
    "If there are two middle nodes, return the second middle node."
   ]
  },
  {
   "cell_type": "code",
   "execution_count": 1,
   "metadata": {},
   "outputs": [],
   "source": [
    "class ListNode:\n",
    "    def __init__(self, x):\n",
    "        self.val = x\n",
    "        self.next = None"
   ]
  },
  {
   "cell_type": "code",
   "execution_count": 3,
   "metadata": {},
   "outputs": [],
   "source": [
    "head = ListNode(1)\n",
    "n2 = ListNode(2)\n",
    "n3 = ListNode(3)\n",
    "n4 = ListNode(4)\n",
    "n5 = ListNode(5)\n",
    "\n",
    "head.next = n2\n",
    "n2.next = n3\n",
    "n3.next = n4\n",
    "n4.next = n5"
   ]
  },
  {
   "cell_type": "markdown",
   "metadata": {},
   "source": [
    "### Double Pointer Attempt 2\n",
    "\n",
    "* Time Complexity: $O(n)$ - to traverse the linked list\n",
    "* Space Complexity: $O(1)$ - the space used by the two pointers"
   ]
  },
  {
   "cell_type": "code",
   "execution_count": 32,
   "metadata": {},
   "outputs": [],
   "source": [
    "def middleNode(head):\n",
    "    p1 = p2 = head\n",
    "\n",
    "    while p2 and p2.next:\n",
    "        p2 = p2.next.next\n",
    "        p1 = p1.next\n",
    "    return p1"
   ]
  },
  {
   "cell_type": "markdown",
   "metadata": {},
   "source": [
    "### Double Pointer Attempt 1"
   ]
  },
  {
   "cell_type": "code",
   "execution_count": 26,
   "metadata": {},
   "outputs": [],
   "source": [
    "def middleNode(head):\n",
    "    p1 = head\n",
    "    p2 = head\n",
    "\n",
    "    while p2.next != None:\n",
    "        # single node list\n",
    "        if head.next == None:\n",
    "            return head\n",
    "        \n",
    "        p2 = p2.next.next\n",
    "        p1 = p1.next\n",
    "\n",
    "        # odd\n",
    "        if p2.next == None:\n",
    "            return p1.val\n",
    "\n",
    "        # even\n",
    "        if p2.next.next == None:\n",
    "            return p1.next.val"
   ]
  },
  {
   "cell_type": "code",
   "execution_count": 12,
   "metadata": {},
   "outputs": [
    {
     "name": "stdout",
     "output_type": "stream",
     "text": [
      "p1 at 1, p2 at 1\n",
      "p1 at 2, p2 at 3\n"
     ]
    },
    {
     "data": {
      "text/plain": [
       "3"
      ]
     },
     "execution_count": 12,
     "metadata": {},
     "output_type": "execute_result"
    }
   ],
   "source": [
    "middleNode(head)"
   ]
  },
  {
   "cell_type": "code",
   "execution_count": 15,
   "metadata": {},
   "outputs": [],
   "source": [
    "def create_singly_linked_list(n):\n",
    "    head = ListNode(1)\n",
    "    \n",
    "    if n == 0:\n",
    "        return None\n",
    "    \n",
    "    if n == 1:\n",
    "        return head\n",
    "    \n",
    "    nodes = []\n",
    "    \n",
    "    for i in range(1,n):\n",
    "        nodes.append(ListNode(i+1))\n",
    "\n",
    "    head.next = nodes[0]\n",
    "    for i in range(1,n-1):\n",
    "        nodes[i-1].next = nodes[i]\n",
    "        \n",
    "    return head\n",
    "    "
   ]
  },
  {
   "cell_type": "code",
   "execution_count": 29,
   "metadata": {},
   "outputs": [],
   "source": [
    "even_list = create_singly_linked_list(6)\n",
    "odd_list = create_singly_linked_list(15)"
   ]
  },
  {
   "cell_type": "code",
   "execution_count": 30,
   "metadata": {},
   "outputs": [
    {
     "data": {
      "text/plain": [
       "4"
      ]
     },
     "execution_count": 30,
     "metadata": {},
     "output_type": "execute_result"
    }
   ],
   "source": [
    "middleNode(even_list)"
   ]
  },
  {
   "cell_type": "code",
   "execution_count": 31,
   "metadata": {},
   "outputs": [
    {
     "data": {
      "text/plain": [
       "8"
      ]
     },
     "execution_count": 31,
     "metadata": {},
     "output_type": "execute_result"
    }
   ],
   "source": [
    "middleNode(odd_list)"
   ]
  },
  {
   "cell_type": "markdown",
   "metadata": {},
   "source": [
    "### List Solution\n",
    "\n",
    "* Time Complexity: $O(n)$ - to traverse the linked list\n",
    "* Space Complexity: $O(n)$ - the space used by the array of nodes"
   ]
  },
  {
   "cell_type": "code",
   "execution_count": 43,
   "metadata": {},
   "outputs": [],
   "source": [
    "def list_solution(head):\n",
    "    nodes = [head]\n",
    "\n",
    "    while nodes[-1].next:\n",
    "        nodes.append(nodes[-1].next)\n",
    "    \n",
    "    return nodes[len(nodes) // 2]"
   ]
  },
  {
   "cell_type": "code",
   "execution_count": 44,
   "metadata": {},
   "outputs": [
    {
     "data": {
      "text/plain": [
       "<__main__.ListNode at 0x1bc7a3b3eb8>"
      ]
     },
     "execution_count": 44,
     "metadata": {},
     "output_type": "execute_result"
    }
   ],
   "source": [
    "list_solution(head)"
   ]
  }
 ],
 "metadata": {
  "kernelspec": {
   "display_name": "Python 3",
   "language": "python",
   "name": "python3"
  },
  "language_info": {
   "codemirror_mode": {
    "name": "ipython",
    "version": 3
   },
   "file_extension": ".py",
   "mimetype": "text/x-python",
   "name": "python",
   "nbconvert_exporter": "python",
   "pygments_lexer": "ipython3",
   "version": "3.7.3"
  }
 },
 "nbformat": 4,
 "nbformat_minor": 4
}
