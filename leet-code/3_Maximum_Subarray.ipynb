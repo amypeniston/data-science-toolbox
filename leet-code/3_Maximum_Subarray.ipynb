{
 "cells": [
  {
   "cell_type": "markdown",
   "metadata": {},
   "source": [
    "# 3. Maximum Subarray\n",
    "\n",
    "Given an integer array nums, find the contiguous subarray (containing at least one number) which has the largest sum and return its sum."
   ]
  },
  {
   "cell_type": "code",
   "execution_count": 1,
   "metadata": {},
   "outputs": [],
   "source": [
    "def run_test_cases(func):\n",
    "    assert(func([-2,1,-3,4,-1,2,1,-5,4]) == 6)\n",
    "    assert(func([6,0,3,-5,-7,10]) == 10)\n",
    "    assert(func([8,-19,5,-4,20]) == 21)\n",
    "    assert(func([-1,0,-2]) == 0)\n",
    "    assert(func([-1]) == -1)\n",
    "    assert(func([-2,-1]) == -1)\n",
    "    print(\"Tests passed\")"
   ]
  },
  {
   "cell_type": "markdown",
   "metadata": {},
   "source": [
    "### Kadane's Algorithm\n",
    "\n",
    "* Time Complexity: $O(n)$"
   ]
  },
  {
   "cell_type": "code",
   "execution_count": 2,
   "metadata": {},
   "outputs": [],
   "source": [
    "def solution(arr):\n",
    "    max_sum = arr[0]\n",
    "    current_max = 0\n",
    "\n",
    "    for i in range(len(arr)):\n",
    "        if arr[i] > (arr[i] + current_max):\n",
    "            current_max = arr[i]\n",
    "        else:\n",
    "            current_max += arr[i]\n",
    "\n",
    "        if current_max > max_sum:\n",
    "            max_sum = current_max\n",
    "    return max_sum"
   ]
  },
  {
   "cell_type": "code",
   "execution_count": 3,
   "metadata": {},
   "outputs": [
    {
     "name": "stdout",
     "output_type": "stream",
     "text": [
      "Tests passed\n"
     ]
    }
   ],
   "source": [
    "run_test_cases(solution)"
   ]
  },
  {
   "cell_type": "markdown",
   "metadata": {},
   "source": [
    "### Naive attempt\n",
    "\n",
    "* Time Complexity: $O(n^2)$"
   ]
  },
  {
   "cell_type": "code",
   "execution_count": 38,
   "metadata": {},
   "outputs": [
    {
     "name": "stdout",
     "output_type": "stream",
     "text": [
      "10\n",
      "10\n",
      "21\n",
      "21\n",
      "21\n"
     ]
    }
   ],
   "source": [
    "arr = [-2,1,-3,4,-1,2,1,-5,4]\n",
    "arr = [6,0,3,-5,-7,10]\n",
    "arr = [8,-19,5,-4,20]\n",
    "\n",
    "max_sum = arr[0]\n",
    "for i in range(len(arr)):\n",
    "    current_sum = current_max = arr[i]\n",
    "    for j in range(i+1,len(arr)):\n",
    "        current_sum += arr[j]\n",
    "        if current_sum >= current_max:\n",
    "            current_max = current_sum\n",
    "    if current_max > max_sum:\n",
    "        max_sum = current_max\n",
    "    print(max_sum)"
   ]
  }
 ],
 "metadata": {
  "kernelspec": {
   "display_name": "Python 3",
   "language": "python",
   "name": "python3"
  },
  "language_info": {
   "codemirror_mode": {
    "name": "ipython",
    "version": 3
   },
   "file_extension": ".py",
   "mimetype": "text/x-python",
   "name": "python",
   "nbconvert_exporter": "python",
   "pygments_lexer": "ipython3",
   "version": "3.7.3"
  }
 },
 "nbformat": 4,
 "nbformat_minor": 4
}
