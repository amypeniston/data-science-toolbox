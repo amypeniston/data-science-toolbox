{
 "cells": [
  {
   "cell_type": "markdown",
   "metadata": {},
   "source": [
    "# 3. Maximum Subarray\n",
    "\n",
    "Given an integer array nums, find the contiguous subarray (containing at least one number) which has the largest sum and return its sum."
   ]
  },
  {
   "cell_type": "code",
   "execution_count": 18,
   "metadata": {},
   "outputs": [],
   "source": [
    "def run_test_cases(func):\n",
    "    assert(func([-2,1,-3,4,-1,2,1,-5,4]) == 6)\n",
    "    assert(func([6,0,3,-5,-7,10]) == 10)\n",
    "    assert(func([8,-19,5,-4,20]) == 21)\n",
    "    assert(func([-1,0,-2]) == 0)\n",
    "    assert(func([-1]) == -1)\n",
    "    assert(func([-2,-1]) == -1)\n",
    "    print(\"Tests passed\")"
   ]
  },
  {
   "cell_type": "markdown",
   "metadata": {},
   "source": [
    "### Kadane's Algorithm\n",
    "\n",
    "* Time Complexity: $O(n)$ - passing along entire length of array\n",
    "* Space Complexity: $O(1)$ - constant space"
   ]
  },
  {
   "cell_type": "code",
   "execution_count": 2,
   "metadata": {},
   "outputs": [],
   "source": [
    "def solution(arr):\n",
    "    max_sum = arr[0]\n",
    "    current_max = 0\n",
    "\n",
    "    for i in range(len(arr)):\n",
    "        if arr[i] > (arr[i] + current_max):\n",
    "            current_max = arr[i]\n",
    "        else:\n",
    "            current_max += arr[i]\n",
    "\n",
    "        if current_max > max_sum:\n",
    "            max_sum = current_max\n",
    "    return max_sum"
   ]
  },
  {
   "cell_type": "code",
   "execution_count": 3,
   "metadata": {},
   "outputs": [
    {
     "name": "stdout",
     "output_type": "stream",
     "text": [
      "Tests passed\n"
     ]
    }
   ],
   "source": [
    "run_test_cases(solution)"
   ]
  },
  {
   "cell_type": "markdown",
   "metadata": {},
   "source": [
    "### Divide & Conquer\n",
    "\n",
    "* Time Complexity: $O(N Log N)$ - calculated via the master theorem for divide-and-conquer recurrences\n",
    "* Space Complexity: $O(log N)$ - for recursion stack"
   ]
  },
  {
   "cell_type": "code",
   "execution_count": 15,
   "metadata": {},
   "outputs": [],
   "source": [
    "class Solution:\n",
    "    def cross_sum(self, nums, left, right, p):\n",
    "        # Handle single element\n",
    "        if left == right:\n",
    "            return nums[left]\n",
    "        \n",
    "        left_subsum = float('-inf')\n",
    "        curr_sum = 0\n",
    "        # Decrement from middle\n",
    "        for i in range(p, left - 1, -1):\n",
    "            curr_sum += nums[i]\n",
    "            left_subsum = max(curr_sum, left_subsum)\n",
    "        \n",
    "        right_subsum = float('-inf')\n",
    "        curr_sum = 0\n",
    "        # Increment from middle\n",
    "        for i in range(p + 1, right + 1):\n",
    "            curr_sum += nums[i]\n",
    "            right_subsum = max(curr_sum, right_subsum)\n",
    "            \n",
    "        return left_subsum + right_subsum\n",
    "    \n",
    "    def recursive_helper(self, nums, left, right):\n",
    "        # Handle single element\n",
    "        if left == right:\n",
    "            return nums[left]\n",
    "        \n",
    "        # Find the middle\n",
    "        p = (left + right) // 2\n",
    "\n",
    "        # Recursively partition and return max\n",
    "        left_sum = self.recursive_helper(nums, left, p)\n",
    "        cross_sum = self.cross_sum(nums, left, right, p)\n",
    "        right_sum = self.recursive_helper(nums, p + 1, right)\n",
    "        \n",
    "        # Return overall max\n",
    "        return max(left_sum, cross_sum, right_sum)\n",
    "        \n",
    "    def max_sum(self, nums: 'List[int]') -> 'int':\n",
    "        return self.recursive_helper(nums, 0, len(nums) - 1)"
   ]
  },
  {
   "cell_type": "code",
   "execution_count": 20,
   "metadata": {},
   "outputs": [
    {
     "name": "stdout",
     "output_type": "stream",
     "text": [
      "Tests passed\n"
     ]
    }
   ],
   "source": [
    "arr = [8,-19,5,-4,20]\n",
    "\n",
    "solution = Solution()\n",
    "solution.max_sum(arr)\n",
    "\n",
    "run_test_cases(solution.max_sum)"
   ]
  },
  {
   "cell_type": "markdown",
   "metadata": {},
   "source": [
    "### Naive attempt\n",
    "\n",
    "* Time Complexity: $O(n^2)$"
   ]
  },
  {
   "cell_type": "code",
   "execution_count": 38,
   "metadata": {},
   "outputs": [
    {
     "name": "stdout",
     "output_type": "stream",
     "text": [
      "10\n",
      "10\n",
      "21\n",
      "21\n",
      "21\n"
     ]
    }
   ],
   "source": [
    "arr = [-2,1,-3,4,-1,2,1,-5,4]\n",
    "arr = [6,0,3,-5,-7,10]\n",
    "arr = [8,-19,5,-4,20]\n",
    "\n",
    "max_sum = arr[0]\n",
    "for i in range(len(arr)):\n",
    "    current_sum = current_max = arr[i]\n",
    "    for j in range(i+1,len(arr)):\n",
    "        current_sum += arr[j]\n",
    "        if current_sum >= current_max:\n",
    "            current_max = current_sum\n",
    "    if current_max > max_sum:\n",
    "        max_sum = current_max\n",
    "    print(max_sum)"
   ]
  }
 ],
 "metadata": {
  "kernelspec": {
   "display_name": "Python 3",
   "language": "python",
   "name": "python3"
  },
  "language_info": {
   "codemirror_mode": {
    "name": "ipython",
    "version": 3
   },
   "file_extension": ".py",
   "mimetype": "text/x-python",
   "name": "python",
   "nbconvert_exporter": "python",
   "pygments_lexer": "ipython3",
   "version": "3.7.3"
  }
 },
 "nbformat": 4,
 "nbformat_minor": 4
}
