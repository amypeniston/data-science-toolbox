{
 "cells": [
  {
   "cell_type": "markdown",
   "metadata": {},
   "source": [
    "# 16. Valid Parenthesis String\n",
    "\n",
    "Given a string containing only three types of characters: '(', ')' and '*', write a function to check whether this string is valid. We define the validity of a string by these rules:\n",
    "\n",
    "* Any left parenthesis '(' must have a corresponding right parenthesis ')'.\n",
    "* Any right parenthesis ')' must have a corresponding left parenthesis '('.\n",
    "* Left parenthesis '(' must go before the corresponding right parenthesis ')'.\n",
    "* '*' could be treated as a single right parenthesis ')' or a single left parenthesis '(' or an empty string.\n",
    "* An empty string is also valid."
   ]
  },
  {
   "cell_type": "code",
   "execution_count": 48,
   "metadata": {},
   "outputs": [],
   "source": [
    "def run_test_cases(func):\n",
    "    assert(func(\"()\") == True)\n",
    "    assert(func(\"(*)\") == True)\n",
    "    assert(func(\"(*))\") == True)\n",
    "    print(\"Tests passed.\")"
   ]
  },
  {
   "cell_type": "code",
   "execution_count": 49,
   "metadata": {},
   "outputs": [],
   "source": [
    "s = \"(())\"\n",
    "s = \"(*))\""
   ]
  },
  {
   "cell_type": "markdown",
   "metadata": {},
   "source": [
    "### Counting Solution\n",
    "\n",
    "* Time Complexity: $O(n)$\n",
    "* Space Complexity: $O(1)$"
   ]
  },
  {
   "cell_type": "code",
   "execution_count": 57,
   "metadata": {},
   "outputs": [],
   "source": [
    "def solution(s):\n",
    "    min_p, max_p = 0, 0\n",
    "    \n",
    "    for c in s:\n",
    "        min_p = min_p + 1 if c == '(' else min_p - 1\n",
    "        max_p = max_p + 1 if c != ')' else max_p - 1\n",
    "        \n",
    "        if max_p < 0: return False\n",
    "        \n",
    "        min_p = max(0, min_p)\n",
    "        \n",
    "    return min_p == 0"
   ]
  },
  {
   "cell_type": "code",
   "execution_count": 52,
   "metadata": {},
   "outputs": [
    {
     "name": "stdout",
     "output_type": "stream",
     "text": [
      "( )\n",
      "( )\n",
      "* )\n",
      "( )\n",
      "Tests passed.\n"
     ]
    }
   ],
   "source": [
    "run_test_cases(solution)"
   ]
  }
 ],
 "metadata": {
  "kernelspec": {
   "display_name": "Python 3",
   "language": "python",
   "name": "python3"
  },
  "language_info": {
   "codemirror_mode": {
    "name": "ipython",
    "version": 3
   },
   "file_extension": ".py",
   "mimetype": "text/x-python",
   "name": "python",
   "nbconvert_exporter": "python",
   "pygments_lexer": "ipython3",
   "version": "3.7.3"
  }
 },
 "nbformat": 4,
 "nbformat_minor": 4
}
