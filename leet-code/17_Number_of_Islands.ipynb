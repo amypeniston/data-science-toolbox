{
 "cells": [
  {
   "cell_type": "markdown",
   "metadata": {},
   "source": [
    "# 17. Number of Islands\n",
    "\n",
    "Given a 2d grid map of `'1'`s (land) and `'0'`s (water), count the number of islands. An island is surrounded by water and is formed by connecting adjacent lands horizontally or vertically. You may assume all four edges of the grid are all surrounded by water."
   ]
  },
  {
   "cell_type": "markdown",
   "metadata": {},
   "source": [
    "### Recursive DFS Solution\n",
    "\n",
    "* Time Complexity: $O(n * m)$ - where `n` is the number of rows and `m` is the number of features\n",
    "* Space Complexity: $O(n * m)$ - worst case scenario depth-first search with all land"
   ]
  },
  {
   "cell_type": "code",
   "execution_count": 44,
   "metadata": {},
   "outputs": [],
   "source": [
    "grid = [[\"1\",\"1\",\"0\",\"0\",\"0\"],[\"1\",\"1\",\"0\",\"0\",\"0\"],[\"0\",\"0\",\"1\",\"0\",\"0\"],[\"0\",\"0\",\"0\",\"1\",\"1\"]]\n",
    "\n",
    "class Solution:\n",
    "\n",
    "    def dfs(self, grid, i, j):\n",
    "        # Exceeded boundaries or encountered non-island\n",
    "        if i < 0 or i >= len(grid) or j < 0 or j >= len(grid[i]) or grid[i][j] == '0':\n",
    "            return 0\n",
    "        \n",
    "        grid[i][j] = '0'\n",
    "        \n",
    "        # Recursively search adjacent cells\n",
    "        self.dfs(grid, i, j + 1)\n",
    "        self.dfs(grid, i, j - 1)\n",
    "        self.dfs(grid, i + 1, j)\n",
    "        self.dfs(grid, i - 1, j)\n",
    "\n",
    "        return 1\n",
    "\n",
    "    def numIslands(self, grid):\n",
    "        if grid is None or len(grid) == 0:\n",
    "            return 0\n",
    "\n",
    "        num_islands = 0\n",
    "\n",
    "        for i in range(len(grid)):\n",
    "            for j in range(len(grid[i])):\n",
    "                if grid[i][j] == '1':\n",
    "                    num_islands += self.dfs(grid, i, j)\n",
    "\n",
    "        return num_islands"
   ]
  }
 ],
 "metadata": {
  "kernelspec": {
   "display_name": "Python 3",
   "language": "python",
   "name": "python3"
  },
  "language_info": {
   "codemirror_mode": {
    "name": "ipython",
    "version": 3
   },
   "file_extension": ".py",
   "mimetype": "text/x-python",
   "name": "python",
   "nbconvert_exporter": "python",
   "pygments_lexer": "ipython3",
   "version": "3.7.3"
  }
 },
 "nbformat": 4,
 "nbformat_minor": 4
}
