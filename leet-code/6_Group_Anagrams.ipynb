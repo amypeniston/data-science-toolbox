{
 "cells": [
  {
   "cell_type": "markdown",
   "metadata": {},
   "source": [
    "# 6. Group Anagrams\n",
    "\n",
    "Given an array of strings, group anagrams together."
   ]
  },
  {
   "cell_type": "code",
   "execution_count": 8,
   "metadata": {},
   "outputs": [],
   "source": [
    "import collections"
   ]
  },
  {
   "cell_type": "code",
   "execution_count": 16,
   "metadata": {},
   "outputs": [],
   "source": [
    "strs = [\"hos\",\"boo\",\"nay\",\"deb\",\"wow\",\"bop\",\"bob\",\"brr\",\"hey\",\"rye\",\"eve\",\"elf\",\"pup\",\"bum\",\"iva\",\"lyx\",\"yap\",\"ugh\",\"hem\",\"rod\",\"aha\",\"nam\",\"gap\",\"yea\",\"doc\",\"pen\",\"job\",\"dis\",\"max\",\"oho\",\"jed\",\"lye\",\"ram\",\"pup\",\"qua\",\"ugh\",\"mir\",\"nap\",\"deb\",\"hog\",\"let\",\"gym\",\"bye\",\"lon\",\"aft\",\"eel\",\"sol\",\"jab\"]"
   ]
  },
  {
   "cell_type": "markdown",
   "metadata": {},
   "source": [
    "### Alternative Counting Solution\n",
    "\n",
    "Use a tuple representing the count of each letter as the key in a dictionary, with the value equal to the anagrams that match those character counts.\n",
    "\n",
    "* Time Complexity: $O(nk)$ - where `n` is the length of `strs` and `k` is the maximum length of an element in `strs`\n",
    "* Space Complexity: $O(nk)$ - the size of the dictionary"
   ]
  },
  {
   "cell_type": "code",
   "execution_count": 17,
   "metadata": {},
   "outputs": [
    {
     "data": {
      "text/plain": [
       "2"
      ]
     },
     "execution_count": 17,
     "metadata": {},
     "output_type": "execute_result"
    }
   ],
   "source": [
    "ord(\"c\")-ord(\"a\")"
   ]
  },
  {
   "cell_type": "code",
   "execution_count": 20,
   "metadata": {},
   "outputs": [],
   "source": [
    "def solution(strs):\n",
    "    lookup_dict = collections.defaultdict(list)\n",
    "\n",
    "    for s in strs: # O(n)\n",
    "        count = [0] * 26\n",
    "        for c in s: # O(k)\n",
    "            count[ord(c) - ord(\"a\")] += 1\n",
    "        lookup_dict[tuple(count)].append(s)\n",
    "\n",
    "    return lookup_dict.values()"
   ]
  },
  {
   "cell_type": "code",
   "execution_count": 21,
   "metadata": {},
   "outputs": [
    {
     "data": {
      "text/plain": [
       "dict_values([['hos'], ['boo'], ['nay'], ['deb', 'deb'], ['wow'], ['bop'], ['bob'], ['brr'], ['hey'], ['rye'], ['eve'], ['elf'], ['pup', 'pup'], ['bum'], ['iva'], ['lyx'], ['yap'], ['ugh', 'ugh'], ['hem'], ['rod'], ['aha'], ['nam'], ['gap'], ['yea'], ['doc'], ['pen'], ['job'], ['dis'], ['max'], ['oho'], ['jed'], ['lye'], ['ram'], ['qua'], ['mir'], ['nap'], ['hog'], ['let'], ['gym'], ['bye'], ['lon'], ['aft'], ['eel'], ['sol'], ['jab']])"
      ]
     },
     "execution_count": 21,
     "metadata": {},
     "output_type": "execute_result"
    }
   ],
   "source": [
    "solution(strs)"
   ]
  },
  {
   "cell_type": "markdown",
   "metadata": {},
   "source": [
    "### Cleaner Naive Solution\n",
    "\n",
    "* Time Complexity: $O(n * k log(k))$ - where `n` is the length of `strs` and `k` is the maximum length of an element in `strs`\n",
    "* Space Complexity: $O(nk)$ - total information content stored in the dictionary"
   ]
  },
  {
   "cell_type": "code",
   "execution_count": 45,
   "metadata": {},
   "outputs": [],
   "source": [
    "def solution(strs):\n",
    "    lookup_dict = collections.defaultdict(list)\n",
    "\n",
    "    for s in strs: # O(n)\n",
    "        lookup_dict[tuple(sorted(s))].append(s) # O(k log k) to sort\n",
    "\n",
    "    return lookup_dict.values()"
   ]
  },
  {
   "cell_type": "code",
   "execution_count": 46,
   "metadata": {},
   "outputs": [
    {
     "data": {
      "text/plain": [
       "dict_values([['hos'], ['boo'], ['nay'], ['deb', 'deb'], ['wow'], ['bop'], ['bob'], ['brr'], ['hey'], ['rye'], ['eve'], ['elf'], ['pup', 'pup'], ['bum'], ['iva'], ['lyx'], ['yap'], ['ugh', 'ugh'], ['hem'], ['rod'], ['aha'], ['nam'], ['gap'], ['yea'], ['doc'], ['pen'], ['job'], ['dis'], ['max'], ['oho'], ['jed'], ['lye'], ['ram'], ['qua'], ['mir'], ['nap'], ['hog'], ['let'], ['gym'], ['bye'], ['lon'], ['aft'], ['eel'], ['sol'], ['jab']])"
      ]
     },
     "execution_count": 46,
     "metadata": {},
     "output_type": "execute_result"
    }
   ],
   "source": [
    "solution(strs)"
   ]
  },
  {
   "cell_type": "markdown",
   "metadata": {},
   "source": [
    "### Naive Solution\n",
    "\n",
    "* Time Complexity: $O(n * k log(k))$ - where k is the length of `strs` and k is the maximum length of an element in `strs` + additional time for try/except\n",
    "* Space Complexity: $O(n)$ - total information content stored in arrays"
   ]
  },
  {
   "cell_type": "code",
   "execution_count": 32,
   "metadata": {},
   "outputs": [],
   "source": [
    "def solution(strs):\n",
    "    lookup_arr = []\n",
    "    output = []\n",
    "\n",
    "    for s in strs:\n",
    "        try:\n",
    "            pos = lookup_arr.index(sorted(s))\n",
    "            output[pos].append(s)\n",
    "        except:\n",
    "            lookup_arr.append(sorted(s))\n",
    "            output.append([s])\n",
    "\n",
    "    return output"
   ]
  },
  {
   "cell_type": "code",
   "execution_count": 33,
   "metadata": {},
   "outputs": [
    {
     "data": {
      "text/plain": [
       "[['hos'],\n",
       " ['boo'],\n",
       " ['nay'],\n",
       " ['deb', 'deb'],\n",
       " ['wow'],\n",
       " ['bop'],\n",
       " ['bob'],\n",
       " ['brr'],\n",
       " ['hey'],\n",
       " ['rye'],\n",
       " ['eve'],\n",
       " ['elf'],\n",
       " ['pup', 'pup'],\n",
       " ['bum'],\n",
       " ['iva'],\n",
       " ['lyx'],\n",
       " ['yap'],\n",
       " ['ugh', 'ugh'],\n",
       " ['hem'],\n",
       " ['rod'],\n",
       " ['aha'],\n",
       " ['nam'],\n",
       " ['gap'],\n",
       " ['yea'],\n",
       " ['doc'],\n",
       " ['pen'],\n",
       " ['job'],\n",
       " ['dis'],\n",
       " ['max'],\n",
       " ['oho'],\n",
       " ['jed'],\n",
       " ['lye'],\n",
       " ['ram'],\n",
       " ['qua'],\n",
       " ['mir'],\n",
       " ['nap'],\n",
       " ['hog'],\n",
       " ['let'],\n",
       " ['gym'],\n",
       " ['bye'],\n",
       " ['lon'],\n",
       " ['aft'],\n",
       " ['eel'],\n",
       " ['sol'],\n",
       " ['jab']]"
      ]
     },
     "execution_count": 33,
     "metadata": {},
     "output_type": "execute_result"
    }
   ],
   "source": [
    "solution(strs)"
   ]
  },
  {
   "cell_type": "code",
   "execution_count": null,
   "metadata": {},
   "outputs": [],
   "source": []
  }
 ],
 "metadata": {
  "kernelspec": {
   "display_name": "Python 3",
   "language": "python",
   "name": "python3"
  },
  "language_info": {
   "codemirror_mode": {
    "name": "ipython",
    "version": 3
   },
   "file_extension": ".py",
   "mimetype": "text/x-python",
   "name": "python",
   "nbconvert_exporter": "python",
   "pygments_lexer": "ipython3",
   "version": "3.7.3"
  }
 },
 "nbformat": 4,
 "nbformat_minor": 4
}
