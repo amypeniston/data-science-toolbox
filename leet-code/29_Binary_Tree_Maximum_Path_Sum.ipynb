{
 "cells": [
  {
   "cell_type": "markdown",
   "metadata": {},
   "source": [
    "# 29. Binary Tree Maximum Path Sum\n",
    "\n",
    "Given a non-empty binary tree, find the maximum path sum.\n",
    "\n",
    "For this problem, a path is defined as any sequence of nodes from some starting node to any node in the tree along the parent-child connections. The path must contain at least one node and does not need to go through the root."
   ]
  },
  {
   "cell_type": "code",
   "execution_count": 2,
   "metadata": {},
   "outputs": [],
   "source": [
    "class TreeNode:\n",
    "    def __init__(self, val=0, left=None, right=None):\n",
    "        self.val = val\n",
    "        self.left = left\n",
    "        self.right = right"
   ]
  },
  {
   "cell_type": "code",
   "execution_count": 3,
   "metadata": {},
   "outputs": [],
   "source": [
    "root = TreeNode(-10)\n",
    "root.left = TreeNode(9)\n",
    "root.right = TreeNode(20)\n",
    "root.right.left = TreeNode(15)\n",
    "root.right.right = TreeNode(7)"
   ]
  },
  {
   "cell_type": "markdown",
   "metadata": {},
   "source": [
    "### Recursion\n",
    "\n",
    "* Time Complexity: $O(n)$ - since each node is visited at most 2 times\n",
    "* Space Complexity: $O(\\log{}n)$ - a binary tree recursion stack"
   ]
  },
  {
   "cell_type": "code",
   "execution_count": 41,
   "metadata": {},
   "outputs": [],
   "source": [
    "class Solution:\n",
    "    def maxPathSum(self, root):\n",
    "        self.max_sum = float(\"-inf\")\n",
    "        \n",
    "        def calculate_max_gain(node):\n",
    "            # If leaf node:\n",
    "            if node is None:\n",
    "                return 0\n",
    "            \n",
    "            # Recursively traverse down, finding left and right max gain\n",
    "            max_gain_left = max(calculate_max_gain(node.left),0)\n",
    "            max_gain_right = max(calculate_max_gain(node.right),0)\n",
    "    \n",
    "            # Calculate current best\n",
    "            current_max_sum = node.val + max_gain_left + max_gain_right\n",
    "            self.max_sum = max(self.max_sum, current_max_sum)\n",
    "            \n",
    "            # Return max sum\n",
    "            return node.val + max(max_gain_left, max_gain_right)\n",
    "        \n",
    "        calculate_max_gain(root)\n",
    "        return self.max_sum"
   ]
  },
  {
   "cell_type": "code",
   "execution_count": 30,
   "metadata": {},
   "outputs": [
    {
     "name": "stdout",
     "output_type": "stream",
     "text": [
      "15 0 0 0\n",
      "7 15 0 0\n",
      "20 15 15 7\n",
      "9 42 0 20\n"
     ]
    },
    {
     "data": {
      "text/plain": [
       "42"
      ]
     },
     "execution_count": 30,
     "metadata": {},
     "output_type": "execute_result"
    }
   ],
   "source": [
    "solution = Solution()\n",
    "solution.maxPathSum(root)"
   ]
  }
 ],
 "metadata": {
  "kernelspec": {
   "display_name": "Python 3",
   "language": "python",
   "name": "python3"
  },
  "language_info": {
   "codemirror_mode": {
    "name": "ipython",
    "version": 3
   },
   "file_extension": ".py",
   "mimetype": "text/x-python",
   "name": "python",
   "nbconvert_exporter": "python",
   "pygments_lexer": "ipython3",
   "version": "3.7.3"
  }
 },
 "nbformat": 4,
 "nbformat_minor": 4
}
