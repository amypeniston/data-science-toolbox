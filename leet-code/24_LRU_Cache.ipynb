{
 "cells": [
  {
   "cell_type": "markdown",
   "metadata": {},
   "source": [
    "# 24. LRU Cache\n",
    "\n",
    "Design and implement a data structure for Least Recently Used (LRU) cache. It should support the following operations: `get` and `put`.\n",
    "\n",
    "* `get(key)` - Get the value (will always be positive) of the key if the key exists in the cache, otherwise return -1.\n",
    "* `put(key, value)` - Set or insert the value if the key is not already present. When the cache reached its capacity, it should invalidate the least recently used item before inserting a new item.\n",
    "\n",
    "The cache is initialized with a positive capacity."
   ]
  },
  {
   "cell_type": "markdown",
   "metadata": {},
   "source": [
    "### Doubly Linked List + Hash Map\n",
    "\n",
    "The hashmap stores pointers to each node in the linked list. We add nodes to the tail of the list or, if a node with that key already exists, updating the value and moving the node to the tail. The length of the list is maintained by popping elements off the head.\n",
    "\n",
    "* Time Complexity: $O(1)$ - because elements are added/removed via a hashmap\n",
    "* Space Complexity: $O(capacity)$ - because at most `capacity` elements are added to the hashmap"
   ]
  },
  {
   "cell_type": "code",
   "execution_count": 2,
   "metadata": {},
   "outputs": [],
   "source": [
    "class ListNode:\n",
    "    def __init__(self, key, value):\n",
    "        self.key = key\n",
    "        self.value = value\n",
    "        self.next = None\n",
    "        self.prev = None\n",
    "\n",
    "class LRUCache:\n",
    "    def __init__(self, capacity):\n",
    "        self.hashmap = {}\n",
    "        self.head = ListNode(0, 0)\n",
    "        self.tail = ListNode(0, 0)\n",
    "        self.head.next = self.tail\n",
    "        self.tail.prev = self.head\n",
    "        self.capacity = capacity\n",
    "\n",
    "    def get(self, key):\n",
    "        # Retrieve the desired value if the node's key exists in the map\n",
    "        if key in self.hashmap:\n",
    "            node = self.hashmap[key]\n",
    "            self.remove(node)\n",
    "            self.add(node)\n",
    "            return node.value\n",
    "        return -1\n",
    "\n",
    "    def put(self, key, value):\n",
    "        # Remove the node if it already exists in the linked list\n",
    "        if key in self.hashmap:\n",
    "            self.remove(self.hashmap[key])\n",
    "        else:\n",
    "            # Check to see if list has reached capacity\n",
    "            if len(self.hashmap) == self.capacity:\n",
    "                node = self.head.next\n",
    "                self.remove(node)\n",
    "                del self.hashmap[node.key]\n",
    "        # Create a new node and add it\n",
    "        node = ListNode(key, value)\n",
    "        self.add(node)\n",
    "        self.hashmap[key] = node\n",
    "\n",
    "    # Add to tail\n",
    "    def add(self, node):\n",
    "        temp = self.tail.prev\n",
    "        temp.next = node\n",
    "        node.prev = temp\n",
    "        self.tail.prev = node\n",
    "        node.next = self.tail\n",
    "    \n",
    "    # Pop from the head\n",
    "    def remove(self, node):\n",
    "        prev = node.prev\n",
    "        next = node.next\n",
    "        prev.next = next\n",
    "        next.prev = prev\n",
    "        "
   ]
  }
 ],
 "metadata": {
  "kernelspec": {
   "display_name": "Python 3",
   "language": "python",
   "name": "python3"
  },
  "language_info": {
   "codemirror_mode": {
    "name": "ipython",
    "version": 3
   },
   "file_extension": ".py",
   "mimetype": "text/x-python",
   "name": "python",
   "nbconvert_exporter": "python",
   "pygments_lexer": "ipython3",
   "version": "3.7.3"
  }
 },
 "nbformat": 4,
 "nbformat_minor": 4
}
