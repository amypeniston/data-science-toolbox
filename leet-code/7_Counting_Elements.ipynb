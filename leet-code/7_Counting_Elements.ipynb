{
 "cells": [
  {
   "cell_type": "markdown",
   "metadata": {},
   "source": [
    "# 7. Counting Elements\n",
    "\n",
    "Given an integer array arr, count element x such that x + 1 is also in arr.\n",
    "\n",
    "If there're duplicates in arr, count them seperately."
   ]
  },
  {
   "cell_type": "code",
   "execution_count": 22,
   "metadata": {},
   "outputs": [],
   "source": [
    "import collections"
   ]
  },
  {
   "cell_type": "code",
   "execution_count": 90,
   "metadata": {},
   "outputs": [],
   "source": [
    "def run_test_cases(func):\n",
    "    assert(func([1,3,2,3,5,0]) == 3)\n",
    "    assert(func([1,1,2,2]) == 2)\n",
    "    assert(func([1,2,3]) == 2)\n",
    "    assert(func([1,1,2]) == 2)\n",
    "    assert(func([1,1,3,3,5,5,7,7]) == 0)\n",
    "    print(\"Tests passed\")"
   ]
  },
  {
   "cell_type": "code",
   "execution_count": 17,
   "metadata": {},
   "outputs": [],
   "source": [
    "arr = [1,3,2,3,5,0]"
   ]
  },
  {
   "cell_type": "code",
   "execution_count": 18,
   "metadata": {},
   "outputs": [
    {
     "data": {
      "text/plain": [
       "{1, 2}"
      ]
     },
     "execution_count": 18,
     "metadata": {},
     "output_type": "execute_result"
    }
   ],
   "source": [
    "a = set([1,2,3])\n",
    "b = set([1,2])\n",
    "a.intersection(b)"
   ]
  },
  {
   "cell_type": "markdown",
   "metadata": {},
   "source": [
    "### Sorting Solution\n",
    "\n",
    "* Time Complexity: $O(n log n)$ - $O(n log n)$ to sort array, then $O(n) * 1$ to loop through array and perform set lookups\n",
    "* Space Complexity: $O(n)$ - $O(n)$ is worst case in which all elements of array are unique"
   ]
  },
  {
   "cell_type": "code",
   "execution_count": 111,
   "metadata": {},
   "outputs": [],
   "source": [
    "def sorting_solution(arr):\n",
    "    arr_sorted = sorted(arr)\n",
    "    count = 0\n",
    "    streak = 1\n",
    "\n",
    "    for i in range(1, len(arr_sorted)):\n",
    "        # streak continues\n",
    "        if arr_sorted[i] == arr_sorted[i-1]:\n",
    "            streak += 1\n",
    "        # new integer\n",
    "        else:\n",
    "            # if integer is one greater than previous\n",
    "            if arr_sorted[i] == arr_sorted[i-1] + 1:\n",
    "                count += streak\n",
    "            # reset streak\n",
    "            streak = 1\n",
    "    return count"
   ]
  },
  {
   "cell_type": "code",
   "execution_count": 112,
   "metadata": {},
   "outputs": [
    {
     "name": "stdout",
     "output_type": "stream",
     "text": [
      "Tests passed\n"
     ]
    }
   ],
   "source": [
    "run_test_cases(sorting_solution)"
   ]
  },
  {
   "cell_type": "markdown",
   "metadata": {},
   "source": [
    "### Set Solution\n",
    "\n",
    "* Time Complexity: $O(n)$ - $O(n)$ to create the set, $O(n) * O(1)$ to loop through array and perform a lookup in the hash set\n",
    "* Space Complexity: $O(n)$ - the hash set needs to store `n` integers so $O(n)$ is the worst case (actual $O(u)$ where `u` = number of unique integers)"
   ]
  },
  {
   "cell_type": "code",
   "execution_count": 104,
   "metadata": {},
   "outputs": [],
   "source": [
    "def set_solution(arr):\n",
    "    lookup = set(arr)\n",
    "    count = 0\n",
    "\n",
    "    for i in arr:\n",
    "        if (i+1) in lookup:\n",
    "            count += 1\n",
    "\n",
    "    return count"
   ]
  },
  {
   "cell_type": "code",
   "execution_count": 105,
   "metadata": {},
   "outputs": [
    {
     "name": "stdout",
     "output_type": "stream",
     "text": [
      "Tests passed\n"
     ]
    }
   ],
   "source": [
    "run_test_cases(set_solution)"
   ]
  },
  {
   "cell_type": "markdown",
   "metadata": {},
   "source": [
    "### Dictionary Solution\n",
    "\n",
    "* Time Complexity: $O(n)$ - $O(n) + O(1)$ for array loop followed by native dictionary lookup\n",
    "* Space Complexity: $O(kn)$ - where `k` is the max element length in the array and `n` is the total # of elements in the array"
   ]
  },
  {
   "cell_type": "code",
   "execution_count": 96,
   "metadata": {},
   "outputs": [],
   "source": [
    "def hash_solution(arr):\n",
    "    lookup_dict = {}\n",
    "\n",
    "    count = 0\n",
    "\n",
    "    for a in arr:\n",
    "        if a in lookup_dict:\n",
    "            lookup_dict[a] += 1\n",
    "        else: \n",
    "            lookup_dict[a] = 1\n",
    "\n",
    "    for k in lookup_dict:\n",
    "        if (k+1) in lookup_dict:\n",
    "            count += lookup_dict[k]\n",
    "            \n",
    "    return count"
   ]
  },
  {
   "cell_type": "code",
   "execution_count": 97,
   "metadata": {},
   "outputs": [
    {
     "name": "stdout",
     "output_type": "stream",
     "text": [
      "Tests passed\n"
     ]
    }
   ],
   "source": [
    "run_test_cases(hash_solution)"
   ]
  },
  {
   "cell_type": "markdown",
   "metadata": {},
   "source": [
    "### Naive Solution\n",
    "\n",
    "* Time Complexity: $O(n^2)$ - perform a linear search ($O(n)$) for each of the `n` elements in the array\n",
    "* Space Complexity: $O(1)$"
   ]
  },
  {
   "cell_type": "code",
   "execution_count": 100,
   "metadata": {},
   "outputs": [],
   "source": [
    "def arr_solution(arr):\n",
    "    return sum(1 for x in arr if x+1 in arr)"
   ]
  },
  {
   "cell_type": "code",
   "execution_count": 101,
   "metadata": {},
   "outputs": [
    {
     "name": "stdout",
     "output_type": "stream",
     "text": [
      "Tests passed\n"
     ]
    }
   ],
   "source": [
    "run_test_cases(arr_solution)"
   ]
  }
 ],
 "metadata": {
  "kernelspec": {
   "display_name": "Python 3",
   "language": "python",
   "name": "python3"
  },
  "language_info": {
   "codemirror_mode": {
    "name": "ipython",
    "version": 3
   },
   "file_extension": ".py",
   "mimetype": "text/x-python",
   "name": "python",
   "nbconvert_exporter": "python",
   "pygments_lexer": "ipython3",
   "version": "3.7.3"
  }
 },
 "nbformat": 4,
 "nbformat_minor": 4
}
