{
 "cells": [
  {
   "cell_type": "markdown",
   "metadata": {},
   "source": [
    "# 19. Search in Rotated Sorted Array\n",
    "\n",
    "Suppose an array sorted in ascending order is rotated at some pivot unknown to you beforehand.\n",
    "\n",
    "(i.e., `[0,1,2,4,5,6,7]` might become `[4,5,6,7,0,1,2]`).\n",
    "\n",
    "You are given a target value to search. If found in the array return its index, otherwise return -1.\n",
    "\n",
    "You may assume no duplicate exists in the array.\n",
    "\n",
    "Your algorithm's runtime complexity must be in the order of O(log n)."
   ]
  },
  {
   "cell_type": "code",
   "execution_count": 6,
   "metadata": {},
   "outputs": [],
   "source": [
    "import numpy as np"
   ]
  },
  {
   "cell_type": "code",
   "execution_count": 3,
   "metadata": {},
   "outputs": [],
   "source": [
    "nums = [4,5,6,7,0,1,2]\n",
    "target = 3"
   ]
  },
  {
   "cell_type": "code",
   "execution_count": 13,
   "metadata": {},
   "outputs": [],
   "source": [
    "nums = [4,5,6,7,0,1,2]\n",
    "target = 0"
   ]
  },
  {
   "cell_type": "code",
   "execution_count": 21,
   "metadata": {},
   "outputs": [],
   "source": [
    "nums = [3,5,6,7,8,0,1,2]\n",
    "target = 0"
   ]
  },
  {
   "cell_type": "markdown",
   "metadata": {},
   "source": [
    "### Solution\n",
    "\n",
    "The requirement for runtime complexity of $O(\\log{}n)$ indicates that we need to perform binary search, however binary search needs a sorted starting array. First, find the location of the pivot point within the array. Then determine whether the target is greater than or less than the value at the pivot. Update the search bounds accordingly. Perform binary search as normal.\n",
    "\n",
    "* Time Complexity: $O(\\log{}n)$\n",
    "* Space Complexity: $O(1)$"
   ]
  },
  {
   "cell_type": "code",
   "execution_count": 38,
   "metadata": {},
   "outputs": [],
   "source": [
    "def search(nums, target):\n",
    "    if nums is None or len(nums) == 0:\n",
    "        return -1\n",
    "\n",
    "    # Use binary search to find pivot point\n",
    "    left = 0\n",
    "    right = len(nums) - 1\n",
    "    \n",
    "    while left < right:\n",
    "        midpoint = left + (right - left) // 2\n",
    "        if nums[midpoint] > nums[right]:\n",
    "            left = midpoint + 1\n",
    "        else:\n",
    "            right = midpoint\n",
    "        \n",
    "    # Determine which side of the pivot to search for target\n",
    "    pivot = left\n",
    "    left = 0\n",
    "    right = len(nums) - 1\n",
    "    \n",
    "    # Target is between pivot point and end of array\n",
    "    if target >= nums[pivot] and target <= nums[right]:\n",
    "        left = pivot\n",
    "    # Target is between start of array and pivot point\n",
    "    else:\n",
    "        right = pivot\n",
    "    \n",
    "    # Use binary search to find target\n",
    "    while left <= right:\n",
    "        midpoint = left + (right - left) // 2\n",
    "        if nums[midpoint] == target:\n",
    "            return midpoint\n",
    "        elif nums[midpoint] > target:\n",
    "            right = midpoint - 1\n",
    "        else:\n",
    "            left = midpoint + 1\n",
    "    \n",
    "    return -1"
   ]
  },
  {
   "cell_type": "code",
   "execution_count": 39,
   "metadata": {},
   "outputs": [
    {
     "data": {
      "text/plain": [
       "5"
      ]
     },
     "execution_count": 39,
     "metadata": {},
     "output_type": "execute_result"
    }
   ],
   "source": [
    "search(nums, target)"
   ]
  },
  {
   "cell_type": "code",
   "execution_count": null,
   "metadata": {},
   "outputs": [],
   "source": []
  }
 ],
 "metadata": {
  "kernelspec": {
   "display_name": "Python 3",
   "language": "python",
   "name": "python3"
  },
  "language_info": {
   "codemirror_mode": {
    "name": "ipython",
    "version": 3
   },
   "file_extension": ".py",
   "mimetype": "text/x-python",
   "name": "python",
   "nbconvert_exporter": "python",
   "pygments_lexer": "ipython3",
   "version": "3.7.3"
  }
 },
 "nbformat": 4,
 "nbformat_minor": 4
}
