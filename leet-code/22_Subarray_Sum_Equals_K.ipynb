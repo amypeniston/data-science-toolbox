{
 "cells": [
  {
   "cell_type": "markdown",
   "metadata": {},
   "source": [
    "# 22. Subarray Sum Equals K\n",
    "\n",
    "Given an array of integers and an integer `k`, you need to find the total number of continuous subarrays whose sum equals to `k`."
   ]
  },
  {
   "cell_type": "code",
   "execution_count": 2,
   "metadata": {},
   "outputs": [],
   "source": [
    "nums = [0,5,-10,4,2,1,3,1,-1]\n",
    "k = 2\n",
    "# 3"
   ]
  },
  {
   "cell_type": "code",
   "execution_count": 20,
   "metadata": {},
   "outputs": [],
   "source": [
    "nums = [1,1,1]\n",
    "k = 2\n",
    "# 2"
   ]
  },
  {
   "cell_type": "code",
   "execution_count": 25,
   "metadata": {},
   "outputs": [],
   "source": [
    "nums = [2,1,0,-1,1]\n",
    "k = 2\n",
    "# 2"
   ]
  },
  {
   "cell_type": "markdown",
   "metadata": {},
   "source": [
    "### Hash Map\n",
    "\n",
    "Store the cumulative sum up to each index in a collection/hash map.\n",
    "\n",
    "* Time Complexity: $O(n)$\n",
    "* Space Complexity: $O(n)$"
   ]
  },
  {
   "cell_type": "code",
   "execution_count": 47,
   "metadata": {},
   "outputs": [],
   "source": [
    "import collections\n",
    "\n",
    "def subarraySum(nums, k):\n",
    "    if nums is None or k is None or len(nums) == 0:\n",
    "        return 0\n",
    "\n",
    "    count = 0\n",
    "    current_sum = 0\n",
    "    counter = collections.Counter()\n",
    "    counter[0] += 1\n",
    "    for i in range(len(nums)):\n",
    "        current_sum += nums[i]\n",
    "        count += counter[current_sum - k]\n",
    "        counter[current_sum] += 1\n",
    "    \n",
    "    return count"
   ]
  },
  {
   "cell_type": "code",
   "execution_count": 48,
   "metadata": {},
   "outputs": [
    {
     "data": {
      "text/plain": [
       "2"
      ]
     },
     "execution_count": 48,
     "metadata": {},
     "output_type": "execute_result"
    }
   ],
   "source": [
    "subarraySum(nums, k)"
   ]
  },
  {
   "cell_type": "markdown",
   "metadata": {},
   "source": [
    "### Naive Approach\n",
    "\n",
    "For a given start, iterate through all possible ends of the contiguous subarray.\n",
    "\n",
    "* Time Complexity: $O(n^2)$\n",
    "* Space Complexity: $O(1)$"
   ]
  },
  {
   "cell_type": "code",
   "execution_count": 40,
   "metadata": {},
   "outputs": [],
   "source": [
    "def subarraySum(nums, k)\n",
    "    if nums is None or k is None or len(nums) == 0:\n",
    "        return 0\n",
    "\n",
    "    count = 0\n",
    "    sum_dict = {(0,1)} # at index 0, the sum up to that index is zero; count of that sum is one\n",
    "    \n",
    "    for i in range(len(nums)):\n",
    "        \n",
    "        for j in range(i,len(nums)):\n",
    "            current_sum += nums[j]\n",
    "            if current_sum == k:\n",
    "                count += 1\n",
    "\n",
    "    return count"
   ]
  },
  {
   "cell_type": "code",
   "execution_count": 41,
   "metadata": {},
   "outputs": [
    {
     "data": {
      "text/plain": [
       "1"
      ]
     },
     "execution_count": 41,
     "metadata": {},
     "output_type": "execute_result"
    }
   ],
   "source": [
    "subarraySum(nums, k)"
   ]
  },
  {
   "cell_type": "markdown",
   "metadata": {},
   "source": [
    "### Brute Force\n",
    "\n",
    "* Time Complexity: $O(n^3)$\n",
    "* Space Complexity: $O(1)$"
   ]
  },
  {
   "cell_type": "code",
   "execution_count": 32,
   "metadata": {},
   "outputs": [],
   "source": [
    "def subarraySum(nums, k):\n",
    "    if nums is None or k is None or len(nums) == 0:\n",
    "        return 0\n",
    "    \n",
    "    count = 0\n",
    "    for i in range(len(nums)):\n",
    "        for j in range(i+1,len(nums)):\n",
    "            current_sum = 0\n",
    "            for c in range(i, j):\n",
    "                current_sum += nums[c]\n",
    "            if current_sum == k:\n",
    "                count += 1\n",
    "            \n",
    "    return count"
   ]
  },
  {
   "cell_type": "code",
   "execution_count": 33,
   "metadata": {},
   "outputs": [
    {
     "data": {
      "text/plain": [
       "2"
      ]
     },
     "execution_count": 33,
     "metadata": {},
     "output_type": "execute_result"
    }
   ],
   "source": [
    "subarraySum(nums, k)"
   ]
  }
 ],
 "metadata": {
  "kernelspec": {
   "display_name": "Python 3",
   "language": "python",
   "name": "python3"
  },
  "language_info": {
   "codemirror_mode": {
    "name": "ipython",
    "version": 3
   },
   "file_extension": ".py",
   "mimetype": "text/x-python",
   "name": "python",
   "nbconvert_exporter": "python",
   "pygments_lexer": "ipython3",
   "version": "3.7.3"
  }
 },
 "nbformat": 4,
 "nbformat_minor": 4
}
