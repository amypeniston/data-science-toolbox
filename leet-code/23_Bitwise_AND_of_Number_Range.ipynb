{
 "cells": [
  {
   "cell_type": "markdown",
   "metadata": {},
   "source": [
    "# 23. Bitwise AND of Number Range\n",
    "\n",
    "Given a range `[m, n]` where `0 <= m <= n <= 2147483647`, return the bitwise AND of all numbers in this range, inclusive."
   ]
  },
  {
   "cell_type": "code",
   "execution_count": 5,
   "metadata": {},
   "outputs": [],
   "source": [
    "def run_test_cases(func):\n",
    "    assert(func(5,7) == 4)\n",
    "    assert(func(1,0) == 0)\n",
    "    print(\"Tests passed.\")"
   ]
  },
  {
   "cell_type": "code",
   "execution_count": 7,
   "metadata": {},
   "outputs": [],
   "source": [
    "m = 16\n",
    "n = 19"
   ]
  },
  {
   "cell_type": "markdown",
   "metadata": {},
   "source": [
    "### Bit Shift\n",
    "\n",
    "Right shift the inputs until they are equal, while counting the number of right shifts that this requires. Carry forward all identical bits and append zeros based on the number of shifts.\n",
    "\n",
    "Ex: [16,19] = [0010000,0010011] requires 2 shifts. Carry forward the similar bits: [00100] and append 2 zeros: [0010000] = 16\n",
    "\n",
    "* Time Complexity: $O(1)$ - the number of digits is fixed therefore the number of iterations in the loop is bounded and runtime is constant\n",
    "* Space Complexity: $O(1)$ - only a single integer variable is used"
   ]
  },
  {
   "cell_type": "code",
   "execution_count": 8,
   "metadata": {},
   "outputs": [],
   "source": [
    "def rangeBitwiseAnd(m, n):\n",
    "    count = 0\n",
    "    \n",
    "    while m != n:\n",
    "        m = m >> 1\n",
    "        n = n >> 1\n",
    "        count += 1\n",
    "    \n",
    "    return m << count"
   ]
  },
  {
   "cell_type": "code",
   "execution_count": 9,
   "metadata": {},
   "outputs": [
    {
     "data": {
      "text/plain": [
       "16"
      ]
     },
     "execution_count": 9,
     "metadata": {},
     "output_type": "execute_result"
    }
   ],
   "source": [
    "rangeBitwiseAnd(m,n)"
   ]
  },
  {
   "cell_type": "code",
   "execution_count": 6,
   "metadata": {},
   "outputs": [
    {
     "name": "stdout",
     "output_type": "stream",
     "text": [
      "Tests passed.\n"
     ]
    }
   ],
   "source": [
    "run_test_cases(rangeBitwiseAnd)"
   ]
  },
  {
   "cell_type": "code",
   "execution_count": null,
   "metadata": {},
   "outputs": [],
   "source": []
  }
 ],
 "metadata": {
  "kernelspec": {
   "display_name": "Python 3",
   "language": "python",
   "name": "python3"
  },
  "language_info": {
   "codemirror_mode": {
    "name": "ipython",
    "version": 3
   },
   "file_extension": ".py",
   "mimetype": "text/x-python",
   "name": "python",
   "nbconvert_exporter": "python",
   "pygments_lexer": "ipython3",
   "version": "3.7.3"
  }
 },
 "nbformat": 4,
 "nbformat_minor": 4
}
