{
 "cells": [
  {
   "cell_type": "markdown",
   "metadata": {},
   "source": [
    "# 30. Binary Tree Valid Sequence\n",
    "\n",
    "Given a binary tree where each path going from the root to any leaf form a valid sequence, check if a given string is a valid sequence in such binary tree. \n",
    "\n",
    "We get the given string from the concatenation of an array of integers arr and the concatenation of all values of the nodes along a path results in a sequence in the given binary tree."
   ]
  },
  {
   "cell_type": "code",
   "execution_count": 1,
   "metadata": {},
   "outputs": [],
   "source": [
    "class TreeNode:\n",
    "    def __init__(self, val=0, left=None, right=None):\n",
    "        self.val = val\n",
    "        self.left = left\n",
    "        self.right = right"
   ]
  },
  {
   "cell_type": "code",
   "execution_count": 4,
   "metadata": {},
   "outputs": [],
   "source": [
    "root = TreeNode(0)\n",
    "root.left = TreeNode(1)\n",
    "root.right = TreeNode(0)\n",
    "root.right.left = TreeNode(0)\n",
    "root.left.left = TreeNode(0)\n",
    "root.left.left.right = TreeNode(1)\n",
    "root.left.right = TreeNode(1)\n",
    "root.left.right.left = TreeNode(0)\n",
    "root.left.right.right = TreeNode(0)"
   ]
  },
  {
   "cell_type": "code",
   "execution_count": 8,
   "metadata": {},
   "outputs": [],
   "source": [
    "class Solution:\n",
    "    \n",
    "    def dfs(self, node, arr, index):\n",
    "\n",
    "        # If node value does not equal element in array, break:\n",
    "        if node.val != arr[index]:\n",
    "            return False\n",
    "        \n",
    "        # Else, if we're at the end of the array:\n",
    "        if index == len(arr) - 1:\n",
    "            # If we're a leaf node, valid sequence:\n",
    "            if node.left is None and node.right is None:\n",
    "                return True\n",
    "            # Otherwise, invalid sequence:\n",
    "            else:\n",
    "                return False\n",
    "        \n",
    "        left_result = False\n",
    "        right_result = False\n",
    "        \n",
    "        # Continue checking child nodes\n",
    "        if node.left:\n",
    "            left_result = self.dfs(node.left, arr, index + 1)\n",
    "        if node.right:\n",
    "            right_result = self.dfs(node.right, arr, index + 1)\n",
    "            \n",
    "        return left_result or right_result\n",
    "    \n",
    "    def isValidSequence(self, root, arr):\n",
    "        # If root is none and array is empty, return true, otherwise false\n",
    "        if root is None:\n",
    "            return len(arr) == 0\n",
    "        \n",
    "        return self.dfs(root, arr, 0)"
   ]
  },
  {
   "cell_type": "code",
   "execution_count": 11,
   "metadata": {},
   "outputs": [
    {
     "data": {
      "text/plain": [
       "True"
      ]
     },
     "execution_count": 11,
     "metadata": {},
     "output_type": "execute_result"
    }
   ],
   "source": [
    "solution = Solution()\n",
    "solution.isValidSequence(root,[0,1,0,1])"
   ]
  }
 ],
 "metadata": {
  "kernelspec": {
   "display_name": "Python 3",
   "language": "python",
   "name": "python3"
  },
  "language_info": {
   "codemirror_mode": {
    "name": "ipython",
    "version": 3
   },
   "file_extension": ".py",
   "mimetype": "text/x-python",
   "name": "python",
   "nbconvert_exporter": "python",
   "pygments_lexer": "ipython3",
   "version": "3.7.3"
  }
 },
 "nbformat": 4,
 "nbformat_minor": 4
}
