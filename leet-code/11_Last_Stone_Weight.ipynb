{
 "cells": [
  {
   "cell_type": "markdown",
   "metadata": {},
   "source": [
    "# 11. Last Stone Weight\n",
    "\n",
    "We have a collection of stones, each stone has a positive integer weight.\n",
    "\n",
    "Each turn, we choose the two heaviest stones and smash them together.  Suppose the stones have weights `x` and `y` with `x <= y`.  The result of this smash is:\n",
    "\n",
    "* If `x == y`, both stones are totally destroyed;\n",
    "* If `x != y`, the stone of weight `x` is totally destroyed, and the stone of weight `y` has new weight `y-x`.\n",
    "\n",
    "At the end, there is at most 1 stone left.  Return the weight of this stone (or 0 if there are no stones left.)"
   ]
  },
  {
   "cell_type": "code",
   "execution_count": 37,
   "metadata": {},
   "outputs": [],
   "source": [
    "def run_test_cases(func):\n",
    "    assert(func([2,7,4,1,8,1]) == 1)\n",
    "    assert(func([10,8,5,1]) == 2)\n",
    "    assert(func([2,2]) == 0)\n",
    "    assert(func([1]) == 1)\n",
    "    print(\"Tests passed.\")"
   ]
  },
  {
   "cell_type": "markdown",
   "metadata": {},
   "source": [
    "### Sorted Array Solution\n",
    "\n",
    "* Time Complexity: ?\n",
    "* Space Complexity: $O(n)$"
   ]
  },
  {
   "cell_type": "code",
   "execution_count": 52,
   "metadata": {},
   "outputs": [],
   "source": [
    "def lastStoneWeight(stones):\n",
    "    \n",
    "    while stones:\n",
    "        if len(stones) == 1:\n",
    "            return stones[0]\n",
    "\n",
    "        stones = sorted(stones)\n",
    "        if stones[-1] > stones[-2]:\n",
    "            stones[-1] = stones[-1] - stones[-2]\n",
    "            stones = stones[:-2] + stones[-1:]\n",
    "        else:\n",
    "            stones = stones[:-2]\n",
    "\n",
    "    return 0"
   ]
  },
  {
   "cell_type": "code",
   "execution_count": 39,
   "metadata": {},
   "outputs": [
    {
     "name": "stdout",
     "output_type": "stream",
     "text": [
      "Tests passed.\n"
     ]
    }
   ],
   "source": [
    "run_test_cases(lastStoneWeight)"
   ]
  },
  {
   "cell_type": "markdown",
   "metadata": {},
   "source": [
    "An interesting function...\n",
    "\n",
    "Bisect assumes the given list is sorted, then will insert a given element into the list while maintaining sort order."
   ]
  },
  {
   "cell_type": "code",
   "execution_count": 58,
   "metadata": {},
   "outputs": [
    {
     "data": {
      "text/plain": [
       "[1, 1, 2, 4, 5, 7, 8]"
      ]
     },
     "execution_count": 58,
     "metadata": {},
     "output_type": "execute_result"
    }
   ],
   "source": [
    "import bisect\n",
    "s = [2,7,4,1,8,1]\n",
    "s = sorted(s)\n",
    "bisect.insort(s, 5)\n",
    "s"
   ]
  }
 ],
 "metadata": {
  "kernelspec": {
   "display_name": "Python 3",
   "language": "python",
   "name": "python3"
  },
  "language_info": {
   "codemirror_mode": {
    "name": "ipython",
    "version": 3
   },
   "file_extension": ".py",
   "mimetype": "text/x-python",
   "name": "python",
   "nbconvert_exporter": "python",
   "pygments_lexer": "ipython3",
   "version": "3.7.3"
  }
 },
 "nbformat": 4,
 "nbformat_minor": 4
}
