{
 "cells": [
  {
   "cell_type": "markdown",
   "metadata": {},
   "source": [
    "# 10. Min Stack\n",
    "\n",
    "Design a stack that supports push, pop, top, and retrieving the minimum element in constant time.\n",
    "\n",
    "* push(x) -- Push element x onto stack.\n",
    "* pop() -- Removes the element on top of the stack.\n",
    "* top() -- Get the top element.\n",
    "* getMin() -- Retrieve the minimum element in the stack."
   ]
  },
  {
   "cell_type": "markdown",
   "metadata": {},
   "source": [
    "### $O(n)$ getMin Attempt 2\n",
    "\n",
    "* Time Complexity: $O(1)$ - pushing/removing elements to/from the end of an array and looking at the end of an array are $O(1)$; `getMin` is also $O(1)$ because we are keeping track of the minimum value as we go, rather than having to check through all `n` elements at the end\n",
    "* Space Complexity: $O(n)$ - for worst case that all operations are `push`"
   ]
  },
  {
   "cell_type": "code",
   "execution_count": 44,
   "metadata": {},
   "outputs": [],
   "source": [
    "class MinStack:\n",
    "    def __init__(self):\n",
    "        self.items = []\n",
    "    \n",
    "    def push(self, x:int) -> None:\n",
    "        # Store data and running minimum as a tuple: (data, current_min)\n",
    "        \n",
    "        # First item in stack\n",
    "        if not self.items:\n",
    "            self.items.append((x, x))\n",
    "            return\n",
    "        \n",
    "        # Otherwise, compare element to previous minimum\n",
    "        self.items.append((x, min(x, self.items[-1][1])))\n",
    "    \n",
    "    def pop(self) -> None:\n",
    "        self.items.pop()\n",
    "\n",
    "    def top(self) -> int:\n",
    "        return self.items[-1][0]\n",
    "        \n",
    "    def getMin(self) -> int:\n",
    "        return self.items[-1][1]"
   ]
  },
  {
   "cell_type": "code",
   "execution_count": 45,
   "metadata": {},
   "outputs": [
    {
     "name": "stdout",
     "output_type": "stream",
     "text": [
      "-3\n",
      "0\n",
      "-2\n"
     ]
    }
   ],
   "source": [
    "minStack = MinStack()\n",
    "minStack.push(-2)\n",
    "minStack.push(0)\n",
    "minStack.push(-3)\n",
    "print(minStack.getMin())  #--> Returns -3.\n",
    "minStack.pop()\n",
    "print(minStack.top())   #  --> Returns 0.\n",
    "print(minStack.getMin()) #  --> Returns -2."
   ]
  },
  {
   "cell_type": "markdown",
   "metadata": {},
   "source": [
    "### $O(n)$ getMin Attempt 1"
   ]
  },
  {
   "cell_type": "code",
   "execution_count": 42,
   "metadata": {},
   "outputs": [],
   "source": [
    "class MinStack:\n",
    "    def __init__(self):\n",
    "        self.items = []\n",
    "        self.min = float(\"inf\")\n",
    "    \n",
    "    def push(self, x:int) -> None:\n",
    "        if not len(self.items):\n",
    "            current_min = x\n",
    "        else:\n",
    "            if x < self.items[-1][\"current_min\"]:\n",
    "                current_min = x\n",
    "            else:\n",
    "                current_min = self.items[-1][\"current_min\"]\n",
    "        node = {\"data\": x, \"current_min\": current_min}\n",
    "        self.items.append(node)\n",
    "    \n",
    "    def pop(self) -> None:\n",
    "        self.items.pop()\n",
    "\n",
    "    def top(self) -> int:\n",
    "        return self.items[-1][\"data\"]\n",
    "        \n",
    "    def getMin(self) -> int:\n",
    "        return self.items[-1][\"current_min\"]"
   ]
  },
  {
   "cell_type": "code",
   "execution_count": null,
   "metadata": {},
   "outputs": [],
   "source": []
  }
 ],
 "metadata": {
  "kernelspec": {
   "display_name": "Python 3",
   "language": "python",
   "name": "python3"
  },
  "language_info": {
   "codemirror_mode": {
    "name": "ipython",
    "version": 3
   },
   "file_extension": ".py",
   "mimetype": "text/x-python",
   "name": "python",
   "nbconvert_exporter": "python",
   "pygments_lexer": "ipython3",
   "version": "3.7.3"
  }
 },
 "nbformat": 4,
 "nbformat_minor": 4
}
