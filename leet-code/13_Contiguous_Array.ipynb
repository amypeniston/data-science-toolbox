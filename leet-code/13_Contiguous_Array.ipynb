{
 "cells": [
  {
   "cell_type": "markdown",
   "metadata": {},
   "source": [
    "# 13.Contiguous Array\n",
    "\n",
    "Given a binary array, find the maximum length of a contiguous subarray with equal number of 0 and 1."
   ]
  },
  {
   "cell_type": "code",
   "execution_count": 8,
   "metadata": {},
   "outputs": [],
   "source": [
    "def run_test_cases(func):\n",
    "    assert(func([0,1]) == 2)\n",
    "    assert(func([0,1,0]) == 2)\n",
    "    assert(func([1,0,1,1,0,0]) == 6)\n",
    "    assert(func([1,0,1,1,0,0,1]) == 6)\n",
    "    assert(func([1]) == 0)\n",
    "    print(\"Tests passed.\")"
   ]
  },
  {
   "cell_type": "markdown",
   "metadata": {},
   "source": [
    "### Count Hash Table\n",
    "\n",
    "Keep track of the running count (+1 for 1, -1 for 0). Store the earliest instance of a particular count in a hash table, where the key is the index in the array at which the count occurs. Anytime the count is the same as it has been in the past, we know there have been equal numbers of 1s and 0s between those two indices. Determine the max length between indices having the same count.\n",
    "\n",
    "* Time Complexity: $O(n)$ - we only make one pass through the array\n",
    "* Space Complexity: $O(n)$ - worst case, the size of the hash map will be $n$ if all digits are either 1 or 0"
   ]
  },
  {
   "cell_type": "code",
   "execution_count": 34,
   "metadata": {},
   "outputs": [
    {
     "data": {
      "text/plain": [
       "6"
      ]
     },
     "execution_count": 34,
     "metadata": {},
     "output_type": "execute_result"
    }
   ],
   "source": [
    "nums = [1,0,1,1,0,0]\n",
    "\n",
    "counts = {0:0}\n",
    "count = 0\n",
    "max_len = 0\n",
    "\n",
    "for i, num in enumerate(nums):\n",
    "    count = count + (1 if num == 1 else -1)\n",
    "    # If count has appeared before, is the distance between current and first instance > max subarray length?\n",
    "    if count in counts:\n",
    "        max_len = max(max_len, i - counts[count] + 1)\n",
    "    # Store earliest instance of count\n",
    "    else:\n",
    "        counts[count] = i+1\n",
    "max_len"
   ]
  },
  {
   "cell_type": "markdown",
   "metadata": {},
   "source": [
    "### Naive Solution\n",
    "\n",
    "* Time Complexity: $O(n^2)$\n",
    "* Space Complexity: $O(1)$"
   ]
  },
  {
   "cell_type": "code",
   "execution_count": 15,
   "metadata": {},
   "outputs": [
    {
     "name": "stdout",
     "output_type": "stream",
     "text": [
      "6\n"
     ]
    }
   ],
   "source": [
    "nums = [1,0,1,1,0,0]\n",
    "\n",
    "max_len = 0\n",
    "\n",
    "for i in range(len(nums)):\n",
    "    count = [0,0]\n",
    "    count[nums[i]] = 1\n",
    "    for j in range(i+1, len(nums)):\n",
    "        count[nums[j]] += 1\n",
    "        if (count[0] == count[1]) and (j - i > max_len):\n",
    "            max_len = j - i + 1\n",
    "            \n",
    "print(max_len)"
   ]
  }
 ],
 "metadata": {
  "kernelspec": {
   "display_name": "Python 3",
   "language": "python",
   "name": "python3"
  },
  "language_info": {
   "codemirror_mode": {
    "name": "ipython",
    "version": 3
   },
   "file_extension": ".py",
   "mimetype": "text/x-python",
   "name": "python",
   "nbconvert_exporter": "python",
   "pygments_lexer": "ipython3",
   "version": "3.7.3"
  }
 },
 "nbformat": 4,
 "nbformat_minor": 4
}
