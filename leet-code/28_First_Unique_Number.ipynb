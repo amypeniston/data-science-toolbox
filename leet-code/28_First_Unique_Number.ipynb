{
 "cells": [
  {
   "cell_type": "markdown",
   "metadata": {},
   "source": [
    "# 28. First Unique Number\n",
    "\n",
    "You have a queue of integers, you need to retrieve the first unique integer in the queue.\n",
    "\n",
    "Implement the FirstUnique class:\n",
    "\n",
    "* `FirstUnique(int[] nums)` Initializes the object with the numbers in the queue.\n",
    "* `int showFirstUnique()` returns the value of the first unique integer of the queue, and returns -1 if there is no such integer.\n",
    "* `void add(int value)` insert value to the queue."
   ]
  },
  {
   "cell_type": "code",
   "execution_count": 43,
   "metadata": {},
   "outputs": [],
   "source": [
    "import collections"
   ]
  },
  {
   "cell_type": "markdown",
   "metadata": {},
   "source": [
    "### Deque"
   ]
  },
  {
   "cell_type": "code",
   "execution_count": 48,
   "metadata": {},
   "outputs": [],
   "source": [
    "class FirstUnique:\n",
    "    def __init__(self, nums):\n",
    "        self.deque = collections.deque()\n",
    "        self.hashmap = {}\n",
    "        \n",
    "        for n in nums:\n",
    "            self.add(n)\n",
    "        \n",
    "    def showFirstUnique(self):\n",
    "        while len(self.deque) and self.deque[0] in self.hashmap and self.hashmap[self.deque[0]] > 1:\n",
    "            self.deque.popleft()\n",
    "            \n",
    "        if len(self.deque) == 0:\n",
    "            return -1\n",
    "        return self.deque[0]\n",
    "    \n",
    "    def add(self, value):\n",
    "        if value in self.hashmap:\n",
    "            self.hashmap[value] += 1\n",
    "        else:\n",
    "            self.hashmap[value] = 1\n",
    "            \n",
    "        self.deque.append(value)"
   ]
  },
  {
   "cell_type": "code",
   "execution_count": 49,
   "metadata": {},
   "outputs": [
    {
     "data": {
      "text/plain": [
       "3"
      ]
     },
     "execution_count": 49,
     "metadata": {},
     "output_type": "execute_result"
    }
   ],
   "source": [
    "sol = FirstUnique([2,3,5,2])\n",
    "sol.showFirstUnique()"
   ]
  },
  {
   "cell_type": "markdown",
   "metadata": {},
   "source": [
    "### Doubly Linked List + Hashmap"
   ]
  },
  {
   "cell_type": "code",
   "execution_count": 39,
   "metadata": {},
   "outputs": [],
   "source": [
    "class Node:\n",
    "    def __init__(self, val):\n",
    "        self.val = val\n",
    "        self.next = None\n",
    "        self.prev = None\n",
    "\n",
    "class FirstUnique:\n",
    "    def __init__(self, nums):\n",
    "        self.hashmap = {}\n",
    "        self.head = Node(0)\n",
    "        self.tail = Node(0)\n",
    "        self.head.prev = self.tail\n",
    "        self.tail.next = self.head\n",
    "        self.nums = []\n",
    "        \n",
    "        for n in nums:\n",
    "            self.add(n)\n",
    "        \n",
    "    def showFirstUnique(self):\n",
    "        if not self.nums or len(self.nums) == 0 or self.head.prev.val == 0:\n",
    "            return -1\n",
    "        return self.head.prev.val\n",
    "    \n",
    "    def add(self, value):\n",
    "        if value in self.hashmap:\n",
    "            node_to_remove = self.hashmap[value]\n",
    "            self.removeNode(node_to_remove)\n",
    "            del self.hashmap[value]\n",
    "        else:\n",
    "            new_node = Node(value)\n",
    "            self.addNode(new_node)\n",
    "            self.hashmap[value] = new_node\n",
    "        self.nums.append(value)\n",
    "        print(self.nums)\n",
    "        print(self.hashmap)\n",
    "            \n",
    "    def addNode(self, node):\n",
    "        temp = self.tail.next\n",
    "        node.next = temp\n",
    "        temp.prev = node\n",
    "        node.prev = self.tail\n",
    "        self.tail.next = node\n",
    "        \n",
    "    def removeNode(self, node):\n",
    "        node.next.prev = node.prev\n",
    "        node.prev.next = node.next"
   ]
  },
  {
   "cell_type": "code",
   "execution_count": 50,
   "metadata": {},
   "outputs": [
    {
     "data": {
      "text/plain": [
       "-1"
      ]
     },
     "execution_count": 50,
     "metadata": {},
     "output_type": "execute_result"
    }
   ],
   "source": [
    "sol = FirstUnique([2, 3, 5, 5, 2, 3])\n",
    "sol.showFirstUnique()"
   ]
  }
 ],
 "metadata": {
  "kernelspec": {
   "display_name": "Python 3",
   "language": "python",
   "name": "python3"
  },
  "language_info": {
   "codemirror_mode": {
    "name": "ipython",
    "version": 3
   },
   "file_extension": ".py",
   "mimetype": "text/x-python",
   "name": "python",
   "nbconvert_exporter": "python",
   "pygments_lexer": "ipython3",
   "version": "3.7.3"
  }
 },
 "nbformat": 4,
 "nbformat_minor": 4
}
