{
 "cells": [
  {
   "cell_type": "markdown",
   "metadata": {},
   "source": [
    "# 11. Diameter of Binary Tree\n",
    "\n",
    "Given a binary tree, you need to compute the length of the diameter of the tree. The diameter of a binary tree is the length of the longest path between any two nodes in a tree. This path may or may not pass through the root."
   ]
  },
  {
   "cell_type": "code",
   "execution_count": 34,
   "metadata": {},
   "outputs": [],
   "source": [
    "class TreeNode:\n",
    "    def __init__(self, x):\n",
    "        self.val = x\n",
    "        self.left = None\n",
    "        self.right = None"
   ]
  },
  {
   "cell_type": "code",
   "execution_count": 35,
   "metadata": {},
   "outputs": [],
   "source": [
    "n4 = TreeNode(4)\n",
    "n5 = TreeNode(5)\n",
    "n2 = TreeNode(2)\n",
    "n3 = TreeNode(3)\n",
    "root = TreeNode(1)\n",
    "\n",
    "root.left = n2\n",
    "root.right = n3\n",
    "n2.left = n4\n",
    "n2.right = n5"
   ]
  },
  {
   "cell_type": "code",
   "execution_count": 36,
   "metadata": {},
   "outputs": [],
   "source": [
    "class Solution():\n",
    "    def diameterOfBinaryTree(self, root):\n",
    "        self.max_diam = 0\n",
    "        \n",
    "        def height(node):\n",
    "            # Reached end of leaf\n",
    "            if node is None:\n",
    "                return 0\n",
    "\n",
    "            # Recursively find left and right heights\n",
    "            left = height(node.left)\n",
    "            right = height(node.right)\n",
    "            \n",
    "            # Check whether l + r is greater than current max diam\n",
    "            self.max_diam = max(self.max_diam, left + right)\n",
    "            \n",
    "            # Return max height\n",
    "            return max(left, right) + 1\n",
    "        \n",
    "        height(root)\n",
    "        return self.max_diam"
   ]
  },
  {
   "cell_type": "code",
   "execution_count": 37,
   "metadata": {},
   "outputs": [
    {
     "data": {
      "text/plain": [
       "3"
      ]
     },
     "execution_count": 37,
     "metadata": {},
     "output_type": "execute_result"
    }
   ],
   "source": [
    "solution = Solution()\n",
    "solution.diameterOfBinaryTree(root)"
   ]
  }
 ],
 "metadata": {
  "kernelspec": {
   "display_name": "Python 3",
   "language": "python",
   "name": "python3"
  },
  "language_info": {
   "codemirror_mode": {
    "name": "ipython",
    "version": 3
   },
   "file_extension": ".py",
   "mimetype": "text/x-python",
   "name": "python",
   "nbconvert_exporter": "python",
   "pygments_lexer": "ipython3",
   "version": "3.7.3"
  }
 },
 "nbformat": 4,
 "nbformat_minor": 4
}
