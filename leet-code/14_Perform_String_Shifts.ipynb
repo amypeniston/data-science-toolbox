{
 "cells": [
  {
   "cell_type": "markdown",
   "metadata": {},
   "source": [
    "# 14. Perform String Shifts\n",
    "\n",
    "You are given a string `s` containing lowercase English letters, and a matrix `shift`, where `shift[i] = [direction, amount]`:\n",
    "\n",
    "* Direction can be 0 (for left shift) or 1 (for right shift). \n",
    "* Amount is the amount by which string s is to be shifted.\n",
    "* A left shift by 1 means remove the first character of s and append it to the end.\n",
    "* Similarly, a right shift by 1 means remove the last character of s and add it to the beginning.\n",
    "\n",
    "Return the final string after all operations."
   ]
  },
  {
   "cell_type": "code",
   "execution_count": 32,
   "metadata": {},
   "outputs": [],
   "source": [
    "s = \"abc\"\n",
    "shift = [[0,1],[1,2]]\n",
    "# \"cab\""
   ]
  },
  {
   "cell_type": "code",
   "execution_count": null,
   "metadata": {},
   "outputs": [],
   "source": [
    "s = \"abcdefg\"\n",
    "shift = [[1,1],[1,1],[0,2],[1,3]]\n",
    "# \"efgabcd\""
   ]
  },
  {
   "cell_type": "code",
   "execution_count": null,
   "metadata": {},
   "outputs": [],
   "source": [
    "s = \"a\"\n",
    "shift = [[0,5],[1,2]]\n",
    "# \"a\""
   ]
  },
  {
   "cell_type": "code",
   "execution_count": 15,
   "metadata": {},
   "outputs": [],
   "source": [
    "s = \"ab\"\n",
    "shift = [[0,4]]\n",
    "# \"ab\""
   ]
  },
  {
   "cell_type": "code",
   "execution_count": 52,
   "metadata": {},
   "outputs": [],
   "source": [
    "s = \"wpdhhcj\"\n",
    "shift = [[0,7],[1,7],[1,0],[1,3],[0,3],[0,6],[1,2]]\n",
    "# \"hcjwpdh\""
   ]
  },
  {
   "cell_type": "markdown",
   "metadata": {},
   "source": [
    "#### Compute Net Shift & Splice List\n",
    "\n",
    "* Time Complexity: $O(n+m)$ to calculate net shift and apply a single string-shift operation\n",
    "* Space Complexity: $O(m)$ to hold new string in memory to perform string modification"
   ]
  },
  {
   "cell_type": "code",
   "execution_count": 53,
   "metadata": {},
   "outputs": [
    {
     "data": {
      "text/plain": [
       "'hcjwpdh'"
      ]
     },
     "execution_count": 53,
     "metadata": {},
     "output_type": "execute_result"
    }
   ],
   "source": [
    "x = 0\n",
    "for pair in shift: # O(n)\n",
    "    x += -1 * (2 * pair[0] - 1) * pair[1]\n",
    "\n",
    "x = x % len(s)\n",
    "\n",
    "\"\".join(s[x:] + s[:x]) # O(m)"
   ]
  }
 ],
 "metadata": {
  "kernelspec": {
   "display_name": "Python 3",
   "language": "python",
   "name": "python3"
  },
  "language_info": {
   "codemirror_mode": {
    "name": "ipython",
    "version": 3
   },
   "file_extension": ".py",
   "mimetype": "text/x-python",
   "name": "python",
   "nbconvert_exporter": "python",
   "pygments_lexer": "ipython3",
   "version": "3.7.3"
  }
 },
 "nbformat": 4,
 "nbformat_minor": 4
}
