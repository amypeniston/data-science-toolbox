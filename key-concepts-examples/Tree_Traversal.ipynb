{
 "cells": [
  {
   "cell_type": "markdown",
   "metadata": {},
   "source": [
    "# Tree Traversal"
   ]
  },
  {
   "cell_type": "code",
   "execution_count": 1,
   "metadata": {},
   "outputs": [],
   "source": [
    "class TreeNode:\n",
    "    def __init__(self, x):\n",
    "        self.val = x\n",
    "        self.left = None\n",
    "        self.right = None"
   ]
  },
  {
   "cell_type": "code",
   "execution_count": 51,
   "metadata": {},
   "outputs": [],
   "source": [
    "l1 = TreeNode(5)\n",
    "l2 = TreeNode(10)\n",
    "root = TreeNode(1)\n",
    "\n",
    "root.left = l1\n",
    "root.right = l2"
   ]
  },
  {
   "cell_type": "markdown",
   "metadata": {},
   "source": [
    "### Binary Tree Preorder Traversal\n",
    "\n",
    "First, visit root node. Then traverse left. Then traverse right."
   ]
  },
  {
   "cell_type": "markdown",
   "metadata": {},
   "source": [
    "**Recursive Solution**"
   ]
  },
  {
   "cell_type": "code",
   "execution_count": 34,
   "metadata": {},
   "outputs": [],
   "source": [
    "def preorderTraversal(root):\n",
    "    return traverse(root, [])\n",
    "\n",
    "def traverse(node, elements):\n",
    "    if node:\n",
    "        elements.append(node.val)\n",
    "        traverse(node.left, elements)\n",
    "        traverse(node.right, elements)\n",
    "    return elements"
   ]
  },
  {
   "cell_type": "code",
   "execution_count": 35,
   "metadata": {},
   "outputs": [
    {
     "data": {
      "text/plain": [
       "[1, 5, 10]"
      ]
     },
     "execution_count": 35,
     "metadata": {},
     "output_type": "execute_result"
    }
   ],
   "source": [
    "preorderTraversal(root)"
   ]
  },
  {
   "cell_type": "markdown",
   "metadata": {},
   "source": [
    "**Iterative Solution**\n",
    "\n",
    "* Time Complexity: $O(n)$ - each node is visited once\n",
    "* Space Complexity: $O(n)$ - keep all nodes"
   ]
  },
  {
   "cell_type": "code",
   "execution_count": 54,
   "metadata": {},
   "outputs": [],
   "source": [
    "def preorderTraversalIterative(root):\n",
    "    \n",
    "    if root is None:\n",
    "        return []\n",
    "    \n",
    "    stack, output = [root], []\n",
    "    \n",
    "    while stack:\n",
    "        node = stack.pop()\n",
    "        if node is not None:\n",
    "            output.append(node.val)\n",
    "        if node.right is not None:\n",
    "            stack.append(node.right)\n",
    "        if node.left is not None:\n",
    "            stack.append(node.left)\n",
    "    return output"
   ]
  },
  {
   "cell_type": "code",
   "execution_count": 56,
   "metadata": {},
   "outputs": [
    {
     "data": {
      "text/plain": [
       "[1, 5, 10]"
      ]
     },
     "execution_count": 56,
     "metadata": {},
     "output_type": "execute_result"
    }
   ],
   "source": [
    "preorderTraversalIterative(root)"
   ]
  },
  {
   "cell_type": "markdown",
   "metadata": {},
   "source": [
    "### Binary Tree Inorder Traversal\n",
    "\n",
    "Visit left. Then visit root. Then visit right."
   ]
  },
  {
   "cell_type": "markdown",
   "metadata": {},
   "source": [
    "**Recursive Solution**"
   ]
  },
  {
   "cell_type": "code",
   "execution_count": 60,
   "metadata": {},
   "outputs": [],
   "source": [
    "def inorderTraversal(root):\n",
    "    return traverse(root, [])\n",
    "\n",
    "def traverse(node, elements):\n",
    "    if node:\n",
    "        traverse(node.left, elements)\n",
    "        elements.append(node.val)\n",
    "        traverse(node.right, elements)\n",
    "    return elements"
   ]
  },
  {
   "cell_type": "code",
   "execution_count": 61,
   "metadata": {},
   "outputs": [
    {
     "data": {
      "text/plain": [
       "[5, 1, 10]"
      ]
     },
     "execution_count": 61,
     "metadata": {},
     "output_type": "execute_result"
    }
   ],
   "source": [
    "inorderTraversal(root)"
   ]
  },
  {
   "cell_type": "markdown",
   "metadata": {},
   "source": [
    "**Iterative Solution**"
   ]
  },
  {
   "cell_type": "code",
   "execution_count": 76,
   "metadata": {},
   "outputs": [],
   "source": [
    "def inorderTraversalIterative(root):\n",
    "    \n",
    "    if root is None:\n",
    "        return []\n",
    "    \n",
    "    stack, output = [], []\n",
    "\n",
    "    while True:\n",
    "        while root:\n",
    "            stack.append(root)\n",
    "            root = root.left\n",
    "        if not stack:\n",
    "            return output\n",
    "        node = stack.pop()\n",
    "        output.append(node.val)\n",
    "        root = node.right\n",
    "        \n",
    "    return output"
   ]
  },
  {
   "cell_type": "code",
   "execution_count": 77,
   "metadata": {},
   "outputs": [
    {
     "data": {
      "text/plain": [
       "[5, 1, 10]"
      ]
     },
     "execution_count": 77,
     "metadata": {},
     "output_type": "execute_result"
    }
   ],
   "source": [
    "inorderTraversalIterative(root)"
   ]
  },
  {
   "cell_type": "code",
   "execution_count": null,
   "metadata": {},
   "outputs": [],
   "source": [
    "|"
   ]
  }
 ],
 "metadata": {
  "kernelspec": {
   "display_name": "Python 3",
   "language": "python",
   "name": "python3"
  },
  "language_info": {
   "codemirror_mode": {
    "name": "ipython",
    "version": 3
   },
   "file_extension": ".py",
   "mimetype": "text/x-python",
   "name": "python",
   "nbconvert_exporter": "python",
   "pygments_lexer": "ipython3",
   "version": "3.7.3"
  }
 },
 "nbformat": 4,
 "nbformat_minor": 4
}
