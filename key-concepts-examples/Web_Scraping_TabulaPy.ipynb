{
 "cells": [
  {
   "cell_type": "markdown",
   "metadata": {},
   "source": [
    "# COVID-19 aka Coronavirus - Exploratory Data Analysis\n",
    "\n",
    "Data source: https://www.who.int/emergencies/diseases/novel-coronavirus-2019/situation-reports/"
   ]
  },
  {
   "cell_type": "code",
   "execution_count": 75,
   "metadata": {},
   "outputs": [],
   "source": [
    "import tabula\n",
    "import seaborn as sns\n",
    "import matplotlib.pyplot as plt\n",
    "import pandas as pd\n",
    "import re\n",
    "\n",
    "pd.set_option('display.max_rows', None)\n",
    "pd.set_option('display.max_columns', None)\n",
    "\n",
    "sns.set(style=\"white\", font_scale=1.2)"
   ]
  },
  {
   "cell_type": "code",
   "execution_count": 44,
   "metadata": {},
   "outputs": [],
   "source": [
    "url = \"https://www.who.int/docs/default-source/coronaviruse/20200302-sitrep-42-covid-19.pdf?sfvrsn=d863e045_2\"\n",
    "\n",
    "dfs = tabula.read_pdf(url, pages=\"all\", multiple_tables=True)"
   ]
  },
  {
   "cell_type": "code",
   "execution_count": 119,
   "metadata": {},
   "outputs": [],
   "source": [
    "COLUMNS = [\"Country\", \"Total Confirmed Cases\", \"Total Confirmed New Cases\", \"Total Deaths\", \"Total New Deaths\", \"Transmission Classification\", \"Days Since Last Reported Case\"]"
   ]
  },
  {
   "cell_type": "code",
   "execution_count": 120,
   "metadata": {},
   "outputs": [],
   "source": [
    "def clean_df(df):\n",
    "    output = df.copy()\n",
    "    output = output.dropna()\n",
    "    output.columns = COLUMNS\n",
    "    \n",
    "    for col in [\"Total Confirmed Cases\", \"Total Confirmed New Cases\", \"Total Deaths\", \"Total New Deaths\", \"Days Since Last Reported Case\"]:\n",
    "        output[col] = output[col].str.replace(r'\\D+', '')\n",
    "        output[col] = output[col].astype(\"int64\")\n",
    "        \n",
    "    return output\n",
    "    "
   ]
  },
  {
   "cell_type": "code",
   "execution_count": 220,
   "metadata": {},
   "outputs": [],
   "source": [
    "outside_china_2 = dfs[2]\n",
    "\n",
    "ignore_rows = [\"Eastern Mediterranean Region\", \"Region of the Americas\", \"African Region\", \"Subtotal for all\", \"Regions\", \"Grand total§ 8774\", \"Republic of)\", \"Emirates\", \"regions\", \"International\", \"(Diamond Princess) ‡\"]\n",
    "outside_china_2 = outside_china_2[~outside_china_2[0].isin(ignore_rows)]\n",
    "\n",
    "countries = []\n",
    "blank_country_rows = []\n",
    "country_rows_with_num = []\n",
    "\n",
    "for index, row in outside_china_2.iterrows():\n",
    "\n",
    "    nums = re.findall(r'\\d+', row[0])\n",
    "    clean_country = re.sub(r'[^a-zA-Z]', '', row[0])\n",
    "    clean_country = re.sub(r' ', '', clean_country)\n",
    "    if clean_country != '':\n",
    "        countries.append(clean_country)\n",
    "        \n",
    "        if len(nums) == 1:\n",
    "            country_rows_with_num.append([nums[0], row[1], row[2], row[3], row[4], row[5]])\n",
    "    else: \n",
    "        blank_country_rows.append(row.values)\n",
    "\n",
    "    \n",
    "countries_df = pd.DataFrame(data=[c for c in countries if c not in [\"IranIslamic\", \"UnitedArab\"]], columns=[\"Country\"])\n",
    "countries_df.loc[countries_df[\"Country\"] == \"conveyance\", \"Country\"] = \"Diamond Princess Cruise Ship\"\n",
    "countries_df = countries_df[\"Country\"].append(pd.DataFrame(data=[\"Iran\", \"UAE\"]), ignore_index=True)\n",
    "\n",
    "for v in blank_country_rows[0:2]:\n",
    "    country_rows_with_num.append(list(v))\n",
    "    \n",
    "outside_china_2_data = pd.DataFrame(data=country_rows_with_num)\n",
    "outside_china_2 = pd.concat([countries_df, outside_china_2_data], axis=1)\n",
    "outside_china_2.columns = COLUMNS"
   ]
  },
  {
   "cell_type": "code",
   "execution_count": 221,
   "metadata": {},
   "outputs": [
    {
     "data": {
      "text/html": [
       "<div>\n",
       "<style scoped>\n",
       "    .dataframe tbody tr th:only-of-type {\n",
       "        vertical-align: middle;\n",
       "    }\n",
       "\n",
       "    .dataframe tbody tr th {\n",
       "        vertical-align: top;\n",
       "    }\n",
       "\n",
       "    .dataframe thead th {\n",
       "        text-align: right;\n",
       "    }\n",
       "</style>\n",
       "<table border=\"1\" class=\"dataframe\">\n",
       "  <thead>\n",
       "    <tr style=\"text-align: right;\">\n",
       "      <th></th>\n",
       "      <th>Country</th>\n",
       "      <th>Total Confirmed Cases</th>\n",
       "      <th>Total Confirmed New Cases</th>\n",
       "      <th>Total Deaths</th>\n",
       "      <th>Total New Deaths</th>\n",
       "      <th>Transmission Classification</th>\n",
       "      <th>Days Since Last Reported Case</th>\n",
       "    </tr>\n",
       "  </thead>\n",
       "  <tbody>\n",
       "    <tr>\n",
       "      <th>6</th>\n",
       "      <td>Republic of Korea</td>\n",
       "      <td>4212</td>\n",
       "      <td>476</td>\n",
       "      <td>22</td>\n",
       "      <td>4</td>\n",
       "      <td>Local transmission</td>\n",
       "      <td>0</td>\n",
       "    </tr>\n",
       "    <tr>\n",
       "      <th>7</th>\n",
       "      <td>Japan</td>\n",
       "      <td>254</td>\n",
       "      <td>15</td>\n",
       "      <td>6</td>\n",
       "      <td>1</td>\n",
       "      <td>Local transmission</td>\n",
       "      <td>0</td>\n",
       "    </tr>\n",
       "    <tr>\n",
       "      <th>8</th>\n",
       "      <td>Singapore</td>\n",
       "      <td>106</td>\n",
       "      <td>4</td>\n",
       "      <td>0</td>\n",
       "      <td>0</td>\n",
       "      <td>Local transmission</td>\n",
       "      <td>0</td>\n",
       "    </tr>\n",
       "    <tr>\n",
       "      <th>9</th>\n",
       "      <td>Australia</td>\n",
       "      <td>27</td>\n",
       "      <td>2</td>\n",
       "      <td>1</td>\n",
       "      <td>1</td>\n",
       "      <td>Local transmission</td>\n",
       "      <td>0</td>\n",
       "    </tr>\n",
       "    <tr>\n",
       "      <th>10</th>\n",
       "      <td>Malaysia</td>\n",
       "      <td>24</td>\n",
       "      <td>0</td>\n",
       "      <td>0</td>\n",
       "      <td>0</td>\n",
       "      <td>Local transmission</td>\n",
       "      <td>3</td>\n",
       "    </tr>\n",
       "  </tbody>\n",
       "</table>\n",
       "</div>"
      ],
      "text/plain": [
       "              Country  Total Confirmed Cases  Total Confirmed New Cases  \\\n",
       "6   Republic of Korea                   4212                        476   \n",
       "7               Japan                    254                         15   \n",
       "8           Singapore                    106                          4   \n",
       "9           Australia                     27                          2   \n",
       "10           Malaysia                     24                          0   \n",
       "\n",
       "    Total Deaths  Total New Deaths Transmission Classification  \\\n",
       "6             22                 4          Local transmission   \n",
       "7              6                 1          Local transmission   \n",
       "8              0                 0          Local transmission   \n",
       "9              1                 1          Local transmission   \n",
       "10             0                 0          Local transmission   \n",
       "\n",
       "    Days Since Last Reported Case  \n",
       "6                               0  \n",
       "7                               0  \n",
       "8                               0  \n",
       "9                               0  \n",
       "10                              3  "
      ]
     },
     "execution_count": 221,
     "metadata": {},
     "output_type": "execute_result"
    }
   ],
   "source": [
    "outside_china = clean_df(dfs[1])\n",
    "outside_china.head()"
   ]
  },
  {
   "cell_type": "code",
   "execution_count": 222,
   "metadata": {},
   "outputs": [
    {
     "data": {
      "text/html": [
       "<div>\n",
       "<style scoped>\n",
       "    .dataframe tbody tr th:only-of-type {\n",
       "        vertical-align: middle;\n",
       "    }\n",
       "\n",
       "    .dataframe tbody tr th {\n",
       "        vertical-align: top;\n",
       "    }\n",
       "\n",
       "    .dataframe thead th {\n",
       "        text-align: right;\n",
       "    }\n",
       "</style>\n",
       "<table border=\"1\" class=\"dataframe\">\n",
       "  <thead>\n",
       "    <tr style=\"text-align: right;\">\n",
       "      <th></th>\n",
       "      <th>Country</th>\n",
       "      <th>Total Confirmed Cases</th>\n",
       "      <th>Total Confirmed New Cases</th>\n",
       "      <th>Total Deaths</th>\n",
       "      <th>Total New Deaths</th>\n",
       "      <th>Transmission Classification</th>\n",
       "      <th>Days Since Last Reported Case</th>\n",
       "    </tr>\n",
       "  </thead>\n",
       "  <tbody>\n",
       "    <tr>\n",
       "      <th>0</th>\n",
       "      <td>Kuwait</td>\n",
       "      <td>56</td>\n",
       "      <td>11</td>\n",
       "      <td>0</td>\n",
       "      <td>0</td>\n",
       "      <td>Imported cases only</td>\n",
       "      <td>0</td>\n",
       "    </tr>\n",
       "    <tr>\n",
       "      <th>1</th>\n",
       "      <td>Bahrain</td>\n",
       "      <td>47</td>\n",
       "      <td>7</td>\n",
       "      <td>0</td>\n",
       "      <td>0</td>\n",
       "      <td>Imported cases only</td>\n",
       "      <td>0</td>\n",
       "    </tr>\n",
       "    <tr>\n",
       "      <th>2</th>\n",
       "      <td>Iraq</td>\n",
       "      <td>19</td>\n",
       "      <td>6</td>\n",
       "      <td>0</td>\n",
       "      <td>0</td>\n",
       "      <td>Imported cases only</td>\n",
       "      <td>0</td>\n",
       "    </tr>\n",
       "    <tr>\n",
       "      <th>3</th>\n",
       "      <td>Lebanon</td>\n",
       "      <td>10</td>\n",
       "      <td>1</td>\n",
       "      <td>0</td>\n",
       "      <td>0</td>\n",
       "      <td>Imported cases only</td>\n",
       "      <td>0</td>\n",
       "    </tr>\n",
       "    <tr>\n",
       "      <th>4</th>\n",
       "      <td>Oman</td>\n",
       "      <td>6</td>\n",
       "      <td>0</td>\n",
       "      <td>0</td>\n",
       "      <td>0</td>\n",
       "      <td>Imported cases only</td>\n",
       "      <td>3</td>\n",
       "    </tr>\n",
       "  </tbody>\n",
       "</table>\n",
       "</div>"
      ],
      "text/plain": [
       "   Country  Total Confirmed Cases  Total Confirmed New Cases  Total Deaths  \\\n",
       "0   Kuwait                     56                         11             0   \n",
       "1  Bahrain                     47                          7             0   \n",
       "2     Iraq                     19                          6             0   \n",
       "3  Lebanon                     10                          1             0   \n",
       "4     Oman                      6                          0             0   \n",
       "\n",
       "   Total New Deaths Transmission Classification  Days Since Last Reported Case  \n",
       "0                 0         Imported cases only                              0  \n",
       "1                 0         Imported cases only                              0  \n",
       "2                 0         Imported cases only                              0  \n",
       "3                 0         Imported cases only                              0  \n",
       "4                 0         Imported cases only                              3  "
      ]
     },
     "execution_count": 222,
     "metadata": {},
     "output_type": "execute_result"
    }
   ],
   "source": [
    "outside_china_2 = clean_df(outside_china_2)\n",
    "outside_china_2.head()"
   ]
  },
  {
   "cell_type": "code",
   "execution_count": 224,
   "metadata": {},
   "outputs": [],
   "source": [
    "outside_china = pd.concat([outside_china, outside_china_2])"
   ]
  },
  {
   "cell_type": "code",
   "execution_count": 237,
   "metadata": {},
   "outputs": [
    {
     "data": {
      "image/png": "[encoded data removed]",
      "text/plain": [
       "<Figure size 1080x936 with 1 Axes>"
      ]
     },
     "metadata": {},
     "output_type": "display_data"
    }
   ],
   "source": [
    "fig = plt.figure(figsize=(15,13))\n",
    "plt.grid()\n",
    "sns.barplot(y=\"Country\", x=\"Total Confirmed Cases\", data=outside_china.head(20).sort_values(by=\"Total Confirmed Cases\", ascending=False), orient='h')\n",
    "plt.title(\"Total Confirmed COVID-19 Cases by Country (Top 20) as of 3/2/2020\")\n",
    "#plt.savefig(\"c.png\")\n",
    "plt.show()"
   ]
  },
  {
   "cell_type": "code",
   "execution_count": null,
   "metadata": {},
   "outputs": [],
   "source": []
  }
 ],
 "metadata": {
  "kernelspec": {
   "display_name": "Python 3",
   "language": "python",
   "name": "python3"
  },
  "language_info": {
   "codemirror_mode": {
    "name": "ipython",
    "version": 3
   },
   "file_extension": ".py",
   "mimetype": "text/x-python",
   "name": "python",
   "nbconvert_exporter": "python",
   "pygments_lexer": "ipython3",
   "version": "3.7.3"
  }
 },
 "nbformat": 4,
 "nbformat_minor": 4
}
