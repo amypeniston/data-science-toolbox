{
 "cells": [
  {
   "cell_type": "markdown",
   "metadata": {},
   "source": [
    "# NLP Preprocessing Pipeline\n",
    "\n",
    "Greetings! In this notebook we will review common preprocessing techniques that applied to natural language data.\n",
    "\n",
    "For this exploration, we will use the Gutenberg corpus, a collection of classic, free-to-use books."
   ]
  },
  {
   "cell_type": "code",
   "execution_count": 211,
   "metadata": {},
   "outputs": [],
   "source": [
    "import pandas as pd\n",
    "import numpy as np\n",
    "import nltk\n",
    "from nltk import word_tokenize, sent_tokenize\n",
    "from nltk.corpus import stopwords, gutenberg\n",
    "from nltk.stem.porter import *\n",
    "import gensim\n",
    "from gensim.models.phrases import Phraser, Phrases\n",
    "from gensim.models.word2vec import Word2Vec\n",
    "import string\n",
    "from sklearn.manifold import TSNE\n",
    "import seaborn as sns\n",
    "import matplotlib.pyplot as plt\n",
    "from bokeh.io import output_notebook, output_file\n",
    "from bokeh.plotting import show, figure\n",
    "# nltk.download('gutenberg') # Need to download resource the first time\n",
    "# nltk.download('stopwords') # Need to download resource the first time"
   ]
  },
  {
   "cell_type": "markdown",
   "metadata": {},
   "source": [
    "### List Available Texts"
   ]
  },
  {
   "cell_type": "code",
   "execution_count": 10,
   "metadata": {},
   "outputs": [
    {
     "data": {
      "text/plain": [
       "['austen-emma.txt',\n",
       " 'austen-persuasion.txt',\n",
       " 'austen-sense.txt',\n",
       " 'bible-kjv.txt',\n",
       " 'blake-poems.txt',\n",
       " 'bryant-stories.txt',\n",
       " 'burgess-busterbrown.txt',\n",
       " 'carroll-alice.txt',\n",
       " 'chesterton-ball.txt',\n",
       " 'chesterton-brown.txt',\n",
       " 'chesterton-thursday.txt',\n",
       " 'edgeworth-parents.txt',\n",
       " 'melville-moby_dick.txt',\n",
       " 'milton-paradise.txt',\n",
       " 'shakespeare-caesar.txt',\n",
       " 'shakespeare-hamlet.txt',\n",
       " 'shakespeare-macbeth.txt',\n",
       " 'whitman-leaves.txt']"
      ]
     },
     "execution_count": 10,
     "metadata": {},
     "output_type": "execute_result"
    }
   ],
   "source": [
    "gutenberg.fileids()"
   ]
  },
  {
   "cell_type": "markdown",
   "metadata": {},
   "source": [
    "### Load a Text"
   ]
  },
  {
   "cell_type": "code",
   "execution_count": 11,
   "metadata": {},
   "outputs": [],
   "source": [
    "alice = gutenberg.raw('carroll-alice.txt')"
   ]
  },
  {
   "cell_type": "markdown",
   "metadata": {},
   "source": [
    "### Tokenize\n",
    "\n",
    "Tokenization is used to break the corpus into sentences and individual words within these sentences."
   ]
  },
  {
   "cell_type": "code",
   "execution_count": 21,
   "metadata": {},
   "outputs": [
    {
     "data": {
      "text/plain": [
       "['[Emma by Jane Austen 1816]\\n\\nVOLUME I\\n\\nCHAPTER I\\n\\n\\nEmma Woodhouse, handsome, clever, and rich, with a comfortable home\\nand happy disposition, seemed to unite some of the best blessings\\nof existence; and had lived nearly twenty-one years in the world\\nwith very little to distress or vex her.',\n",
       " \"She was the youngest of the two daughters of a most affectionate,\\nindulgent father; and had, in consequence of her sister's marriage,\\nbeen mistress of his house from a very early period.\",\n",
       " 'Her mother\\nhad died too long ago for her to have more than an indistinct\\nremembrance of her caresses; and her place had been supplied\\nby an excellent woman as governess, who had fallen little short\\nof a mother in affection.',\n",
       " \"Sixteen years had Miss Taylor been in Mr. Woodhouse's family,\\nless as a governess than a friend, very fond of both daughters,\\nbut particularly of Emma.\",\n",
       " 'Between _them_ it was more the intimacy\\nof sisters.']"
      ]
     },
     "execution_count": 21,
     "metadata": {},
     "output_type": "execute_result"
    }
   ],
   "source": [
    "sentences_v1 = sent_tokenize(gutenberg.raw()) # Break text into sentences\n",
    "sentences_v1[0:5]"
   ]
  },
  {
   "cell_type": "code",
   "execution_count": 20,
   "metadata": {},
   "outputs": [
    {
     "name": "stdout",
     "output_type": "stream",
     "text": [
      "['She', 'was', 'the', 'youngest', 'of', 'the', 'two', 'daughters', 'of', 'a', 'most', 'affectionate', ',', 'indulgent', 'father', ';', 'and', 'had', ',', 'in', 'consequence', 'of', 'her', 'sister', \"'s\", 'marriage', ',', 'been', 'mistress', 'of', 'his', 'house', 'from', 'a', 'very', 'early', 'period', '.']\n"
     ]
    }
   ],
   "source": [
    "print(word_tokenize(sentences_v1[1])) # Break a sentence into words"
   ]
  },
  {
   "cell_type": "code",
   "execution_count": 177,
   "metadata": {},
   "outputs": [
    {
     "data": {
      "text/plain": [
       "[['[', 'Alice', \"'\", 's', 'Adventures', 'in', 'Wonderland', 'by', 'Lewis', 'Carroll', '1865', ']'], ['CHAPTER', 'I', '.'], ...]"
      ]
     },
     "execution_count": 177,
     "metadata": {},
     "output_type": "execute_result"
    }
   ],
   "source": [
    "sentences_v2 = gutenberg.sents('carroll-alice.txt') # Gutenberg library comes with built in sents() method\n",
    "sentences_v2"
   ]
  },
  {
   "cell_type": "markdown",
   "metadata": {},
   "source": [
    "### Convert to Lowercase\n",
    "\n",
    "For small datasets, all characters are converted to lowercase. For larger datasets, where there are many examples of words with differing capitalizations, it can be helpful to skip this step."
   ]
  },
  {
   "cell_type": "code",
   "execution_count": 178,
   "metadata": {},
   "outputs": [
    {
     "data": {
      "text/plain": [
       "[['[',\n",
       "  'alice',\n",
       "  \"'\",\n",
       "  's',\n",
       "  'adventures',\n",
       "  'in',\n",
       "  'wonderland',\n",
       "  'by',\n",
       "  'lewis',\n",
       "  'carroll',\n",
       "  '1865',\n",
       "  ']'],\n",
       " ['chapter', 'i', '.']]"
      ]
     },
     "execution_count": 178,
     "metadata": {},
     "output_type": "execute_result"
    }
   ],
   "source": [
    "def lowercase(corpus):\n",
    "    sentences_lower = []\n",
    "\n",
    "    for sentence in corpus:\n",
    "        sentences_lower.append([w.lower() for w in sentence])\n",
    "\n",
    "    return sentences_lower\n",
    "\n",
    "sentences_lower = lowercase(sentences_v2)\n",
    "sentences_lower[0:2]"
   ]
  },
  {
   "cell_type": "markdown",
   "metadata": {},
   "source": [
    "### Remove Stopwords\n",
    "\n",
    "The choice to remove stopwords is context dependent. Sentiment analysis often benefits from including stopwords such as \"not\", in order to differentiate phrases like \"not good\"."
   ]
  },
  {
   "cell_type": "code",
   "execution_count": 215,
   "metadata": {},
   "outputs": [
    {
     "data": {
      "text/plain": [
       "['i', 'me', 'my', 'myself', 'we', 'our', 'ours', 'ourselves', 'you', \"you're\"]"
      ]
     },
     "execution_count": 215,
     "metadata": {},
     "output_type": "execute_result"
    }
   ],
   "source": [
    "stopwords = stopwords.words('english')\n",
    "stopwords[0:10]"
   ]
  },
  {
   "cell_type": "code",
   "execution_count": 156,
   "metadata": {},
   "outputs": [
    {
     "data": {
      "text/plain": [
       "[['[',\n",
       "  'Alice',\n",
       "  \"'\",\n",
       "  'Adventures',\n",
       "  'Wonderland',\n",
       "  'Lewis',\n",
       "  'Carroll',\n",
       "  '1865',\n",
       "  ']'],\n",
       " ['CHAPTER', 'I', '.']]"
      ]
     },
     "execution_count": 156,
     "metadata": {},
     "output_type": "execute_result"
    }
   ],
   "source": [
    "def remove_stopwords(corpus):\n",
    "    no_stopwords = []\n",
    "\n",
    "    for sentence in corpus:\n",
    "        no_stopwords.append([w for w in sentence if w not in stopwords])\n",
    "    \n",
    "    return no_stopwords\n",
    "\n",
    "no_stopwords = remove_stopwords(sentences_v2)\n",
    "no_stopwords[0:2]"
   ]
  },
  {
   "cell_type": "markdown",
   "metadata": {},
   "source": [
    "### Remove Punctuation\n",
    "\n",
    "Punctuation is almost always removed, unless specific punctuation is important for representation learning (ex: \"?\" fo question answering tasks)."
   ]
  },
  {
   "cell_type": "code",
   "execution_count": 158,
   "metadata": {},
   "outputs": [
    {
     "data": {
      "text/plain": [
       "'!\"#$%&\\'()*+,-./:;<=>?@[\\\\]^_`{|}~'"
      ]
     },
     "execution_count": 158,
     "metadata": {},
     "output_type": "execute_result"
    }
   ],
   "source": [
    "punctuation = string.punctuation\n",
    "punctuation"
   ]
  },
  {
   "cell_type": "code",
   "execution_count": 166,
   "metadata": {},
   "outputs": [
    {
     "data": {
      "text/plain": [
       "[['Alice',\n",
       "  's',\n",
       "  'Adventures',\n",
       "  'in',\n",
       "  'Wonderland',\n",
       "  'by',\n",
       "  'Lewis',\n",
       "  'Carroll',\n",
       "  '1865'],\n",
       " ['CHAPTER', 'I']]"
      ]
     },
     "execution_count": 166,
     "metadata": {},
     "output_type": "execute_result"
    }
   ],
   "source": [
    "# Slow\n",
    "def remove_punctuation(corpus):\n",
    "    no_punctuation = []\n",
    "\n",
    "    # Faster\n",
    "    for sentence in corpus:\n",
    "        no_punctuation.append([c for c in sentence if c not in list(punctuation)])\n",
    "\n",
    "    return no_punctuation\n",
    "\n",
    "no_punctuation = remove_punctuation(sentences_v2)\n",
    "no_punctuation[0:2]"
   ]
  },
  {
   "cell_type": "code",
   "execution_count": 167,
   "metadata": {},
   "outputs": [
    {
     "data": {
      "text/plain": [
       "[['Alice',\n",
       "  's',\n",
       "  'Adventures',\n",
       "  'in',\n",
       "  'Wonderland',\n",
       "  'by',\n",
       "  'Lewis',\n",
       "  'Carroll',\n",
       "  '1865'],\n",
       " ['CHAPTER', 'I']]"
      ]
     },
     "execution_count": 167,
     "metadata": {},
     "output_type": "execute_result"
    }
   ],
   "source": [
    "# Faster\n",
    "def remove_punctuation(corpus):\n",
    "    no_punctuation = []\n",
    "\n",
    "    # Faster\n",
    "    for sentence in corpus:\n",
    "        no_punctuation.append([word.translate(str.maketrans(\"\",\"\",punctuation)) for word in sentence if word.translate(str.maketrans(\"\",\"\",punctuation)) != \"\"])\n",
    "\n",
    "    return no_punctuation\n",
    "\n",
    "no_punctuation = remove_punctuation(sentences_v2)\n",
    "no_punctuation[0:2]"
   ]
  },
  {
   "cell_type": "markdown",
   "metadata": {},
   "source": [
    "### Stemming\n",
    "\n",
    "Truncating words down to their stems is often used with smaller datasets because words with similar meanings are grouped into a single token."
   ]
  },
  {
   "cell_type": "code",
   "execution_count": 172,
   "metadata": {},
   "outputs": [
    {
     "data": {
      "text/plain": [
       "[['[',\n",
       "  'alic',\n",
       "  \"'\",\n",
       "  's',\n",
       "  'adventur',\n",
       "  'in',\n",
       "  'wonderland',\n",
       "  'by',\n",
       "  'lewi',\n",
       "  'carrol',\n",
       "  '1865',\n",
       "  ']'],\n",
       " ['chapter', 'I', '.']]"
      ]
     },
     "execution_count": 172,
     "metadata": {},
     "output_type": "execute_result"
    }
   ],
   "source": [
    "def apply_stemming(corpus):\n",
    "    stemmer = PorterStemmer()\n",
    "    stems = []\n",
    "\n",
    "    for sentence in corpus:\n",
    "        stems.append([stemmer.stem(w) for w in sentence])\n",
    "        \n",
    "    return stems\n",
    "\n",
    "stems = apply_stemming(sentences_v2)\n",
    "stems[0:2]"
   ]
  },
  {
   "cell_type": "markdown",
   "metadata": {},
   "source": [
    "### Handle Bi-Grams\n",
    "\n",
    "Some words that co-occur frequently are better interpreted as one token, rather than two."
   ]
  },
  {
   "cell_type": "code",
   "execution_count": 138,
   "metadata": {},
   "outputs": [],
   "source": [
    "# Train the detector on the corpus; apply a min_count and threshold to refine\n",
    "phrases = Phrases(sentences_lower)\n",
    "# Create a dictionary for parsing bi-grams\n",
    "bigram = Phraser(phrases)"
   ]
  },
  {
   "cell_type": "code",
   "execution_count": 139,
   "metadata": {},
   "outputs": [],
   "source": [
    "# Print all bigrams (long list)\n",
    "# bigram.phrasegrams "
   ]
  },
  {
   "cell_type": "code",
   "execution_count": 140,
   "metadata": {},
   "outputs": [],
   "source": [
    "# Sort bigrams by score\n",
    "sorted_bigrams = {k:v for k,v in sorted(bigram.phrasegrams.items(), key=lambda item: item[1], reverse=True)}"
   ]
  },
  {
   "cell_type": "code",
   "execution_count": 141,
   "metadata": {},
   "outputs": [
    {
     "name": "stdout",
     "output_type": "stream",
     "text": [
      "(b'march', b'hare') 423.12903225806446\n",
      "(b'golden', b'key') 272.26984126984127\n",
      "(b'mock', b'turtle') 264.7708837772397\n",
      "(b'beautiful', b'soup') 219.91025641025644\n",
      "(b'*', b'*') 219.17722222222224\n",
      "(b'white', b'rabbit') 190.5888888888889\n",
      "(b'few', b'minutes') 173.26262626262624\n",
      "(b'your', b'majesty') 161.38575268817206\n",
      "(b'any', b'rate') 146.60683760683762\n",
      "(b'good', b'deal') 105.88271604938271\n"
     ]
    }
   ],
   "source": [
    "# Print top 10 bigrams by score (notice that none of these are actual bi-grams, so we'd want to tweak the parameters of Phrases() to cut out the noise)\n",
    "for i, (k, v) in enumerate(sorted_bigrams.items()):\n",
    "    if i < 10:\n",
    "        print(k,v)"
   ]
  },
  {
   "cell_type": "code",
   "execution_count": 171,
   "metadata": {},
   "outputs": [
    {
     "data": {
      "text/plain": [
       "[['[',\n",
       "  'Alice',\n",
       "  \"'_s\",\n",
       "  'Adventures',\n",
       "  'in',\n",
       "  'Wonderland',\n",
       "  'by',\n",
       "  'Lewis',\n",
       "  'Carroll',\n",
       "  '1865',\n",
       "  ']'],\n",
       " ['CHAPTER', 'I', '.']]"
      ]
     },
     "execution_count": 171,
     "metadata": {},
     "output_type": "execute_result"
    }
   ],
   "source": [
    "def apply_bigrams(corpus):\n",
    "    bigram = Phraser(Phrases(corpus))\n",
    "    sentences_bigrams = []\n",
    "\n",
    "    for sentence in corpus:\n",
    "        sentences_bigrams.append(bigram[sentence])\n",
    "        \n",
    "    return sentences_bigrams\n",
    "\n",
    "sentences_bigrams = apply_bigrams(sentences_v2)\n",
    "sentences_bigrams[0:2]"
   ]
  },
  {
   "cell_type": "markdown",
   "metadata": {},
   "source": [
    "### Apply Word2Vec\n",
    "\n",
    "Word2Vec produces word embeddings, i.e. it converts text into vectors within high dimensional space, which can then be passed into a machine learning model.\n",
    "\n",
    "The larger the corpus, the more accurate are the numerical representations of word features in vectorspace.\n",
    "\n",
    "Below, the entirety of the Gutenberg corpus is cleaned and passed into the Word2Vec model."
   ]
  },
  {
   "cell_type": "code",
   "execution_count": 216,
   "metadata": {},
   "outputs": [],
   "source": [
    "# Prepare corpus\n",
    "tokenized_corpus = gutenberg.sents()\n",
    "clean_corpus = remove_punctuation(remove_stopwords(lowercase(tokenized_corpus)))"
   ]
  },
  {
   "cell_type": "code",
   "execution_count": null,
   "metadata": {},
   "outputs": [],
   "source": [
    "# size = number of dimensions\n",
    "# sg = skip-gram or CBOW architecture\n",
    "# window = number of context words to consider\n",
    "# iter = number of epochs\n",
    "# min-count = number of times word must appear in corpus in order to fit into word vector space\n",
    "# workers = number of processing cores\n",
    "\n",
    "# Run Word2Vec\n",
    "model = Word2Vec(sentences=clean_corpus, size=64, sg=1, window=10, iter=5, min_count=10, workers=4)"
   ]
  },
  {
   "cell_type": "code",
   "execution_count": 217,
   "metadata": {},
   "outputs": [
    {
     "data": {
      "text/plain": [
       "10053"
      ]
     },
     "execution_count": 217,
     "metadata": {},
     "output_type": "execute_result"
    }
   ],
   "source": [
    "# Number of words in our corpus (after min count threshold applied)\n",
    "len(model.wv.vocab)"
   ]
  },
  {
   "cell_type": "code",
   "execution_count": 202,
   "metadata": {},
   "outputs": [],
   "source": [
    "# View entire vocabulary (long list)\n",
    "# model.wv.vocab"
   ]
  },
  {
   "cell_type": "code",
   "execution_count": 220,
   "metadata": {},
   "outputs": [
    {
     "data": {
      "text/plain": [
       "array([ 2.86691971e-02, -2.33959660e-01,  3.91299844e-01,  2.63877064e-01,\n",
       "       -2.40096584e-01,  3.36333930e-01,  1.44881323e-01,  9.07990858e-02,\n",
       "        2.29865640e-01, -3.26565020e-02,  1.65265873e-01,  1.72974959e-01,\n",
       "       -3.21625650e-01,  1.01430655e+00,  1.76260248e-01, -2.80777216e-01,\n",
       "       -1.30476475e-01, -7.67582580e-02,  4.21138376e-01, -3.60262096e-01,\n",
       "        1.88066319e-01,  6.69412673e-01, -3.02871108e-01, -2.23765403e-01,\n",
       "        3.56620923e-02,  3.24510872e-01,  1.23883918e-01, -5.52516356e-02,\n",
       "       -1.74754769e-01, -6.94586383e-03,  5.39679050e-01,  1.76798344e-01,\n",
       "       -2.65975773e-01,  2.49771953e-01, -2.78758198e-01, -3.68600845e-01,\n",
       "        5.38811721e-02, -2.61125863e-01, -5.90746760e-01,  8.05054978e-02,\n",
       "       -9.68246832e-02, -1.70185044e-01, -4.29335311e-02,  1.11198336e-01,\n",
       "        8.48659202e-02, -8.19170382e-03,  2.15256527e-01,  8.20482075e-01,\n",
       "        3.80141616e-01,  1.77479565e-01,  2.26291433e-01,  7.36554444e-04,\n",
       "       -1.51850179e-01,  1.91893622e-01, -5.43585598e-01,  5.01353443e-01,\n",
       "       -4.24077392e-01,  7.76498914e-01, -1.56420961e-01, -3.20661992e-01,\n",
       "        5.47109582e-02, -1.91799566e-01, -3.27747107e-01,  1.80075511e-01],\n",
       "      dtype=float32)"
      ]
     },
     "execution_count": 220,
     "metadata": {},
     "output_type": "execute_result"
    }
   ],
   "source": [
    "# View a word's location in n-dimensional space (here, 64-dimensional)\n",
    "model.wv['queen']"
   ]
  },
  {
   "cell_type": "code",
   "execution_count": 221,
   "metadata": {},
   "outputs": [
    {
     "data": {
      "text/plain": [
       "[('banquet', 0.7595412731170654),\n",
       " ('esther', 0.7129928469657898),\n",
       " ('royal', 0.6978436708450317)]"
      ]
     },
     "execution_count": 221,
     "metadata": {},
     "output_type": "execute_result"
    }
   ],
   "source": [
    "# View similar words\n",
    "model.wv.most_similar(\"queen\", topn=3)"
   ]
  },
  {
   "cell_type": "code",
   "execution_count": 222,
   "metadata": {},
   "outputs": [],
   "source": [
    "# Extract a 2D represention of the word vector space\n",
    "tsne = TSNE(n_components=2, n_iter=1000)\n",
    "wv_2d = tsne.fit_transform(model.wv[model.wv.vocab])"
   ]
  },
  {
   "cell_type": "code",
   "execution_count": 223,
   "metadata": {},
   "outputs": [
    {
     "data": {
      "text/html": [
       "<div>\n",
       "<style scoped>\n",
       "    .dataframe tbody tr th:only-of-type {\n",
       "        vertical-align: middle;\n",
       "    }\n",
       "\n",
       "    .dataframe tbody tr th {\n",
       "        vertical-align: top;\n",
       "    }\n",
       "\n",
       "    .dataframe thead th {\n",
       "        text-align: right;\n",
       "    }\n",
       "</style>\n",
       "<table border=\"1\" class=\"dataframe\">\n",
       "  <thead>\n",
       "    <tr style=\"text-align: right;\">\n",
       "      <th></th>\n",
       "      <th>x</th>\n",
       "      <th>y</th>\n",
       "      <th>token</th>\n",
       "    </tr>\n",
       "  </thead>\n",
       "  <tbody>\n",
       "    <tr>\n",
       "      <th>0</th>\n",
       "      <td>26.162149</td>\n",
       "      <td>-59.762169</td>\n",
       "      <td>emma</td>\n",
       "    </tr>\n",
       "    <tr>\n",
       "      <th>1</th>\n",
       "      <td>7.030250</td>\n",
       "      <td>-63.801758</td>\n",
       "      <td>jane</td>\n",
       "    </tr>\n",
       "    <tr>\n",
       "      <th>2</th>\n",
       "      <td>-0.705918</td>\n",
       "      <td>-10.705625</td>\n",
       "      <td>volume</td>\n",
       "    </tr>\n",
       "    <tr>\n",
       "      <th>3</th>\n",
       "      <td>-1.798646</td>\n",
       "      <td>-10.266803</td>\n",
       "      <td>chapter</td>\n",
       "    </tr>\n",
       "    <tr>\n",
       "      <th>4</th>\n",
       "      <td>6.608477</td>\n",
       "      <td>-63.356594</td>\n",
       "      <td>woodhouse</td>\n",
       "    </tr>\n",
       "  </tbody>\n",
       "</table>\n",
       "</div>"
      ],
      "text/plain": [
       "           x          y      token\n",
       "0  26.162149 -59.762169       emma\n",
       "1   7.030250 -63.801758       jane\n",
       "2  -0.705918 -10.705625     volume\n",
       "3  -1.798646 -10.266803    chapter\n",
       "4   6.608477 -63.356594  woodhouse"
      ]
     },
     "execution_count": 223,
     "metadata": {},
     "output_type": "execute_result"
    }
   ],
   "source": [
    "# Compile a dataframe with x,y coords\n",
    "word_coords = pd.DataFrame(wv_2d, columns=[\"x\", \"y\"])\n",
    "word_coords[\"token\"] = model.wv.vocab.keys()\n",
    "word_coords.head()"
   ]
  },
  {
   "cell_type": "code",
   "execution_count": 226,
   "metadata": {},
   "outputs": [
    {
     "data": {
      "image/png": "[encoded data removed]",
      "text/plain": [
       "<Figure size 432x288 with 1 Axes>"
      ]
     },
     "metadata": {
      "needs_background": "light"
     },
     "output_type": "display_data"
    }
   ],
   "source": [
    "# Plot 2D vectorspace (not very helpful, but still cool)\n",
    "sns.scatterplot(x=\"x\", y=\"y\", data=word_coords)\n",
    "plt.title(\"2D Representation of Entire Vector Space\")\n",
    "plt.show()"
   ]
  },
  {
   "cell_type": "code",
   "execution_count": 227,
   "metadata": {},
   "outputs": [
    {
     "data": {
      "text/html": [
       "\n",
       "    <div class=\"bk-root\">\n",
       "        <a href=\"https://bokeh.org\" target=\"_blank\" class=\"bk-logo bk-logo-small bk-logo-notebook\"></a>\n",
       "        <span id=\"1135\">Loading BokehJS ...</span>\n",
       "    </div>"
      ]
     },
     "metadata": {},
     "output_type": "display_data"
    },
    {
     "data": {
      "application/javascript": [
       "\n",
       "(function(root) {\n",
       "  function now() {\n",
       "    return new Date();\n",
       "  }\n",
       "\n",
       "  var force = true;\n",
       "\n",
       "  if (typeof root._bokeh_onload_callbacks === \"undefined\" || force === true) {\n",
       "    root._bokeh_onload_callbacks = [];\n",
       "    root._bokeh_is_loading = undefined;\n",
       "  }\n",
       "\n",
       "  var JS_MIME_TYPE = 'application/javascript';\n",
       "  var HTML_MIME_TYPE = 'text/html';\n",
       "  var EXEC_MIME_TYPE = 'application/vnd.bokehjs_exec.v0+json';\n",
       "  var CLASS_NAME = 'output_bokeh rendered_html';\n",
       "\n",
       "  /**\n",
       "   * Render data to the DOM node\n",
       "   */\n",
       "  function render(props, node) {\n",
       "    var script = document.createElement(\"script\");\n",
       "    node.appendChild(script);\n",
       "  }\n",
       "\n",
       "  /**\n",
       "   * Handle when an output is cleared or removed\n",
       "   */\n",
       "  function handleClearOutput(event, handle) {\n",
       "    var cell = handle.cell;\n",
       "\n",
       "    var id = cell.output_area._bokeh_element_id;\n",
       "    var server_id = cell.output_area._bokeh_server_id;\n",
       "    // Clean up Bokeh references\n",
       "    if (id != null && id in Bokeh.index) {\n",
       "      Bokeh.index[id].model.document.clear();\n",
       "      delete Bokeh.index[id];\n",
       "    }\n",
       "\n",
       "    if (server_id !== undefined) {\n",
       "      // Clean up Bokeh references\n",
       "      var cmd = \"from bokeh.io.state import curstate; print(curstate().uuid_to_server['\" + server_id + \"'].get_sessions()[0].document.roots[0]._id)\";\n",
       "      cell.notebook.kernel.execute(cmd, {\n",
       "        iopub: {\n",
       "          output: function(msg) {\n",
       "            var id = msg.content.text.trim();\n",
       "            if (id in Bokeh.index) {\n",
       "              Bokeh.index[id].model.document.clear();\n",
       "              delete Bokeh.index[id];\n",
       "            }\n",
       "          }\n",
       "        }\n",
       "      });\n",
       "      // Destroy server and session\n",
       "      var cmd = \"import bokeh.io.notebook as ion; ion.destroy_server('\" + server_id + \"')\";\n",
       "      cell.notebook.kernel.execute(cmd);\n",
       "    }\n",
       "  }\n",
       "\n",
       "  /**\n",
       "   * Handle when a new output is added\n",
       "   */\n",
       "  function handleAddOutput(event, handle) {\n",
       "    var output_area = handle.output_area;\n",
       "    var output = handle.output;\n",
       "\n",
       "    // limit handleAddOutput to display_data with EXEC_MIME_TYPE content only\n",
       "    if ((output.output_type != \"display_data\") || (!output.data.hasOwnProperty(EXEC_MIME_TYPE))) {\n",
       "      return\n",
       "    }\n",
       "\n",
       "    var toinsert = output_area.element.find(\".\" + CLASS_NAME.split(' ')[0]);\n",
       "\n",
       "    if (output.metadata[EXEC_MIME_TYPE][\"id\"] !== undefined) {\n",
       "      toinsert[toinsert.length - 1].firstChild.textContent = output.data[JS_MIME_TYPE];\n",
       "      // store reference to embed id on output_area\n",
       "      output_area._bokeh_element_id = output.metadata[EXEC_MIME_TYPE][\"id\"];\n",
       "    }\n",
       "    if (output.metadata[EXEC_MIME_TYPE][\"server_id\"] !== undefined) {\n",
       "      var bk_div = document.createElement(\"div\");\n",
       "      bk_div.innerHTML = output.data[HTML_MIME_TYPE];\n",
       "      var script_attrs = bk_div.children[0].attributes;\n",
       "      for (var i = 0; i < script_attrs.length; i++) {\n",
       "        toinsert[toinsert.length - 1].firstChild.setAttribute(script_attrs[i].name, script_attrs[i].value);\n",
       "      }\n",
       "      // store reference to server id on output_area\n",
       "      output_area._bokeh_server_id = output.metadata[EXEC_MIME_TYPE][\"server_id\"];\n",
       "    }\n",
       "  }\n",
       "\n",
       "  function register_renderer(events, OutputArea) {\n",
       "\n",
       "    function append_mime(data, metadata, element) {\n",
       "      // create a DOM node to render to\n",
       "      var toinsert = this.create_output_subarea(\n",
       "        metadata,\n",
       "        CLASS_NAME,\n",
       "        EXEC_MIME_TYPE\n",
       "      );\n",
       "      this.keyboard_manager.register_events(toinsert);\n",
       "      // Render to node\n",
       "      var props = {data: data, metadata: metadata[EXEC_MIME_TYPE]};\n",
       "      render(props, toinsert[toinsert.length - 1]);\n",
       "      element.append(toinsert);\n",
       "      return toinsert\n",
       "    }\n",
       "\n",
       "    /* Handle when an output is cleared or removed */\n",
       "    events.on('clear_output.CodeCell', handleClearOutput);\n",
       "    events.on('delete.Cell', handleClearOutput);\n",
       "\n",
       "    /* Handle when a new output is added */\n",
       "    events.on('output_added.OutputArea', handleAddOutput);\n",
       "\n",
       "    /**\n",
       "     * Register the mime type and append_mime function with output_area\n",
       "     */\n",
       "    OutputArea.prototype.register_mime_type(EXEC_MIME_TYPE, append_mime, {\n",
       "      /* Is output safe? */\n",
       "      safe: true,\n",
       "      /* Index of renderer in `output_area.display_order` */\n",
       "      index: 0\n",
       "    });\n",
       "  }\n",
       "\n",
       "  // register the mime type if in Jupyter Notebook environment and previously unregistered\n",
       "  if (root.Jupyter !== undefined) {\n",
       "    var events = require('base/js/events');\n",
       "    var OutputArea = require('notebook/js/outputarea').OutputArea;\n",
       "\n",
       "    if (OutputArea.prototype.mime_types().indexOf(EXEC_MIME_TYPE) == -1) {\n",
       "      register_renderer(events, OutputArea);\n",
       "    }\n",
       "  }\n",
       "\n",
       "  \n",
       "  if (typeof (root._bokeh_timeout) === \"undefined\" || force === true) {\n",
       "    root._bokeh_timeout = Date.now() + 5000;\n",
       "    root._bokeh_failed_load = false;\n",
       "  }\n",
       "\n",
       "  var NB_LOAD_WARNING = {'data': {'text/html':\n",
       "     \"<div style='background-color: #fdd'>\\n\"+\n",
       "     \"<p>\\n\"+\n",
       "     \"BokehJS does not appear to have successfully loaded. If loading BokehJS from CDN, this \\n\"+\n",
       "     \"may be due to a slow or bad network connection. Possible fixes:\\n\"+\n",
       "     \"</p>\\n\"+\n",
       "     \"<ul>\\n\"+\n",
       "     \"<li>re-rerun `output_notebook()` to attempt to load from CDN again, or</li>\\n\"+\n",
       "     \"<li>use INLINE resources instead, as so:</li>\\n\"+\n",
       "     \"</ul>\\n\"+\n",
       "     \"<code>\\n\"+\n",
       "     \"from bokeh.resources import INLINE\\n\"+\n",
       "     \"output_notebook(resources=INLINE)\\n\"+\n",
       "     \"</code>\\n\"+\n",
       "     \"</div>\"}};\n",
       "\n",
       "  function display_loaded() {\n",
       "    var el = document.getElementById(\"1135\");\n",
       "    if (el != null) {\n",
       "      el.textContent = \"BokehJS is loading...\";\n",
       "    }\n",
       "    if (root.Bokeh !== undefined) {\n",
       "      if (el != null) {\n",
       "        el.textContent = \"BokehJS \" + root.Bokeh.version + \" successfully loaded.\";\n",
       "      }\n",
       "    } else if (Date.now() < root._bokeh_timeout) {\n",
       "      setTimeout(display_loaded, 100)\n",
       "    }\n",
       "  }\n",
       "\n",
       "\n",
       "  function run_callbacks() {\n",
       "    try {\n",
       "      root._bokeh_onload_callbacks.forEach(function(callback) {\n",
       "        if (callback != null)\n",
       "          callback();\n",
       "      });\n",
       "    } finally {\n",
       "      delete root._bokeh_onload_callbacks\n",
       "    }\n",
       "    console.debug(\"Bokeh: all callbacks have finished\");\n",
       "  }\n",
       "\n",
       "  function load_libs(css_urls, js_urls, callback) {\n",
       "    if (css_urls == null) css_urls = [];\n",
       "    if (js_urls == null) js_urls = [];\n",
       "\n",
       "    root._bokeh_onload_callbacks.push(callback);\n",
       "    if (root._bokeh_is_loading > 0) {\n",
       "      console.debug(\"Bokeh: BokehJS is being loaded, scheduling callback at\", now());\n",
       "      return null;\n",
       "    }\n",
       "    if (js_urls == null || js_urls.length === 0) {\n",
       "      run_callbacks();\n",
       "      return null;\n",
       "    }\n",
       "    console.debug(\"Bokeh: BokehJS not loaded, scheduling load and callback at\", now());\n",
       "    root._bokeh_is_loading = css_urls.length + js_urls.length;\n",
       "\n",
       "    function on_load() {\n",
       "      root._bokeh_is_loading--;\n",
       "      if (root._bokeh_is_loading === 0) {\n",
       "        console.debug(\"Bokeh: all BokehJS libraries/stylesheets loaded\");\n",
       "        run_callbacks()\n",
       "      }\n",
       "    }\n",
       "\n",
       "    function on_error() {\n",
       "      console.error(\"failed to load \" + url);\n",
       "    }\n",
       "\n",
       "    for (var i = 0; i < css_urls.length; i++) {\n",
       "      var url = css_urls[i];\n",
       "      const element = document.createElement(\"link\");\n",
       "      element.onload = on_load;\n",
       "      element.onerror = on_error;\n",
       "      element.rel = \"stylesheet\";\n",
       "      element.type = \"text/css\";\n",
       "      element.href = url;\n",
       "      console.debug(\"Bokeh: injecting link tag for BokehJS stylesheet: \", url);\n",
       "      document.body.appendChild(element);\n",
       "    }\n",
       "\n",
       "    for (var i = 0; i < js_urls.length; i++) {\n",
       "      var url = js_urls[i];\n",
       "      var element = document.createElement('script');\n",
       "      element.onload = on_load;\n",
       "      element.onerror = on_error;\n",
       "      element.async = false;\n",
       "      element.src = url;\n",
       "      console.debug(\"Bokeh: injecting script tag for BokehJS library: \", url);\n",
       "      document.head.appendChild(element);\n",
       "    }\n",
       "  };var element = document.getElementById(\"1135\");\n",
       "  if (element == null) {\n",
       "    console.error(\"Bokeh: ERROR: autoload.js configured with elementid '1135' but no matching script tag was found. \")\n",
       "    return false;\n",
       "  }\n",
       "\n",
       "  function inject_raw_css(css) {\n",
       "    const element = document.createElement(\"style\");\n",
       "    element.appendChild(document.createTextNode(css));\n",
       "    document.body.appendChild(element);\n",
       "  }\n",
       "\n",
       "  \n",
       "  var js_urls = [\"https://cdn.pydata.org/bokeh/release/bokeh-1.4.0.min.js\", \"https://cdn.pydata.org/bokeh/release/bokeh-widgets-1.4.0.min.js\", \"https://cdn.pydata.org/bokeh/release/bokeh-tables-1.4.0.min.js\", \"https://cdn.pydata.org/bokeh/release/bokeh-gl-1.4.0.min.js\"];\n",
       "  var css_urls = [];\n",
       "  \n",
       "\n",
       "  var inline_js = [\n",
       "    function(Bokeh) {\n",
       "      Bokeh.set_log_level(\"info\");\n",
       "    },\n",
       "    function(Bokeh) {\n",
       "    \n",
       "    \n",
       "    }\n",
       "  ];\n",
       "\n",
       "  function run_inline_js() {\n",
       "    \n",
       "    if (root.Bokeh !== undefined || force === true) {\n",
       "      \n",
       "    for (var i = 0; i < inline_js.length; i++) {\n",
       "      inline_js[i].call(root, root.Bokeh);\n",
       "    }\n",
       "    if (force === true) {\n",
       "        display_loaded();\n",
       "      }} else if (Date.now() < root._bokeh_timeout) {\n",
       "      setTimeout(run_inline_js, 100);\n",
       "    } else if (!root._bokeh_failed_load) {\n",
       "      console.log(\"Bokeh: BokehJS failed to load within specified timeout.\");\n",
       "      root._bokeh_failed_load = true;\n",
       "    } else if (force !== true) {\n",
       "      var cell = $(document.getElementById(\"1135\")).parents('.cell').data().cell;\n",
       "      cell.output_area.append_execute_result(NB_LOAD_WARNING)\n",
       "    }\n",
       "\n",
       "  }\n",
       "\n",
       "  if (root._bokeh_is_loading === 0) {\n",
       "    console.debug(\"Bokeh: BokehJS loaded, going straight to plotting\");\n",
       "    run_inline_js();\n",
       "  } else {\n",
       "    load_libs(css_urls, js_urls, function() {\n",
       "      console.debug(\"Bokeh: BokehJS plotting callback run at\", now());\n",
       "      run_inline_js();\n",
       "    });\n",
       "  }\n",
       "}(window));"
      ],
      "application/vnd.bokehjs_load.v0+json": "\n(function(root) {\n  function now() {\n    return new Date();\n  }\n\n  var force = true;\n\n  if (typeof root._bokeh_onload_callbacks === \"undefined\" || force === true) {\n    root._bokeh_onload_callbacks = [];\n    root._bokeh_is_loading = undefined;\n  }\n\n  \n\n  \n  if (typeof (root._bokeh_timeout) === \"undefined\" || force === true) {\n    root._bokeh_timeout = Date.now() + 5000;\n    root._bokeh_failed_load = false;\n  }\n\n  var NB_LOAD_WARNING = {'data': {'text/html':\n     \"<div style='background-color: #fdd'>\\n\"+\n     \"<p>\\n\"+\n     \"BokehJS does not appear to have successfully loaded. If loading BokehJS from CDN, this \\n\"+\n     \"may be due to a slow or bad network connection. Possible fixes:\\n\"+\n     \"</p>\\n\"+\n     \"<ul>\\n\"+\n     \"<li>re-rerun `output_notebook()` to attempt to load from CDN again, or</li>\\n\"+\n     \"<li>use INLINE resources instead, as so:</li>\\n\"+\n     \"</ul>\\n\"+\n     \"<code>\\n\"+\n     \"from bokeh.resources import INLINE\\n\"+\n     \"output_notebook(resources=INLINE)\\n\"+\n     \"</code>\\n\"+\n     \"</div>\"}};\n\n  function display_loaded() {\n    var el = document.getElementById(\"1135\");\n    if (el != null) {\n      el.textContent = \"BokehJS is loading...\";\n    }\n    if (root.Bokeh !== undefined) {\n      if (el != null) {\n        el.textContent = \"BokehJS \" + root.Bokeh.version + \" successfully loaded.\";\n      }\n    } else if (Date.now() < root._bokeh_timeout) {\n      setTimeout(display_loaded, 100)\n    }\n  }\n\n\n  function run_callbacks() {\n    try {\n      root._bokeh_onload_callbacks.forEach(function(callback) {\n        if (callback != null)\n          callback();\n      });\n    } finally {\n      delete root._bokeh_onload_callbacks\n    }\n    console.debug(\"Bokeh: all callbacks have finished\");\n  }\n\n  function load_libs(css_urls, js_urls, callback) {\n    if (css_urls == null) css_urls = [];\n    if (js_urls == null) js_urls = [];\n\n    root._bokeh_onload_callbacks.push(callback);\n    if (root._bokeh_is_loading > 0) {\n      console.debug(\"Bokeh: BokehJS is being loaded, scheduling callback at\", now());\n      return null;\n    }\n    if (js_urls == null || js_urls.length === 0) {\n      run_callbacks();\n      return null;\n    }\n    console.debug(\"Bokeh: BokehJS not loaded, scheduling load and callback at\", now());\n    root._bokeh_is_loading = css_urls.length + js_urls.length;\n\n    function on_load() {\n      root._bokeh_is_loading--;\n      if (root._bokeh_is_loading === 0) {\n        console.debug(\"Bokeh: all BokehJS libraries/stylesheets loaded\");\n        run_callbacks()\n      }\n    }\n\n    function on_error() {\n      console.error(\"failed to load \" + url);\n    }\n\n    for (var i = 0; i < css_urls.length; i++) {\n      var url = css_urls[i];\n      const element = document.createElement(\"link\");\n      element.onload = on_load;\n      element.onerror = on_error;\n      element.rel = \"stylesheet\";\n      element.type = \"text/css\";\n      element.href = url;\n      console.debug(\"Bokeh: injecting link tag for BokehJS stylesheet: \", url);\n      document.body.appendChild(element);\n    }\n\n    for (var i = 0; i < js_urls.length; i++) {\n      var url = js_urls[i];\n      var element = document.createElement('script');\n      element.onload = on_load;\n      element.onerror = on_error;\n      element.async = false;\n      element.src = url;\n      console.debug(\"Bokeh: injecting script tag for BokehJS library: \", url);\n      document.head.appendChild(element);\n    }\n  };var element = document.getElementById(\"1135\");\n  if (element == null) {\n    console.error(\"Bokeh: ERROR: autoload.js configured with elementid '1135' but no matching script tag was found. \")\n    return false;\n  }\n\n  function inject_raw_css(css) {\n    const element = document.createElement(\"style\");\n    element.appendChild(document.createTextNode(css));\n    document.body.appendChild(element);\n  }\n\n  \n  var js_urls = [\"https://cdn.pydata.org/bokeh/release/bokeh-1.4.0.min.js\", \"https://cdn.pydata.org/bokeh/release/bokeh-widgets-1.4.0.min.js\", \"https://cdn.pydata.org/bokeh/release/bokeh-tables-1.4.0.min.js\", \"https://cdn.pydata.org/bokeh/release/bokeh-gl-1.4.0.min.js\"];\n  var css_urls = [];\n  \n\n  var inline_js = [\n    function(Bokeh) {\n      Bokeh.set_log_level(\"info\");\n    },\n    function(Bokeh) {\n    \n    \n    }\n  ];\n\n  function run_inline_js() {\n    \n    if (root.Bokeh !== undefined || force === true) {\n      \n    for (var i = 0; i < inline_js.length; i++) {\n      inline_js[i].call(root, root.Bokeh);\n    }\n    if (force === true) {\n        display_loaded();\n      }} else if (Date.now() < root._bokeh_timeout) {\n      setTimeout(run_inline_js, 100);\n    } else if (!root._bokeh_failed_load) {\n      console.log(\"Bokeh: BokehJS failed to load within specified timeout.\");\n      root._bokeh_failed_load = true;\n    } else if (force !== true) {\n      var cell = $(document.getElementById(\"1135\")).parents('.cell').data().cell;\n      cell.output_area.append_execute_result(NB_LOAD_WARNING)\n    }\n\n  }\n\n  if (root._bokeh_is_loading === 0) {\n    console.debug(\"Bokeh: BokehJS loaded, going straight to plotting\");\n    run_inline_js();\n  } else {\n    load_libs(css_urls, js_urls, function() {\n      console.debug(\"Bokeh: BokehJS plotting callback run at\", now());\n      run_inline_js();\n    });\n  }\n}(window));"
     },
     "metadata": {},
     "output_type": "display_data"
    },
    {
     "data": {
      "text/html": [
       "\n",
       "\n",
       "\n",
       "\n",
       "\n",
       "\n",
       "  <div class=\"bk-root\" id=\"6c5dcbec-eeb5-455b-8ce2-3e0e3edfcd6c\" data-root-id=\"1136\"></div>\n"
      ]
     },
     "metadata": {},
     "output_type": "display_data"
    },
    {
     "data": {
      "application/javascript": [
       "(function(root) {\n",
       "  function embed_document(root) {\n",
       "    \n",
       "  var docs_json = {\"9d56d709-ff4d-48ad-8c79-7bc17ce3ab5f\":{\"roots\":{\"references\":[{\"attributes\":{\"below\":[{\"id\":\"1145\",\"type\":\"LinearAxis\"}],\"center\":[{\"id\":\"1149\",\"type\":\"Grid\"},{\"id\":\"1154\",\"type\":\"Grid\"}],\"left\":[{\"id\":\"1150\",\"type\":\"LinearAxis\"}],\"plot_height\":800,\"plot_width\":800,\"renderers\":[{\"id\":\"1171\",\"type\":\"GlyphRenderer\"}],\"title\":{\"id\":\"1183\",\"type\":\"Title\"},\"toolbar\":{\"id\":\"1161\",\"type\":\"Toolbar\"},\"x_range\":{\"id\":\"1137\",\"type\":\"DataRange1d\"},\"x_scale\":{\"id\":\"1141\",\"type\":\"LinearScale\"},\"y_range\":{\"id\":\"1139\",\"type\":\"DataRange1d\"},\"y_scale\":{\"id\":\"1143\",\"type\":\"LinearScale\"}},\"id\":\"1136\",\"subtype\":\"Figure\",\"type\":\"Plot\"},{\"attributes\":{\"dimension\":1,\"ticker\":{\"id\":\"1151\",\"type\":\"BasicTicker\"}},\"id\":\"1154\",\"type\":\"Grid\"},{\"attributes\":{},\"id\":\"1190\",\"type\":\"UnionRenderers\"},{\"attributes\":{\"active_drag\":\"auto\",\"active_inspect\":\"auto\",\"active_multi\":null,\"active_scroll\":\"auto\",\"active_tap\":\"auto\",\"tools\":[{\"id\":\"1155\",\"type\":\"PanTool\"},{\"id\":\"1156\",\"type\":\"WheelZoomTool\"},{\"id\":\"1157\",\"type\":\"BoxZoomTool\"},{\"id\":\"1158\",\"type\":\"SaveTool\"},{\"id\":\"1159\",\"type\":\"ResetTool\"},{\"id\":\"1160\",\"type\":\"HelpTool\"}]},\"id\":\"1161\",\"type\":\"Toolbar\"},{\"attributes\":{\"text_color\":{\"value\":\"black\"},\"x\":{\"field\":\"x\"},\"y\":{\"field\":\"y\"}},\"id\":\"1169\",\"type\":\"Text\"},{\"attributes\":{\"callback\":null,\"data\":{\"text\":[\"sinful\",\"away\",\"sporting\",\"bitterness\",\"wages\",\"execute\",\"tete\",\"drawings\",\"dive\",\"sickness\",\"anvil\",\"plump\",\"vapour\",\"rout\",\"population\",\"apprehend\",\"brooding\",\"requires\",\"prove\",\"angels\",\"yielding\",\"tooth\",\"ishbosheth\",\"restless\",\"said\",\"magistrate\",\"stir\",\"convincing\",\"deity\",\"treasury\",\"perverseness\",\"vigour\",\"perth\",\"telescope\",\"motor\",\"nephew\",\"gathered\",\"jerubbaal\",\"oven\",\"boast\",\"palsy\",\"vales\",\"102\",\"visage\",\"jester\",\"durand\",\"building\",\"attack\",\"hearken\",\"warn\",\"blacke\",\"might\",\"entire\",\"rosse\",\"sisera\",\"count\",\"sirs\",\"bold\",\"portions\",\"improve\",\"essence\",\"thereby\",\"deliverance\",\"exhausted\",\"neighbour\",\"sixth\",\"bottomless\",\"speculations\",\"tamar\",\"missouri\",\"infinitely\",\"fuel\",\"prompt\",\"sleeves\",\"inevitably\",\"nailed\",\"shine\",\"complain\",\"steed\",\"patch\",\"octavo\",\"watered\",\"sly\",\"son\",\"compliance\",\"answer\",\"hamlets\",\"shaking\",\"throbbing\",\"beaming\",\"admiration\",\"cunning\",\"amused\",\"joyous\",\"regrets\",\"cinna\",\"permanent\",\"hesitated\",\"wee\",\"corps\",\"bullet\",\"cast\",\"revealed\",\"create\",\"required\",\"surprise\",\"partial\",\"henrietta\",\"rays\",\"twenty\",\"quarrel\",\"26\",\"effectually\",\"selfishness\",\"judah\",\"travellers\",\"harden\",\"contributed\",\"luckily\",\"explains\",\"nethinims\",\"dismal\",\"elephant\",\"knights\",\"killing\",\"complaints\",\"sack\",\"commendation\",\"straitened\",\"whips\",\"jungle\",\"nights\",\"tokens\",\"knee\",\"enquiry\",\"corruption\",\"devices\",\"entertain\",\"descried\",\"zichri\",\"dreaming\",\"arched\",\"colouring\",\"bounding\",\"forme\",\"marshal\",\"plank\",\"bay\",\"sister\",\"doctor\",\"rules\",\"proves\",\"faithfulness\",\"insisted\",\"leaping\",\"suspecting\",\"seat\",\"oppress\",\"folding\",\"ghosts\",\"halfpence\",\"greatly\",\"creation\",\"reigns\",\"corpses\",\"conceit\",\"abraham\",\"vanity\",\"choose\",\"orchards\",\"announce\",\"winde\",\"handkerchief\",\"bench\",\"murderers\",\"plant\",\"attempted\",\"thinkest\",\"extensive\",\"deliver\",\"eares\",\"innocent\",\"hemp\",\"divide\",\"shem\",\"jezebel\",\"thoughtfully\",\"reflections\",\"asaph\",\"proceeds\",\"ditch\",\"birds\",\"prey\",\"biggest\",\"fur\",\"acquainted\",\"twain\",\"indebted\",\"orange\",\"pierced\",\"ophelia\",\"reasoned\",\"medical\",\"span\",\"amorites\",\"dews\",\"excessive\",\"italian\",\"curls\",\"thereto\",\"kidneys\",\"pervert\",\"dreadfully\",\"striding\",\"battering\",\"unwillingness\",\"lucky\",\"week\",\"founded\",\"palmer\",\"project\",\"double\",\"custom\",\"folks\",\"covert\",\"governess\",\"equalled\",\"finery\",\"example\",\"clothed\",\"leaves\",\"endeavour\",\"olive\",\"inhuman\",\"chase\",\"shows\",\"fold\",\"glances\",\"disordered\",\"prolonged\",\"suddenly\",\"died\",\"rib\",\"matches\",\"grin\",\"anarchists\",\"youth\",\"believeth\",\"sabbaths\",\"shown\",\"frame\",\"cheering\",\"torrent\",\"comes\",\"desolate\",\"fastidious\",\"dreams\",\"probably\",\"unceasing\",\"fourth\",\"therein\",\"friend\",\"begging\",\"maketh\",\"maintaining\",\"awake\",\"stomach\",\"parcel\",\"spoiled\",\"exhibited\",\"floated\",\"languages\",\"adore\",\"subterranean\",\"borrowed\",\"govern\",\"giues\",\"yawned\",\"missed\",\"brute\",\"eat\",\"taches\",\"drops\",\"lewdness\",\"witness\",\"tarlton\",\"terah\",\"ages\",\"tobiah\",\"kadeshbarnea\",\"males\",\"buttons\",\"trivial\",\"loops\",\"parable\",\"elah\",\"myrtle\",\"cherubims\",\"barbaric\",\"troubleth\",\"pigeons\",\"85\",\"betty\",\"gentleman\",\"engagement\",\"harlots\",\"fasting\",\"probable\",\"makes\",\"incline\",\"directed\",\"refuse\",\"tolerable\",\"shewed\",\"betook\",\"snapped\",\"lambs\",\"stove\",\"grave\",\"face\",\"california\",\"heading\",\"discouraged\",\"dost\",\"gehazi\",\"crafty\",\"naphtali\",\"overcome\",\"curly\",\"aware\",\"isabella\",\"ways\",\"explain\",\"plunged\",\"split\",\"prairies\",\"idol\",\"david\",\"digging\",\"blaze\",\"baking\",\"elliot\",\"uriah\",\"stately\",\"gigantic\",\"suffering\",\"meshullam\",\"hesitation\",\"justified\",\"schoolboy\",\"darting\",\"require\",\"past\",\"strength\",\"dearer\",\"blooming\",\"contradiction\",\"dressing\",\"guernsey\",\"belonged\",\"diuell\",\"temptations\",\"accident\",\"nimble\",\"although\",\"esau\",\"time\",\"common\",\"misery\",\"jonah\",\"member\",\"whirlwind\",\"unusual\",\"delightful\",\"macb\",\"impertinent\",\"sold\",\"excel\",\"examining\",\"flame\",\"pipe\",\"reveal\",\"plate\",\"replied\",\"le\",\"meditation\",\"martha\",\"apprehensions\",\"modes\",\"refusal\",\"perseverance\",\"viii\",\"natural\",\"silently\",\"deserving\",\"distinguished\",\"devil\",\"nakedness\",\"must\",\"newly\",\"suckling\",\"pence\",\"banker\",\"priest\",\"torment\",\"paul\",\"gratifying\",\"larboard\",\"jehiel\",\"day\",\"law\",\"slighted\",\"cleave\",\"milk\",\"unmoved\",\"jebusites\",\"best\",\"recompense\",\"oreb\",\"sware\",\"slid\",\"whereby\",\"valley\",\"winepress\",\"anarchy\",\"dashwood\",\"appalling\",\"fornication\",\"sufficiently\",\"battles\",\"ashtaroth\",\"honoured\",\"spades\",\"laban\",\"wars\",\"achaia\",\"leans\",\"modest\",\"rock\",\"recollections\",\"busy\",\"topic\",\"19\",\"bearer\",\"scruples\",\"joah\",\"power\",\"misfortune\",\"29\",\"rabbah\",\"europe\",\"irons\",\"set\",\"vigilance\",\"utterance\",\"joram\",\"preserve\",\"glaring\",\"warp\",\"harder\",\"heartily\",\"lay\",\"journeys\",\"alarming\",\"moves\",\"expand\",\"peaks\",\"peaceable\",\"water\",\"joe\",\"tails\",\"apprehensive\",\"tongs\",\"arrows\",\"sanballat\",\"clown\",\"fears\",\"present\",\"talbot\",\"ethiopia\",\"maachah\",\"seamen\",\"perform\",\"sinking\",\"mould\",\"torch\",\"touches\",\"collected\",\"quarters\",\"gainst\",\"jehoiachin\",\"dwelt\",\"thomas\",\"written\",\"wonder\",\"snatching\",\"canaan\",\"meet\",\"rush\",\"travelled\",\"elastic\",\"found\",\"ezra\",\"sadducees\",\"disputing\",\"woof\",\"way\",\"deborah\",\"manna\",\"eddies\",\"chances\",\"agony\",\"bears\",\"uncover\",\"sheba\",\"precise\",\"explained\",\"hem\",\"linen\",\"concluding\",\"flaw\",\"doom\",\"informed\",\"testament\",\"republic\",\"places\",\"parchment\",\"abundantly\",\"mutton\",\"fairly\",\"consulting\",\"instructed\",\"jedaiah\",\"bless\",\"yong\",\"constable\",\"whoring\",\"parsee\",\"cat\",\"steered\",\"sinai\",\"harry\",\"aloud\",\"destroyer\",\"unnatural\",\"whale\",\"lengths\",\"wholesome\",\"labouring\",\"stretching\",\"reject\",\"bore\",\"disaster\",\"ensue\",\"ambitious\",\"cubit\",\"ungodly\",\"elijah\",\"graces\",\"ruleth\",\"mistaken\",\"seekest\",\"castles\",\"rank\",\"king\",\"sheets\",\"immortal\",\"cigars\",\"contains\",\"hints\",\"tulip\",\"cell\",\"lead\",\"commonest\",\"lord\",\"churchill\",\"hercules\",\"black\",\"roared\",\"rapt\",\"witnesses\",\"readers\",\"worst\",\"sliding\",\"practice\",\"hard\",\"scarcely\",\"accusation\",\"forlorn\",\"glare\",\"liking\",\"sighs\",\"diligent\",\"timid\",\"influence\",\"depart\",\"lusty\",\"pitch\",\"healthy\",\"reconciliation\",\"colonel\",\"turneth\",\"behave\",\"ceaseth\",\"managed\",\"thoughts\",\"unlikely\",\"visitation\",\"hall\",\"soules\",\"understandeth\",\"pursuit\",\"mother\",\"pursuers\",\"proceedings\",\"beds\",\"attentive\",\"sakes\",\"presumption\",\"quiet\",\"herds\",\"eagerness\",\"attractions\",\"circling\",\"roof\",\"furnished\",\"dust\",\"awakened\",\"revelation\",\"lachish\",\"fellowship\",\"alert\",\"devils\",\"perplexity\",\"senses\",\"resting\",\"indirectly\",\"soft\",\"stumble\",\"amoz\",\"want\",\"falsehood\",\"declare\",\"manifest\",\"parables\",\"peter\",\"caesarea\",\"slime\",\"kedesh\",\"rights\",\"madest\",\"displeased\",\"hurriedly\",\"meane\",\"tomorrow\",\"hanani\",\"combe\",\"breath\",\"commission\",\"rat\",\"ferry\",\"footprint\",\"latin\",\"flakes\",\"garden\",\"night\",\"answering\",\"blossom\",\"overtook\",\"53\",\"haughty\",\"fright\",\"positively\",\"rushed\",\"whalers\",\"th\",\"redemption\",\"discussion\",\"transgress\",\"kindled\",\"divided\",\"brace\",\"treating\",\"customers\",\"sore\",\"flask\",\"sixty\",\"lightly\",\"south\",\"simply\",\"spouts\",\"caesar\",\"fain\",\"science\",\"dusky\",\"pilgrim\",\"myriads\",\"sunlight\",\"contemptuous\",\"dull\",\"wrist\",\"abihu\",\"brings\",\"moonlight\",\"purifying\",\"apprehension\",\"overhead\",\"gratification\",\"reached\",\"mounting\",\"78\",\"lean\",\"cells\",\"tired\",\"railway\",\"staying\",\"boys\",\"farthing\",\"idle\",\"earrings\",\"hur\",\"chaste\",\"cathedral\",\"partly\",\"edward\",\"inside\",\"raw\",\"changed\",\"hatches\",\"needles\",\"preference\",\"137\",\"press\",\"ophe\",\"prudence\",\"kine\",\"experience\",\"talks\",\"forasmuch\",\"dwell\",\"issued\",\"contentment\",\"cant\",\"drave\",\"raspberries\",\"parents\",\"hovering\",\"labourers\",\"losing\",\"actions\",\"abode\",\"perished\",\"folk\",\"acceptance\",\"beg\",\"malcolme\",\"surf\",\"certain\",\"golden\",\"insulting\",\"octauius\",\"impatient\",\"hopkins\",\"lightened\",\"fierceness\",\"paper\",\"instead\",\"desirous\",\"meaning\",\"fetching\",\"seethe\",\"entered\",\"locusts\",\"elegant\",\"23\",\"memorial\",\"tunes\",\"stubb\",\"reclining\",\"shout\",\"16\",\"rebels\",\"grieved\",\"fearful\",\"zin\",\"execution\",\"principles\",\"purposely\",\"triumphantly\",\"besought\",\"making\",\"permitted\",\"robust\",\"uneasy\",\"twigs\",\"joyously\",\"withdraw\",\"brains\",\"traitor\",\"acknowledge\",\"bolt\",\"5\",\"ne\",\"harim\",\"pursued\",\"thames\",\"card\",\"ingratitude\",\"heritage\",\"uprightly\",\"cake\",\"pacific\",\"preacher\",\"huge\",\"fetters\",\"cyrus\",\"prospect\",\"accounts\",\"wroth\",\"deficient\",\"chip\",\"damsel\",\"objection\",\"madam\",\"bud\",\"fairest\",\"sign\",\"vnder\",\"testified\",\"surrounding\",\"saddled\",\"sunset\",\"adjoining\",\"meditations\",\"preparations\",\"musgroves\",\"cruelty\",\"anyone\",\"provoke\",\"keepe\",\"greek\",\"dignity\",\"flourish\",\"members\",\"prevented\",\"kin\",\"broad\",\"hoisting\",\"ordained\",\"sentiment\",\"accommodate\",\"dashwoods\",\"envelope\",\"zacharias\",\"knave\",\"distinctly\",\"slanting\",\"sticks\",\"tun\",\"charming\",\"pots\",\"briefly\",\"swore\",\"immovable\",\"wings\",\"masse\",\"8\",\"successive\",\"thrift\",\"strong\",\"mile\",\"crucify\",\"halfe\",\"rehob\",\"extraordinary\",\"swiftness\",\"horizontal\",\"dens\",\"fox\",\"coils\",\"snail\",\"godmother\",\"downwards\",\"israel\",\"gilead\",\"ye\",\"haunted\",\"particularly\",\"evolution\",\"gladly\",\"theories\",\"spermaceti\",\"slide\",\"picture\",\"vague\",\"brim\",\"goat\",\"scales\",\"beware\",\"continual\",\"superior\",\"usher\",\"preceding\",\"appointment\",\"hearkened\",\"welcome\",\"betray\",\"motive\",\"torments\",\"coolly\",\"provided\",\"wiping\",\"copper\",\"ornaments\",\"pile\",\"figure\",\"produce\",\"bodily\",\"leah\",\"increaseth\",\"stand\",\"cards\",\"bondage\",\"thel\",\"forged\",\"commandments\",\"delights\",\"neriah\",\"tangle\",\"tend\",\"patiently\",\"astonied\",\"gestures\",\"thrown\",\"wharves\",\"confirmation\",\"swimming\",\"korah\",\"share\",\"attentions\",\"duty\",\"jacket\",\"openness\",\"exploring\",\"slopes\",\"know\",\"radiant\",\"species\",\"dearest\",\"leads\",\"flattered\",\"bibles\",\"incapable\",\"kedar\",\"purple\",\"stage\",\"disturb\",\"iniquities\",\"instances\",\"hesitate\",\"st\",\"comely\",\"headlong\",\"welfare\",\"glories\",\"beforehand\",\"gomorrah\",\"prompted\",\"descending\",\"plaister\",\"breathed\",\"squall\",\"advised\",\"paternal\",\"hunting\",\"serving\",\"decided\",\"considerate\",\"motto\",\"fig\",\"backs\",\"using\",\"18\",\"lump\",\"beriah\",\"wrath\",\"waters\",\"owne\",\"major\",\"hour\",\"luxury\",\"entertained\",\"fondly\",\"compassion\",\"speaking\",\"rezin\",\"umbrella\",\"sent\",\"despiseth\",\"philistines\"],\"x\":{\"__ndarray__\":\"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\",\"dtype\":\"float32\",\"shape\":[1000]},\"y\":{\"__ndarray__\":\"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\",\"dtype\":\"float32\",\"shape\":[1000]}},\"selected\":{\"id\":\"1189\",\"type\":\"Selection\"},\"selection_policy\":{\"id\":\"1190\",\"type\":\"UnionRenderers\"}},\"id\":\"1168\",\"type\":\"ColumnDataSource\"},{\"attributes\":{},\"id\":\"1141\",\"type\":\"LinearScale\"},{\"attributes\":{\"text\":\"\"},\"id\":\"1183\",\"type\":\"Title\"},{\"attributes\":{},\"id\":\"1185\",\"type\":\"BasicTickFormatter\"},{\"attributes\":{\"ticker\":{\"id\":\"1146\",\"type\":\"BasicTicker\"}},\"id\":\"1149\",\"type\":\"Grid\"},{\"attributes\":{},\"id\":\"1159\",\"type\":\"ResetTool\"},{\"attributes\":{\"source\":{\"id\":\"1168\",\"type\":\"ColumnDataSource\"}},\"id\":\"1172\",\"type\":\"CDSView\"},{\"attributes\":{},\"id\":\"1143\",\"type\":\"LinearScale\"},{\"attributes\":{\"callback\":null},\"id\":\"1137\",\"type\":\"DataRange1d\"},{\"attributes\":{\"text_alpha\":{\"value\":0.1},\"text_color\":{\"value\":\"black\"},\"x\":{\"field\":\"x\"},\"y\":{\"field\":\"y\"}},\"id\":\"1170\",\"type\":\"Text\"},{\"attributes\":{},\"id\":\"1160\",\"type\":\"HelpTool\"},{\"attributes\":{},\"id\":\"1155\",\"type\":\"PanTool\"},{\"attributes\":{},\"id\":\"1158\",\"type\":\"SaveTool\"},{\"attributes\":{},\"id\":\"1156\",\"type\":\"WheelZoomTool\"},{\"attributes\":{\"data_source\":{\"id\":\"1168\",\"type\":\"ColumnDataSource\"},\"glyph\":{\"id\":\"1169\",\"type\":\"Text\"},\"hover_glyph\":null,\"muted_glyph\":null,\"nonselection_glyph\":{\"id\":\"1170\",\"type\":\"Text\"},\"selection_glyph\":null,\"view\":{\"id\":\"1172\",\"type\":\"CDSView\"}},\"id\":\"1171\",\"type\":\"GlyphRenderer\"},{\"attributes\":{},\"id\":\"1146\",\"type\":\"BasicTicker\"},{\"attributes\":{},\"id\":\"1189\",\"type\":\"Selection\"},{\"attributes\":{},\"id\":\"1151\",\"type\":\"BasicTicker\"},{\"attributes\":{\"formatter\":{\"id\":\"1185\",\"type\":\"BasicTickFormatter\"},\"ticker\":{\"id\":\"1151\",\"type\":\"BasicTicker\"}},\"id\":\"1150\",\"type\":\"LinearAxis\"},{\"attributes\":{\"callback\":null},\"id\":\"1139\",\"type\":\"DataRange1d\"},{\"attributes\":{\"overlay\":{\"id\":\"1188\",\"type\":\"BoxAnnotation\"}},\"id\":\"1157\",\"type\":\"BoxZoomTool\"},{\"attributes\":{\"formatter\":{\"id\":\"1187\",\"type\":\"BasicTickFormatter\"},\"ticker\":{\"id\":\"1146\",\"type\":\"BasicTicker\"}},\"id\":\"1145\",\"type\":\"LinearAxis\"},{\"attributes\":{},\"id\":\"1187\",\"type\":\"BasicTickFormatter\"},{\"attributes\":{\"bottom_units\":\"screen\",\"fill_alpha\":{\"value\":0.5},\"fill_color\":{\"value\":\"lightgrey\"},\"left_units\":\"screen\",\"level\":\"overlay\",\"line_alpha\":{\"value\":1.0},\"line_color\":{\"value\":\"black\"},\"line_dash\":[4,4],\"line_width\":{\"value\":2},\"render_mode\":\"css\",\"right_units\":\"screen\",\"top_units\":\"screen\"},\"id\":\"1188\",\"type\":\"BoxAnnotation\"}],\"root_ids\":[\"1136\"]},\"title\":\"Bokeh Application\",\"version\":\"1.4.0\"}};\n",
       "  var render_items = [{\"docid\":\"9d56d709-ff4d-48ad-8c79-7bc17ce3ab5f\",\"roots\":{\"1136\":\"6c5dcbec-eeb5-455b-8ce2-3e0e3edfcd6c\"}}];\n",
       "  root.Bokeh.embed.embed_items_notebook(docs_json, render_items);\n",
       "\n",
       "  }\n",
       "  if (root.Bokeh !== undefined) {\n",
       "    embed_document(root);\n",
       "  } else {\n",
       "    var attempts = 0;\n",
       "    var timer = setInterval(function(root) {\n",
       "      if (root.Bokeh !== undefined) {\n",
       "        clearInterval(timer);\n",
       "        embed_document(root);\n",
       "      } else {\n",
       "        attempts++;\n",
       "        if (attempts > 100) {\n",
       "          clearInterval(timer);\n",
       "          console.log(\"Bokeh: ERROR: Unable to run BokehJS code because BokehJS library is missing\");\n",
       "        }\n",
       "      }\n",
       "    }, 10, root)\n",
       "  }\n",
       "})(window);"
      ],
      "application/vnd.bokehjs_exec.v0+json": ""
     },
     "metadata": {
      "application/vnd.bokehjs_exec.v0+json": {
       "id": "1136"
      }
     },
     "output_type": "display_data"
    }
   ],
   "source": [
    "# Plot an interactive chart of a sample of the word vectors within the vectorspace (for speed & clarity)\n",
    "output_notebook()\n",
    "corpus_sample = word_coords.sample(1000)\n",
    "p = figure(plot_width=800, plot_height=800)\n",
    "_ = p.text(x=corpus_sample[\"x\"], y=corpus_sample[\"y\"], text=corpus_sample[\"token\"])\n",
    "show(p)"
   ]
  },
  {
   "cell_type": "markdown",
   "metadata": {},
   "source": [
    "### Conclusion\n",
    "\n",
    "I hope you enjoyed this quick review of NLP preprocessing techniques (especially the interactive word vectorspace plot at the end - that's my favorite!). \n",
    "\n",
    "Please leave a comment below if this helped you out or if you have suggestions for improvement.\n",
    "\n",
    "And until next time, happy coding :)"
   ]
  }
 ],
 "metadata": {
  "kernelspec": {
   "display_name": "Python 3",
   "language": "python",
   "name": "python3"
  },
  "language_info": {
   "codemirror_mode": {
    "name": "ipython",
    "version": 3
   },
   "file_extension": ".py",
   "mimetype": "text/x-python",
   "name": "python",
   "nbconvert_exporter": "python",
   "pygments_lexer": "ipython3",
   "version": "3.7.3"
  }
 },
 "nbformat": 4,
 "nbformat_minor": 4
}
