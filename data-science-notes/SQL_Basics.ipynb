{
 "cells": [
  {
   "cell_type": "markdown",
   "metadata": {},
   "source": [
    "# SQL Review\n",
    "\n",
    "A Relational Database Management System (RDBMS) acts to store and facilitate the retrieval of data.\n",
    "\n",
    "* Data Definition Language (DDL) Statements: Define, change or drop data\n",
    "* Data Manipulation Language (DML) Statements: Read and modify data\n",
    "\n",
    "The Primary Key in a relational database is unique and immutable identifier of each row in a table. Using Primary Keys can help improve querying performance.\n",
    "\n",
    "A table that contains a Foreign Key is called a Dependent/Child table. A Foreign Key refers to the Primary Key of another table."
   ]
  },
  {
   "cell_type": "markdown",
   "metadata": {},
   "source": [
    "#### The Information Model\n",
    "\n",
    "The Information Model is a conceptual or abstract model that sits above the level of Data Models. One popular example is a Hierarchical Model. \n",
    "\n",
    "#### The Relational Model\n",
    "\n",
    "The Relational Model is the most widely used data model and is based on the mathematical concept of relation and sets. Practically, a relation is made up of Relational Schema and Relational Instance.\n",
    "\n",
    "* Relation Schema: Specifies the name of a relation and its attributes: ```Entity(Attribute1:Type1, Attribute2:Type2,...AttributeN:TypeN)```\n",
    "* Relation Instance: A table where each column represents one attribute (\"degree\") and each row is a tuple (\"cardinality\")\n",
    "\n",
    "For example, a table with 5 columns and 10 rows is said to have a degree of 5 and a cardinality of 10.\n",
    "\n",
    "The **Entity-Relationship Model (ER Model)** is a tool that is used to design relational databases. It consists of different symbols that are organized into diagrams to represent the tables to be created. Entities (rectangles) are comprised of attributes (circles) and are implemented using database tables. Entities can have relationships (diamonds) with other entities: one-to-one, one-to-many and many-to-many.\n",
    "\n",
    "**Relational Model Constraints** protect data integrity.\n",
    "\n",
    "* Entity Integrity Constraint: requires that no attribute that has been designated a primary keys can accept ```NULL``` values\n",
    "* Referential Integrity Constraint: ensures the validity of the data using both primary and foreign keys\n",
    "* Semantic Integrity Constraint: related to the correctness of the data (application-based rules or business rules)\n",
    "* Domain Constraint: specifies the permissible values for a given attribute (schema-related)\n",
    "* NULL Constraint: specifies that attribute values cannot be ```NULL```\n",
    "* Check Constraint: restricts the acceptable range of values for a given attribute, thereby ensuring domain integrity"
   ]
  },
  {
   "cell_type": "markdown",
   "metadata": {},
   "source": [
    "```SQL\n",
    "CREATE TABLE Country (\n",
    "    id INT NOT NULL,\n",
    "    country_code CHAR(3) NOT NULL,\n",
    "    name VARCHAR(50) NOT NULL,\n",
    "    PRIMARY KEY (id)\n",
    ");\n",
    "```"
   ]
  },
  {
   "cell_type": "markdown",
   "metadata": {},
   "source": [
    "In test, a common practice is to ```DROP``` before doing a ```CREATE```.\n",
    "\n",
    "```SQL\n",
    "DROP TABLE COUNTRY;\n",
    "```"
   ]
  },
  {
   "cell_type": "markdown",
   "metadata": {},
   "source": [
    "The ```SELECT``` statement is used to read the data. It returns the Result Set aka Result Table.\n",
    "\n",
    "```SQL\n",
    "    SELECT * FROM Country\n",
    "    SELECT country_code, name FROM Country WHERE country_code LIKE '%A%'\n",
    "```"
   ]
  },
  {
   "cell_type": "markdown",
   "metadata": {},
   "source": [
    "Use the ```COUNT()``` function to retrieve the number of rows that match a ```SELECT``` query criteria.\n",
    "\n",
    "```SQL\n",
    "    SELECT COUNT(name) FROM Country WHERE name LIKE '%Br%'\n",
    "```\n",
    "\n",
    "Remove duplicates from a result set with the ```DISTINCT``` keyword.\n",
    "\n",
    "```SQL\n",
    "    SELECT DISTINCT Country FROM Medals\n",
    "```\n",
    "\n",
    "Limit the number of rows retrieved using ```LIMIT```\n",
    "\n",
    "```SQL\n",
    "    SELECT * FROM Country WHERE country_code LIKE '%B%' LIMIT 10\n",
    "```"
   ]
  },
  {
   "cell_type": "markdown",
   "metadata": {},
   "source": [
    "You can add one or multiple rows to a table using the ```INSERT``` statement.\n",
    "\n",
    "```SQL\n",
    "    INSERT INTO Country (\n",
    "        (country_code, name)\n",
    "        VALUES\n",
    "        ('AUS', 'Australia'),\n",
    "        ('USA', 'United States')\n",
    "    )\n",
    "```"
   ]
  },
  {
   "cell_type": "markdown",
   "metadata": {},
   "source": [
    "The ```UPDATE``` statement is used to modify existing data. **Caution:** if a ```WHERE``` clause is not specified, all rows of the table will be updated.\n",
    "\n",
    "```SQL\n",
    "    UPDATE Country\n",
    "    SET country_code = 'OMG'\n",
    "        name = 'Just Kidding'\n",
    "    WHERE country_code = 'USA'\n",
    "```"
   ]
  },
  {
   "cell_type": "markdown",
   "metadata": {},
   "source": [
    "Remove rows with the ```DELETE```statement. **Caution:** if a ```WHERE``` clause is not specified, all rows of the table will be deleted.\n",
    "\n",
    "```SQL\n",
    "    DELETE FROM Country\n",
    "    WHERE id = 1\n",
    "```"
   ]
  },
  {
   "cell_type": "markdown",
   "metadata": {},
   "source": [
    "#### Select Techniques\n",
    "\n",
    "**String Patterns**\n",
    "\n",
    "```SQL\n",
    "    SELECT * FROM Country WHERE country_code LIKE 'B%'\n",
    "```\n",
    "\n",
    "**Ranges**\n",
    "\n",
    "```SQL\n",
    "    SELECT * FROM Country WHERE size BETWEEN 50 AND 1000 -- inclusive\n",
    "```\n",
    "\n",
    "**Lists**\n",
    "\n",
    "```SQL\n",
    "    SELECT * FROM Country WHERE size IN (20, 30)\n",
    "```\n",
    "\n",
    "**Sorting**\n",
    "\n",
    "```SQL\n",
    "    SELECT country_code, name FROM Country ORDER BY name DESC -- default: ASC\n",
    "    SELECT country_code, name FROM Country ORDER BY 2 DESC -- sort based on the second selected column\n",
    "```\n",
    "\n",
    "**Eliminate Duplicates**\n",
    "\n",
    "```SQL\n",
    "    SELECT DISTINCT(country) FROM Medals\n",
    "```"
   ]
  },
  {
   "cell_type": "markdown",
   "metadata": {},
   "source": [
    "The ```GROUP BY``` clause is used to group rows with the same values, enabling the use of aggregate functions such as ```MAX()``` and ```SUM()```. It performs a similar operation to a pivot table in Excel. \n",
    "\n",
    "Whereas the ```WHERE``` clause is used to restrict the entire result set, the ```HAVING``` clause is used only with the GROUP BY clause.\n",
    "\n",
    "```SQL\n",
    "    SELECT country, COUNT(country) as medal_count\n",
    "    FROM Medals\n",
    "    GROUP BY country\n",
    "    HAVING COUNT(country) > 4\n",
    "```"
   ]
  },
  {
   "cell_type": "markdown",
   "metadata": {},
   "source": [
    "#### Built-In Functions\n",
    "\n",
    "An aggregate function takes a column of values and returns a single value or ```NULL```. Ex: ```MAX()```, ```MIN()```, ```AVG()```. \n",
    "\n",
    "A scalar function performs operations on individual values. Ex: ```ROUND()```, ```UCASE()```, ```LCASE()```, ```LENGTH()```.\n",
    "\n",
    "There are a variety of different built-in datatypes for dates and times. Ex:\n",
    "\n",
    "* ```DATE```: YYYYMMDD\n",
    "* ```TIME```: HHMMSS\n",
    "* ```TIMESTAMP```: YYYYXXDDHHMMSSZZZZZZ (XX represents month and ZZZZZZ represents microseconds)\n",
    "\n",
    "Functions exist to extract the ```DAY```, ```MONTH```, ```DAYOFMONTH```, ```DAYOFWEEK```, ```DAYOFYEAR```, ```WEEK```, ```HOUR```, ```MINUTE```, ```SECOND```, for example:\n",
    "\n",
    "```SQL\n",
    "    SELECT * FROM Sales WHERE MONTH(sell_date) = 5\n",
    "    SELECT CURRENT DATE - sell_date FROM Sales\n",
    "```\n",
    "\n",
    "Get the current date/time using ```GETDATE()``` or special registers ```CURRENT TIME``` and ```CURRENT DATE``` (varies by DB system)."
   ]
  },
  {
   "cell_type": "markdown",
   "metadata": {},
   "source": [
    "#### Sub-Queries\n",
    "\n",
    "Sub-queries or sub-selects allow for more complex queries to be constructed, which sidesteps some of the limitations of aggregate functions:\n",
    "\n",
    "```SQL\n",
    "    SELECT * FROM Petsale\n",
    "    WHERE sale_price >\n",
    "        (SELECT AVG(sale_price) FROM Petsale)\n",
    "```\n",
    "Sub-queries can be placed in other parts of the query:\n",
    "\n",
    "```SQL\n",
    "    SELECT sale_price, (SELECT AVG(sale_price) FROM Petsale) as avg_sale  FROM Petsale\n",
    "```\n",
    "\n",
    "You can also use the ```IN```keyword:\n",
    "\n",
    "```SQL\n",
    "    SELECT * FROM Employees\n",
    "    WHERE dep_id IN\n",
    "        (SELECT dep_id FROM Departments\n",
    "         WHERE dep_id > 10)\n",
    "```"
   ]
  },
  {
   "cell_type": "markdown",
   "metadata": {},
   "source": [
    "#### Implicit Joins\n",
    "\n",
    "Connect multiple tables, using a ```WHERE``` clause to filter the result set:\n",
    "\n",
    "```SQL\n",
    "    SELECT * FROM Employees e, Departments d\n",
    "    WHERE e.dep_id = d.id\n",
    "```\n",
    "\n",
    "Aliasing is used to simplify queries and qualify column names in the event there are duplicates."
   ]
  },
  {
   "cell_type": "code",
   "execution_count": null,
   "metadata": {},
   "outputs": [],
   "source": []
  }
 ],
 "metadata": {
  "kernelspec": {
   "display_name": "Python 3",
   "language": "python",
   "name": "python3"
  },
  "language_info": {
   "codemirror_mode": {
    "name": "ipython",
    "version": 3
   },
   "file_extension": ".py",
   "mimetype": "text/x-python",
   "name": "python",
   "nbconvert_exporter": "python",
   "pygments_lexer": "ipython3",
   "version": "3.7.3"
  }
 },
 "nbformat": 4,
 "nbformat_minor": 2
}
