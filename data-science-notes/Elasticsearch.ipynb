{
 "cells": [
  {
   "cell_type": "markdown",
   "metadata": {},
   "source": [
    "# Elasticsearch"
   ]
  },
  {
   "cell_type": "markdown",
   "metadata": {},
   "source": [
    "Elasticsearch is an open-source, distributed system for search and analytics, built on Apache Lucene. It can be used to index any type of structured data, not just text documents. Elasticsearch is based on **documents**, which are the things that are being searched for, **types**, which are the schema shared by documents, and **indices**, which are the highest level abstraction that can be queried. These concepts are analagous to rows, tables and databases in a RDBMS.\n",
    "\n",
    "The user sends data in the form of JSON requests to Elasticsearch. It automatically stores the original file and saves a searchable reference to an **inverted index**. Documents can then be retrieved using another JSON request. The inverted index acts as a central look-up dictionary containing all search terms and document IDs in which terms appear. Search term positions in each document may also be recorded for phrase searches.\n",
    "\n",
    "Relevance in Elasticsearch is measured using **TF-IDF** or **Term Frequencey * Inverse Document Frequency**. This calculation compares how often a term appears in a given document with how often the term appears across all documents, thus offsetting the prevalence of words such as \"the\" or \"and\".\n",
    "\n",
    "Elasticsearch interfaces with RESTful API, client APIs and web-based analytic tools and can be scaled across a clusters as needed. Data are contained in shards and the application processes requests in a round-robin fashion. Resilience is built into the system via primary and replica shards, which are an intelligent backup system handled by Elasticsearch. \n",
    "\n",
    "Other tools within the Elastic Stack include:\n",
    "\n",
    "* Kibana: sits on top of Elasticsearch to provide a web UI to visualize data\n",
    "* Logstash and FileBeat: two options for real-time data imports into Elasticsearch"
   ]
  },
  {
   "cell_type": "code",
   "execution_count": 4,
   "metadata": {},
   "outputs": [
    {
     "data": {
      "text/html": [
       "<iframe width=\"560\" height=\"315\" src=\"https://www.youtube.com/embed/C3tlMqaNSaI\" frameborder=\"0\" allow=\"accelerometer; autoplay; encrypted-media; gyroscope; picture-in-picture\" allowfullscreen></iframe>"
      ],
      "text/plain": [
       "<IPython.core.display.HTML object>"
      ]
     },
     "execution_count": 4,
     "metadata": {},
     "output_type": "execute_result"
    }
   ],
   "source": [
    "from IPython.display import IFrame\n",
    "\n",
    "HTML('<iframe width=\"560\" height=\"315\" src=\"https://www.youtube.com/embed/C3tlMqaNSaI\" frameborder=\"0\" allow=\"accelerometer; autoplay; encrypted-media; gyroscope; picture-in-picture\" allowfullscreen></iframe>')\n"
   ]
  },
  {
   "cell_type": "code",
   "execution_count": 5,
   "metadata": {},
   "outputs": [
    {
     "data": {
      "text/html": [
       "<iframe width=\"560\" height=\"315\" src=\"https://www.youtube.com/embed/jDYeqCkAN_Y\" frameborder=\"0\" allow=\"accelerometer; autoplay; encrypted-media; gyroscope; picture-in-picture\" allowfullscreen></iframe>"
      ],
      "text/plain": [
       "<IPython.core.display.HTML object>"
      ]
     },
     "execution_count": 5,
     "metadata": {},
     "output_type": "execute_result"
    }
   ],
   "source": [
    "from IPython.display import IFrame\n",
    "\n",
    "HTML('<iframe width=\"560\" height=\"315\" src=\"https://www.youtube.com/embed/jDYeqCkAN_Y\" frameborder=\"0\" allow=\"accelerometer; autoplay; encrypted-media; gyroscope; picture-in-picture\" allowfullscreen></iframe>')"
   ]
  },
  {
   "cell_type": "markdown",
   "metadata": {},
   "source": [
    "**References**\n",
    "\n",
    "* https://www.youtube.com/watch?v=C3tlMqaNSaI"
   ]
  }
 ],
 "metadata": {
  "kernelspec": {
   "display_name": "Python 3",
   "language": "python",
   "name": "python3"
  },
  "language_info": {
   "codemirror_mode": {
    "name": "ipython",
    "version": 3
   },
   "file_extension": ".py",
   "mimetype": "text/x-python",
   "name": "python",
   "nbconvert_exporter": "python",
   "pygments_lexer": "ipython3",
   "version": "3.7.3"
  }
 },
 "nbformat": 4,
 "nbformat_minor": 2
}
