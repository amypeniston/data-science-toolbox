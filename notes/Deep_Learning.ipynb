{
 "cells": [
  {
   "cell_type": "markdown",
   "metadata": {},
   "source": [
    "# Applied AI: Deep Learning\n",
    "\n",
    "Key components of cloud architecture for applied AI:\n",
    "* Object Storage - for capacity, redundancy, automated backup and I/O performance\n",
    "* Real-Time Data Stream - for real-time ingestion and model applications\n",
    "* Scaling - how to scale models on GPU and CPU clusters\n",
    "* Jupyter Notebooks - to create models\n",
    "* Deep Learning Framework - high or low level options to implement/test neural networks (ex: Keras)\n",
    "* Open Neural Network Exchange Formats - to facilitate import/export between frameworks (ex: ONNX)\n",
    "* Execution Environment - for large scale parallel execution (ex: DeepLearning4J or Apache SystemML on top of Apache Spark)\n",
    "\n",
    "Popular deep learning frameworks include Keras, CNTK and Theano (depricated). Keras, the de facto choice, uses TensorFlow as the execution engine and can export models to be ingested by other frameworks such as DeepLearning4J and Apache System ML via open standard exchange formats such as ONNX."
   ]
  }
 ],
 "metadata": {
  "kernelspec": {
   "display_name": "Python 3",
   "language": "python",
   "name": "python3"
  },
  "language_info": {
   "codemirror_mode": {
    "name": "ipython",
    "version": 3
   },
   "file_extension": ".py",
   "mimetype": "text/x-python",
   "name": "python",
   "nbconvert_exporter": "python",
   "pygments_lexer": "ipython3",
   "version": "3.7.3"
  }
 },
 "nbformat": 4,
 "nbformat_minor": 2
}
