{
 "cells": [
  {
   "cell_type": "markdown",
   "metadata": {},
   "source": [
    "# Applied AI: Deep Learning\n",
    "\n",
    "Key components of cloud architecture for applied AI:\n",
    "* Object Storage - for capacity, redundancy, automated backup and I/O performance\n",
    "* Real-Time Data Stream - for real-time ingestion and model applications\n",
    "* Scaling - how to scale models on GPU and CPU clusters\n",
    "* Jupyter Notebooks - to create models\n",
    "* Deep Learning Framework - high or low level options to implement/test neural networks (ex: Keras)\n",
    "* Open Neural Network Exchange Formats - to facilitate import/export between frameworks (ex: ONNX)\n",
    "* Execution Environment - for large scale parallel execution (ex: DeepLearning4J or Apache SystemML on top of Apache Spark)\n",
    "\n",
    "Popular deep learning frameworks include Keras, CNTK and Theano (depricated). Keras, the de facto choice, uses TensorFlow as the execution engine and can export models to be ingested by other frameworks such as DeepLearning4J and Apache System ML via open standard exchange formats such as ONNX."
   ]
  },
  {
   "cell_type": "markdown",
   "metadata": {},
   "source": [
    "### Neural Networks\n",
    "\n",
    "Why neural networks? Linear machine learning models are limited to linear functions; on the other hand, neural networks can be used when data isn't linearly separable. \n",
    "\n",
    "#### Deep Feedforward Neural Networks\n",
    "\n",
    "The simplest type of neural network is called a **perceptron**, which consists of a linear combination of an input vector and a weights vector, passed into a step activation function. This system acts as a binary linear classifier and is used to approximate some function. Deep feedforward neural networks consist of mutilayer perceptrons, with information flowing in the forward direction, through a hidden layer, in order to calculate the function output. \n",
    "\n",
    "Deep feedforward neural networks can represent any mathematical function (the Universal Function Approximation Theory). However, even if you can represent any mathetmatical function, having a single hidden layer is not viable for training the network.\n",
    "\n",
    "#### Convolutional Neural Networks\n",
    "\n",
    "Convolutional neural networks are favored for image classification due to their lower computational cost and ability to capture pixel dependencies throughout the image. Deep feedforward neural networks can represent any mathematical function.\n",
    "\n",
    "#### Recurrent Neural Networks\n",
    "\n",
    "While deep feedforward networks are effective at learning functions, they do not work well with sequences or time series data - enter RNNs. In these networks, feedback connections between neurons pass back temporal information, giving the system a form of memory.\n",
    "\n",
    "#### Long Short Term Networks"
   ]
  }
 ],
 "metadata": {
  "kernelspec": {
   "display_name": "Python 3",
   "language": "python",
   "name": "python3"
  },
  "language_info": {
   "codemirror_mode": {
    "name": "ipython",
    "version": 3
   },
   "file_extension": ".py",
   "mimetype": "text/x-python",
   "name": "python",
   "nbconvert_exporter": "python",
   "pygments_lexer": "ipython3",
   "version": "3.7.3"
  }
 },
 "nbformat": 4,
 "nbformat_minor": 2
}
