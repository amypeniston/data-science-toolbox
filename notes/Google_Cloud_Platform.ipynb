{
 "cells": [
  {
   "cell_type": "markdown",
   "metadata": {},
   "source": [
    "# Data Engineering, Big Data, and Machine Learning on Google Cloud Platform"
   ]
  },
  {
   "cell_type": "markdown",
   "metadata": {},
   "source": [
    "As the number of internet connected devices continues to grow, the amount of data generated worldwide is becoming mind-bogglingly large. Due to this proliferation of information, it is more important than ever to be able to build applications that can derive insights from vast quantities of data in an automated fashion.\n",
    "\n",
    "The Google Cloud Platform (GCP) provides four core infrastructure components: underlying all applications is **security**; above this base are **compute power**, **storage** and **networking** tools; finally, atop these, are high level **big data and machine learning products** that abstract away difficult implementation work.\n",
    "\n",
    "#### Compute Power\n",
    "\n",
    "Google trains machine learning algorithms on a vast network of data centers. Smaller, trained versions of these models are then deployed onto consumer hardware. You can access Google's AI research via pre-trained AI models that can be utilized out-of-the-box.\n",
    "\n",
    "As Moore's Law has slowed and the rate of compute performance has plateaued, one solution has been to build Application-Specific Chips (ASICs) to limit the power consumption of a chip. Google has created Tensor Processing Units (TPUs) with more memory and faster processors that are specifically optimized for machine learning workloads. TPUs in the cloud enable businesses to solve large, challenging problems in a way that would not otherwise have been possible."
   ]
  }
 ],
 "metadata": {
  "kernelspec": {
   "display_name": "Python 3",
   "language": "python",
   "name": "python3"
  },
  "language_info": {
   "codemirror_mode": {
    "name": "ipython",
    "version": 3
   },
   "file_extension": ".py",
   "mimetype": "text/x-python",
   "name": "python",
   "nbconvert_exporter": "python",
   "pygments_lexer": "ipython3",
   "version": "3.7.3"
  }
 },
 "nbformat": 4,
 "nbformat_minor": 2
}
