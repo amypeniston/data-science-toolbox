{
 "cells": [
  {
   "cell_type": "code",
   "execution_count": 208,
   "metadata": {},
   "outputs": [],
   "source": [
    "from __future__ import print_function\n",
    "import pandas as pd\n",
    "import numpy as np\n",
    "import matplotlib.pyplot as plt\n",
    "import matplotlib.pylab as pylab\n",
    "import seaborn as sns\n",
    "import itertools\n",
    "from sklearn.preprocessing import PolynomialFeatures, StandardScaler, LabelEncoder, MinMaxScaler\n",
    "from sklearn.model_selection import train_test_split, cross_val_score, cross_val_predict\n",
    "from sklearn.linear_model import LinearRegression, LogisticRegression\n",
    "from sklearn.neighbors import KNeighborsClassifier\n",
    "from sklearn.tree import DecisionTreeClassifier, export_graphviz\n",
    "from sklearn import svm\n",
    "from sklearn.cluster import KMeans, AgglomerativeClustering, DBSCAN\n",
    "from sklearn.datasets.samples_generator import make_blobs\n",
    "from sklearn.metrics import mean_squared_error, r2_score, accuracy_score, f1_score, confusion_matrix, classification_report, jaccard_score\n",
    "from scipy.optimize import curve_fit\n",
    "from scipy.cluster import hierarchy\n",
    "from scipy.spatial import distance_matrix\n",
    "import scipy.spatial.distance as ssd\n",
    "from scipy.cluster.hierarchy import fcluster\n",
    "import scipy\n",
    "from mpl_toolkits.mplot3d import Axes3D\n",
    "from ipywidgets import interact, interactive, fixed, interact_manual\n",
    "import ipywidgets as widgets\n",
    "\n",
    "pylab.rcParams['figure.figsize'] = (10,5)"
   ]
  },
  {
   "cell_type": "markdown",
   "metadata": {},
   "source": [
    "# Machine Learning with Python\n",
    "\n",
    "Machine learning is a subset of the field of artificial intelligence that seeks to create computer systems that effectively perform specified tasks without explicit human instruction. It is a heavily data-driven application that is based on the scientific study of algorithms and statistical models.\n",
    "\n",
    "There are a variety of machine learning techniques, including:\n",
    "\n",
    "* Regression/Estimation: predicting continuous variables\n",
    "* Classification: predicting binary outcomes\n",
    "* Clustering: finding/summarizing similar data\n",
    "* Associations: linking frequent co-occurrences\n",
    "* Anomaly Detection: identifying outliers\n",
    "* Sequence Mining: predicting next events\n",
    "* Dimension Reduction: reducing the number of random variables (ex: PCA)\n",
    "* Recommendation Systems: suggesting items based on historical preferences\n",
    "\n",
    "## Supervised vs. Unsupervised Learning\n",
    "\n",
    "Supervised models are \"taught\" in a controlled environment using historical labeled datasets with the goal of predicting future outcomes. When viewing a labeled dataset, column headers are referred to as \"attributes\", while column themselves are referred to as \"features\". Data in any one cell in a column can be either numeric or categorical. Finally, each row, or observation, corresponds to a single occurrence posessing all of the attributes. The two main types of supervised learning techniques are classification and regression.\n",
    "\n",
    "Unsupervised models independently discover relevant information using an unlabeled dataset. These algorithms tend to be more complex, have fewer evaluation methods and operate in a less controlled environment. Common methods include dimension reduction, density estimation, market basket analysis and clustering.\n"
   ]
  },
  {
   "cell_type": "markdown",
   "metadata": {},
   "source": [
    "### Regression\n",
    "\n",
    "Regression models can be classified based on a) the number of independent variables and b) the nature of the relationship between independent and dependent variables:\n",
    "\n",
    "* **Simple Regression** (1 independent variable): $\\hat{y} = \\theta_0 + \\theta_{1}x_1$\n",
    "    * Simple Linear Regression\n",
    "    * Simple Non-Linear Regression\n",
    "* **Multiple Regression** (>1 independent variables): $\\hat{y} = \\theta_0 + \\theta_{1}x_1 + \\theta_{2}x_2\\;+\\; ... +\\;\\theta_{n}x_n = \\theta^TX$ (a hyperplane)\n",
    "    * Multiple Linear Regression\n",
    "    * Multiple Non-Linear Regression\n",
    "    \n",
    "For simple regression, it is easy to calculate the optimum $\\theta$ values either formulaically or via optimization. Computation becomes more difficult and resource intensive for multiple regression. Although linear algebra operations can be applied to smaller datasets, an optimization approach such as gradient descent, stochastic gradient descent or Newton's method should be used when the number of rows exceeds 10k or when performing multiple linear regression.\n",
    "\n",
    "Linear regression has many benefits. For one, it's fast and easy to understand. It also does not require the tuning of parameters. However, there are many other types of regression algorithms, including:\n",
    "\n",
    "* Ordinal regression\n",
    "* Poisson regression\n",
    "* Fast forest quantile regression\n",
    "* Linear, polynomial, lasso, stepwise, ridge regression\n",
    "* Bayesian linear regression\n",
    "* Neural network regression\n",
    "* Decision forest regression\n",
    "* Boosted decision tree regression\n",
    "* KNN (K-nearest neighbors)\n",
    "\n",
    "The fundamental compromise of fitting regression models is the trade-off between training accuracy and out-of-sample accuracy. Although it is desirable to use all data available when training a model, training and testing using the same dataset has its drawbacks. Typically, this method results in high training accuracy but tends to \"over-fit\" the data, capturing noise rather than the underlying process. Thus, when applied to new data, these non-generalized models can be highly inaccurate.\n",
    "\n",
    "Train/test split provides a more accurate evaluation of out-of-sample data. Models are trained and tested on mutually exclusive segments of the dataset. Unfortunatley this method also has its drawbacks, including being highly dependent on which segments are chosen as training vs. test data. Happily, K-fold cross-validation minimizes many of the shortcomings of the train/test split method. In this technique, results from multiple iterations of train/test splits are averaged to produce a more consistent out-of-sample accuracy.\n",
    "\n",
    "**Model evaluation metrics** are used to assess fit and hone models. In this context, error refers to the difference between actual and predicted values. There are several different ways to calculate the error of a model:\n",
    "\n",
    "* Mean Absolute Error: $MAE = \\frac{1}{n}\\sum_{i=1}^{n}|y_i-\\hat{y}_i|$ *\\*easiest to understand*\n",
    "* Mean Squared Error: $MSE = \\frac{1}{n}\\sum_{i=1}^{n}(y_i-\\hat{y}_i)^2$ *\\*geared towards larger errors*\n",
    "* Root Mean Squared Error: $RMSE = \\sqrt{\\frac{1}{n}\\sum_{i=1}^{n}(y_i-\\hat{y}_i)^2}$ *\\*interpretable in the same units as the response variable*\n",
    "* Relative Absolute Error aka Residual Sum of Squares: $RAE = \\frac{\\sum_{i=1}^{n}|y_i-\\hat{y}_i|}{\\sum_{i=1}^{n}|y_i-\\bar{y}_i|}$ *\\*normalizes total absolute error by dividing by total absolute error*\n",
    "* Relative Squared Error: $RSE = \\frac{\\sum_{i=1}^{n}(y_i-\\hat{y}_i)^2}{\\sum_{i=1}^{n}(y_i-\\bar{y}_i)^2}$ *\\*used to calculate $R^2$*\n",
    "* Coefficient of Determination aka $R^2$: $R^2 = 1 - RSE$"
   ]
  },
  {
   "cell_type": "code",
   "execution_count": 4,
   "metadata": {},
   "outputs": [
    {
     "data": {
      "text/html": [
       "<div>\n",
       "<style scoped>\n",
       "    .dataframe tbody tr th:only-of-type {\n",
       "        vertical-align: middle;\n",
       "    }\n",
       "\n",
       "    .dataframe tbody tr th {\n",
       "        vertical-align: top;\n",
       "    }\n",
       "\n",
       "    .dataframe thead th {\n",
       "        text-align: right;\n",
       "    }\n",
       "</style>\n",
       "<table border=\"1\" class=\"dataframe\">\n",
       "  <thead>\n",
       "    <tr style=\"text-align: right;\">\n",
       "      <th></th>\n",
       "      <th>MODELYEAR</th>\n",
       "      <th>MAKE</th>\n",
       "      <th>MODEL</th>\n",
       "      <th>VEHICLECLASS</th>\n",
       "      <th>ENGINESIZE</th>\n",
       "      <th>CYLINDERS</th>\n",
       "      <th>TRANSMISSION</th>\n",
       "      <th>FUELTYPE</th>\n",
       "      <th>FUELCONSUMPTION_CITY</th>\n",
       "      <th>FUELCONSUMPTION_HWY</th>\n",
       "      <th>FUELCONSUMPTION_COMB</th>\n",
       "      <th>FUELCONSUMPTION_COMB_MPG</th>\n",
       "      <th>CO2EMISSIONS</th>\n",
       "    </tr>\n",
       "  </thead>\n",
       "  <tbody>\n",
       "    <tr>\n",
       "      <th>0</th>\n",
       "      <td>2014</td>\n",
       "      <td>ACURA</td>\n",
       "      <td>ILX</td>\n",
       "      <td>COMPACT</td>\n",
       "      <td>2.0</td>\n",
       "      <td>4</td>\n",
       "      <td>AS5</td>\n",
       "      <td>Z</td>\n",
       "      <td>9.9</td>\n",
       "      <td>6.7</td>\n",
       "      <td>8.5</td>\n",
       "      <td>33</td>\n",
       "      <td>196</td>\n",
       "    </tr>\n",
       "    <tr>\n",
       "      <th>1</th>\n",
       "      <td>2014</td>\n",
       "      <td>ACURA</td>\n",
       "      <td>ILX</td>\n",
       "      <td>COMPACT</td>\n",
       "      <td>2.4</td>\n",
       "      <td>4</td>\n",
       "      <td>M6</td>\n",
       "      <td>Z</td>\n",
       "      <td>11.2</td>\n",
       "      <td>7.7</td>\n",
       "      <td>9.6</td>\n",
       "      <td>29</td>\n",
       "      <td>221</td>\n",
       "    </tr>\n",
       "    <tr>\n",
       "      <th>2</th>\n",
       "      <td>2014</td>\n",
       "      <td>ACURA</td>\n",
       "      <td>ILX HYBRID</td>\n",
       "      <td>COMPACT</td>\n",
       "      <td>1.5</td>\n",
       "      <td>4</td>\n",
       "      <td>AV7</td>\n",
       "      <td>Z</td>\n",
       "      <td>6.0</td>\n",
       "      <td>5.8</td>\n",
       "      <td>5.9</td>\n",
       "      <td>48</td>\n",
       "      <td>136</td>\n",
       "    </tr>\n",
       "    <tr>\n",
       "      <th>3</th>\n",
       "      <td>2014</td>\n",
       "      <td>ACURA</td>\n",
       "      <td>MDX 4WD</td>\n",
       "      <td>SUV - SMALL</td>\n",
       "      <td>3.5</td>\n",
       "      <td>6</td>\n",
       "      <td>AS6</td>\n",
       "      <td>Z</td>\n",
       "      <td>12.7</td>\n",
       "      <td>9.1</td>\n",
       "      <td>11.1</td>\n",
       "      <td>25</td>\n",
       "      <td>255</td>\n",
       "    </tr>\n",
       "    <tr>\n",
       "      <th>4</th>\n",
       "      <td>2014</td>\n",
       "      <td>ACURA</td>\n",
       "      <td>RDX AWD</td>\n",
       "      <td>SUV - SMALL</td>\n",
       "      <td>3.5</td>\n",
       "      <td>6</td>\n",
       "      <td>AS6</td>\n",
       "      <td>Z</td>\n",
       "      <td>12.1</td>\n",
       "      <td>8.7</td>\n",
       "      <td>10.6</td>\n",
       "      <td>27</td>\n",
       "      <td>244</td>\n",
       "    </tr>\n",
       "  </tbody>\n",
       "</table>\n",
       "</div>"
      ],
      "text/plain": [
       "   MODELYEAR   MAKE       MODEL VEHICLECLASS  ENGINESIZE  CYLINDERS  \\\n",
       "0       2014  ACURA         ILX      COMPACT         2.0          4   \n",
       "1       2014  ACURA         ILX      COMPACT         2.4          4   \n",
       "2       2014  ACURA  ILX HYBRID      COMPACT         1.5          4   \n",
       "3       2014  ACURA     MDX 4WD  SUV - SMALL         3.5          6   \n",
       "4       2014  ACURA     RDX AWD  SUV - SMALL         3.5          6   \n",
       "\n",
       "  TRANSMISSION FUELTYPE  FUELCONSUMPTION_CITY  FUELCONSUMPTION_HWY  \\\n",
       "0          AS5        Z                   9.9                  6.7   \n",
       "1           M6        Z                  11.2                  7.7   \n",
       "2          AV7        Z                   6.0                  5.8   \n",
       "3          AS6        Z                  12.7                  9.1   \n",
       "4          AS6        Z                  12.1                  8.7   \n",
       "\n",
       "   FUELCONSUMPTION_COMB  FUELCONSUMPTION_COMB_MPG  CO2EMISSIONS  \n",
       "0                   8.5                        33           196  \n",
       "1                   9.6                        29           221  \n",
       "2                   5.9                        48           136  \n",
       "3                  11.1                        25           255  \n",
       "4                  10.6                        27           244  "
      ]
     },
     "execution_count": 4,
     "metadata": {},
     "output_type": "execute_result"
    }
   ],
   "source": [
    "# Load dataset\n",
    "df = pd.read_csv(\"assets/FuelConsumption.csv\")\n",
    "df.head()"
   ]
  },
  {
   "cell_type": "code",
   "execution_count": 5,
   "metadata": {},
   "outputs": [
    {
     "data": {
      "text/html": [
       "<div>\n",
       "<style scoped>\n",
       "    .dataframe tbody tr th:only-of-type {\n",
       "        vertical-align: middle;\n",
       "    }\n",
       "\n",
       "    .dataframe tbody tr th {\n",
       "        vertical-align: top;\n",
       "    }\n",
       "\n",
       "    .dataframe thead th {\n",
       "        text-align: right;\n",
       "    }\n",
       "</style>\n",
       "<table border=\"1\" class=\"dataframe\">\n",
       "  <thead>\n",
       "    <tr style=\"text-align: right;\">\n",
       "      <th></th>\n",
       "      <th>CYLINDERS</th>\n",
       "      <th>ENGINESIZE</th>\n",
       "      <th>FUELCONSUMPTION_COMB</th>\n",
       "      <th>CO2EMISSIONS</th>\n",
       "    </tr>\n",
       "  </thead>\n",
       "  <tbody>\n",
       "    <tr>\n",
       "      <th>0</th>\n",
       "      <td>4</td>\n",
       "      <td>2.0</td>\n",
       "      <td>8.5</td>\n",
       "      <td>196</td>\n",
       "    </tr>\n",
       "    <tr>\n",
       "      <th>1</th>\n",
       "      <td>4</td>\n",
       "      <td>2.4</td>\n",
       "      <td>9.6</td>\n",
       "      <td>221</td>\n",
       "    </tr>\n",
       "    <tr>\n",
       "      <th>2</th>\n",
       "      <td>4</td>\n",
       "      <td>1.5</td>\n",
       "      <td>5.9</td>\n",
       "      <td>136</td>\n",
       "    </tr>\n",
       "    <tr>\n",
       "      <th>3</th>\n",
       "      <td>6</td>\n",
       "      <td>3.5</td>\n",
       "      <td>11.1</td>\n",
       "      <td>255</td>\n",
       "    </tr>\n",
       "    <tr>\n",
       "      <th>4</th>\n",
       "      <td>6</td>\n",
       "      <td>3.5</td>\n",
       "      <td>10.6</td>\n",
       "      <td>244</td>\n",
       "    </tr>\n",
       "  </tbody>\n",
       "</table>\n",
       "</div>"
      ],
      "text/plain": [
       "   CYLINDERS  ENGINESIZE  FUELCONSUMPTION_COMB  CO2EMISSIONS\n",
       "0          4         2.0                   8.5           196\n",
       "1          4         2.4                   9.6           221\n",
       "2          4         1.5                   5.9           136\n",
       "3          6         3.5                  11.1           255\n",
       "4          6         3.5                  10.6           244"
      ]
     },
     "execution_count": 5,
     "metadata": {},
     "output_type": "execute_result"
    }
   ],
   "source": [
    "# Extract relevant variables\n",
    "car_df = df[[\"CYLINDERS\", \"ENGINESIZE\", \"FUELCONSUMPTION_COMB\", \"CO2EMISSIONS\"]]\n",
    "car_df.head()"
   ]
  },
  {
   "cell_type": "code",
   "execution_count": 6,
   "metadata": {},
   "outputs": [
    {
     "data": {
      "image/png": "[encoded data removed]",
      "text/plain": [
       "<Figure size 1080x576 with 4 Axes>"
      ]
     },
     "metadata": {
      "needs_background": "light"
     },
     "output_type": "display_data"
    }
   ],
   "source": [
    "# Visualize variables\n",
    "car_df.hist(figsize=(15,8))\n",
    "plt.show()"
   ]
  },
  {
   "cell_type": "code",
   "execution_count": 7,
   "metadata": {},
   "outputs": [
    {
     "name": "stdout",
     "output_type": "stream",
     "text": [
      "Number of training samples: 852\n",
      "Number of testing samples: 215\n"
     ]
    }
   ],
   "source": [
    "# Create train/test split - Method 1\n",
    "mask = np.random.rand(len(car_df)) < 0.8\n",
    "train = car_df[mask] # 80% for training\n",
    "test = car_df[~mask] # 20% for testing\n",
    "\n",
    "print(\"Number of training samples:\", train.shape[0])\n",
    "print(\"Number of testing samples:\", test.shape[0])"
   ]
  },
  {
   "cell_type": "code",
   "execution_count": 8,
   "metadata": {},
   "outputs": [
    {
     "name": "stdout",
     "output_type": "stream",
     "text": [
      "Number of training samples: 853\n",
      "Number of testing samples: 214\n"
     ]
    }
   ],
   "source": [
    "# Create train/test split - Method 2\n",
    "y = car_df[\"CO2EMISSIONS\"]\n",
    "x = car_df.drop(\"CO2EMISSIONS\", axis=1)\n",
    "x_train, x_test, y_train, y_test = train_test_split(x, y, test_size=0.2, random_state=0) # The benefit is that with random_state, groups are fixed\n",
    "\n",
    "print(\"Number of training samples:\", x_train.shape[0])\n",
    "print(\"Number of testing samples:\", x_test.shape[0])"
   ]
  },
  {
   "cell_type": "markdown",
   "metadata": {},
   "source": [
    "#### Fit a Simple Linear Regression Model\n",
    "\n",
    "Simple linear regression models attempt to fit a line to a dataset that represents a fundamentally linear signal (plus noise)."
   ]
  },
  {
   "cell_type": "code",
   "execution_count": 9,
   "metadata": {},
   "outputs": [
    {
     "name": "stdout",
     "output_type": "stream",
     "text": [
      "Estimated Linear Model Paramters => Intercept: 3.09 | 5.00\n"
     ]
    },
    {
     "data": {
      "image/png": "[encoded data removed]",
      "text/plain": [
       "<Figure size 432x288 with 1 Axes>"
      ]
     },
     "metadata": {
      "needs_background": "light"
     },
     "output_type": "display_data"
    }
   ],
   "source": [
    "slope = 5\n",
    "intercept = 3\n",
    "\n",
    "x = np.arange(-5, 5, 0.1)\n",
    "y = intercept + slope * x\n",
    "y_noise = np.random.normal(size=x.size)\n",
    "ydata = y + y_noise\n",
    "\n",
    "sns.lineplot(x, y) # Underlying signal\n",
    "sns.scatterplot(x, ydata) # Noise\n",
    "\n",
    "lm = LinearRegression()\n",
    "lm.fit(x.reshape(-1, 1), ydata)\n",
    "print(\"Estimated Linear Model Paramters => Intercept: {:0.2f} | {:0.2f}\".format(lm.intercept_, lm.coef_[0]))"
   ]
  },
  {
   "cell_type": "code",
   "execution_count": 10,
   "metadata": {},
   "outputs": [
    {
     "name": "stdout",
     "output_type": "stream",
     "text": [
      "Coefficient: [39.30478079] Intercept: 124.04490165689162\n"
     ]
    }
   ],
   "source": [
    "# Train model - Method 1\n",
    "lm = LinearRegression()\n",
    "lm.fit(train[[\"ENGINESIZE\"]], train[\"CO2EMISSIONS\"])\n",
    "print(\"Coefficient:\", lm.coef_, \"Intercept:\", lm.intercept_)"
   ]
  },
  {
   "cell_type": "code",
   "execution_count": 11,
   "metadata": {},
   "outputs": [
    {
     "name": "stdout",
     "output_type": "stream",
     "text": [
      "Coefficient: [39.24838431] Intercept: 126.1892015472493\n"
     ]
    }
   ],
   "source": [
    "# Train model - Method 1\n",
    "lm = LinearRegression()\n",
    "lm.fit(x_train[[\"ENGINESIZE\"]], y_train)\n",
    "print(\"Coefficient:\", lm.coef_, \"Intercept:\", lm.intercept_)"
   ]
  },
  {
   "cell_type": "code",
   "execution_count": 12,
   "metadata": {},
   "outputs": [
    {
     "data": {
      "image/png": "[encoded data removed]",
      "text/plain": [
       "<Figure size 432x288 with 1 Axes>"
      ]
     },
     "metadata": {
      "needs_background": "light"
     },
     "output_type": "display_data"
    }
   ],
   "source": [
    "# Plot regression line\n",
    "car_df.plot(kind=\"scatter\", x=\"ENGINESIZE\", y=\"CO2EMISSIONS\")\n",
    "x_min = car_df[\"ENGINESIZE\"].min()\n",
    "x_max = car_df[\"ENGINESIZE\"].max()\n",
    "x_range = np.linspace(x_min, x_max, 1000)\n",
    "plt.plot(x_range, lm.intercept_ + lm.coef_[0] * x_range, color='r')\n",
    "label = \"y_hat = \" + str(round(lm.intercept_,2)) + \" + \" + str(round(lm.coef_[0],2)) + \"x\"\n",
    "plt.annotate(label, xy=(5, 170), color='r')\n",
    "\n",
    "plt.title(\"Relationship Between Engine Size & CO2 Emissions\")\n",
    "plt.show()"
   ]
  },
  {
   "cell_type": "code",
   "execution_count": 13,
   "metadata": {},
   "outputs": [
    {
     "name": "stdout",
     "output_type": "stream",
     "text": [
      "Two ways to calculate R2: 0.72, 0.72\n",
      "MSE: 1181.528809303555\n"
     ]
    }
   ],
   "source": [
    "# Evaluate regression model\n",
    "y_hat = lm.predict(x_test[[\"ENGINESIZE\"]])\n",
    "r2 = lm.score(x_test[[\"ENGINESIZE\"]], y_test) # Note this takes as input test x and test y\n",
    "r2_v2 = r2_score(y_test, y_hat) # Note this takes as input the test y and the predicted y\n",
    "\n",
    "mse = mean_squared_error(y_test, y_hat)\n",
    "\n",
    "print(\"Two ways to calculate R2: {:0.2f}, {:0.2f}\".format(r2, r2_v2))\n",
    "print(\"MSE:\", mse)"
   ]
  },
  {
   "cell_type": "markdown",
   "metadata": {},
   "source": [
    "#### Fit a Multiple Linear Regression Model\n",
    "\n",
    "As with simple linear regression, multiple linear regression involves estimating the intercept and coefficient of each indenpendent variable. Rather than define a line, however, these parameters define the hyperplane of best fit."
   ]
  },
  {
   "cell_type": "code",
   "execution_count": 14,
   "metadata": {},
   "outputs": [
    {
     "name": "stdout",
     "output_type": "stream",
     "text": [
      "Coefficient: [11.98993058  7.54469599  8.98695981] Intercept: 69.05220992553777\n"
     ]
    }
   ],
   "source": [
    "features = ['ENGINESIZE','CYLINDERS','FUELCONSUMPTION_COMB']\n",
    "lm = LinearRegression()\n",
    "lm.fit(x_train[features], y_train)\n",
    "print(\"Coefficient:\", lm.coef_, \"Intercept:\", lm.intercept_)"
   ]
  },
  {
   "cell_type": "code",
   "execution_count": 15,
   "metadata": {},
   "outputs": [
    {
     "name": "stdout",
     "output_type": "stream",
     "text": [
      "R2: 0.86\n",
      "MSE: 589.24\n"
     ]
    }
   ],
   "source": [
    "y_hat = lm.predict(x_test[features])\n",
    "r2 = r2_score(y_test.array, y_hat)\n",
    "\n",
    "mse = mean_squared_error(y_test, y_hat)\n",
    "\n",
    "print(\"R2: {:0.2f}\".format(r2))\n",
    "print(\"MSE: {:0.2f}\".format(mse))"
   ]
  },
  {
   "cell_type": "markdown",
   "metadata": {},
   "source": [
    "#### Fit a Polynomial Regression Model\n",
    "\n",
    "Polynomial regression involves fitting a model in the form of an nth degree polynomial: $\\hat{y} = \\theta_0 + \\theta_1x_1 + \\theta_2x_2^2 + ... + \\theta_nx_n^n$. This is done using a Scikit-learn method called ```fit_transform()```, which derives a new feature set from the existing feature set and, in doing so, reduces the problem to one involving simple linear regression. The number of features that are generated depend on the degree of the polynomial; for example, transforming a third degree polynomial would require 4 sets of features.\n",
    "\n",
    "A residual plot is an easy way to visualize the relationship between variables. Residuals that vary along the x axis indicate a measure of non-linearity."
   ]
  },
  {
   "cell_type": "code",
   "execution_count": 16,
   "metadata": {},
   "outputs": [
    {
     "data": {
      "image/png": "[encoded data removed]",
      "text/plain": [
       "<Figure size 432x288 with 1 Axes>"
      ]
     },
     "metadata": {
      "needs_background": "light"
     },
     "output_type": "display_data"
    }
   ],
   "source": [
    "sns.residplot(x_train[['FUELCONSUMPTION_COMB']], y_train)\n",
    "plt.show()"
   ]
  },
  {
   "cell_type": "code",
   "execution_count": 17,
   "metadata": {},
   "outputs": [
    {
     "name": "stdout",
     "output_type": "stream",
     "text": [
      "MSE:  469.1296167212955\n",
      "R2:  0.8888709628290828\n"
     ]
    }
   ],
   "source": [
    "poly = PolynomialFeatures(degree=3)\n",
    "x_train_trans = poly.fit_transform(x_train[['FUELCONSUMPTION_COMB']])\n",
    "x_test_trans = poly.fit_transform(x_test[['FUELCONSUMPTION_COMB']])\n",
    "\n",
    "lm = LinearRegression()\n",
    "lm.fit(x_train_trans, y_train)\n",
    "\n",
    "y_hat = lm.predict(x_test_trans)\n",
    "print(\"MSE: \", mean_squared_error(y_test, y_hat))\n",
    "print(\"R2: \", r2_score(y_test, y_hat))"
   ]
  },
  {
   "cell_type": "markdown",
   "metadata": {},
   "source": [
    "#### Fit a Non-Linear Regression Model\n",
    "\n",
    "First, visualize the data to determine whether a non-linear model might be appropriate."
   ]
  },
  {
   "cell_type": "code",
   "execution_count": 18,
   "metadata": {},
   "outputs": [
    {
     "data": {
      "text/html": [
       "<div>\n",
       "<style scoped>\n",
       "    .dataframe tbody tr th:only-of-type {\n",
       "        vertical-align: middle;\n",
       "    }\n",
       "\n",
       "    .dataframe tbody tr th {\n",
       "        vertical-align: top;\n",
       "    }\n",
       "\n",
       "    .dataframe thead th {\n",
       "        text-align: right;\n",
       "    }\n",
       "</style>\n",
       "<table border=\"1\" class=\"dataframe\">\n",
       "  <thead>\n",
       "    <tr style=\"text-align: right;\">\n",
       "      <th></th>\n",
       "      <th>Year</th>\n",
       "      <th>Value</th>\n",
       "    </tr>\n",
       "  </thead>\n",
       "  <tbody>\n",
       "    <tr>\n",
       "      <th>0</th>\n",
       "      <td>1960</td>\n",
       "      <td>5.918412e+10</td>\n",
       "    </tr>\n",
       "    <tr>\n",
       "      <th>1</th>\n",
       "      <td>1961</td>\n",
       "      <td>4.955705e+10</td>\n",
       "    </tr>\n",
       "    <tr>\n",
       "      <th>2</th>\n",
       "      <td>1962</td>\n",
       "      <td>4.668518e+10</td>\n",
       "    </tr>\n",
       "    <tr>\n",
       "      <th>3</th>\n",
       "      <td>1963</td>\n",
       "      <td>5.009730e+10</td>\n",
       "    </tr>\n",
       "    <tr>\n",
       "      <th>4</th>\n",
       "      <td>1964</td>\n",
       "      <td>5.906225e+10</td>\n",
       "    </tr>\n",
       "  </tbody>\n",
       "</table>\n",
       "</div>"
      ],
      "text/plain": [
       "   Year         Value\n",
       "0  1960  5.918412e+10\n",
       "1  1961  4.955705e+10\n",
       "2  1962  4.668518e+10\n",
       "3  1963  5.009730e+10\n",
       "4  1964  5.906225e+10"
      ]
     },
     "execution_count": 18,
     "metadata": {},
     "output_type": "execute_result"
    }
   ],
   "source": [
    "df = pd.read_csv(\"assets/china_gdp.csv\")\n",
    "df.head()"
   ]
  },
  {
   "cell_type": "code",
   "execution_count": 19,
   "metadata": {},
   "outputs": [
    {
     "data": {
      "image/png": "[encoded data removed]",
      "text/plain": [
       "<Figure size 576x360 with 1 Axes>"
      ]
     },
     "metadata": {
      "needs_background": "light"
     },
     "output_type": "display_data"
    }
   ],
   "source": [
    "df.plot(kind=\"scatter\", x=\"Year\", y=\"Value\", figsize=(8,5))\n",
    "plt.show()"
   ]
  },
  {
   "cell_type": "markdown",
   "metadata": {},
   "source": [
    "This plot indicates indicates a non-linear relationship between variables and resembles (somewhat) a sigmoid/logistic function of the form: $\\hat{y} = \\frac{1}{1 + e^{\\beta_1(X-\\beta_2)}}$. We can define a logistic function and then use Scikit-learn's ```curve_fit()``` method to determine the optimal model parameters that minimize the sum of the squared residuals of ```f(x, *popt) - y```."
   ]
  },
  {
   "cell_type": "code",
   "execution_count": 20,
   "metadata": {},
   "outputs": [],
   "source": [
    "def logistic(x, beta_1, beta_2):\n",
    "    y = 1 / (1 + np.exp(-beta_1*(x - beta_2)))\n",
    "    return y"
   ]
  },
  {
   "cell_type": "code",
   "execution_count": 21,
   "metadata": {},
   "outputs": [
    {
     "data": {
      "image/png": "[encoded data removed]",
      "text/plain": [
       "<Figure size 576x360 with 1 Axes>"
      ]
     },
     "metadata": {
      "needs_background": "light"
     },
     "output_type": "display_data"
    }
   ],
   "source": [
    "beta_1 = 0.10\n",
    "beta_2 = 1990.0\n",
    "\n",
    "y = logistic(df[\"Year\"], beta_1, beta_2)\n",
    "\n",
    "plt.figure(figsize=(8,5))\n",
    "plt.plot(df[\"Year\"], y)\n",
    "plt.show()"
   ]
  },
  {
   "cell_type": "code",
   "execution_count": 22,
   "metadata": {},
   "outputs": [],
   "source": [
    "# Normalize data\n",
    "x_norm = df[\"Year\"]/df[\"Year\"].max()\n",
    "y_norm = df[\"Value\"]/df[\"Value\"].max()"
   ]
  },
  {
   "cell_type": "code",
   "execution_count": 23,
   "metadata": {},
   "outputs": [
    {
     "name": "stdout",
     "output_type": "stream",
     "text": [
      "Optimal parameters: [690.4530181    0.99720713]\n"
     ]
    }
   ],
   "source": [
    "# Fit to logistic model\n",
    "popt, pcov = curve_fit(logistic, x_norm, y_norm) # Returns the optimal parameters and their covariance\n",
    "print(\"Optimal parameters:\", popt)"
   ]
  },
  {
   "cell_type": "code",
   "execution_count": 24,
   "metadata": {},
   "outputs": [
    {
     "data": {
      "image/png": "[encoded data removed]",
      "text/plain": [
       "<Figure size 576x360 with 1 Axes>"
      ]
     },
     "metadata": {
      "needs_background": "light"
     },
     "output_type": "display_data"
    }
   ],
   "source": [
    "# Plot the model\n",
    "x_range = np.linspace(1960, 2015, 55)\n",
    "x_range = x_range/max(x_range)\n",
    "\n",
    "y_hat = logistic(x_range, *popt)\n",
    "\n",
    "plt.figure(figsize=(8,5))\n",
    "plt.plot(x_norm, y_norm, 'ro', label=\"Actual Data\")\n",
    "plt.plot(x_range, y_hat, 'b', label=\"Fit\")\n",
    "plt.legend(loc=\"best\")\n",
    "plt.xlabel(\"Year\")\n",
    "plt.ylabel(\"GDP\")\n",
    "plt.show()"
   ]
  },
  {
   "cell_type": "code",
   "execution_count": 25,
   "metadata": {},
   "outputs": [
    {
     "name": "stdout",
     "output_type": "stream",
     "text": [
      "R2: 0.86\n"
     ]
    }
   ],
   "source": [
    "# Calculate the accuracy of the model\n",
    "x_train, x_test, y_train, y_test = train_test_split(x_norm, y_norm, test_size=0.2, random_state=0)\n",
    "\n",
    "popt, pcov = curve_fit(logistic, x_train, y_train)\n",
    "\n",
    "y_hat = logistic(x_test, *popt)\n",
    "\n",
    "print(\"R2: {:0.2f}\".format(r2_score(y_test, y_hat)))"
   ]
  },
  {
   "cell_type": "markdown",
   "metadata": {},
   "source": [
    "### Classification"
   ]
  },
  {
   "cell_type": "markdown",
   "metadata": {},
   "source": [
    "Classification is a supervised learning approach where the target a categorical variable with discrete values. In the simplest case, the model outputs a binary prediction of ```0``` or ```1```; in the more sophisticated case, a multi-class classifier predicts outputs within a set of discrete values, such as ```[\"DrugA\",\"DrugB\",\"DrugC\"]```.\n",
    "\n",
    "Classification has many practical uses include handwriting recognition, spam detection and document classification. Types of algorithms include:\n",
    "\n",
    "* Decision Trees\n",
    "* Naive Bayes\n",
    "* Linear Discriminant Analysis\n",
    "* K-Nearest Neighbor\n",
    "\n",
    "* Logistic Regression\n",
    "* Neural Networks\n",
    "* Support Vector Machines (SVM)"
   ]
  },
  {
   "cell_type": "markdown",
   "metadata": {},
   "source": [
    "#### K-Nearest Neighbor\n",
    "\n",
    "KNN is an algorithm that utlizes a consensus-based approach to classification in which unknown cases are categorized based on their similarity to known cases. One way to calculate similarity is in terms of Euclidian distance, however other measures may be appropriate based on the data. The trick is to find the number of neighbors, ```k```, which produces the best predictions (when applied to test data).\n",
    "\n",
    "KNN can also be used for regression. In this case, the predicted value is calculated as the average or median target value of the nearest neighbors (ex: averaging nearby house prices)."
   ]
  },
  {
   "cell_type": "code",
   "execution_count": 26,
   "metadata": {},
   "outputs": [
    {
     "data": {
      "text/html": [
       "<div>\n",
       "<style scoped>\n",
       "    .dataframe tbody tr th:only-of-type {\n",
       "        vertical-align: middle;\n",
       "    }\n",
       "\n",
       "    .dataframe tbody tr th {\n",
       "        vertical-align: top;\n",
       "    }\n",
       "\n",
       "    .dataframe thead th {\n",
       "        text-align: right;\n",
       "    }\n",
       "</style>\n",
       "<table border=\"1\" class=\"dataframe\">\n",
       "  <thead>\n",
       "    <tr style=\"text-align: right;\">\n",
       "      <th></th>\n",
       "      <th>region</th>\n",
       "      <th>tenure</th>\n",
       "      <th>age</th>\n",
       "      <th>marital</th>\n",
       "      <th>address</th>\n",
       "      <th>income</th>\n",
       "      <th>ed</th>\n",
       "      <th>employ</th>\n",
       "      <th>retire</th>\n",
       "      <th>gender</th>\n",
       "      <th>reside</th>\n",
       "      <th>custcat</th>\n",
       "    </tr>\n",
       "  </thead>\n",
       "  <tbody>\n",
       "    <tr>\n",
       "      <th>0</th>\n",
       "      <td>2</td>\n",
       "      <td>13</td>\n",
       "      <td>44</td>\n",
       "      <td>1</td>\n",
       "      <td>9</td>\n",
       "      <td>64.0</td>\n",
       "      <td>4</td>\n",
       "      <td>5</td>\n",
       "      <td>0.0</td>\n",
       "      <td>0</td>\n",
       "      <td>2</td>\n",
       "      <td>1</td>\n",
       "    </tr>\n",
       "    <tr>\n",
       "      <th>1</th>\n",
       "      <td>3</td>\n",
       "      <td>11</td>\n",
       "      <td>33</td>\n",
       "      <td>1</td>\n",
       "      <td>7</td>\n",
       "      <td>136.0</td>\n",
       "      <td>5</td>\n",
       "      <td>5</td>\n",
       "      <td>0.0</td>\n",
       "      <td>0</td>\n",
       "      <td>6</td>\n",
       "      <td>4</td>\n",
       "    </tr>\n",
       "    <tr>\n",
       "      <th>2</th>\n",
       "      <td>3</td>\n",
       "      <td>68</td>\n",
       "      <td>52</td>\n",
       "      <td>1</td>\n",
       "      <td>24</td>\n",
       "      <td>116.0</td>\n",
       "      <td>1</td>\n",
       "      <td>29</td>\n",
       "      <td>0.0</td>\n",
       "      <td>1</td>\n",
       "      <td>2</td>\n",
       "      <td>3</td>\n",
       "    </tr>\n",
       "    <tr>\n",
       "      <th>3</th>\n",
       "      <td>2</td>\n",
       "      <td>33</td>\n",
       "      <td>33</td>\n",
       "      <td>0</td>\n",
       "      <td>12</td>\n",
       "      <td>33.0</td>\n",
       "      <td>2</td>\n",
       "      <td>0</td>\n",
       "      <td>0.0</td>\n",
       "      <td>1</td>\n",
       "      <td>1</td>\n",
       "      <td>1</td>\n",
       "    </tr>\n",
       "    <tr>\n",
       "      <th>4</th>\n",
       "      <td>2</td>\n",
       "      <td>23</td>\n",
       "      <td>30</td>\n",
       "      <td>1</td>\n",
       "      <td>9</td>\n",
       "      <td>30.0</td>\n",
       "      <td>1</td>\n",
       "      <td>2</td>\n",
       "      <td>0.0</td>\n",
       "      <td>0</td>\n",
       "      <td>4</td>\n",
       "      <td>3</td>\n",
       "    </tr>\n",
       "  </tbody>\n",
       "</table>\n",
       "</div>"
      ],
      "text/plain": [
       "   region  tenure  age  marital  address  income  ed  employ  retire  gender  \\\n",
       "0       2      13   44        1        9    64.0   4       5     0.0       0   \n",
       "1       3      11   33        1        7   136.0   5       5     0.0       0   \n",
       "2       3      68   52        1       24   116.0   1      29     0.0       1   \n",
       "3       2      33   33        0       12    33.0   2       0     0.0       1   \n",
       "4       2      23   30        1        9    30.0   1       2     0.0       0   \n",
       "\n",
       "   reside  custcat  \n",
       "0       2        1  \n",
       "1       6        4  \n",
       "2       2        3  \n",
       "3       1        1  \n",
       "4       4        3  "
      ]
     },
     "execution_count": 26,
     "metadata": {},
     "output_type": "execute_result"
    }
   ],
   "source": [
    "# Load dataset - target is 'custcat', a numerical categorical variable between 1-4\n",
    "df = pd.read_csv(\"assets/teleCust1000t.csv\")\n",
    "df.head()"
   ]
  },
  {
   "cell_type": "code",
   "execution_count": 27,
   "metadata": {},
   "outputs": [
    {
     "data": {
      "text/plain": [
       "Index(['region', 'tenure', 'age', 'marital', 'address', 'income', 'ed',\n",
       "       'employ', 'retire', 'gender', 'reside', 'custcat'],\n",
       "      dtype='object')"
      ]
     },
     "execution_count": 27,
     "metadata": {},
     "output_type": "execute_result"
    }
   ],
   "source": [
    "# Determine which columns represent independent/dependent variables\n",
    "df.columns"
   ]
  },
  {
   "cell_type": "code",
   "execution_count": 28,
   "metadata": {},
   "outputs": [
    {
     "data": {
      "text/plain": [
       "array([1, 4, 3, 1, 3])"
      ]
     },
     "execution_count": 28,
     "metadata": {},
     "output_type": "execute_result"
    }
   ],
   "source": [
    "# Convert dataframes to Numpy arrays\n",
    "x = df[['region', 'tenure', 'age', 'marital', 'address', 'income', 'ed',\n",
    "       'employ', 'retire', 'gender', 'reside']].values\n",
    "y = df['custcat'].values\n",
    "y[0:5]"
   ]
  },
  {
   "cell_type": "code",
   "execution_count": 29,
   "metadata": {},
   "outputs": [],
   "source": [
    "# Normalize values so that data has zero mean and unit variance\n",
    "# Good practice for KNN, which is based on distance calculations\n",
    "x = StandardScaler().fit(x).transform(x.astype(float))"
   ]
  },
  {
   "cell_type": "code",
   "execution_count": 30,
   "metadata": {},
   "outputs": [],
   "source": [
    "# Create train/test split\n",
    "x_train, x_test, y_train, y_test = train_test_split(x, y, test_size=0.2, random_state=4)"
   ]
  },
  {
   "cell_type": "code",
   "execution_count": 31,
   "metadata": {},
   "outputs": [
    {
     "data": {
      "text/plain": [
       "KNeighborsClassifier(algorithm='auto', leaf_size=30, metric='minkowski',\n",
       "                     metric_params=None, n_jobs=None, n_neighbors=4, p=2,\n",
       "                     weights='uniform')"
      ]
     },
     "execution_count": 31,
     "metadata": {},
     "output_type": "execute_result"
    }
   ],
   "source": [
    "# Fit KNN model\n",
    "knn = KNeighborsClassifier(n_neighbors=4).fit(x_train, y_train)\n",
    "knn"
   ]
  },
  {
   "cell_type": "code",
   "execution_count": 32,
   "metadata": {},
   "outputs": [
    {
     "data": {
      "text/plain": [
       "array([1, 1, 3, 2, 4])"
      ]
     },
     "execution_count": 32,
     "metadata": {},
     "output_type": "execute_result"
    }
   ],
   "source": [
    "# Predict using model\n",
    "y_hat = knn.predict(x_test)\n",
    "y_hat[0:5]"
   ]
  },
  {
   "cell_type": "code",
   "execution_count": 33,
   "metadata": {},
   "outputs": [
    {
     "data": {
      "text/plain": [
       "0.32"
      ]
     },
     "execution_count": 33,
     "metadata": {},
     "output_type": "execute_result"
    }
   ],
   "source": [
    "# Evaluate accuracy\n",
    "accuracy_score(y_test, y_hat)"
   ]
  },
  {
   "cell_type": "code",
   "execution_count": 34,
   "metadata": {},
   "outputs": [
    {
     "data": {
      "text/plain": [
       "array([0.3  , 0.29 , 0.315, 0.32 , 0.315, 0.31 , 0.335, 0.325, 0.34 ])"
      ]
     },
     "execution_count": 34,
     "metadata": {},
     "output_type": "execute_result"
    }
   ],
   "source": [
    "# Find the optimal k\n",
    "k = 10\n",
    "mean_acc = np.zeros((k-1))\n",
    "std_acc = np.zeros((k-1))\n",
    "for i in range(1, 10):\n",
    "    knn = KNeighborsClassifier(n_neighbors=i).fit(x_train, y_train)\n",
    "    y_hat = knn.predict(x_test)\n",
    "    mean_acc[i-1] = accuracy_score(y_test, y_hat)\n",
    "    std_acc[i-1] = np.std(y_hat==y_test)/np.sqrt(y_hat.shape[0])\n",
    "\n",
    "mean_acc"
   ]
  },
  {
   "cell_type": "code",
   "execution_count": 35,
   "metadata": {},
   "outputs": [
    {
     "name": "stdout",
     "output_type": "stream",
     "text": [
      "Best accuracy achieved with 0.34 with k= 9\n"
     ]
    },
    {
     "data": {
      "image/png": "[encoded data removed]",
      "text/plain": [
       "<Figure size 432x288 with 1 Axes>"
      ]
     },
     "metadata": {
      "needs_background": "light"
     },
     "output_type": "display_data"
    }
   ],
   "source": [
    "print(\"Best accuracy achieved with\", mean_acc.max(), \"with k=\", mean_acc.argmax()+1)\n",
    "plt.plot(range(1,k),mean_acc,'g')\n",
    "plt.fill_between(range(1,k),mean_acc - 1 * std_acc,mean_acc + 1 * std_acc, alpha=0.10)\n",
    "plt.legend(('Accuracy ', '+/- 3xstd'))\n",
    "plt.ylabel('Accuracy ')\n",
    "plt.xlabel('Number of Nabors (K)')\n",
    "plt.tight_layout()\n",
    "plt.show()"
   ]
  },
  {
   "cell_type": "markdown",
   "metadata": {},
   "source": [
    "#### Decision Trees\n",
    "\n",
    "A decision tree is a classification model that embodies the hierarchical importance of data attributes. A tree-like structure of internal nodes (tests) and branches (test results) is created by iteratively identifying which attribute have the most predictiveness and information gain. The goal are pure nodes consisting of one single categorical variable (entropy = 0)."
   ]
  },
  {
   "cell_type": "code",
   "execution_count": 36,
   "metadata": {},
   "outputs": [
    {
     "data": {
      "text/html": [
       "<div>\n",
       "<style scoped>\n",
       "    .dataframe tbody tr th:only-of-type {\n",
       "        vertical-align: middle;\n",
       "    }\n",
       "\n",
       "    .dataframe tbody tr th {\n",
       "        vertical-align: top;\n",
       "    }\n",
       "\n",
       "    .dataframe thead th {\n",
       "        text-align: right;\n",
       "    }\n",
       "</style>\n",
       "<table border=\"1\" class=\"dataframe\">\n",
       "  <thead>\n",
       "    <tr style=\"text-align: right;\">\n",
       "      <th></th>\n",
       "      <th>Age</th>\n",
       "      <th>Sex</th>\n",
       "      <th>BP</th>\n",
       "      <th>Cholesterol</th>\n",
       "      <th>Na_to_K</th>\n",
       "      <th>Drug</th>\n",
       "    </tr>\n",
       "  </thead>\n",
       "  <tbody>\n",
       "    <tr>\n",
       "      <th>0</th>\n",
       "      <td>23</td>\n",
       "      <td>F</td>\n",
       "      <td>HIGH</td>\n",
       "      <td>HIGH</td>\n",
       "      <td>25.355</td>\n",
       "      <td>drugY</td>\n",
       "    </tr>\n",
       "    <tr>\n",
       "      <th>1</th>\n",
       "      <td>47</td>\n",
       "      <td>M</td>\n",
       "      <td>LOW</td>\n",
       "      <td>HIGH</td>\n",
       "      <td>13.093</td>\n",
       "      <td>drugC</td>\n",
       "    </tr>\n",
       "    <tr>\n",
       "      <th>2</th>\n",
       "      <td>47</td>\n",
       "      <td>M</td>\n",
       "      <td>LOW</td>\n",
       "      <td>HIGH</td>\n",
       "      <td>10.114</td>\n",
       "      <td>drugC</td>\n",
       "    </tr>\n",
       "    <tr>\n",
       "      <th>3</th>\n",
       "      <td>28</td>\n",
       "      <td>F</td>\n",
       "      <td>NORMAL</td>\n",
       "      <td>HIGH</td>\n",
       "      <td>7.798</td>\n",
       "      <td>drugX</td>\n",
       "    </tr>\n",
       "    <tr>\n",
       "      <th>4</th>\n",
       "      <td>61</td>\n",
       "      <td>F</td>\n",
       "      <td>LOW</td>\n",
       "      <td>HIGH</td>\n",
       "      <td>18.043</td>\n",
       "      <td>drugY</td>\n",
       "    </tr>\n",
       "  </tbody>\n",
       "</table>\n",
       "</div>"
      ],
      "text/plain": [
       "   Age Sex      BP Cholesterol  Na_to_K   Drug\n",
       "0   23   F    HIGH        HIGH   25.355  drugY\n",
       "1   47   M     LOW        HIGH   13.093  drugC\n",
       "2   47   M     LOW        HIGH   10.114  drugC\n",
       "3   28   F  NORMAL        HIGH    7.798  drugX\n",
       "4   61   F     LOW        HIGH   18.043  drugY"
      ]
     },
     "execution_count": 36,
     "metadata": {},
     "output_type": "execute_result"
    }
   ],
   "source": [
    "df = pd.read_csv(\"assets/drug200.csv\")\n",
    "df.head()"
   ]
  },
  {
   "cell_type": "code",
   "execution_count": 37,
   "metadata": {},
   "outputs": [],
   "source": [
    "# Extract independent/dependent variables\n",
    "x = df[[\"Age\", \"Sex\", \"BP\", \"Cholesterol\", \"Na_to_K\"]].values\n",
    "y = df[\"Drug\"]"
   ]
  },
  {
   "cell_type": "code",
   "execution_count": 38,
   "metadata": {},
   "outputs": [],
   "source": [
    "# Convert categorical variables into numerical variables\n",
    "le_sex = LabelEncoder()\n",
    "le_sex.fit(['F','M'])\n",
    "x[:,1] = le_sex.transform(x[:,1])\n",
    "\n",
    "le_BP = LabelEncoder()\n",
    "le_BP.fit([\"LOW\", \"NORMAL\", \"HIGH\"])\n",
    "x[:,2] = le_BP.transform(x[:,2])\n",
    "\n",
    "le_chol = LabelEncoder()\n",
    "le_chol.fit([\"NORMAL\", \"HIGH\"])\n",
    "x[:,3] = le_chol.transform(x[:,3])"
   ]
  },
  {
   "cell_type": "code",
   "execution_count": 39,
   "metadata": {},
   "outputs": [],
   "source": [
    "# Create train/test split\n",
    "x_train, x_test, y_train, y_test = train_test_split(x, y, test_size=0.3, random_state=3)"
   ]
  },
  {
   "cell_type": "code",
   "execution_count": 40,
   "metadata": {},
   "outputs": [],
   "source": [
    "# Create model\n",
    "tree = DecisionTreeClassifier(criterion=\"entropy\", max_depth=4)"
   ]
  },
  {
   "cell_type": "code",
   "execution_count": 41,
   "metadata": {},
   "outputs": [
    {
     "data": {
      "text/plain": [
       "DecisionTreeClassifier(class_weight=None, criterion='entropy', max_depth=4,\n",
       "                       max_features=None, max_leaf_nodes=None,\n",
       "                       min_impurity_decrease=0.0, min_impurity_split=None,\n",
       "                       min_samples_leaf=1, min_samples_split=2,\n",
       "                       min_weight_fraction_leaf=0.0, presort=False,\n",
       "                       random_state=None, splitter='best')"
      ]
     },
     "execution_count": 41,
     "metadata": {},
     "output_type": "execute_result"
    }
   ],
   "source": [
    "# Fit model\n",
    "tree.fit(x_train, y_train)"
   ]
  },
  {
   "cell_type": "code",
   "execution_count": 42,
   "metadata": {},
   "outputs": [
    {
     "data": {
      "text/plain": [
       "0    drugY\n",
       "1    drugC\n",
       "2    drugC\n",
       "3    drugX\n",
       "4    drugY\n",
       "Name: Drug, dtype: object"
      ]
     },
     "execution_count": 42,
     "metadata": {},
     "output_type": "execute_result"
    }
   ],
   "source": [
    "# Predict\n",
    "y_hat = tree.predict(x_test)\n",
    "y[0:5]"
   ]
  },
  {
   "cell_type": "code",
   "execution_count": 43,
   "metadata": {},
   "outputs": [
    {
     "name": "stdout",
     "output_type": "stream",
     "text": [
      "Accuracy score= 0.9833333333333333\n"
     ]
    }
   ],
   "source": [
    "print(\"Accuracy score=\", accuracy_score(y_test, y_hat))"
   ]
  },
  {
   "cell_type": "markdown",
   "metadata": {},
   "source": [
    "#### Logistic Regression\n",
    "\n",
    "Logistic regression is analogous to linear regression but seeks to predict  a categorical rather than a numerical target value. The goal is to create a model that not only predicts the class of each sample, but also returns the probability of the match and allows us to understand the impact of each independent variable on the dependent variable. It can be used for both binary and multi-class classification. \n",
    "\n",
    "Linearly separable datasets are prime targets for logistic regression applications; depending on the dimensionality of the problem, the decision boundary will be a line or a plane or a hyperplane. All points on one side of this boundary will belong to one class, while all those on the other side will belong to the other class. Optimal parameters are determined iteratively using gradient descent.\n",
    "\n",
    "The general process of training a logistic regression model:\n",
    "\n",
    "* Initialize model parameters with random values: $\\theta^T = [\\theta_1, \\theta_2, \\theta_3, ..., \\theta_k]$\n",
    "* Calculate the error using the cost function (on the training set): $J(\\theta) = -\\frac{1}{m}\\sum_{i-1}^{m}y^ilog(\\hat{y}^i) + (1 - y^i)log(1-\\hat{y}^i)$\n",
    "* Calculate the gradient of the cost function to determine how to adjust parameters to further minimize cost: $\\triangledown_J = [\\frac{\\delta J}{\\delta\\theta_1}, \\frac{\\delta J}{\\delta\\theta_2}, \\frac{\\delta J}{\\delta\\theta_3},...,\\frac{\\delta J}{\\delta\\theta_k}]$\n",
    "* Update parameters/weights with new values: $\\theta_{new} = \\theta_{old}-\\eta\\triangledown J$\n",
    "* Iteratively calculate errors until cost is minimized.\n",
    "\n",
    "Logistic regression fits a sigmoid ($\\sigma$) or logistic function to the linear regression result, $\\theta^TX$, resulting in a probability function: $P(Y=1|X) = \\sigma(\\theta^TX) = \\frac{e^{\\theta^TX}}{1+e^{\\theta^TX}}$.\n",
    "\n",
    "The **Jaccard index** or Jaccard similarity coefficient is often used to assess model accuracy. It is defined as the size of the intersection divided by the size of the union of two label sets. If predicted labels are identical to actual labels, the Jaccard index equals one."
   ]
  },
  {
   "cell_type": "code",
   "execution_count": 44,
   "metadata": {},
   "outputs": [
    {
     "data": {
      "text/html": [
       "<div>\n",
       "<style scoped>\n",
       "    .dataframe tbody tr th:only-of-type {\n",
       "        vertical-align: middle;\n",
       "    }\n",
       "\n",
       "    .dataframe tbody tr th {\n",
       "        vertical-align: top;\n",
       "    }\n",
       "\n",
       "    .dataframe thead th {\n",
       "        text-align: right;\n",
       "    }\n",
       "</style>\n",
       "<table border=\"1\" class=\"dataframe\">\n",
       "  <thead>\n",
       "    <tr style=\"text-align: right;\">\n",
       "      <th></th>\n",
       "      <th>tenure</th>\n",
       "      <th>age</th>\n",
       "      <th>address</th>\n",
       "      <th>income</th>\n",
       "      <th>ed</th>\n",
       "      <th>employ</th>\n",
       "      <th>equip</th>\n",
       "      <th>callcard</th>\n",
       "      <th>wireless</th>\n",
       "      <th>longmon</th>\n",
       "      <th>...</th>\n",
       "      <th>pager</th>\n",
       "      <th>internet</th>\n",
       "      <th>callwait</th>\n",
       "      <th>confer</th>\n",
       "      <th>ebill</th>\n",
       "      <th>loglong</th>\n",
       "      <th>logtoll</th>\n",
       "      <th>lninc</th>\n",
       "      <th>custcat</th>\n",
       "      <th>churn</th>\n",
       "    </tr>\n",
       "  </thead>\n",
       "  <tbody>\n",
       "    <tr>\n",
       "      <th>0</th>\n",
       "      <td>11.0</td>\n",
       "      <td>33.0</td>\n",
       "      <td>7.0</td>\n",
       "      <td>136.0</td>\n",
       "      <td>5.0</td>\n",
       "      <td>5.0</td>\n",
       "      <td>0.0</td>\n",
       "      <td>1.0</td>\n",
       "      <td>1.0</td>\n",
       "      <td>4.40</td>\n",
       "      <td>...</td>\n",
       "      <td>1.0</td>\n",
       "      <td>0.0</td>\n",
       "      <td>1.0</td>\n",
       "      <td>1.0</td>\n",
       "      <td>0.0</td>\n",
       "      <td>1.482</td>\n",
       "      <td>3.033</td>\n",
       "      <td>4.913</td>\n",
       "      <td>4.0</td>\n",
       "      <td>1.0</td>\n",
       "    </tr>\n",
       "    <tr>\n",
       "      <th>1</th>\n",
       "      <td>33.0</td>\n",
       "      <td>33.0</td>\n",
       "      <td>12.0</td>\n",
       "      <td>33.0</td>\n",
       "      <td>2.0</td>\n",
       "      <td>0.0</td>\n",
       "      <td>0.0</td>\n",
       "      <td>0.0</td>\n",
       "      <td>0.0</td>\n",
       "      <td>9.45</td>\n",
       "      <td>...</td>\n",
       "      <td>0.0</td>\n",
       "      <td>0.0</td>\n",
       "      <td>0.0</td>\n",
       "      <td>0.0</td>\n",
       "      <td>0.0</td>\n",
       "      <td>2.246</td>\n",
       "      <td>3.240</td>\n",
       "      <td>3.497</td>\n",
       "      <td>1.0</td>\n",
       "      <td>1.0</td>\n",
       "    </tr>\n",
       "    <tr>\n",
       "      <th>2</th>\n",
       "      <td>23.0</td>\n",
       "      <td>30.0</td>\n",
       "      <td>9.0</td>\n",
       "      <td>30.0</td>\n",
       "      <td>1.0</td>\n",
       "      <td>2.0</td>\n",
       "      <td>0.0</td>\n",
       "      <td>0.0</td>\n",
       "      <td>0.0</td>\n",
       "      <td>6.30</td>\n",
       "      <td>...</td>\n",
       "      <td>0.0</td>\n",
       "      <td>0.0</td>\n",
       "      <td>0.0</td>\n",
       "      <td>1.0</td>\n",
       "      <td>0.0</td>\n",
       "      <td>1.841</td>\n",
       "      <td>3.240</td>\n",
       "      <td>3.401</td>\n",
       "      <td>3.0</td>\n",
       "      <td>0.0</td>\n",
       "    </tr>\n",
       "    <tr>\n",
       "      <th>3</th>\n",
       "      <td>38.0</td>\n",
       "      <td>35.0</td>\n",
       "      <td>5.0</td>\n",
       "      <td>76.0</td>\n",
       "      <td>2.0</td>\n",
       "      <td>10.0</td>\n",
       "      <td>1.0</td>\n",
       "      <td>1.0</td>\n",
       "      <td>1.0</td>\n",
       "      <td>6.05</td>\n",
       "      <td>...</td>\n",
       "      <td>1.0</td>\n",
       "      <td>1.0</td>\n",
       "      <td>1.0</td>\n",
       "      <td>1.0</td>\n",
       "      <td>1.0</td>\n",
       "      <td>1.800</td>\n",
       "      <td>3.807</td>\n",
       "      <td>4.331</td>\n",
       "      <td>4.0</td>\n",
       "      <td>0.0</td>\n",
       "    </tr>\n",
       "    <tr>\n",
       "      <th>4</th>\n",
       "      <td>7.0</td>\n",
       "      <td>35.0</td>\n",
       "      <td>14.0</td>\n",
       "      <td>80.0</td>\n",
       "      <td>2.0</td>\n",
       "      <td>15.0</td>\n",
       "      <td>0.0</td>\n",
       "      <td>1.0</td>\n",
       "      <td>0.0</td>\n",
       "      <td>7.10</td>\n",
       "      <td>...</td>\n",
       "      <td>0.0</td>\n",
       "      <td>0.0</td>\n",
       "      <td>1.0</td>\n",
       "      <td>1.0</td>\n",
       "      <td>0.0</td>\n",
       "      <td>1.960</td>\n",
       "      <td>3.091</td>\n",
       "      <td>4.382</td>\n",
       "      <td>3.0</td>\n",
       "      <td>0.0</td>\n",
       "    </tr>\n",
       "  </tbody>\n",
       "</table>\n",
       "<p>5 rows × 28 columns</p>\n",
       "</div>"
      ],
      "text/plain": [
       "   tenure   age  address  income   ed  employ  equip  callcard  wireless  \\\n",
       "0    11.0  33.0      7.0   136.0  5.0     5.0    0.0       1.0       1.0   \n",
       "1    33.0  33.0     12.0    33.0  2.0     0.0    0.0       0.0       0.0   \n",
       "2    23.0  30.0      9.0    30.0  1.0     2.0    0.0       0.0       0.0   \n",
       "3    38.0  35.0      5.0    76.0  2.0    10.0    1.0       1.0       1.0   \n",
       "4     7.0  35.0     14.0    80.0  2.0    15.0    0.0       1.0       0.0   \n",
       "\n",
       "   longmon  ...  pager  internet  callwait  confer  ebill  loglong  logtoll  \\\n",
       "0     4.40  ...    1.0       0.0       1.0     1.0    0.0    1.482    3.033   \n",
       "1     9.45  ...    0.0       0.0       0.0     0.0    0.0    2.246    3.240   \n",
       "2     6.30  ...    0.0       0.0       0.0     1.0    0.0    1.841    3.240   \n",
       "3     6.05  ...    1.0       1.0       1.0     1.0    1.0    1.800    3.807   \n",
       "4     7.10  ...    0.0       0.0       1.0     1.0    0.0    1.960    3.091   \n",
       "\n",
       "   lninc  custcat  churn  \n",
       "0  4.913      4.0    1.0  \n",
       "1  3.497      1.0    1.0  \n",
       "2  3.401      3.0    0.0  \n",
       "3  4.331      4.0    0.0  \n",
       "4  4.382      3.0    0.0  \n",
       "\n",
       "[5 rows x 28 columns]"
      ]
     },
     "execution_count": 44,
     "metadata": {},
     "output_type": "execute_result"
    }
   ],
   "source": [
    "# Load the dataset\n",
    "churn_df = pd.read_csv(\"assets/ChurnData.csv\")\n",
    "churn_df.head() # Where churn is the target categorical variable"
   ]
  },
  {
   "cell_type": "code",
   "execution_count": 45,
   "metadata": {},
   "outputs": [
    {
     "data": {
      "text/html": [
       "<div>\n",
       "<style scoped>\n",
       "    .dataframe tbody tr th:only-of-type {\n",
       "        vertical-align: middle;\n",
       "    }\n",
       "\n",
       "    .dataframe tbody tr th {\n",
       "        vertical-align: top;\n",
       "    }\n",
       "\n",
       "    .dataframe thead th {\n",
       "        text-align: right;\n",
       "    }\n",
       "</style>\n",
       "<table border=\"1\" class=\"dataframe\">\n",
       "  <thead>\n",
       "    <tr style=\"text-align: right;\">\n",
       "      <th></th>\n",
       "      <th>tenure</th>\n",
       "      <th>age</th>\n",
       "      <th>address</th>\n",
       "      <th>income</th>\n",
       "      <th>ed</th>\n",
       "      <th>employ</th>\n",
       "      <th>equip</th>\n",
       "      <th>callcard</th>\n",
       "      <th>wireless</th>\n",
       "      <th>churn</th>\n",
       "    </tr>\n",
       "  </thead>\n",
       "  <tbody>\n",
       "    <tr>\n",
       "      <th>0</th>\n",
       "      <td>11.0</td>\n",
       "      <td>33.0</td>\n",
       "      <td>7.0</td>\n",
       "      <td>136.0</td>\n",
       "      <td>5.0</td>\n",
       "      <td>5.0</td>\n",
       "      <td>0.0</td>\n",
       "      <td>1.0</td>\n",
       "      <td>1.0</td>\n",
       "      <td>1.0</td>\n",
       "    </tr>\n",
       "    <tr>\n",
       "      <th>1</th>\n",
       "      <td>33.0</td>\n",
       "      <td>33.0</td>\n",
       "      <td>12.0</td>\n",
       "      <td>33.0</td>\n",
       "      <td>2.0</td>\n",
       "      <td>0.0</td>\n",
       "      <td>0.0</td>\n",
       "      <td>0.0</td>\n",
       "      <td>0.0</td>\n",
       "      <td>1.0</td>\n",
       "    </tr>\n",
       "    <tr>\n",
       "      <th>2</th>\n",
       "      <td>23.0</td>\n",
       "      <td>30.0</td>\n",
       "      <td>9.0</td>\n",
       "      <td>30.0</td>\n",
       "      <td>1.0</td>\n",
       "      <td>2.0</td>\n",
       "      <td>0.0</td>\n",
       "      <td>0.0</td>\n",
       "      <td>0.0</td>\n",
       "      <td>0.0</td>\n",
       "    </tr>\n",
       "    <tr>\n",
       "      <th>3</th>\n",
       "      <td>38.0</td>\n",
       "      <td>35.0</td>\n",
       "      <td>5.0</td>\n",
       "      <td>76.0</td>\n",
       "      <td>2.0</td>\n",
       "      <td>10.0</td>\n",
       "      <td>1.0</td>\n",
       "      <td>1.0</td>\n",
       "      <td>1.0</td>\n",
       "      <td>0.0</td>\n",
       "    </tr>\n",
       "    <tr>\n",
       "      <th>4</th>\n",
       "      <td>7.0</td>\n",
       "      <td>35.0</td>\n",
       "      <td>14.0</td>\n",
       "      <td>80.0</td>\n",
       "      <td>2.0</td>\n",
       "      <td>15.0</td>\n",
       "      <td>0.0</td>\n",
       "      <td>1.0</td>\n",
       "      <td>0.0</td>\n",
       "      <td>0.0</td>\n",
       "    </tr>\n",
       "  </tbody>\n",
       "</table>\n",
       "</div>"
      ],
      "text/plain": [
       "   tenure   age  address  income   ed  employ  equip  callcard  wireless  \\\n",
       "0    11.0  33.0      7.0   136.0  5.0     5.0    0.0       1.0       1.0   \n",
       "1    33.0  33.0     12.0    33.0  2.0     0.0    0.0       0.0       0.0   \n",
       "2    23.0  30.0      9.0    30.0  1.0     2.0    0.0       0.0       0.0   \n",
       "3    38.0  35.0      5.0    76.0  2.0    10.0    1.0       1.0       1.0   \n",
       "4     7.0  35.0     14.0    80.0  2.0    15.0    0.0       1.0       0.0   \n",
       "\n",
       "   churn  \n",
       "0    1.0  \n",
       "1    1.0  \n",
       "2    0.0  \n",
       "3    0.0  \n",
       "4    0.0  "
      ]
     },
     "execution_count": 45,
     "metadata": {},
     "output_type": "execute_result"
    }
   ],
   "source": [
    "# Isolate independent/dependent variables, format data\n",
    "churn_df = churn_df[[\"tenure\", \"age\", \"address\", \"income\", \"ed\", \"employ\", \"equip\", \"callcard\", \"wireless\", \"churn\"]]\n",
    "churn_df[\"churn\"].astype(int)\n",
    "churn_df.head()"
   ]
  },
  {
   "cell_type": "code",
   "execution_count": 46,
   "metadata": {},
   "outputs": [],
   "source": [
    "# Format & transform the data\n",
    "X = np.asarray(churn_df[[\"tenure\", \"age\", \"address\", \"income\", \"ed\", \"employ\", \"equip\", \"callcard\", \"wireless\"]])\n",
    "y = np.asarray(churn_df[\"churn\"])\n",
    "X_trans = StandardScaler().fit(X).transform(X)"
   ]
  },
  {
   "cell_type": "code",
   "execution_count": 47,
   "metadata": {},
   "outputs": [],
   "source": [
    "# Split dataset\n",
    "X_train, X_test, y_train, y_test = train_test_split(X_trans, y, test_size=0.2, random_state=4)"
   ]
  },
  {
   "cell_type": "code",
   "execution_count": 48,
   "metadata": {},
   "outputs": [
    {
     "data": {
      "text/plain": [
       "LogisticRegression(C=0.01, class_weight=None, dual=False, fit_intercept=True,\n",
       "                   intercept_scaling=1, l1_ratio=None, max_iter=100,\n",
       "                   multi_class='warn', n_jobs=None, penalty='l2',\n",
       "                   random_state=None, solver='liblinear', tol=0.0001, verbose=0,\n",
       "                   warm_start=False)"
      ]
     },
     "execution_count": 48,
     "metadata": {},
     "output_type": "execute_result"
    }
   ],
   "source": [
    "# Train the model\n",
    "logm = LogisticRegression(C=0.01, solver='liblinear').fit(X_train, y_train)\n",
    "logm"
   ]
  },
  {
   "cell_type": "code",
   "execution_count": 49,
   "metadata": {},
   "outputs": [
    {
     "data": {
      "text/plain": [
       "array([0., 0., 0., 0., 0., 0., 1., 0., 1., 0., 0., 0., 0., 1., 0., 0., 1.,\n",
       "       1., 1., 0., 0., 1., 0., 1., 1., 0., 1., 1., 1., 0., 0., 0., 1., 0.,\n",
       "       0., 0., 1., 0., 0., 1.])"
      ]
     },
     "execution_count": 49,
     "metadata": {},
     "output_type": "execute_result"
    }
   ],
   "source": [
    "# Predict\n",
    "y_hat = logm.predict(X_test)\n",
    "y_hat_proba = logm.predict_proba(X_test)\n",
    "y_hat"
   ]
  },
  {
   "cell_type": "markdown",
   "metadata": {},
   "source": [
    "#### Evaluation Methods\n",
    "\n",
    "* Jaccard Index (1 being perfect)\n",
    "* Confusion Matrix\n",
    "* Classification Report\n",
    "    * Precision = TP / (TP + FP)\n",
    "    * Recall = TP / (TP + FN)\n",
    "    * F1 Score: the harmonic average of precision and recall (1 being perfect)"
   ]
  },
  {
   "cell_type": "code",
   "execution_count": 50,
   "metadata": {},
   "outputs": [
    {
     "data": {
      "text/plain": [
       "0.36363636363636365"
      ]
     },
     "execution_count": 50,
     "metadata": {},
     "output_type": "execute_result"
    }
   ],
   "source": [
    "# Calculate the Jaccard index\n",
    "jaccard_score(y_test, y_hat)"
   ]
  },
  {
   "cell_type": "code",
   "execution_count": 51,
   "metadata": {},
   "outputs": [],
   "source": [
    "# Create confusion matrix\n",
    "def plot_confusion_matrix(cm, classes,\n",
    "                          normalize=False,\n",
    "                          title='Confusion matrix',\n",
    "                          cmap=plt.cm.Greens):\n",
    "    \"\"\"\n",
    "    This function prints and plots the confusion matrix.\n",
    "    Normalization can be applied by setting `normalize=True`.\n",
    "    \"\"\"\n",
    "    if normalize:\n",
    "        cm = cm.astype('float') / cm.sum(axis=1)[:, np.newaxis]\n",
    "        print(\"Normalized confusion matrix\")\n",
    "    else:\n",
    "        print('Confusion matrix, without normalization')\n",
    "\n",
    "    print(cm)\n",
    "\n",
    "    plt.imshow(cm, interpolation='nearest', cmap=cmap)\n",
    "    plt.title(title)\n",
    "    plt.colorbar()\n",
    "    tick_marks = np.arange(len(classes))\n",
    "    plt.xticks(tick_marks, classes, rotation=45)\n",
    "    plt.yticks(tick_marks, classes)\n",
    "\n",
    "    fmt = '.2f' if normalize else 'd'\n",
    "    thresh = cm.max() / 2.\n",
    "    for i, j in itertools.product(range(cm.shape[0]), range(cm.shape[1])):\n",
    "        plt.text(j, i, format(cm[i, j], fmt),\n",
    "                 horizontalalignment=\"center\",\n",
    "                 color=\"white\" if cm[i, j] > thresh else \"black\")\n",
    "\n",
    "    plt.tight_layout()\n",
    "    plt.ylabel('True label')\n",
    "    plt.xlabel('Predicted label')"
   ]
  },
  {
   "cell_type": "code",
   "execution_count": 52,
   "metadata": {},
   "outputs": [
    {
     "name": "stdout",
     "output_type": "stream",
     "text": [
      "Confusion matrix, without normalization\n",
      "[[ 8  7]\n",
      " [ 7 18]]\n"
     ]
    },
    {
     "data": {
      "image/png": "[encoded data removed]",
      "text/plain": [
       "<Figure size 720x360 with 2 Axes>"
      ]
     },
     "metadata": {
      "needs_background": "light"
     },
     "output_type": "display_data"
    }
   ],
   "source": [
    "cnf_matrix = confusion_matrix(y_test, y_hat, labels=[1,0])\n",
    "np.set_printoptions(precision=2)\n",
    "\n",
    "plt.figure(figsize=(10,5))\n",
    "plot_confusion_matrix(cnf_matrix, classes=[\"churn=1\", \"churn=0\"], normalize=False, title=\"Confusion Matrix\")"
   ]
  },
  {
   "cell_type": "code",
   "execution_count": 53,
   "metadata": {},
   "outputs": [
    {
     "name": "stdout",
     "output_type": "stream",
     "text": [
      "              precision    recall  f1-score   support\n",
      "\n",
      "         0.0       0.72      0.72      0.72        25\n",
      "         1.0       0.53      0.53      0.53        15\n",
      "\n",
      "    accuracy                           0.65        40\n",
      "   macro avg       0.63      0.63      0.63        40\n",
      "weighted avg       0.65      0.65      0.65        40\n",
      "\n"
     ]
    }
   ],
   "source": [
    "print(classification_report(y_test, y_hat))"
   ]
  },
  {
   "cell_type": "markdown",
   "metadata": {},
   "source": [
    "#### Support Vector Machine (SVM)\n",
    "\n",
    "SVM classifiers seek to find the hyperplane that optimally delineates different classes of data. As most datasets are linearly inseparable, the model must first apply kernelling. This process maps data into a higher dimensional space in such a way that causes the dataset to become linearly separable. The best hyperplane is the one that maximizes the margin between support vectors (the innermost points between classes of data).\n",
    "\n",
    "The result of SVM are the parameters that define the hyperplane boundary. Using this equation, we can calculate whether an unknown point falls into the class \"above\" or \"below\" the boundary.\n",
    "\n",
    "While SVM is computationally efficient (as it uses only a subset of the data) and accurate in high-dimensional space, it does not provide estimation of probabilities, like logistic regression. It is also prone to over-fitting."
   ]
  },
  {
   "cell_type": "code",
   "execution_count": 54,
   "metadata": {},
   "outputs": [
    {
     "data": {
      "text/html": [
       "<div>\n",
       "<style scoped>\n",
       "    .dataframe tbody tr th:only-of-type {\n",
       "        vertical-align: middle;\n",
       "    }\n",
       "\n",
       "    .dataframe tbody tr th {\n",
       "        vertical-align: top;\n",
       "    }\n",
       "\n",
       "    .dataframe thead th {\n",
       "        text-align: right;\n",
       "    }\n",
       "</style>\n",
       "<table border=\"1\" class=\"dataframe\">\n",
       "  <thead>\n",
       "    <tr style=\"text-align: right;\">\n",
       "      <th></th>\n",
       "      <th>ID</th>\n",
       "      <th>Clump</th>\n",
       "      <th>UnifSize</th>\n",
       "      <th>UnifShape</th>\n",
       "      <th>MargAdh</th>\n",
       "      <th>SingEpiSize</th>\n",
       "      <th>BareNuc</th>\n",
       "      <th>BlandChrom</th>\n",
       "      <th>NormNucl</th>\n",
       "      <th>Mit</th>\n",
       "      <th>Class</th>\n",
       "    </tr>\n",
       "  </thead>\n",
       "  <tbody>\n",
       "    <tr>\n",
       "      <th>0</th>\n",
       "      <td>1000025</td>\n",
       "      <td>5</td>\n",
       "      <td>1</td>\n",
       "      <td>1</td>\n",
       "      <td>1</td>\n",
       "      <td>2</td>\n",
       "      <td>1</td>\n",
       "      <td>3</td>\n",
       "      <td>1</td>\n",
       "      <td>1</td>\n",
       "      <td>2</td>\n",
       "    </tr>\n",
       "    <tr>\n",
       "      <th>1</th>\n",
       "      <td>1002945</td>\n",
       "      <td>5</td>\n",
       "      <td>4</td>\n",
       "      <td>4</td>\n",
       "      <td>5</td>\n",
       "      <td>7</td>\n",
       "      <td>10</td>\n",
       "      <td>3</td>\n",
       "      <td>2</td>\n",
       "      <td>1</td>\n",
       "      <td>2</td>\n",
       "    </tr>\n",
       "    <tr>\n",
       "      <th>2</th>\n",
       "      <td>1015425</td>\n",
       "      <td>3</td>\n",
       "      <td>1</td>\n",
       "      <td>1</td>\n",
       "      <td>1</td>\n",
       "      <td>2</td>\n",
       "      <td>2</td>\n",
       "      <td>3</td>\n",
       "      <td>1</td>\n",
       "      <td>1</td>\n",
       "      <td>2</td>\n",
       "    </tr>\n",
       "    <tr>\n",
       "      <th>3</th>\n",
       "      <td>1016277</td>\n",
       "      <td>6</td>\n",
       "      <td>8</td>\n",
       "      <td>8</td>\n",
       "      <td>1</td>\n",
       "      <td>3</td>\n",
       "      <td>4</td>\n",
       "      <td>3</td>\n",
       "      <td>7</td>\n",
       "      <td>1</td>\n",
       "      <td>2</td>\n",
       "    </tr>\n",
       "    <tr>\n",
       "      <th>4</th>\n",
       "      <td>1017023</td>\n",
       "      <td>4</td>\n",
       "      <td>1</td>\n",
       "      <td>1</td>\n",
       "      <td>3</td>\n",
       "      <td>2</td>\n",
       "      <td>1</td>\n",
       "      <td>3</td>\n",
       "      <td>1</td>\n",
       "      <td>1</td>\n",
       "      <td>2</td>\n",
       "    </tr>\n",
       "  </tbody>\n",
       "</table>\n",
       "</div>"
      ],
      "text/plain": [
       "        ID  Clump  UnifSize  UnifShape  MargAdh  SingEpiSize BareNuc  \\\n",
       "0  1000025      5         1          1        1            2       1   \n",
       "1  1002945      5         4          4        5            7      10   \n",
       "2  1015425      3         1          1        1            2       2   \n",
       "3  1016277      6         8          8        1            3       4   \n",
       "4  1017023      4         1          1        3            2       1   \n",
       "\n",
       "   BlandChrom  NormNucl  Mit  Class  \n",
       "0           3         1    1      2  \n",
       "1           3         2    1      2  \n",
       "2           3         1    1      2  \n",
       "3           3         7    1      2  \n",
       "4           3         1    1      2  "
      ]
     },
     "execution_count": 54,
     "metadata": {},
     "output_type": "execute_result"
    }
   ],
   "source": [
    "# Load data\n",
    "cell_df = pd.read_csv(\"assets/cell_samples.csv\")\n",
    "cell_df.head() # Target = Class, where 2 = benign and 4 = malignant"
   ]
  },
  {
   "cell_type": "code",
   "execution_count": 55,
   "metadata": {},
   "outputs": [
    {
     "data": {
      "text/plain": [
       "1     402\n",
       "10    132\n",
       "5      30\n",
       "2      30\n",
       "3      28\n",
       "8      21\n",
       "4      19\n",
       "?      16\n",
       "9       9\n",
       "7       8\n",
       "6       4\n",
       "Name: BareNuc, dtype: int64"
      ]
     },
     "execution_count": 55,
     "metadata": {},
     "output_type": "execute_result"
    }
   ],
   "source": [
    "cell_df[\"BareNuc\"].value_counts()"
   ]
  },
  {
   "cell_type": "code",
   "execution_count": 56,
   "metadata": {},
   "outputs": [
    {
     "data": {
      "text/plain": [
       "ID             int64\n",
       "Clump          int64\n",
       "UnifSize       int64\n",
       "UnifShape      int64\n",
       "MargAdh        int64\n",
       "SingEpiSize    int64\n",
       "BareNuc        int64\n",
       "BlandChrom     int64\n",
       "NormNucl       int64\n",
       "Mit            int64\n",
       "Class          int64\n",
       "dtype: object"
      ]
     },
     "execution_count": 56,
     "metadata": {},
     "output_type": "execute_result"
    }
   ],
   "source": [
    "# Drop rows that contain non-numerical values\n",
    "cell_df = cell_df[pd.to_numeric(cell_df[\"BareNuc\"], errors=\"coerce\").notnull()]\n",
    "cell_df[\"BareNuc\"] = cell_df[\"BareNuc\"].astype(\"int\")\n",
    "cell_df.dtypes"
   ]
  },
  {
   "cell_type": "code",
   "execution_count": 57,
   "metadata": {},
   "outputs": [],
   "source": [
    "# Identify independent/dependent variables\n",
    "feature_df = cell_df[['Clump', 'UnifSize', 'UnifShape', 'MargAdh', 'SingEpiSize', 'BareNuc', 'BlandChrom', 'NormNucl', 'Mit']]\n",
    "X = np.asarray(feature_df)\n",
    "y = cell_df[\"Class\"].astype(\"int\")\n",
    "y = np.asarray(y)"
   ]
  },
  {
   "cell_type": "code",
   "execution_count": 58,
   "metadata": {},
   "outputs": [],
   "source": [
    "# Create train/test split\n",
    "X_train, X_test, y_train, y_test = train_test_split( X, y, test_size=0.2, random_state=4)"
   ]
  },
  {
   "cell_type": "code",
   "execution_count": 59,
   "metadata": {},
   "outputs": [
    {
     "name": "stderr",
     "output_type": "stream",
     "text": [
      "/Library/Frameworks/Python.framework/Versions/3.7/lib/python3.7/site-packages/sklearn/svm/base.py:193: FutureWarning: The default value of gamma will change from 'auto' to 'scale' in version 0.22 to account better for unscaled features. Set gamma explicitly to 'auto' or 'scale' to avoid this warning.\n",
      "  \"avoid this warning.\", FutureWarning)\n"
     ]
    },
    {
     "data": {
      "text/plain": [
       "SVC(C=1.0, cache_size=200, class_weight=None, coef0=0.0,\n",
       "    decision_function_shape='ovr', degree=3, gamma='auto_deprecated',\n",
       "    kernel='rbf', max_iter=-1, probability=False, random_state=None,\n",
       "    shrinking=True, tol=0.001, verbose=False)"
      ]
     },
     "execution_count": 59,
     "metadata": {},
     "output_type": "execute_result"
    }
   ],
   "source": [
    "# Train SVM model\n",
    "svm_model = svm.SVC(kernel=\"rbf\")\n",
    "svm_model.fit(X_train, y_train)"
   ]
  },
  {
   "cell_type": "code",
   "execution_count": 60,
   "metadata": {},
   "outputs": [],
   "source": [
    "# Predict using test data\n",
    "y_hat = svm_model.predict(X_test)"
   ]
  },
  {
   "cell_type": "code",
   "execution_count": 61,
   "metadata": {},
   "outputs": [],
   "source": [
    "def plot_confusion_matrix(cm, classes,\n",
    "                          normalize=False,\n",
    "                          title='Confusion matrix',\n",
    "                          cmap=plt.cm.Blues):\n",
    "    \"\"\"\n",
    "    This function prints and plots the confusion matrix.\n",
    "    Normalization can be applied by setting `normalize=True`.\n",
    "    \"\"\"\n",
    "    if normalize:\n",
    "        cm = cm.astype('float') / cm.sum(axis=1)[:, np.newaxis]\n",
    "        print(\"Normalized confusion matrix\")\n",
    "    else:\n",
    "        print('Confusion matrix, without normalization')\n",
    "\n",
    "    print(cm)\n",
    "\n",
    "    plt.imshow(cm, interpolation='nearest', cmap=cmap)\n",
    "    plt.title(title)\n",
    "    plt.colorbar()\n",
    "    tick_marks = np.arange(len(classes))\n",
    "    plt.xticks(tick_marks, classes, rotation=45)\n",
    "    plt.yticks(tick_marks, classes)\n",
    "\n",
    "    fmt = '.2f' if normalize else 'd'\n",
    "    thresh = cm.max() / 2.\n",
    "    for i, j in itertools.product(range(cm.shape[0]), range(cm.shape[1])):\n",
    "        plt.text(j, i, format(cm[i, j], fmt),\n",
    "                 horizontalalignment=\"center\",\n",
    "                 color=\"white\" if cm[i, j] > thresh else \"black\")\n",
    "\n",
    "    plt.tight_layout()\n",
    "    plt.ylabel('True label')\n",
    "    plt.xlabel('Predicted label')"
   ]
  },
  {
   "cell_type": "code",
   "execution_count": 62,
   "metadata": {},
   "outputs": [
    {
     "name": "stdout",
     "output_type": "stream",
     "text": [
      "              precision    recall  f1-score   support\n",
      "\n",
      "           2       1.00      0.94      0.97        90\n",
      "           4       0.90      1.00      0.95        47\n",
      "\n",
      "    accuracy                           0.96       137\n",
      "   macro avg       0.95      0.97      0.96       137\n",
      "weighted avg       0.97      0.96      0.96       137\n",
      "\n",
      "Confusion matrix, without normalization\n",
      "[[85  5]\n",
      " [ 0 47]]\n"
     ]
    },
    {
     "data": {
      "image/png": "[encoded data removed]",
      "text/plain": [
       "<Figure size 432x288 with 2 Axes>"
      ]
     },
     "metadata": {
      "needs_background": "light"
     },
     "output_type": "display_data"
    }
   ],
   "source": [
    "# Visualize results\n",
    "cnf_matrix = confusion_matrix(y_test, y_hat, labels=[2,4])\n",
    "np.set_printoptions(precision=2)\n",
    "\n",
    "print(classification_report(y_test, y_hat))\n",
    "plt.figure()\n",
    "plot_confusion_matrix(cnf_matrix, classes=[\"Benign(2)\", \"Malignant(4)\"], normalize=False, title=\"Confusion Matrix\")"
   ]
  },
  {
   "cell_type": "code",
   "execution_count": 63,
   "metadata": {},
   "outputs": [
    {
     "data": {
      "text/plain": [
       "0.9639038982104676"
      ]
     },
     "execution_count": 63,
     "metadata": {},
     "output_type": "execute_result"
    }
   ],
   "source": [
    "# Evaluate accuracy of model\n",
    "f1_score(y_test, y_hat, average=\"weighted\")"
   ]
  },
  {
   "cell_type": "markdown",
   "metadata": {},
   "source": [
    "#### Clustering\n",
    "\n",
    "Clustering is an unsupervised process that groups similar points into \"clusters\" within a larger unlabeled dataset. Contrast this to classification, which makes predictions within a labeled dataset, i.e. all possible categorical outcomes are known. Clustering for segmentation enables us to partition data into mutually exclusive groups, which can then be used to targeted different consumer groups, identify fraud or auto-categorize news.\n",
    "\n",
    "Common types of clustering algorithms include:\n",
    "\n",
    "* Partition-based clustering:\n",
    "    * Ex: k-Means, k-Median, Fuzzy c-Means\n",
    "    * Efficient, used for medium/large datasets\n",
    "* Hierarchical clustering:\n",
    "    * Ex: Agglomerative, Divisive\n",
    "    * Intuitive, used for small datasets\n",
    "* Density-based clustering:\n",
    "    * Ex: DB Scan\n",
    "    * Produce arbitrarily shaped clusters, used for spatial or noisy data\n",
    "    \n",
    "**k-Means Clustering**\n",
    "\n",
    "The k-means algorithm is a popular method for partitioning datasets into clusters.\n",
    "\n",
    "* Initialize k centroids, one for each centroid\n",
    "* Create a distance matrix containing the calculated distances from each of the n points to each of the k centroids (an n x k matrix). Euclidean distance is often the distance measure that is used.\n",
    "* Assign each point its closest centroid, creating k clusters.\n",
    "* Shift the location of each centroid to the mean of the clusters.\n",
    "* Re-run the calculations until centroids converge.\n",
    "\n",
    "You can then assess the accuracy of the clustering by either comparing clusters to the actual truth (if available) or by calculating the closeness of points to the centroid or mean squared error. Note, however, that as k increases, the mean distance to centroid will inevitably decrease, but this does not necessarily imply a better clustering result. Instead, we plot k vs. mean distance to centroid and identify the \"elbow\" point, whereby the rate of accuracy decreases sharply. This kinking point corresponds to the optimal k that should be selected.\n",
    "\n",
    "Another key point to consider with k-means is that convergence can depend on the initial start values that are chosen for the cluster centroids. Re-running the algorithm using many initial conditions is used to verifying that the results represent a global optimum rather than just a local optimum. Luckily, this algorithm tends to be quite fast. "
   ]
  },
  {
   "cell_type": "code",
   "execution_count": 204,
   "metadata": {},
   "outputs": [
    {
     "name": "stdout",
     "output_type": "stream",
     "text": [
      "Random center points: [3.11 2.38] [-4.46 -4.81] [-3.71  2.68] [-4.46 -2.77] [ 4.69 -3.95]\n"
     ]
    },
    {
     "data": {
      "image/png": "[encoded data removed]",
      "text/plain": [
       "<Figure size 432x288 with 1 Axes>"
      ]
     },
     "metadata": {
      "needs_background": "light"
     },
     "output_type": "display_data"
    }
   ],
   "source": [
    "# Create randomly generated dataset\n",
    "# np.random.seed(0) # To use the same seed state\n",
    "n = 5\n",
    "pts = np.random.uniform(-5, 5, size=(n,2))\n",
    "print(\"Random center points:\", *pts)\n",
    "X, y = make_blobs(n_samples=5000, centers=pts, cluster_std=0.9)\n",
    "\n",
    "# Visualize data\n",
    "plt.scatter(X[:,0], X[:,1])\n",
    "plt.title(\"Randomly Generated Dataset\")\n",
    "plt.show()"
   ]
  },
  {
   "cell_type": "code",
   "execution_count": 205,
   "metadata": {},
   "outputs": [
    {
     "data": {
      "text/plain": [
       "KMeans(algorithm='auto', copy_x=True, init='k-means++', max_iter=300,\n",
       "       n_clusters=4, n_init=12, n_jobs=None, precompute_distances='auto',\n",
       "       random_state=None, tol=0.0001, verbose=0)"
      ]
     },
     "execution_count": 205,
     "metadata": {},
     "output_type": "execute_result"
    }
   ],
   "source": [
    "# Set up & fit k-means with the feature matrix\n",
    "k_means = KMeans(init=\"k-means++\", n_clusters=4, n_init=12)\n",
    "k_means.fit(X)"
   ]
  },
  {
   "cell_type": "code",
   "execution_count": 206,
   "metadata": {},
   "outputs": [],
   "source": [
    "# Extract results: labeled points and cluster centers\n",
    "k_means_labels = k_means.labels_\n",
    "k_means_cluster_centers = k_means.cluster_centers_"
   ]
  },
  {
   "cell_type": "code",
   "execution_count": 207,
   "metadata": {},
   "outputs": [
    {
     "data": {
      "image/png": "[encoded data removed]",
      "text/plain": [
       "<Figure size 432x288 with 1 Axes>"
      ]
     },
     "metadata": {},
     "output_type": "display_data"
    }
   ],
   "source": [
    "# Visualize the results\n",
    "fig = plt.figure()\n",
    "colors = plt.cm.Spectral(np.linspace(0, 1, len(set(k_means_labels))))\n",
    "\n",
    "ax = fig.add_subplot(1, 1, 1)\n",
    "\n",
    "for k, col in zip(range(len(center_pts)), colors):\n",
    "    cluster_members = (k_means_labels == k)\n",
    "    cluster_center = k_means_cluster_centers[k]\n",
    "    \n",
    "    ax.plot(X[cluster_members,0], X[cluster_members,1], 'w', markerfacecolor=col, marker='.')\n",
    "    ax.plot(cluster_center[0], cluster_center[1], 'o', markerfacecolor=col, markeredgecolor='k', markersize=6)\n",
    "    \n",
    "ax.set_title('k-Means Clustering on a Randomly Generated Dataset')\n",
    "ax.set_xticks(())\n",
    "ax.set_yticks(())\n",
    "plt.show()"
   ]
  },
  {
   "cell_type": "code",
   "execution_count": 68,
   "metadata": {},
   "outputs": [
    {
     "data": {
      "text/html": [
       "<div>\n",
       "<style scoped>\n",
       "    .dataframe tbody tr th:only-of-type {\n",
       "        vertical-align: middle;\n",
       "    }\n",
       "\n",
       "    .dataframe tbody tr th {\n",
       "        vertical-align: top;\n",
       "    }\n",
       "\n",
       "    .dataframe thead th {\n",
       "        text-align: right;\n",
       "    }\n",
       "</style>\n",
       "<table border=\"1\" class=\"dataframe\">\n",
       "  <thead>\n",
       "    <tr style=\"text-align: right;\">\n",
       "      <th></th>\n",
       "      <th>Customer Id</th>\n",
       "      <th>Age</th>\n",
       "      <th>Edu</th>\n",
       "      <th>Years Employed</th>\n",
       "      <th>Income</th>\n",
       "      <th>Card Debt</th>\n",
       "      <th>Other Debt</th>\n",
       "      <th>Defaulted</th>\n",
       "      <th>Address</th>\n",
       "      <th>DebtIncomeRatio</th>\n",
       "    </tr>\n",
       "  </thead>\n",
       "  <tbody>\n",
       "    <tr>\n",
       "      <th>0</th>\n",
       "      <td>1</td>\n",
       "      <td>41</td>\n",
       "      <td>2</td>\n",
       "      <td>6</td>\n",
       "      <td>19</td>\n",
       "      <td>0.124</td>\n",
       "      <td>1.073</td>\n",
       "      <td>0.0</td>\n",
       "      <td>NBA001</td>\n",
       "      <td>6.3</td>\n",
       "    </tr>\n",
       "    <tr>\n",
       "      <th>1</th>\n",
       "      <td>2</td>\n",
       "      <td>47</td>\n",
       "      <td>1</td>\n",
       "      <td>26</td>\n",
       "      <td>100</td>\n",
       "      <td>4.582</td>\n",
       "      <td>8.218</td>\n",
       "      <td>0.0</td>\n",
       "      <td>NBA021</td>\n",
       "      <td>12.8</td>\n",
       "    </tr>\n",
       "    <tr>\n",
       "      <th>2</th>\n",
       "      <td>3</td>\n",
       "      <td>33</td>\n",
       "      <td>2</td>\n",
       "      <td>10</td>\n",
       "      <td>57</td>\n",
       "      <td>6.111</td>\n",
       "      <td>5.802</td>\n",
       "      <td>1.0</td>\n",
       "      <td>NBA013</td>\n",
       "      <td>20.9</td>\n",
       "    </tr>\n",
       "    <tr>\n",
       "      <th>3</th>\n",
       "      <td>4</td>\n",
       "      <td>29</td>\n",
       "      <td>2</td>\n",
       "      <td>4</td>\n",
       "      <td>19</td>\n",
       "      <td>0.681</td>\n",
       "      <td>0.516</td>\n",
       "      <td>0.0</td>\n",
       "      <td>NBA009</td>\n",
       "      <td>6.3</td>\n",
       "    </tr>\n",
       "    <tr>\n",
       "      <th>4</th>\n",
       "      <td>5</td>\n",
       "      <td>47</td>\n",
       "      <td>1</td>\n",
       "      <td>31</td>\n",
       "      <td>253</td>\n",
       "      <td>9.308</td>\n",
       "      <td>8.908</td>\n",
       "      <td>0.0</td>\n",
       "      <td>NBA008</td>\n",
       "      <td>7.2</td>\n",
       "    </tr>\n",
       "  </tbody>\n",
       "</table>\n",
       "</div>"
      ],
      "text/plain": [
       "   Customer Id  Age  Edu  Years Employed  Income  Card Debt  Other Debt  \\\n",
       "0            1   41    2               6      19      0.124       1.073   \n",
       "1            2   47    1              26     100      4.582       8.218   \n",
       "2            3   33    2              10      57      6.111       5.802   \n",
       "3            4   29    2               4      19      0.681       0.516   \n",
       "4            5   47    1              31     253      9.308       8.908   \n",
       "\n",
       "   Defaulted Address  DebtIncomeRatio  \n",
       "0        0.0  NBA001              6.3  \n",
       "1        0.0  NBA021             12.8  \n",
       "2        1.0  NBA013             20.9  \n",
       "3        0.0  NBA009              6.3  \n",
       "4        0.0  NBA008              7.2  "
      ]
     },
     "execution_count": 68,
     "metadata": {},
     "output_type": "execute_result"
    }
   ],
   "source": [
    "# Another k-means example\n",
    "cust_df = pd.read_csv(\"assets/Cust_Segmentation.csv\")\n",
    "cust_df.head()"
   ]
  },
  {
   "cell_type": "code",
   "execution_count": 69,
   "metadata": {},
   "outputs": [
    {
     "data": {
      "text/html": [
       "<div>\n",
       "<style scoped>\n",
       "    .dataframe tbody tr th:only-of-type {\n",
       "        vertical-align: middle;\n",
       "    }\n",
       "\n",
       "    .dataframe tbody tr th {\n",
       "        vertical-align: top;\n",
       "    }\n",
       "\n",
       "    .dataframe thead th {\n",
       "        text-align: right;\n",
       "    }\n",
       "</style>\n",
       "<table border=\"1\" class=\"dataframe\">\n",
       "  <thead>\n",
       "    <tr style=\"text-align: right;\">\n",
       "      <th></th>\n",
       "      <th>Customer Id</th>\n",
       "      <th>Age</th>\n",
       "      <th>Edu</th>\n",
       "      <th>Years Employed</th>\n",
       "      <th>Income</th>\n",
       "      <th>Card Debt</th>\n",
       "      <th>Other Debt</th>\n",
       "      <th>Defaulted</th>\n",
       "      <th>DebtIncomeRatio</th>\n",
       "    </tr>\n",
       "  </thead>\n",
       "  <tbody>\n",
       "    <tr>\n",
       "      <th>0</th>\n",
       "      <td>1</td>\n",
       "      <td>41</td>\n",
       "      <td>2</td>\n",
       "      <td>6</td>\n",
       "      <td>19</td>\n",
       "      <td>0.124</td>\n",
       "      <td>1.073</td>\n",
       "      <td>0.0</td>\n",
       "      <td>6.3</td>\n",
       "    </tr>\n",
       "    <tr>\n",
       "      <th>1</th>\n",
       "      <td>2</td>\n",
       "      <td>47</td>\n",
       "      <td>1</td>\n",
       "      <td>26</td>\n",
       "      <td>100</td>\n",
       "      <td>4.582</td>\n",
       "      <td>8.218</td>\n",
       "      <td>0.0</td>\n",
       "      <td>12.8</td>\n",
       "    </tr>\n",
       "    <tr>\n",
       "      <th>2</th>\n",
       "      <td>3</td>\n",
       "      <td>33</td>\n",
       "      <td>2</td>\n",
       "      <td>10</td>\n",
       "      <td>57</td>\n",
       "      <td>6.111</td>\n",
       "      <td>5.802</td>\n",
       "      <td>1.0</td>\n",
       "      <td>20.9</td>\n",
       "    </tr>\n",
       "    <tr>\n",
       "      <th>3</th>\n",
       "      <td>4</td>\n",
       "      <td>29</td>\n",
       "      <td>2</td>\n",
       "      <td>4</td>\n",
       "      <td>19</td>\n",
       "      <td>0.681</td>\n",
       "      <td>0.516</td>\n",
       "      <td>0.0</td>\n",
       "      <td>6.3</td>\n",
       "    </tr>\n",
       "    <tr>\n",
       "      <th>4</th>\n",
       "      <td>5</td>\n",
       "      <td>47</td>\n",
       "      <td>1</td>\n",
       "      <td>31</td>\n",
       "      <td>253</td>\n",
       "      <td>9.308</td>\n",
       "      <td>8.908</td>\n",
       "      <td>0.0</td>\n",
       "      <td>7.2</td>\n",
       "    </tr>\n",
       "  </tbody>\n",
       "</table>\n",
       "</div>"
      ],
      "text/plain": [
       "   Customer Id  Age  Edu  Years Employed  Income  Card Debt  Other Debt  \\\n",
       "0            1   41    2               6      19      0.124       1.073   \n",
       "1            2   47    1              26     100      4.582       8.218   \n",
       "2            3   33    2              10      57      6.111       5.802   \n",
       "3            4   29    2               4      19      0.681       0.516   \n",
       "4            5   47    1              31     253      9.308       8.908   \n",
       "\n",
       "   Defaulted  DebtIncomeRatio  \n",
       "0        0.0              6.3  \n",
       "1        0.0             12.8  \n",
       "2        1.0             20.9  \n",
       "3        0.0              6.3  \n",
       "4        0.0              7.2  "
      ]
     },
     "execution_count": 69,
     "metadata": {},
     "output_type": "execute_result"
    }
   ],
   "source": [
    "# Drop Address column because it is non-numerical\n",
    "cust_df.drop(columns=[\"Address\"], inplace=True)\n",
    "cust_df.head()"
   ]
  },
  {
   "cell_type": "code",
   "execution_count": 70,
   "metadata": {},
   "outputs": [
    {
     "data": {
      "text/plain": [
       "array([[41.  ,  2.  ,  6.  , ...,  1.07,  0.  ,  6.3 ],\n",
       "       [47.  ,  1.  , 26.  , ...,  8.22,  0.  , 12.8 ],\n",
       "       [33.  ,  2.  , 10.  , ...,  5.8 ,  1.  , 20.9 ],\n",
       "       ...,\n",
       "       [25.  ,  4.  ,  0.  , ...,  3.21,  1.  , 33.4 ],\n",
       "       [32.  ,  1.  , 12.  , ...,  0.7 ,  0.  ,  2.9 ],\n",
       "       [52.  ,  1.  , 16.  , ...,  3.64,  0.  ,  8.6 ]])"
      ]
     },
     "execution_count": 70,
     "metadata": {},
     "output_type": "execute_result"
    }
   ],
   "source": [
    "# Extract features of interest\n",
    "X = cust_df.values[:,1:]\n",
    "X"
   ]
  },
  {
   "cell_type": "code",
   "execution_count": 71,
   "metadata": {},
   "outputs": [
    {
     "data": {
      "text/plain": [
       "Customer Id          0\n",
       "Age                  0\n",
       "Edu                  0\n",
       "Years Employed       0\n",
       "Income               0\n",
       "Card Debt            0\n",
       "Other Debt           0\n",
       "Defaulted          150\n",
       "DebtIncomeRatio      0\n",
       "dtype: int64"
      ]
     },
     "execution_count": 71,
     "metadata": {},
     "output_type": "execute_result"
    }
   ],
   "source": [
    "cust_df.isna().sum()"
   ]
  },
  {
   "cell_type": "code",
   "execution_count": 72,
   "metadata": {},
   "outputs": [
    {
     "data": {
      "text/plain": [
       "0.0    517\n",
       "1.0    183\n",
       "Name: Defaulted, dtype: int64"
      ]
     },
     "execution_count": 72,
     "metadata": {},
     "output_type": "execute_result"
    }
   ],
   "source": [
    "cust_df[\"Defaulted\"].value_counts()"
   ]
  },
  {
   "cell_type": "code",
   "execution_count": 73,
   "metadata": {},
   "outputs": [
    {
     "data": {
      "text/plain": [
       "array([[ 0.74,  0.31, -0.38, ..., -0.59, -0.52, -0.58],\n",
       "       [ 1.49, -0.77,  2.57, ...,  1.51, -0.52,  0.39],\n",
       "       [-0.25,  0.31,  0.21, ...,  0.8 ,  1.91,  1.6 ],\n",
       "       ...,\n",
       "       [-1.25,  2.47, -1.26, ...,  0.04,  1.91,  3.46],\n",
       "       [-0.38, -0.77,  0.51, ..., -0.7 , -0.52, -1.08],\n",
       "       [ 2.11, -0.77,  1.1 , ...,  0.16, -0.52, -0.23]])"
      ]
     },
     "execution_count": 73,
     "metadata": {},
     "output_type": "execute_result"
    }
   ],
   "source": [
    "# Normalize the dataset\n",
    "X = np.nan_to_num(X)\n",
    "X_norm = StandardScaler().fit_transform(X)\n",
    "X_norm"
   ]
  },
  {
   "cell_type": "code",
   "execution_count": 74,
   "metadata": {},
   "outputs": [],
   "source": [
    "# Apply k-means algorithm\n",
    "n = 3\n",
    "k_means = KMeans(init=\"k-means++\", n_clusters=n, n_init=12)\n",
    "k_means.fit(X_norm)\n",
    "k_means_labels = k_means.labels_\n",
    "k_means_cluster_centers = k_means.cluster_centers_"
   ]
  },
  {
   "cell_type": "code",
   "execution_count": 75,
   "metadata": {},
   "outputs": [
    {
     "data": {
      "text/html": [
       "<div>\n",
       "<style scoped>\n",
       "    .dataframe tbody tr th:only-of-type {\n",
       "        vertical-align: middle;\n",
       "    }\n",
       "\n",
       "    .dataframe tbody tr th {\n",
       "        vertical-align: top;\n",
       "    }\n",
       "\n",
       "    .dataframe thead th {\n",
       "        text-align: right;\n",
       "    }\n",
       "</style>\n",
       "<table border=\"1\" class=\"dataframe\">\n",
       "  <thead>\n",
       "    <tr style=\"text-align: right;\">\n",
       "      <th></th>\n",
       "      <th>Customer Id</th>\n",
       "      <th>Age</th>\n",
       "      <th>Edu</th>\n",
       "      <th>Years Employed</th>\n",
       "      <th>Income</th>\n",
       "      <th>Card Debt</th>\n",
       "      <th>Other Debt</th>\n",
       "      <th>Defaulted</th>\n",
       "      <th>DebtIncomeRatio</th>\n",
       "      <th>y_hat</th>\n",
       "    </tr>\n",
       "  </thead>\n",
       "  <tbody>\n",
       "    <tr>\n",
       "      <th>0</th>\n",
       "      <td>1</td>\n",
       "      <td>41</td>\n",
       "      <td>2</td>\n",
       "      <td>6</td>\n",
       "      <td>19</td>\n",
       "      <td>0.124</td>\n",
       "      <td>1.073</td>\n",
       "      <td>0.0</td>\n",
       "      <td>6.3</td>\n",
       "      <td>2</td>\n",
       "    </tr>\n",
       "    <tr>\n",
       "      <th>1</th>\n",
       "      <td>2</td>\n",
       "      <td>47</td>\n",
       "      <td>1</td>\n",
       "      <td>26</td>\n",
       "      <td>100</td>\n",
       "      <td>4.582</td>\n",
       "      <td>8.218</td>\n",
       "      <td>0.0</td>\n",
       "      <td>12.8</td>\n",
       "      <td>0</td>\n",
       "    </tr>\n",
       "    <tr>\n",
       "      <th>2</th>\n",
       "      <td>3</td>\n",
       "      <td>33</td>\n",
       "      <td>2</td>\n",
       "      <td>10</td>\n",
       "      <td>57</td>\n",
       "      <td>6.111</td>\n",
       "      <td>5.802</td>\n",
       "      <td>1.0</td>\n",
       "      <td>20.9</td>\n",
       "      <td>1</td>\n",
       "    </tr>\n",
       "    <tr>\n",
       "      <th>3</th>\n",
       "      <td>4</td>\n",
       "      <td>29</td>\n",
       "      <td>2</td>\n",
       "      <td>4</td>\n",
       "      <td>19</td>\n",
       "      <td>0.681</td>\n",
       "      <td>0.516</td>\n",
       "      <td>0.0</td>\n",
       "      <td>6.3</td>\n",
       "      <td>2</td>\n",
       "    </tr>\n",
       "    <tr>\n",
       "      <th>4</th>\n",
       "      <td>5</td>\n",
       "      <td>47</td>\n",
       "      <td>1</td>\n",
       "      <td>31</td>\n",
       "      <td>253</td>\n",
       "      <td>9.308</td>\n",
       "      <td>8.908</td>\n",
       "      <td>0.0</td>\n",
       "      <td>7.2</td>\n",
       "      <td>0</td>\n",
       "    </tr>\n",
       "  </tbody>\n",
       "</table>\n",
       "</div>"
      ],
      "text/plain": [
       "   Customer Id  Age  Edu  Years Employed  Income  Card Debt  Other Debt  \\\n",
       "0            1   41    2               6      19      0.124       1.073   \n",
       "1            2   47    1              26     100      4.582       8.218   \n",
       "2            3   33    2              10      57      6.111       5.802   \n",
       "3            4   29    2               4      19      0.681       0.516   \n",
       "4            5   47    1              31     253      9.308       8.908   \n",
       "\n",
       "   Defaulted  DebtIncomeRatio  y_hat  \n",
       "0        0.0              6.3      2  \n",
       "1        0.0             12.8      0  \n",
       "2        1.0             20.9      1  \n",
       "3        0.0              6.3      2  \n",
       "4        0.0              7.2      0  "
      ]
     },
     "execution_count": 75,
     "metadata": {},
     "output_type": "execute_result"
    }
   ],
   "source": [
    "# Add predicted label to dataset\n",
    "cust_df[\"y_hat\"] = k_means_labels\n",
    "cust_df.head()"
   ]
  },
  {
   "cell_type": "code",
   "execution_count": 76,
   "metadata": {},
   "outputs": [
    {
     "data": {
      "text/html": [
       "<div>\n",
       "<style scoped>\n",
       "    .dataframe tbody tr th:only-of-type {\n",
       "        vertical-align: middle;\n",
       "    }\n",
       "\n",
       "    .dataframe tbody tr th {\n",
       "        vertical-align: top;\n",
       "    }\n",
       "\n",
       "    .dataframe thead th {\n",
       "        text-align: right;\n",
       "    }\n",
       "</style>\n",
       "<table border=\"1\" class=\"dataframe\">\n",
       "  <thead>\n",
       "    <tr style=\"text-align: right;\">\n",
       "      <th></th>\n",
       "      <th>Customer Id</th>\n",
       "      <th>Age</th>\n",
       "      <th>Edu</th>\n",
       "      <th>Years Employed</th>\n",
       "      <th>Income</th>\n",
       "      <th>Card Debt</th>\n",
       "      <th>Other Debt</th>\n",
       "      <th>Defaulted</th>\n",
       "      <th>DebtIncomeRatio</th>\n",
       "    </tr>\n",
       "    <tr>\n",
       "      <th>y_hat</th>\n",
       "      <th></th>\n",
       "      <th></th>\n",
       "      <th></th>\n",
       "      <th></th>\n",
       "      <th></th>\n",
       "      <th></th>\n",
       "      <th></th>\n",
       "      <th></th>\n",
       "      <th></th>\n",
       "    </tr>\n",
       "  </thead>\n",
       "  <tbody>\n",
       "    <tr>\n",
       "      <th>0</th>\n",
       "      <td>424.408163</td>\n",
       "      <td>43.000000</td>\n",
       "      <td>1.931973</td>\n",
       "      <td>17.197279</td>\n",
       "      <td>101.959184</td>\n",
       "      <td>4.220673</td>\n",
       "      <td>7.954483</td>\n",
       "      <td>0.162393</td>\n",
       "      <td>13.915646</td>\n",
       "    </tr>\n",
       "    <tr>\n",
       "      <th>1</th>\n",
       "      <td>424.451807</td>\n",
       "      <td>31.891566</td>\n",
       "      <td>1.861446</td>\n",
       "      <td>3.963855</td>\n",
       "      <td>31.789157</td>\n",
       "      <td>1.576675</td>\n",
       "      <td>2.843355</td>\n",
       "      <td>0.993939</td>\n",
       "      <td>13.994578</td>\n",
       "    </tr>\n",
       "    <tr>\n",
       "      <th>2</th>\n",
       "      <td>426.122905</td>\n",
       "      <td>33.817505</td>\n",
       "      <td>1.603352</td>\n",
       "      <td>7.625698</td>\n",
       "      <td>36.143389</td>\n",
       "      <td>0.853128</td>\n",
       "      <td>1.816855</td>\n",
       "      <td>0.000000</td>\n",
       "      <td>7.964991</td>\n",
       "    </tr>\n",
       "  </tbody>\n",
       "</table>\n",
       "</div>"
      ],
      "text/plain": [
       "       Customer Id        Age       Edu  Years Employed      Income  \\\n",
       "y_hat                                                                 \n",
       "0       424.408163  43.000000  1.931973       17.197279  101.959184   \n",
       "1       424.451807  31.891566  1.861446        3.963855   31.789157   \n",
       "2       426.122905  33.817505  1.603352        7.625698   36.143389   \n",
       "\n",
       "       Card Debt  Other Debt  Defaulted  DebtIncomeRatio  \n",
       "y_hat                                                     \n",
       "0       4.220673    7.954483   0.162393        13.915646  \n",
       "1       1.576675    2.843355   0.993939        13.994578  \n",
       "2       0.853128    1.816855   0.000000         7.964991  "
      ]
     },
     "execution_count": 76,
     "metadata": {},
     "output_type": "execute_result"
    }
   ],
   "source": [
    "# Group by label\n",
    "grouped_df = cust_df.groupby(\"y_hat\").mean()\n",
    "grouped_df.head()"
   ]
  },
  {
   "cell_type": "code",
   "execution_count": 77,
   "metadata": {},
   "outputs": [
    {
     "data": {
      "image/png": "[encoded data removed]",
      "text/plain": [
       "<Figure size 432x288 with 1 Axes>"
      ]
     },
     "metadata": {
      "needs_background": "light"
     },
     "output_type": "display_data"
    }
   ],
   "source": [
    "# Visualize 2D clusters\n",
    "area = np.pi * ( X[:, 1])**2  \n",
    "plt.scatter(X[:, 0], X[:, 3], s=area, c=k_means_labels.astype(np.float), alpha=0.5)\n",
    "\n",
    "plt.title(\"k-Means Clustering Algorithm Results\")\n",
    "plt.xlabel('Age', fontsize=18)\n",
    "plt.ylabel('Income', fontsize=16)\n",
    "\n",
    "plt.show()"
   ]
  },
  {
   "cell_type": "code",
   "execution_count": 78,
   "metadata": {},
   "outputs": [
    {
     "data": {
      "application/vnd.jupyter.widget-view+json": {
       "model_id": "e33c5617895749ffa0210b95205b5245",
       "version_major": 2,
       "version_minor": 0
      },
      "text/plain": [
       "interactive(children=(IntSlider(value=40, description='elevation', max=90, step=10), IntSlider(value=180, desc…"
      ]
     },
     "metadata": {},
     "output_type": "display_data"
    }
   ],
   "source": [
    "# Visualize 3D clusters\n",
    "@interact\n",
    "def plot_3d(elevation=(0, 90, 10), azim=(0, 360, 10)):\n",
    "    fig = plt.figure(1, figsize=(8, 6))\n",
    "    plt.clf()\n",
    "    ax = Axes3D(fig, rect=[0, 0, .95, 1], elev=elevation, azim=azim)\n",
    "\n",
    "    plt.cla()\n",
    "    ax.set_xlabel('Education')\n",
    "    ax.set_ylabel('Age')\n",
    "    ax.set_zlabel('Income')\n",
    "\n",
    "    ax.scatter(X[:, 1], X[:, 0], X[:, 3], c= k_means_labels.astype(np.float))"
   ]
  },
  {
   "cell_type": "markdown",
   "metadata": {},
   "source": [
    "#### Hierarchical Clustering\n",
    "\n",
    "Hierarchical clustering algorithms group daughter nodes into clusters based on their similarity (closeness). There are two types of hierarchical clustering: divisive (top-down) and agglomerative (bottom-up). \n",
    "\n",
    "**Agglomerative Clustering**\n",
    "\n",
    "The agglomerative approach builds a hierarchy in the form of a dendrogram by progressively merging nearby elements into clusters.\n",
    "\n",
    "* Create n clusters, each comprised of one data point.\n",
    "* Compute the distance matrix, which contains the distance from each point to every other point in the dataset.\n",
    "* Merge the two elements that are closest to each other to form a cluster. \n",
    "* Re-compute the distrance matrix.\n",
    "* Repeat the process of merging the nearest elements (whether individual points or clusters) until only a single cluster remains.\n",
    "\n",
    "When computing the distance between clusters, it is common to use one of the following linkage criteria:\n",
    "\n",
    "* **Single-linkage clustering:** the minimum distance between clusters\n",
    "* **Complete-linkage clustering:** the maximum distance between clusters\n",
    "* **Average-linkage clustering:** the average distance between all points in the clusters\n",
    "* **Centroid-linkage clustering:** the distance between the centroids of the clusters\n",
    "* **Ward clustering:** the sum of squared distances between all points in the clusters\n",
    "\n",
    "The algorithm will merge pairs of clusters that minimize the linkage criterion.\n",
    "\n",
    "Hierarchical clustering is easy to implement and produces visual output in the form of a dendrogram. It is also convenient because it does not require the user specify number of clusters. However, the heirarchical algorithms tend to be slow and cannot be reversed through previous stages of clustering. In comparison with k-means, which tends to be more efficient, hierarchical clustering gives more than one partitioning depending on the desired resolution and always generates the same result.\n",
    "\n",
    "**Dendrograms**, which are the visual ouput produced from hierarchical clustering, are tree-like structures that represent the different stages of cluster amalgamation. Each merge is represented by a horizontal line. As the vertical height (or y-value) of each horizontal line increases, the similarity of merged clusters increases."
   ]
  },
  {
   "cell_type": "code",
   "execution_count": 79,
   "metadata": {},
   "outputs": [],
   "source": [
    "# Generate random cluster data\n",
    "X1, y1 = make_blobs(n_samples=50, centers=[[1,0],[3,2],[-2,-1],[2,-2]], cluster_std=1)"
   ]
  },
  {
   "cell_type": "code",
   "execution_count": 80,
   "metadata": {},
   "outputs": [
    {
     "data": {
      "image/png": "[encoded data removed]",
      "text/plain": [
       "<Figure size 432x288 with 1 Axes>"
      ]
     },
     "metadata": {
      "needs_background": "light"
     },
     "output_type": "display_data"
    }
   ],
   "source": [
    "# Visualize the data\n",
    "plt.scatter(X1[:,0], X1[:,1])\n",
    "\n",
    "plt.title(\"Randomly Generated Dataset\")\n",
    "plt.show()"
   ]
  },
  {
   "cell_type": "code",
   "execution_count": 81,
   "metadata": {},
   "outputs": [
    {
     "data": {
      "text/plain": [
       "AgglomerativeClustering(affinity='euclidean', compute_full_tree='auto',\n",
       "                        connectivity=None, distance_threshold=None,\n",
       "                        linkage='average', memory=None, n_clusters=4,\n",
       "                        pooling_func='deprecated')"
      ]
     },
     "execution_count": 81,
     "metadata": {},
     "output_type": "execute_result"
    }
   ],
   "source": [
    "# Fit agglomerative algorithm\n",
    "agglom = AgglomerativeClustering(n_clusters=4, linkage=\"average\")\n",
    "agglom.fit(X1, y1)"
   ]
  },
  {
   "cell_type": "code",
   "execution_count": 82,
   "metadata": {},
   "outputs": [
    {
     "data": {
      "image/png": "[encoded data removed]",
      "text/plain": [
       "<Figure size 432x288 with 1 Axes>"
      ]
     },
     "metadata": {},
     "output_type": "display_data"
    }
   ],
   "source": [
    "# Plot results\n",
    "for i in range(len(agglom.labels_)):\n",
    "    plt.text(X1[i,0], X1[i,1], str(agglom.labels_[i]), \n",
    "             color=plt.cm.nipy_spectral(agglom.labels_[i] / 10.),\n",
    "             fontdict={\"weight\":\"bold\",\"size\":10})\n",
    "\n",
    "plt.xticks([])    \n",
    "plt.yticks([])\n",
    "\n",
    "plt.title(\"Agglomerative Clustering Algorithm Results\")\n",
    "plt.scatter(X1[:,0], X1[:,1], marker='.')\n",
    "plt.show()"
   ]
  },
  {
   "cell_type": "code",
   "execution_count": 83,
   "metadata": {},
   "outputs": [
    {
     "data": {
      "image/png": "[encoded data removed]",
      "text/plain": [
       "<Figure size 1440x720 with 4 Axes>"
      ]
     },
     "metadata": {},
     "output_type": "display_data"
    }
   ],
   "source": [
    "# Illustrate the effect of different linkage criteria\n",
    "linkages = ['ward', 'complete', 'average', 'single']\n",
    "\n",
    "fig = plt.figure(figsize=(20,10))\n",
    "\n",
    "for i, linkage in enumerate(linkages):\n",
    "    ax = fig.add_subplot(2,2,i+1)\n",
    "    agglom = AgglomerativeClustering(n_clusters=4, linkage=linkage)\n",
    "    agglom.fit(X1, y1)\n",
    "    \n",
    "    for j in range(len(agglom.labels_)):\n",
    "        plt.text(X1[j,0], X1[j,1], str(agglom.labels_[j]), \n",
    "                     color=plt.cm.nipy_spectral(agglom.labels_[j] / 10.),\n",
    "                     fontdict={\"weight\":\"bold\",\"size\":10})\n",
    "        plt.xticks([])    \n",
    "        plt.yticks([])\n",
    "        plt.title(\"Agglomerative Clustering: \" + linkage, fontdict={\"weight\":\"bold\",\"size\":15})\n",
    "        plt.scatter(X1[:,0], X1[:,1], marker='.')\n",
    "\n",
    "plt.suptitle(\"Agglomerative Clustering with Various Linkage Criteria\", y=1.05, fontsize=20)\n",
    "plt.tight_layout()\n",
    "plt.show()"
   ]
  },
  {
   "cell_type": "code",
   "execution_count": 84,
   "metadata": {},
   "outputs": [
    {
     "data": {
      "image/png": "[encoded data removed]",
      "text/plain": [
       "<Figure size 1440x720 with 4 Axes>"
      ]
     },
     "metadata": {
      "needs_background": "light"
     },
     "output_type": "display_data"
    }
   ],
   "source": [
    "# View dendrogram\n",
    "# Create distance matrix\n",
    "\n",
    "fig = plt.figure(figsize=(20,10))\n",
    "\n",
    "for i, linkage in enumerate(linkages):\n",
    "    fig.add_subplot(2,2,i+1)\n",
    "    dist_matrix = distance_matrix(X1, X1)\n",
    "\n",
    "    # Convert the redundant n*n square matrix form into a condensed nC2 array as required by hierarchy.linkage()\n",
    "    distArray = ssd.squareform(dist_matrix)\n",
    "\n",
    "    Z = hierarchy.linkage(distArray, linkage)\n",
    "    dendro = hierarchy.dendrogram(Z)\n",
    "    plt.title(\"Dendrogram: \" + linkage)\n",
    "\n",
    "plt.suptitle(\"Dendrograms with Various Linkage Criteria\", fontsize=20)\n",
    "plt.show()"
   ]
  },
  {
   "cell_type": "code",
   "execution_count": 85,
   "metadata": {},
   "outputs": [
    {
     "data": {
      "text/html": [
       "<div>\n",
       "<style scoped>\n",
       "    .dataframe tbody tr th:only-of-type {\n",
       "        vertical-align: middle;\n",
       "    }\n",
       "\n",
       "    .dataframe tbody tr th {\n",
       "        vertical-align: top;\n",
       "    }\n",
       "\n",
       "    .dataframe thead th {\n",
       "        text-align: right;\n",
       "    }\n",
       "</style>\n",
       "<table border=\"1\" class=\"dataframe\">\n",
       "  <thead>\n",
       "    <tr style=\"text-align: right;\">\n",
       "      <th></th>\n",
       "      <th>manufact</th>\n",
       "      <th>model</th>\n",
       "      <th>sales</th>\n",
       "      <th>resale</th>\n",
       "      <th>type</th>\n",
       "      <th>price</th>\n",
       "      <th>engine_s</th>\n",
       "      <th>horsepow</th>\n",
       "      <th>wheelbas</th>\n",
       "      <th>width</th>\n",
       "      <th>length</th>\n",
       "      <th>curb_wgt</th>\n",
       "      <th>fuel_cap</th>\n",
       "      <th>mpg</th>\n",
       "      <th>lnsales</th>\n",
       "      <th>partition</th>\n",
       "    </tr>\n",
       "  </thead>\n",
       "  <tbody>\n",
       "    <tr>\n",
       "      <th>0</th>\n",
       "      <td>Acura</td>\n",
       "      <td>Integra</td>\n",
       "      <td>16.919</td>\n",
       "      <td>16.360</td>\n",
       "      <td>0.000</td>\n",
       "      <td>21.500</td>\n",
       "      <td>1.800</td>\n",
       "      <td>140.000</td>\n",
       "      <td>101.200</td>\n",
       "      <td>67.300</td>\n",
       "      <td>172.400</td>\n",
       "      <td>2.639</td>\n",
       "      <td>13.200</td>\n",
       "      <td>28.000</td>\n",
       "      <td>2.828</td>\n",
       "      <td>0.0</td>\n",
       "    </tr>\n",
       "    <tr>\n",
       "      <th>1</th>\n",
       "      <td>Acura</td>\n",
       "      <td>TL</td>\n",
       "      <td>39.384</td>\n",
       "      <td>19.875</td>\n",
       "      <td>0.000</td>\n",
       "      <td>28.400</td>\n",
       "      <td>3.200</td>\n",
       "      <td>225.000</td>\n",
       "      <td>108.100</td>\n",
       "      <td>70.300</td>\n",
       "      <td>192.900</td>\n",
       "      <td>3.517</td>\n",
       "      <td>17.200</td>\n",
       "      <td>25.000</td>\n",
       "      <td>3.673</td>\n",
       "      <td>0.0</td>\n",
       "    </tr>\n",
       "    <tr>\n",
       "      <th>2</th>\n",
       "      <td>Acura</td>\n",
       "      <td>CL</td>\n",
       "      <td>14.114</td>\n",
       "      <td>18.225</td>\n",
       "      <td>0.000</td>\n",
       "      <td>$null$</td>\n",
       "      <td>3.200</td>\n",
       "      <td>225.000</td>\n",
       "      <td>106.900</td>\n",
       "      <td>70.600</td>\n",
       "      <td>192.000</td>\n",
       "      <td>3.470</td>\n",
       "      <td>17.200</td>\n",
       "      <td>26.000</td>\n",
       "      <td>2.647</td>\n",
       "      <td>0.0</td>\n",
       "    </tr>\n",
       "    <tr>\n",
       "      <th>3</th>\n",
       "      <td>Acura</td>\n",
       "      <td>RL</td>\n",
       "      <td>8.588</td>\n",
       "      <td>29.725</td>\n",
       "      <td>0.000</td>\n",
       "      <td>42.000</td>\n",
       "      <td>3.500</td>\n",
       "      <td>210.000</td>\n",
       "      <td>114.600</td>\n",
       "      <td>71.400</td>\n",
       "      <td>196.600</td>\n",
       "      <td>3.850</td>\n",
       "      <td>18.000</td>\n",
       "      <td>22.000</td>\n",
       "      <td>2.150</td>\n",
       "      <td>0.0</td>\n",
       "    </tr>\n",
       "    <tr>\n",
       "      <th>4</th>\n",
       "      <td>Audi</td>\n",
       "      <td>A4</td>\n",
       "      <td>20.397</td>\n",
       "      <td>22.255</td>\n",
       "      <td>0.000</td>\n",
       "      <td>23.990</td>\n",
       "      <td>1.800</td>\n",
       "      <td>150.000</td>\n",
       "      <td>102.600</td>\n",
       "      <td>68.200</td>\n",
       "      <td>178.000</td>\n",
       "      <td>2.998</td>\n",
       "      <td>16.400</td>\n",
       "      <td>27.000</td>\n",
       "      <td>3.015</td>\n",
       "      <td>0.0</td>\n",
       "    </tr>\n",
       "  </tbody>\n",
       "</table>\n",
       "</div>"
      ],
      "text/plain": [
       "  manufact    model   sales  resale   type   price engine_s horsepow wheelbas  \\\n",
       "0    Acura  Integra  16.919  16.360  0.000  21.500    1.800  140.000  101.200   \n",
       "1    Acura       TL  39.384  19.875  0.000  28.400    3.200  225.000  108.100   \n",
       "2    Acura       CL  14.114  18.225  0.000  $null$    3.200  225.000  106.900   \n",
       "3    Acura       RL   8.588  29.725  0.000  42.000    3.500  210.000  114.600   \n",
       "4     Audi       A4  20.397  22.255  0.000  23.990    1.800  150.000  102.600   \n",
       "\n",
       "    width   length curb_wgt fuel_cap     mpg lnsales  partition  \n",
       "0  67.300  172.400    2.639   13.200  28.000   2.828        0.0  \n",
       "1  70.300  192.900    3.517   17.200  25.000   3.673        0.0  \n",
       "2  70.600  192.000    3.470   17.200  26.000   2.647        0.0  \n",
       "3  71.400  196.600    3.850   18.000  22.000   2.150        0.0  \n",
       "4  68.200  178.000    2.998   16.400  27.000   3.015        0.0  "
      ]
     },
     "execution_count": 85,
     "metadata": {},
     "output_type": "execute_result"
    }
   ],
   "source": [
    "# Another hierarchical clustering example - using scipy\n",
    "cars_df = pd.read_csv(\"assets/cars_clus.csv\")\n",
    "cars_df.head()"
   ]
  },
  {
   "cell_type": "code",
   "execution_count": 86,
   "metadata": {},
   "outputs": [
    {
     "name": "stdout",
     "output_type": "stream",
     "text": [
      "Size before cleaning: (159, 16)\n",
      "Size before cleaning: (117, 17)\n"
     ]
    }
   ],
   "source": [
    "# Clean the data\n",
    "print(\"Size before cleaning:\", cars_df.shape)\n",
    "cars_df[[ 'sales', 'resale', 'type', 'price', 'engine_s',\n",
    "       'horsepow', 'wheelbas', 'width', 'length', 'curb_wgt', 'fuel_cap',\n",
    "       'mpg', 'lnsales']] = cars_df[['sales', 'resale', 'type', 'price', 'engine_s',\n",
    "       'horsepow', 'wheelbas', 'width', 'length', 'curb_wgt', 'fuel_cap',\n",
    "       'mpg', 'lnsales']].apply(pd.to_numeric, errors='coerce')\n",
    "cars_df = cars_df.dropna()\n",
    "cars_df = cars_df.reset_index()\n",
    "print(\"Size before cleaning:\", cars_df.shape)"
   ]
  },
  {
   "cell_type": "code",
   "execution_count": 87,
   "metadata": {},
   "outputs": [],
   "source": [
    "# Select features of interest\n",
    "featureset = cars_df[['engine_s',  'horsepow', 'wheelbas', 'width', 'length', 'curb_wgt', 'fuel_cap', 'mpg']]"
   ]
  },
  {
   "cell_type": "code",
   "execution_count": 91,
   "metadata": {},
   "outputs": [],
   "source": [
    "# Normalize feature set\n",
    "x = featureset.values\n",
    "feature_mtx = MinMaxScaler().fit_transform(x)"
   ]
  },
  {
   "cell_type": "code",
   "execution_count": 94,
   "metadata": {},
   "outputs": [],
   "source": [
    "# Create the distance matrix\n",
    "leng = feature_mtx.shape[0]\n",
    "D = scipy.zeros([leng,leng])\n",
    "for i in range(leng):\n",
    "    for j in range(leng):\n",
    "        D[i,j] = scipy.spatial.distance.euclidean(feature_mtx[i], feature_mtx[j])"
   ]
  },
  {
   "cell_type": "code",
   "execution_count": 101,
   "metadata": {},
   "outputs": [],
   "source": [
    "# Create the hierarchy\n",
    "distArray = ssd.squareform(dist_matrix) # Convert matrix into vector\n",
    "Z = hierarchy.linkage(distArray, 'complete')"
   ]
  },
  {
   "cell_type": "code",
   "execution_count": 103,
   "metadata": {},
   "outputs": [
    {
     "data": {
      "image/png": "[encoded data removed]",
      "text/plain": [
       "<Figure size 1296x1440 with 1 Axes>"
      ]
     },
     "metadata": {
      "needs_background": "light"
     },
     "output_type": "display_data"
    }
   ],
   "source": [
    "# Plot the dendrogram\n",
    "fig = pylab.figure(figsize=(18,20))\n",
    "def llf(id):\n",
    "    return '[%s %s %s]' % (cars_df['manufact'][id], cars_df['model'][id], int(float(cars_df['type'][id])) )\n",
    "    \n",
    "dendro = hierarchy.dendrogram(Z,  leaf_label_func=llf, leaf_rotation=0, leaf_font_size =12, orientation = 'right')"
   ]
  },
  {
   "cell_type": "code",
   "execution_count": 106,
   "metadata": {},
   "outputs": [
    {
     "data": {
      "text/plain": [
       "(array([4, 4, 5, 5, 6, 8, 8, 7, 5, 6, 7, 7, 8, 4, 3, 6, 4, 4, 6, 4, 5, 5,\n",
       "        6, 8, 4, 6, 7, 4, 3, 8, 3, 3, 3, 9, 8, 6, 4, 5, 6, 2, 6, 5, 8, 4,\n",
       "        5, 4, 8, 1, 7, 1], dtype=int32),\n",
       " array([2, 2, 3, 3, 3, 4, 4, 4, 3, 3, 4, 4, 4, 2, 2, 3, 2, 2, 3, 2, 3, 3,\n",
       "        3, 4, 2, 3, 4, 2, 2, 4, 2, 2, 2, 5, 4, 3, 2, 3, 3, 1, 3, 3, 4, 2,\n",
       "        3, 2, 4, 1, 4, 1], dtype=int32))"
      ]
     },
     "execution_count": 106,
     "metadata": {},
     "output_type": "execute_result"
    }
   ],
   "source": [
    "# Or, determine the number of clusters directly\n",
    "max_depth = 3\n",
    "clusters_max_depth = fcluster(Z, max_depth, criterion='distance')\n",
    "\n",
    "k = 5\n",
    "clusters = fcluster(Z, k, criterion='maxclust')\n",
    "\n",
    "clusters_max_depth, clusters"
   ]
  },
  {
   "cell_type": "code",
   "execution_count": 108,
   "metadata": {},
   "outputs": [
    {
     "data": {
      "text/plain": [
       "AgglomerativeClustering(affinity='euclidean', compute_full_tree='auto',\n",
       "                        connectivity=None, distance_threshold=None,\n",
       "                        linkage='complete', memory=None, n_clusters=6,\n",
       "                        pooling_func='deprecated')"
      ]
     },
     "execution_count": 108,
     "metadata": {},
     "output_type": "execute_result"
    }
   ],
   "source": [
    "# Another clustering example, this time using Scikit-learn\n",
    "agglom = AgglomerativeClustering(n_clusters=6, linkage='complete')\n",
    "agglom.fit(feature_mtx)"
   ]
  },
  {
   "cell_type": "code",
   "execution_count": 111,
   "metadata": {},
   "outputs": [
    {
     "data": {
      "text/html": [
       "<div>\n",
       "<style scoped>\n",
       "    .dataframe tbody tr th:only-of-type {\n",
       "        vertical-align: middle;\n",
       "    }\n",
       "\n",
       "    .dataframe tbody tr th {\n",
       "        vertical-align: top;\n",
       "    }\n",
       "\n",
       "    .dataframe thead th {\n",
       "        text-align: right;\n",
       "    }\n",
       "</style>\n",
       "<table border=\"1\" class=\"dataframe\">\n",
       "  <thead>\n",
       "    <tr style=\"text-align: right;\">\n",
       "      <th></th>\n",
       "      <th>index</th>\n",
       "      <th>manufact</th>\n",
       "      <th>model</th>\n",
       "      <th>sales</th>\n",
       "      <th>resale</th>\n",
       "      <th>type</th>\n",
       "      <th>price</th>\n",
       "      <th>engine_s</th>\n",
       "      <th>horsepow</th>\n",
       "      <th>wheelbas</th>\n",
       "      <th>width</th>\n",
       "      <th>length</th>\n",
       "      <th>curb_wgt</th>\n",
       "      <th>fuel_cap</th>\n",
       "      <th>mpg</th>\n",
       "      <th>lnsales</th>\n",
       "      <th>partition</th>\n",
       "      <th>cluster_</th>\n",
       "    </tr>\n",
       "  </thead>\n",
       "  <tbody>\n",
       "    <tr>\n",
       "      <th>0</th>\n",
       "      <td>0</td>\n",
       "      <td>Acura</td>\n",
       "      <td>Integra</td>\n",
       "      <td>16.919</td>\n",
       "      <td>16.360</td>\n",
       "      <td>0.0</td>\n",
       "      <td>21.50</td>\n",
       "      <td>1.8</td>\n",
       "      <td>140.0</td>\n",
       "      <td>101.2</td>\n",
       "      <td>67.3</td>\n",
       "      <td>172.4</td>\n",
       "      <td>2.639</td>\n",
       "      <td>13.2</td>\n",
       "      <td>28.0</td>\n",
       "      <td>2.828</td>\n",
       "      <td>0.0</td>\n",
       "      <td>1</td>\n",
       "    </tr>\n",
       "    <tr>\n",
       "      <th>1</th>\n",
       "      <td>1</td>\n",
       "      <td>Acura</td>\n",
       "      <td>TL</td>\n",
       "      <td>39.384</td>\n",
       "      <td>19.875</td>\n",
       "      <td>0.0</td>\n",
       "      <td>28.40</td>\n",
       "      <td>3.2</td>\n",
       "      <td>225.0</td>\n",
       "      <td>108.1</td>\n",
       "      <td>70.3</td>\n",
       "      <td>192.9</td>\n",
       "      <td>3.517</td>\n",
       "      <td>17.2</td>\n",
       "      <td>25.0</td>\n",
       "      <td>3.673</td>\n",
       "      <td>0.0</td>\n",
       "      <td>2</td>\n",
       "    </tr>\n",
       "    <tr>\n",
       "      <th>2</th>\n",
       "      <td>3</td>\n",
       "      <td>Acura</td>\n",
       "      <td>RL</td>\n",
       "      <td>8.588</td>\n",
       "      <td>29.725</td>\n",
       "      <td>0.0</td>\n",
       "      <td>42.00</td>\n",
       "      <td>3.5</td>\n",
       "      <td>210.0</td>\n",
       "      <td>114.6</td>\n",
       "      <td>71.4</td>\n",
       "      <td>196.6</td>\n",
       "      <td>3.850</td>\n",
       "      <td>18.0</td>\n",
       "      <td>22.0</td>\n",
       "      <td>2.150</td>\n",
       "      <td>0.0</td>\n",
       "      <td>2</td>\n",
       "    </tr>\n",
       "    <tr>\n",
       "      <th>3</th>\n",
       "      <td>4</td>\n",
       "      <td>Audi</td>\n",
       "      <td>A4</td>\n",
       "      <td>20.397</td>\n",
       "      <td>22.255</td>\n",
       "      <td>0.0</td>\n",
       "      <td>23.99</td>\n",
       "      <td>1.8</td>\n",
       "      <td>150.0</td>\n",
       "      <td>102.6</td>\n",
       "      <td>68.2</td>\n",
       "      <td>178.0</td>\n",
       "      <td>2.998</td>\n",
       "      <td>16.4</td>\n",
       "      <td>27.0</td>\n",
       "      <td>3.015</td>\n",
       "      <td>0.0</td>\n",
       "      <td>1</td>\n",
       "    </tr>\n",
       "    <tr>\n",
       "      <th>4</th>\n",
       "      <td>5</td>\n",
       "      <td>Audi</td>\n",
       "      <td>A6</td>\n",
       "      <td>18.780</td>\n",
       "      <td>23.555</td>\n",
       "      <td>0.0</td>\n",
       "      <td>33.95</td>\n",
       "      <td>2.8</td>\n",
       "      <td>200.0</td>\n",
       "      <td>108.7</td>\n",
       "      <td>76.1</td>\n",
       "      <td>192.0</td>\n",
       "      <td>3.561</td>\n",
       "      <td>18.5</td>\n",
       "      <td>22.0</td>\n",
       "      <td>2.933</td>\n",
       "      <td>0.0</td>\n",
       "      <td>2</td>\n",
       "    </tr>\n",
       "  </tbody>\n",
       "</table>\n",
       "</div>"
      ],
      "text/plain": [
       "   index manufact    model   sales  resale  type  price  engine_s  horsepow  \\\n",
       "0      0    Acura  Integra  16.919  16.360   0.0  21.50       1.8     140.0   \n",
       "1      1    Acura       TL  39.384  19.875   0.0  28.40       3.2     225.0   \n",
       "2      3    Acura       RL   8.588  29.725   0.0  42.00       3.5     210.0   \n",
       "3      4     Audi       A4  20.397  22.255   0.0  23.99       1.8     150.0   \n",
       "4      5     Audi       A6  18.780  23.555   0.0  33.95       2.8     200.0   \n",
       "\n",
       "   wheelbas  width  length  curb_wgt  fuel_cap   mpg  lnsales  partition  \\\n",
       "0     101.2   67.3   172.4     2.639      13.2  28.0    2.828        0.0   \n",
       "1     108.1   70.3   192.9     3.517      17.2  25.0    3.673        0.0   \n",
       "2     114.6   71.4   196.6     3.850      18.0  22.0    2.150        0.0   \n",
       "3     102.6   68.2   178.0     2.998      16.4  27.0    3.015        0.0   \n",
       "4     108.7   76.1   192.0     3.561      18.5  22.0    2.933        0.0   \n",
       "\n",
       "   cluster_  \n",
       "0         1  \n",
       "1         2  \n",
       "2         2  \n",
       "3         1  \n",
       "4         2  "
      ]
     },
     "execution_count": 111,
     "metadata": {},
     "output_type": "execute_result"
    }
   ],
   "source": [
    "cars_df[\"cluster_\"] = agglom.labels_\n",
    "cars_df.head()"
   ]
  },
  {
   "cell_type": "code",
   "execution_count": 143,
   "metadata": {},
   "outputs": [
    {
     "data": {
      "text/plain": [
       "index          int64\n",
       "manufact      object\n",
       "model         object\n",
       "sales        float64\n",
       "resale       float64\n",
       "type         float64\n",
       "price        float64\n",
       "engine_s     float64\n",
       "horsepow     float64\n",
       "wheelbas     float64\n",
       "width        float64\n",
       "length       float64\n",
       "curb_wgt     float64\n",
       "fuel_cap     float64\n",
       "mpg          float64\n",
       "lnsales      float64\n",
       "partition    float64\n",
       "cluster_       int64\n",
       "dtype: object"
      ]
     },
     "execution_count": 143,
     "metadata": {},
     "output_type": "execute_result"
    }
   ],
   "source": [
    "subset.dtypes"
   ]
  },
  {
   "cell_type": "code",
   "execution_count": 162,
   "metadata": {},
   "outputs": [
    {
     "data": {
      "image/png": "[encoded data removed]",
      "text/plain": [
       "<Figure size 1080x576 with 1 Axes>"
      ]
     },
     "metadata": {
      "needs_background": "light"
     },
     "output_type": "display_data"
    }
   ],
   "source": [
    "n_clusters = max(agglom.labels_) + 1\n",
    "colors = plt.cm.rainbow(np.linspace(0, 1, n_clusters))\n",
    "cluster_labels = list(range(0, n_clusters))\n",
    "\n",
    "plt.figure(figsize=(15, 8))\n",
    "\n",
    "for color, label in zip(colors, cluster_labels):\n",
    "    subset = cars_df[cars_df[\"cluster_\"] == label]\n",
    "    \n",
    "    for s in subset.index:\n",
    "        plt.text(subset[\"horsepow\"][s],subset[\"mpg\"][s],\n",
    "                 subset[\"manufact\"][s][0:3]+subset[\"model\"][s][0:3], rotation=25)\n",
    "\n",
    "    plt.scatter(subset[\"horsepow\"], subset[\"mpg\"], s=subset[\"price\"]*5, \n",
    "                label=\"Cluster \"+str(label), color=color, alpha=0.5)\n",
    "\n",
    "plt.legend()\n",
    "plt.xlabel(\"Horsepower\")\n",
    "plt.ylabel(\"MPG\")\n",
    "plt.title(\"Agglomerative Clustering Results\")\n",
    "plt.show()"
   ]
  },
  {
   "cell_type": "code",
   "execution_count": 170,
   "metadata": {},
   "outputs": [
    {
     "data": {
      "text/plain": [
       "cluster_  type\n",
       "0         1.0      6\n",
       "1         0.0     47\n",
       "          1.0      5\n",
       "2         0.0     27\n",
       "          1.0     11\n",
       "3         0.0     10\n",
       "          1.0      7\n",
       "4         0.0      1\n",
       "5         0.0      3\n",
       "Name: cluster_, dtype: int64"
      ]
     },
     "execution_count": 170,
     "metadata": {},
     "output_type": "execute_result"
    }
   ],
   "source": [
    "# View cluster count split by cars (type = 0) and trucks (type = 1)\n",
    "cars_df.groupby([\"cluster_\", \"type\"])[\"cluster_\"].count()"
   ]
  },
  {
   "cell_type": "code",
   "execution_count": 171,
   "metadata": {},
   "outputs": [
    {
     "data": {
      "text/html": [
       "<div>\n",
       "<style scoped>\n",
       "    .dataframe tbody tr th:only-of-type {\n",
       "        vertical-align: middle;\n",
       "    }\n",
       "\n",
       "    .dataframe tbody tr th {\n",
       "        vertical-align: top;\n",
       "    }\n",
       "\n",
       "    .dataframe thead th {\n",
       "        text-align: right;\n",
       "    }\n",
       "</style>\n",
       "<table border=\"1\" class=\"dataframe\">\n",
       "  <thead>\n",
       "    <tr style=\"text-align: right;\">\n",
       "      <th></th>\n",
       "      <th></th>\n",
       "      <th>horsepow</th>\n",
       "      <th>engine_s</th>\n",
       "      <th>mpg</th>\n",
       "      <th>price</th>\n",
       "    </tr>\n",
       "    <tr>\n",
       "      <th>cluster_</th>\n",
       "      <th>type</th>\n",
       "      <th></th>\n",
       "      <th></th>\n",
       "      <th></th>\n",
       "      <th></th>\n",
       "    </tr>\n",
       "  </thead>\n",
       "  <tbody>\n",
       "    <tr>\n",
       "      <th>0</th>\n",
       "      <th>1.0</th>\n",
       "      <td>211.666667</td>\n",
       "      <td>4.483333</td>\n",
       "      <td>16.166667</td>\n",
       "      <td>29.024667</td>\n",
       "    </tr>\n",
       "    <tr>\n",
       "      <th rowspan=\"2\" valign=\"top\">1</th>\n",
       "      <th>0.0</th>\n",
       "      <td>146.531915</td>\n",
       "      <td>2.246809</td>\n",
       "      <td>27.021277</td>\n",
       "      <td>20.306128</td>\n",
       "    </tr>\n",
       "    <tr>\n",
       "      <th>1.0</th>\n",
       "      <td>145.000000</td>\n",
       "      <td>2.580000</td>\n",
       "      <td>22.200000</td>\n",
       "      <td>17.009200</td>\n",
       "    </tr>\n",
       "    <tr>\n",
       "      <th rowspan=\"2\" valign=\"top\">2</th>\n",
       "      <th>0.0</th>\n",
       "      <td>203.111111</td>\n",
       "      <td>3.303704</td>\n",
       "      <td>24.214815</td>\n",
       "      <td>27.750593</td>\n",
       "    </tr>\n",
       "    <tr>\n",
       "      <th>1.0</th>\n",
       "      <td>182.090909</td>\n",
       "      <td>3.345455</td>\n",
       "      <td>20.181818</td>\n",
       "      <td>26.265364</td>\n",
       "    </tr>\n",
       "    <tr>\n",
       "      <th rowspan=\"2\" valign=\"top\">3</th>\n",
       "      <th>0.0</th>\n",
       "      <td>256.500000</td>\n",
       "      <td>4.410000</td>\n",
       "      <td>21.500000</td>\n",
       "      <td>42.870400</td>\n",
       "    </tr>\n",
       "    <tr>\n",
       "      <th>1.0</th>\n",
       "      <td>160.571429</td>\n",
       "      <td>3.071429</td>\n",
       "      <td>21.428571</td>\n",
       "      <td>21.527714</td>\n",
       "    </tr>\n",
       "    <tr>\n",
       "      <th>4</th>\n",
       "      <th>0.0</th>\n",
       "      <td>55.000000</td>\n",
       "      <td>1.000000</td>\n",
       "      <td>45.000000</td>\n",
       "      <td>9.235000</td>\n",
       "    </tr>\n",
       "    <tr>\n",
       "      <th>5</th>\n",
       "      <th>0.0</th>\n",
       "      <td>365.666667</td>\n",
       "      <td>6.233333</td>\n",
       "      <td>19.333333</td>\n",
       "      <td>66.010000</td>\n",
       "    </tr>\n",
       "  </tbody>\n",
       "</table>\n",
       "</div>"
      ],
      "text/plain": [
       "                 horsepow  engine_s        mpg      price\n",
       "cluster_ type                                            \n",
       "0        1.0   211.666667  4.483333  16.166667  29.024667\n",
       "1        0.0   146.531915  2.246809  27.021277  20.306128\n",
       "         1.0   145.000000  2.580000  22.200000  17.009200\n",
       "2        0.0   203.111111  3.303704  24.214815  27.750593\n",
       "         1.0   182.090909  3.345455  20.181818  26.265364\n",
       "3        0.0   256.500000  4.410000  21.500000  42.870400\n",
       "         1.0   160.571429  3.071429  21.428571  21.527714\n",
       "4        0.0    55.000000  1.000000  45.000000   9.235000\n",
       "5        0.0   365.666667  6.233333  19.333333  66.010000"
      ]
     },
     "execution_count": 171,
     "metadata": {},
     "output_type": "execute_result"
    }
   ],
   "source": [
    "grouped = cars_df.groupby([\"cluster_\", \"type\"])[\"horsepow\", \"engine_s\", \"mpg\", \"price\"].mean()\n",
    "grouped"
   ]
  },
  {
   "cell_type": "code",
   "execution_count": 201,
   "metadata": {},
   "outputs": [
    {
     "data": {
      "image/png": "[encoded data removed]",
      "text/plain": [
       "<Figure size 1080x576 with 1 Axes>"
      ]
     },
     "metadata": {
      "needs_background": "light"
     },
     "output_type": "display_data"
    }
   ],
   "source": [
    "n_clusters = max(agglom.labels_) + 1\n",
    "cluster_labels = list(range(0, n_clusters))\n",
    "colors = plt.cm.rainbow(np.linspace(0, 1, n_clusters))\n",
    "\n",
    "plt.figure(figsize=(15, 8))\n",
    "\n",
    "for color, label in zip(colors, cluster_labels):\n",
    "    subset = grouped.loc[label]\n",
    "    \n",
    "    for s in subset.index:\n",
    "        car_type = \"car\"\n",
    "        if s == 1:\n",
    "            car_type = \"truck\"\n",
    "        plt.text(subset.loc[s][0]+5, subset.loc[s][2],\n",
    "                 car_type+\" (price=\"+str(int(subset.loc[s][3]))+\"k)\")\n",
    "    \n",
    "    plt.scatter(subset[\"horsepow\"], subset[\"mpg\"], s=subset[\"price\"]*5,\n",
    "                label=\"Cluster\"+str(label),color=color, alpha=0.5)\n",
    "\n",
    "plt.legend()\n",
    "plt.ylabel(\"MPG\")\n",
    "plt.xlabel(\"Horsepower\")\n",
    "plt.title(\"Agglomerative Clustering Results: Cars vs. Trucks\")\n",
    "plt.show()"
   ]
  },
  {
   "cell_type": "markdown",
   "metadata": {},
   "source": [
    "#### DBSCAN\n",
    "\n",
    "One downfall of partitioning algorithms such as k-means is that there is no concept of outliers- all points are assigned to a cluster even if, in reality, they do not belong in one, which in turn affects the position of cluster centroids. DBSCAN, or Density Based Spatial Clustering of Applications with Noise, attempts to solve the issue of outliers.\n",
    "\n",
    "DBSCAN works on the idea that a point belonging to a cluster should be close to other points in that same cluster. The algorithm defines \"core\" points, which are those that are surrounded by a minimum of n points within radius r, and \"support\" points, which are those lacking the minimum of n neighbors but that are within r radius of a \"core\" point. Points that are neither \"core\" nor \"support\" are termed \"outliers\". To create clusters, DBSCAN then connects neighboring \"core\" points and their bordering \"support\" points.\n",
    "\n",
    "The benefits of DBSCAN are that we do not need to specify the number of clusters, it is robust to outliers, it can create arbitrarily-sized clusters and it can identify clusters that are completely surrounded by other clusters."
   ]
  },
  {
   "cell_type": "code",
   "execution_count": null,
   "metadata": {},
   "outputs": [],
   "source": []
  }
 ],
 "metadata": {
  "kernelspec": {
   "display_name": "Python 3",
   "language": "python",
   "name": "python3"
  },
  "language_info": {
   "codemirror_mode": {
    "name": "ipython",
    "version": 3
   },
   "file_extension": ".py",
   "mimetype": "text/x-python",
   "name": "python",
   "nbconvert_exporter": "python",
   "pygments_lexer": "ipython3",
   "version": "3.7.3"
  }
 },
 "nbformat": 4,
 "nbformat_minor": 2
}
