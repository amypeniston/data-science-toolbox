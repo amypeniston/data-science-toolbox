{
 "cells": [
  {
   "cell_type": "markdown",
   "metadata": {},
   "source": [
    "# Machine Learning with Python\n",
    "\n",
    "Machine learning is a subset of the field of artificial intelligence that seeks to create computer systems that effectively perform specified tasks without explicit human instruction. It is a heavily data-driven application that is based on the scientific study of algorithms and statistical models.\n",
    "\n",
    "There are a variety of machine learning techniques, including:\n",
    "\n",
    "* Regression/Estimation: predicting continuous variables\n",
    "* Classification: predicting binary outcomes\n",
    "* Clustering: finding/summarizing similar data\n",
    "* Associations: linking frequent co-occurrences\n",
    "* Anomaly Detection: identifying outliers\n",
    "* Sequence Mining: predicting next events\n",
    "* Dimension Reduction: reducing the number of random variables (ex: PCA)\n",
    "* Recommendation Systems: suggesting items based on historical preferences\n",
    "\n",
    "### Supervised vs. Unsupervised Learning\n",
    "\n",
    "Supervised models are \"taught\" in a controlled environment using historical labeled datasets with the goal of predicting future outcomes. When viewing a labeled dataset, column headers are referred to as \"attributes\", while the entirety of a column is referred to as a \"feature\". Data in any one cell in a column can be either numeric or categorical. Finally, each row, or observation, corresponds to a single occurrence posessing all of the attributes. The two main types of supervised learning techniques are classification and regression.\n",
    "\n",
    "Unsupervised models independently discover relevant information using an unlabeled dataset. These algorithms tend to be more complex, have fewer evaluation methods and operate in a less controlled environment. Common methods include dimension reduction, density estimation, market basket analysis and clustering.\n"
   ]
  },
  {
   "cell_type": "code",
   "execution_count": null,
   "metadata": {},
   "outputs": [],
   "source": []
  }
 ],
 "metadata": {
  "kernelspec": {
   "display_name": "Python 3",
   "language": "python",
   "name": "python3"
  },
  "language_info": {
   "codemirror_mode": {
    "name": "ipython",
    "version": 3
   },
   "file_extension": ".py",
   "mimetype": "text/x-python",
   "name": "python",
   "nbconvert_exporter": "python",
   "pygments_lexer": "ipython3",
   "version": "3.7.3"
  }
 },
 "nbformat": 4,
 "nbformat_minor": 2
}
