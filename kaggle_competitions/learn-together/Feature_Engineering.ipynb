{
 "cells": [
  {
   "cell_type": "markdown",
   "metadata": {},
   "source": [
    "# Learn-Together: Feature Engineering\n",
    "\n",
    "**References:**\n",
    "\n",
    "* https://rstudio-pubs-static.s3.amazonaws.com/160297_f7bcb8d140b74bd19b758eb328344908.html\n",
    "* https://www.kaggle.com/kwabenantim/forest-cover-stacking-multiple-classifiers"
   ]
  },
  {
   "cell_type": "code",
   "execution_count": 31,
   "metadata": {},
   "outputs": [],
   "source": [
    "import pandas as pd\n",
    "import numpy as np\n",
    "import matplotlib.pyplot as plt\n",
    "import seaborn as sns\n",
    "from sklearn.model_selection import train_test_split, RandomizedSearchCV, GridSearchCV\n",
    "from sklearn.ensemble import RandomForestClassifier\n",
    "from sklearn.metrics import accuracy_score\n",
    "\n",
    "\n",
    "seed = 42"
   ]
  },
  {
   "cell_type": "code",
   "execution_count": 32,
   "metadata": {},
   "outputs": [],
   "source": [
    "def generate_submission(model, test_data, test_ids, file_name):\n",
    "    predictions = model.predict(test_data)\n",
    "    output = pd.DataFrame({\"Id\": test_ids, \"Cover_Type\": predictions})\n",
    "    output.to_csv(\"submissions/\"+ file_name +\".csv\", index=False)"
   ]
  },
  {
   "cell_type": "code",
   "execution_count": 33,
   "metadata": {},
   "outputs": [],
   "source": [
    "submission_ex = pd.read_csv(\"assets/learn-together/sample_submission.csv\")\n",
    "train_df = pd.read_csv(\"assets/learn-together/train.csv\")\n",
    "test_df = pd.read_csv(\"assets/learn-together/test.csv\")"
   ]
  },
  {
   "cell_type": "code",
   "execution_count": 34,
   "metadata": {},
   "outputs": [],
   "source": [
    "for X in [train_df, test_df]:\n",
    "    X['Hydro_Elevation_diff'] = (X['Elevation'] - \n",
    "                                 X['Vertical_Distance_To_Hydrology'])\n",
    "\n",
    "    X['Hydro_Fire_sum'] = (X['Horizontal_Distance_To_Hydrology'] + \n",
    "                           X['Horizontal_Distance_To_Fire_Points'])\n",
    "\n",
    "    X['Hydro_Fire_diff'] = (X['Horizontal_Distance_To_Hydrology'] - \n",
    "                            X['Horizontal_Distance_To_Fire_Points']).abs()\n",
    "\n",
    "    X['Hydro_Road_sum'] = (X['Horizontal_Distance_To_Hydrology'] +\n",
    "                           X['Horizontal_Distance_To_Roadways'])\n",
    "\n",
    "    X['Hydro_Road_diff'] = (X['Horizontal_Distance_To_Hydrology'] -\n",
    "                            X['Horizontal_Distance_To_Roadways']).abs()\n",
    "\n",
    "    X['Road_Fire_sum'] = (X['Horizontal_Distance_To_Roadways'] + \n",
    "                          X['Horizontal_Distance_To_Fire_Points'])\n",
    "\n",
    "    X['Road_Fire_diff'] = (X['Horizontal_Distance_To_Roadways'] - \n",
    "                           X['Horizontal_Distance_To_Fire_Points']).abs()"
   ]
  },
  {
   "cell_type": "code",
   "execution_count": 35,
   "metadata": {},
   "outputs": [],
   "source": [
    "target = [\"Cover_Type\"]\n",
    "cols_to_drop = [\"Id\", \"Soil_Type7\", \"Soil_Type15\", \"Cover_Type\"]\n",
    "\n",
    "train = train_df.copy()\n",
    "test = test_df.copy()\n",
    "\n",
    "y = train[target]\n",
    "train.drop(columns=cols_to_drop, inplace=True)\n",
    "test_ids = test[\"Id\"]\n",
    "test.drop(columns=[\"Id\", \"Soil_Type7\", \"Soil_Type15\"], inplace=True)"
   ]
  },
  {
   "cell_type": "code",
   "execution_count": 36,
   "metadata": {},
   "outputs": [
    {
     "data": {
      "text/plain": [
       "((12096, 59), (12096, 1), (3024, 59), (3024, 1))"
      ]
     },
     "execution_count": 36,
     "metadata": {},
     "output_type": "execute_result"
    }
   ],
   "source": [
    "X_train, X_val, y_train, y_val = train_test_split(train,\n",
    "                                                  y, \n",
    "                                                  test_size=0.2, \n",
    "                                                  random_state=seed)\n",
    "\n",
    "X_train.shape, y_train.shape, X_val.shape, y_val.shape"
   ]
  },
  {
   "cell_type": "code",
   "execution_count": 37,
   "metadata": {},
   "outputs": [],
   "source": [
    "best_params = {'bootstrap': False,\n",
    " 'max_depth': 50,\n",
    " 'min_samples_leaf': 1,\n",
    " 'min_samples_split': 2,\n",
    " 'n_estimators': 300}\n",
    "\n",
    "rf = RandomForestClassifier(n_estimators=best_params[\"n_estimators\"],\n",
    "                            max_depth=best_params[\"max_depth\"],\n",
    "                            min_samples_leaf=best_params[\"min_samples_leaf\"],\n",
    "                            min_samples_split=best_params[\"min_samples_split\"],\n",
    "                            bootstrap=False,\n",
    "                            random_state=seed)"
   ]
  },
  {
   "cell_type": "code",
   "execution_count": 38,
   "metadata": {},
   "outputs": [
    {
     "data": {
      "text/plain": [
       "RandomForestClassifier(bootstrap=False, class_weight=None, criterion='gini',\n",
       "            max_depth=50, max_features='auto', max_leaf_nodes=None,\n",
       "            min_impurity_decrease=0.0, min_impurity_split=None,\n",
       "            min_samples_leaf=1, min_samples_split=2,\n",
       "            min_weight_fraction_leaf=0.0, n_estimators=300, n_jobs=None,\n",
       "            oob_score=False, random_state=42, verbose=0, warm_start=False)"
      ]
     },
     "execution_count": 38,
     "metadata": {},
     "output_type": "execute_result"
    }
   ],
   "source": [
    "rf.fit(X_train, y_train.values.ravel())"
   ]
  },
  {
   "cell_type": "code",
   "execution_count": 39,
   "metadata": {},
   "outputs": [
    {
     "data": {
      "text/plain": [
       "0.9077380952380952"
      ]
     },
     "execution_count": 39,
     "metadata": {},
     "output_type": "execute_result"
    }
   ],
   "source": [
    "rf_predictions = rf.predict(X_val)\n",
    "rf_accuracy = accuracy_score(y_val, rf_predictions)\n",
    "rf_accuracy"
   ]
  },
  {
   "cell_type": "code",
   "execution_count": 40,
   "metadata": {},
   "outputs": [],
   "source": [
    "generate_submission(rf, test, test_ids, \"3_random_forest_feat_eng\")"
   ]
  },
  {
   "cell_type": "code",
   "execution_count": null,
   "metadata": {},
   "outputs": [],
   "source": []
  }
 ],
 "metadata": {
  "kernelspec": {
   "display_name": "Python 3",
   "language": "python",
   "name": "python3"
  },
  "language_info": {
   "codemirror_mode": {
    "name": "ipython",
    "version": 3
   },
   "file_extension": ".py",
   "mimetype": "text/x-python",
   "name": "python",
   "nbconvert_exporter": "python",
   "pygments_lexer": "ipython3",
   "version": "3.7.3"
  }
 },
 "nbformat": 4,
 "nbformat_minor": 2
}
