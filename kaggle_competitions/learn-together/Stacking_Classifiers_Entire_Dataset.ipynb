{
 "cells": [
  {
   "cell_type": "markdown",
   "metadata": {},
   "source": [
    "# Learn-Together: Stacking Classifiers 2\n",
    "\n",
    "*Fitting the stacked classifier using the entire dataset, rather splitting dataset into train/val.*"
   ]
  },
  {
   "cell_type": "code",
   "execution_count": 1,
   "metadata": {},
   "outputs": [],
   "source": [
    "import pandas as pd\n",
    "import numpy as np\n",
    "import matplotlib.pyplot as plt\n",
    "import seaborn as sns\n",
    "from sklearn.preprocessing import StandardScaler\n",
    "from sklearn.model_selection import train_test_split, RandomizedSearchCV, GridSearchCV, KFold, cross_val_score\n",
    "from sklearn.tree import DecisionTreeClassifier\n",
    "from sklearn.ensemble import AdaBoostClassifier, ExtraTreesClassifier, RandomForestClassifier\n",
    "from lightgbm import LGBMClassifier\n",
    "from mlxtend.classifier import StackingCVClassifier\n",
    "from sklearn.metrics import accuracy_score\n",
    "\n",
    "seed = 42"
   ]
  },
  {
   "cell_type": "code",
   "execution_count": 2,
   "metadata": {},
   "outputs": [],
   "source": [
    "def generate_submission(model, test_data, test_ids, file_name):\n",
    "    predictions = model.predict(test_data)\n",
    "    output = pd.DataFrame({\"Id\": test_ids, \"Cover_Type\": predictions})\n",
    "    output.to_csv(\"submissions/\"+ file_name +\".csv\", index=False)\n",
    "    print(\"Submission generated.\")"
   ]
  },
  {
   "cell_type": "code",
   "execution_count": 3,
   "metadata": {},
   "outputs": [],
   "source": [
    "submission_ex = pd.read_csv(\"assets/learn-together/sample_submission.csv\")\n",
    "train_df = pd.read_csv(\"assets/learn-together/train.csv\")\n",
    "test_df = pd.read_csv(\"assets/learn-together/test.csv\")\n",
    "\n",
    "for X in [train_df, test_df]:\n",
    "    X['Hydro_Elevation_diff'] = (X['Elevation'] - \n",
    "                                 X['Vertical_Distance_To_Hydrology'])\n",
    "\n",
    "    X['Hydro_Fire_sum'] = (X['Horizontal_Distance_To_Hydrology'] + \n",
    "                           X['Horizontal_Distance_To_Fire_Points'])\n",
    "\n",
    "    X['Hydro_Fire_diff'] = (X['Horizontal_Distance_To_Hydrology'] - \n",
    "                            X['Horizontal_Distance_To_Fire_Points']).abs()\n",
    "\n",
    "    X['Hydro_Road_sum'] = (X['Horizontal_Distance_To_Hydrology'] +\n",
    "                           X['Horizontal_Distance_To_Roadways'])\n",
    "\n",
    "    X['Hydro_Road_diff'] = (X['Horizontal_Distance_To_Hydrology'] -\n",
    "                            X['Horizontal_Distance_To_Roadways']).abs()\n",
    "\n",
    "    X['Road_Fire_sum'] = (X['Horizontal_Distance_To_Roadways'] + \n",
    "                          X['Horizontal_Distance_To_Fire_Points'])\n",
    "\n",
    "    X['Road_Fire_diff'] = (X['Horizontal_Distance_To_Roadways'] - \n",
    "                           X['Horizontal_Distance_To_Fire_Points']).abs()\n",
    "    \n",
    "target = [\"Cover_Type\"]\n",
    "cols_to_drop = [\"Id\", \"Soil_Type7\", \"Soil_Type15\", \"Cover_Type\"]\n",
    "\n",
    "train = train_df.copy()\n",
    "test = test_df.copy()\n",
    "\n",
    "y = train[target]\n",
    "train.drop(columns=cols_to_drop, inplace=True)\n",
    "test_ids = test[\"Id\"]\n",
    "test.drop(columns=[\"Id\", \"Soil_Type7\", \"Soil_Type15\"], inplace=True)\n",
    "\n",
    "# X_train, X_val, y_train, y_val = train_test_split(train,\n",
    "#                                                   y, \n",
    "#                                                   test_size=0.2, \n",
    "#                                                   random_state=seed)\n",
    "\n",
    "# X_train.shape, y_train.shape, X_val.shape, y_val.shape\n",
    "\n",
    "# sc = StandardScaler()\n",
    "# X_train = sc.fit_transform(X_train)\n",
    "# X_val = sc.transform(X_val)\n",
    "# test = sc.transform(test)"
   ]
  },
  {
   "cell_type": "code",
   "execution_count": 4,
   "metadata": {},
   "outputs": [],
   "source": [
    "ab = AdaBoostClassifier(n_estimators=200,\n",
    "                            base_estimator=DecisionTreeClassifier(\n",
    "                                min_samples_leaf=2,\n",
    "                                random_state=seed),\n",
    "                            random_state=seed)\n",
    "\n",
    "et = ExtraTreesClassifier(max_depth=400, \n",
    "                           n_estimators=450, \n",
    "                           n_jobs=-1,\n",
    "                           oob_score=False,\n",
    "                           random_state=seed, \n",
    "                           warm_start=True)\n",
    "\n",
    "lg = LGBMClassifier(n_estimators=370,\n",
    "                           metric='multi_logloss',\n",
    "                           num_leaves=100,\n",
    "                           verbosity=0,\n",
    "                           random_state=seed,\n",
    "                           n_jobs=-1)\n",
    "\n",
    "best_rf_params = {'bootstrap': False,\n",
    " 'max_depth': 50,\n",
    " 'min_samples_leaf': 1,\n",
    " 'min_samples_split': 2,\n",
    " 'n_estimators': 300}\n",
    "\n",
    "rf = RandomForestClassifier(n_estimators=best_rf_params[\"n_estimators\"],\n",
    "                            max_depth=best_rf_params[\"max_depth\"],\n",
    "                            min_samples_leaf=best_rf_params[\"min_samples_leaf\"],\n",
    "                            min_samples_split=best_rf_params[\"min_samples_split\"],\n",
    "                            bootstrap=False,\n",
    "                            random_state=seed,\n",
    "                            n_jobs=-1)"
   ]
  },
  {
   "cell_type": "code",
   "execution_count": 5,
   "metadata": {},
   "outputs": [],
   "source": [
    "models = {\"adaboost\": ab,\n",
    "          \"extratrees\": et,\n",
    "          \"lgbm\": lg,\n",
    "          \"randomforest\": rf}\n",
    "\n",
    "cv = KFold(n_splits=5, shuffle=True, random_state=seed)\n",
    "\n",
    "def cross_val(models, X=train, y=y):\n",
    "    r = dict()\n",
    "    for name, model in models.items():\n",
    "        cv_results = cross_val_score(model, X, y, cv=cv, scoring=\"accuracy\")\n",
    "        r[name] = cv_results\n",
    "        print(name, 'Accuracy Mean {0:.4f}, Std {1:.4f}'.format(cv_results.mean(), cv_results.std()))\n",
    "    return r\n",
    "\n",
    "def choose_best(results):\n",
    "    errors = dict()\n",
    "    \n",
    "    for name, arr in results.items():\n",
    "        errors[name] = arr.mean()\n",
    "    \n",
    "    best_model = [m for m, e in errors.items() if e == max(errors.values())][0]\n",
    "    return best_model"
   ]
  },
  {
   "cell_type": "code",
   "execution_count": 6,
   "metadata": {},
   "outputs": [
    {
     "name": "stderr",
     "output_type": "stream",
     "text": [
      "D:\\PROGRAMS\\Anaconda\\lib\\site-packages\\sklearn\\utils\\validation.py:761: DataConversionWarning: A column-vector y was passed when a 1d array was expected. Please change the shape of y to (n_samples, ), for example using ravel().\n",
      "  y = column_or_1d(y, warn=True)\n",
      "D:\\PROGRAMS\\Anaconda\\lib\\site-packages\\sklearn\\utils\\validation.py:761: DataConversionWarning: A column-vector y was passed when a 1d array was expected. Please change the shape of y to (n_samples, ), for example using ravel().\n",
      "  y = column_or_1d(y, warn=True)\n",
      "D:\\PROGRAMS\\Anaconda\\lib\\site-packages\\sklearn\\utils\\validation.py:761: DataConversionWarning: A column-vector y was passed when a 1d array was expected. Please change the shape of y to (n_samples, ), for example using ravel().\n",
      "  y = column_or_1d(y, warn=True)\n",
      "D:\\PROGRAMS\\Anaconda\\lib\\site-packages\\sklearn\\utils\\validation.py:761: DataConversionWarning: A column-vector y was passed when a 1d array was expected. Please change the shape of y to (n_samples, ), for example using ravel().\n",
      "  y = column_or_1d(y, warn=True)\n",
      "D:\\PROGRAMS\\Anaconda\\lib\\site-packages\\sklearn\\utils\\validation.py:761: DataConversionWarning: A column-vector y was passed when a 1d array was expected. Please change the shape of y to (n_samples, ), for example using ravel().\n",
      "  y = column_or_1d(y, warn=True)\n"
     ]
    },
    {
     "name": "stdout",
     "output_type": "stream",
     "text": [
      "adaboost Accuracy Mean 0.8876, Std 0.0096\n"
     ]
    },
    {
     "name": "stderr",
     "output_type": "stream",
     "text": [
      "D:\\PROGRAMS\\Anaconda\\lib\\site-packages\\sklearn\\model_selection\\_validation.py:528: DataConversionWarning: A column-vector y was passed when a 1d array was expected. Please change the shape of y to (n_samples,), for example using ravel().\n",
      "  estimator.fit(X_train, y_train, **fit_params)\n",
      "D:\\PROGRAMS\\Anaconda\\lib\\site-packages\\sklearn\\model_selection\\_validation.py:528: DataConversionWarning: A column-vector y was passed when a 1d array was expected. Please change the shape of y to (n_samples,), for example using ravel().\n",
      "  estimator.fit(X_train, y_train, **fit_params)\n",
      "D:\\PROGRAMS\\Anaconda\\lib\\site-packages\\sklearn\\model_selection\\_validation.py:528: DataConversionWarning: A column-vector y was passed when a 1d array was expected. Please change the shape of y to (n_samples,), for example using ravel().\n",
      "  estimator.fit(X_train, y_train, **fit_params)\n",
      "D:\\PROGRAMS\\Anaconda\\lib\\site-packages\\sklearn\\model_selection\\_validation.py:528: DataConversionWarning: A column-vector y was passed when a 1d array was expected. Please change the shape of y to (n_samples,), for example using ravel().\n",
      "  estimator.fit(X_train, y_train, **fit_params)\n",
      "D:\\PROGRAMS\\Anaconda\\lib\\site-packages\\sklearn\\model_selection\\_validation.py:528: DataConversionWarning: A column-vector y was passed when a 1d array was expected. Please change the shape of y to (n_samples,), for example using ravel().\n",
      "  estimator.fit(X_train, y_train, **fit_params)\n"
     ]
    },
    {
     "name": "stdout",
     "output_type": "stream",
     "text": [
      "extratrees Accuracy Mean 0.8994, Std 0.0056\n"
     ]
    },
    {
     "name": "stderr",
     "output_type": "stream",
     "text": [
      "D:\\PROGRAMS\\Anaconda\\lib\\site-packages\\sklearn\\preprocessing\\label.py:219: DataConversionWarning: A column-vector y was passed when a 1d array was expected. Please change the shape of y to (n_samples, ), for example using ravel().\n",
      "  y = column_or_1d(y, warn=True)\n",
      "D:\\PROGRAMS\\Anaconda\\lib\\site-packages\\sklearn\\preprocessing\\label.py:252: DataConversionWarning: A column-vector y was passed when a 1d array was expected. Please change the shape of y to (n_samples, ), for example using ravel().\n",
      "  y = column_or_1d(y, warn=True)\n",
      "D:\\PROGRAMS\\Anaconda\\lib\\site-packages\\sklearn\\preprocessing\\label.py:219: DataConversionWarning: A column-vector y was passed when a 1d array was expected. Please change the shape of y to (n_samples, ), for example using ravel().\n",
      "  y = column_or_1d(y, warn=True)\n",
      "D:\\PROGRAMS\\Anaconda\\lib\\site-packages\\sklearn\\preprocessing\\label.py:252: DataConversionWarning: A column-vector y was passed when a 1d array was expected. Please change the shape of y to (n_samples, ), for example using ravel().\n",
      "  y = column_or_1d(y, warn=True)\n",
      "D:\\PROGRAMS\\Anaconda\\lib\\site-packages\\sklearn\\preprocessing\\label.py:219: DataConversionWarning: A column-vector y was passed when a 1d array was expected. Please change the shape of y to (n_samples, ), for example using ravel().\n",
      "  y = column_or_1d(y, warn=True)\n",
      "D:\\PROGRAMS\\Anaconda\\lib\\site-packages\\sklearn\\preprocessing\\label.py:252: DataConversionWarning: A column-vector y was passed when a 1d array was expected. Please change the shape of y to (n_samples, ), for example using ravel().\n",
      "  y = column_or_1d(y, warn=True)\n",
      "D:\\PROGRAMS\\Anaconda\\lib\\site-packages\\sklearn\\preprocessing\\label.py:219: DataConversionWarning: A column-vector y was passed when a 1d array was expected. Please change the shape of y to (n_samples, ), for example using ravel().\n",
      "  y = column_or_1d(y, warn=True)\n",
      "D:\\PROGRAMS\\Anaconda\\lib\\site-packages\\sklearn\\preprocessing\\label.py:252: DataConversionWarning: A column-vector y was passed when a 1d array was expected. Please change the shape of y to (n_samples, ), for example using ravel().\n",
      "  y = column_or_1d(y, warn=True)\n",
      "D:\\PROGRAMS\\Anaconda\\lib\\site-packages\\sklearn\\preprocessing\\label.py:219: DataConversionWarning: A column-vector y was passed when a 1d array was expected. Please change the shape of y to (n_samples, ), for example using ravel().\n",
      "  y = column_or_1d(y, warn=True)\n",
      "D:\\PROGRAMS\\Anaconda\\lib\\site-packages\\sklearn\\preprocessing\\label.py:252: DataConversionWarning: A column-vector y was passed when a 1d array was expected. Please change the shape of y to (n_samples, ), for example using ravel().\n",
      "  y = column_or_1d(y, warn=True)\n"
     ]
    },
    {
     "name": "stdout",
     "output_type": "stream",
     "text": [
      "lgbm Accuracy Mean 0.8964, Std 0.0077\n"
     ]
    },
    {
     "name": "stderr",
     "output_type": "stream",
     "text": [
      "D:\\PROGRAMS\\Anaconda\\lib\\site-packages\\sklearn\\model_selection\\_validation.py:528: DataConversionWarning: A column-vector y was passed when a 1d array was expected. Please change the shape of y to (n_samples,), for example using ravel().\n",
      "  estimator.fit(X_train, y_train, **fit_params)\n",
      "D:\\PROGRAMS\\Anaconda\\lib\\site-packages\\sklearn\\model_selection\\_validation.py:528: DataConversionWarning: A column-vector y was passed when a 1d array was expected. Please change the shape of y to (n_samples,), for example using ravel().\n",
      "  estimator.fit(X_train, y_train, **fit_params)\n",
      "D:\\PROGRAMS\\Anaconda\\lib\\site-packages\\sklearn\\model_selection\\_validation.py:528: DataConversionWarning: A column-vector y was passed when a 1d array was expected. Please change the shape of y to (n_samples,), for example using ravel().\n",
      "  estimator.fit(X_train, y_train, **fit_params)\n",
      "D:\\PROGRAMS\\Anaconda\\lib\\site-packages\\sklearn\\model_selection\\_validation.py:528: DataConversionWarning: A column-vector y was passed when a 1d array was expected. Please change the shape of y to (n_samples,), for example using ravel().\n",
      "  estimator.fit(X_train, y_train, **fit_params)\n",
      "D:\\PROGRAMS\\Anaconda\\lib\\site-packages\\sklearn\\model_selection\\_validation.py:528: DataConversionWarning: A column-vector y was passed when a 1d array was expected. Please change the shape of y to (n_samples,), for example using ravel().\n",
      "  estimator.fit(X_train, y_train, **fit_params)\n"
     ]
    },
    {
     "name": "stdout",
     "output_type": "stream",
     "text": [
      "randomforest Accuracy Mean 0.9001, Std 0.0060\n"
     ]
    }
   ],
   "source": [
    "results = cross_val(models)"
   ]
  },
  {
   "cell_type": "code",
   "execution_count": 7,
   "metadata": {},
   "outputs": [
    {
     "name": "stdout",
     "output_type": "stream",
     "text": [
      "randomforest\n"
     ]
    }
   ],
   "source": [
    "best_model = choose_best(results)\n",
    "print(best_model)\n",
    "\n",
    "meta_model = models[best_model]"
   ]
  },
  {
   "cell_type": "code",
   "execution_count": 9,
   "metadata": {},
   "outputs": [
    {
     "name": "stdout",
     "output_type": "stream",
     "text": [
      "Fitting 4 classifiers...\n",
      "Fitting classifier1: adaboostclassifier (1/4)\n"
     ]
    },
    {
     "name": "stderr",
     "output_type": "stream",
     "text": [
      "D:\\PROGRAMS\\Anaconda\\lib\\site-packages\\sklearn\\utils\\validation.py:761: DataConversionWarning: A column-vector y was passed when a 1d array was expected. Please change the shape of y to (n_samples, ), for example using ravel().\n",
      "  y = column_or_1d(y, warn=True)\n",
      "[Parallel(n_jobs=-1)]: Using backend LokyBackend with 12 concurrent workers.\n",
      "[Parallel(n_jobs=-1)]: Done   5 out of   5 | elapsed:   35.7s finished\n",
      "[Parallel(n_jobs=-1)]: Using backend LokyBackend with 12 concurrent workers.\n"
     ]
    },
    {
     "name": "stdout",
     "output_type": "stream",
     "text": [
      "Fitting classifier2: extratreesclassifier (2/4)\n"
     ]
    },
    {
     "name": "stderr",
     "output_type": "stream",
     "text": [
      "[Parallel(n_jobs=-1)]: Done   5 out of   5 | elapsed:    3.5s finished\n",
      "[Parallel(n_jobs=-1)]: Using backend LokyBackend with 12 concurrent workers.\n"
     ]
    },
    {
     "name": "stdout",
     "output_type": "stream",
     "text": [
      "Fitting classifier3: lgbmclassifier (3/4)\n"
     ]
    },
    {
     "name": "stderr",
     "output_type": "stream",
     "text": [
      "[Parallel(n_jobs=-1)]: Done   5 out of   5 | elapsed:   21.5s finished\n",
      "[Parallel(n_jobs=-1)]: Using backend LokyBackend with 12 concurrent workers.\n"
     ]
    },
    {
     "name": "stdout",
     "output_type": "stream",
     "text": [
      "Fitting classifier4: randomforestclassifier (4/4)\n"
     ]
    },
    {
     "name": "stderr",
     "output_type": "stream",
     "text": [
      "[Parallel(n_jobs=-1)]: Done   5 out of   5 | elapsed:    5.1s finished\n"
     ]
    },
    {
     "name": "stdout",
     "output_type": "stream",
     "text": [
      "Fit completed.\n"
     ]
    }
   ],
   "source": [
    "estimators = [m for m in models.values()]\n",
    "stack = StackingCVClassifier(classifiers=estimators,\n",
    "                             meta_classifier=meta_model,\n",
    "                             cv=cv,\n",
    "                             stratify=True,\n",
    "                             shuffle=True,\n",
    "                             use_probas=True,\n",
    "                             use_features_in_secondary=True,\n",
    "                             verbose=1,\n",
    "                             random_state=seed,\n",
    "                             n_jobs=-1)\n",
    "\n",
    "stack = stack.fit(train, y)\n",
    "\n",
    "print(\"Fit completed.\")"
   ]
  },
  {
   "cell_type": "code",
   "execution_count": 10,
   "metadata": {},
   "outputs": [
    {
     "name": "stdout",
     "output_type": "stream",
     "text": [
      "Submission generated.\n"
     ]
    }
   ],
   "source": [
    "generate_submission(stack, test, test_ids, \"6_stacked_classifiers_entire_dataset\")"
   ]
  },
  {
   "cell_type": "code",
   "execution_count": null,
   "metadata": {},
   "outputs": [],
   "source": []
  }
 ],
 "metadata": {
  "kernelspec": {
   "display_name": "Python 3",
   "language": "python",
   "name": "python3"
  },
  "language_info": {
   "codemirror_mode": {
    "name": "ipython",
    "version": 3
   },
   "file_extension": ".py",
   "mimetype": "text/x-python",
   "name": "python",
   "nbconvert_exporter": "python",
   "pygments_lexer": "ipython3",
   "version": "3.7.3"
  }
 },
 "nbformat": 4,
 "nbformat_minor": 2
}
