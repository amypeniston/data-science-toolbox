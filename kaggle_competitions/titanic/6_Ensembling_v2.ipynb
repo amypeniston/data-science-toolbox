{
 "cells": [
  {
   "cell_type": "markdown",
   "metadata": {},
   "source": [
    "## Ensembling"
   ]
  },
  {
   "cell_type": "code",
   "execution_count": 1,
   "metadata": {},
   "outputs": [],
   "source": [
    "import pandas as pd\n",
    "import matplotlib.pyplot as plt\n",
    "import seaborn as sns\n",
    "import numpy as np\n",
    "from sklearn.preprocessing import LabelEncoder\n",
    "from sklearn.model_selection import train_test_split, cross_val_score, cross_val_predict, StratifiedKFold, KFold, RandomizedSearchCV, GridSearchCV, cross_validate\n",
    "from sklearn.metrics import mean_squared_error, roc_auc_score, accuracy_score\n",
    "from sklearn.ensemble import RandomForestClassifier, GradientBoostingClassifier, ExtraTreesClassifier, VotingClassifier\n",
    "from sklearn.svm import SVC\n",
    "import xgboost as xgb\n",
    "\n",
    "SEED = 42\n",
    "NFOLDS = 5\n",
    "\n",
    "train_ = pd.read_csv(\"assets/train.csv\")\n",
    "test_ = pd.read_csv(\"assets/test.csv\")"
   ]
  },
  {
   "cell_type": "code",
   "execution_count": 102,
   "metadata": {},
   "outputs": [
    {
     "name": "stdout",
     "output_type": "stream",
     "text": [
      "Numerical Features: {'SibSp', 'Survived', 'PassengerId', 'Parch', 'Pclass', 'Fare', 'Age'}\n",
      "Categorical Features: {'Ticket', 'Embarked', 'Name', 'Cabin', 'Sex'}\n"
     ]
    }
   ],
   "source": [
    "num_features = set([c for c in train.columns if train[c].dtype != \"object\"])\n",
    "cat_features = set([c for c in train.columns if c not in num_features])\n",
    "print(\"Numerical Features: {}\\nCategorical Features: {}\".format(num_features, cat_features))"
   ]
  },
  {
   "cell_type": "code",
   "execution_count": 135,
   "metadata": {},
   "outputs": [],
   "source": [
    "def replace_rare_titles(df):\n",
    "    title = df[\"Title\"]\n",
    "    if title in [\"Capt\", \"Col\", \"Don\", \"Jonkheer\", \"Major\", \"Sir\", \"Rev\"]:\n",
    "        return \"Mr\"\n",
    "    elif title in [\"Mme\", \"th\", \"Lady\", \"Dona\"]:\n",
    "        return 'Mrs'\n",
    "    elif title in [\"Mlle\", \"Ms\"]:\n",
    "        return 'Miss'\n",
    "    elif title =='Dr':\n",
    "        if df['Sex']=='Male':\n",
    "            return 'Mr'\n",
    "        else:\n",
    "            return 'Mrs'\n",
    "    else:\n",
    "        return title\n",
    "\n",
    "def substrings_in_string(big_string, substrings):\n",
    "    if pd.isna(big_string):\n",
    "        return \"Unknown\"\n",
    "    for substring in substrings:\n",
    "        if big_string.find(substring) != -1:\n",
    "            if substring == \"T\":\n",
    "                return \"A\"\n",
    "            else:\n",
    "                return substring\n",
    "            \n",
    "def engineer_numerical_features(df):\n",
    "    temp = df.copy()\n",
    "    \n",
    "    ## AGE - FILL MISSING VALS\n",
    "    age_avg = temp[\"Age\"].mean()\n",
    "    age_std = temp[\"Age\"].std()\n",
    "    age_null_count = temp[\"Age\"].isnull().sum()\n",
    "    rand_age = np.random.randint(age_avg - age_std, age_avg + age_std, size=age_null_count)\n",
    "    ages = temp[\"Age\"].copy()\n",
    "    ages[np.isnan(ages)] = rand_age\n",
    "    temp[\"Age\"] = ages\n",
    "    \n",
    "    ## PCLASS\n",
    "    age_class = temp[\"Age\"] * temp[\"Pclass\"]\n",
    "    temp[\"AgeClass\"] = age_class\n",
    "\n",
    "    ## AGE - BINNED\n",
    "    temp[\"Age\"] = pd.cut(temp[\"Age\"], 5, labels=[0,1,2,3,4])\n",
    "    temp[\"Age\"] = temp[\"Age\"].astype(int)\n",
    "\n",
    "    ## FARE - FILL MISSING VALS\n",
    "    temp[\"Fare\"].fillna(temp[\"Fare\"].median(), inplace=True)\n",
    "    \n",
    "    ## FAMILY SIZE\n",
    "    family_size = temp[\"SibSp\"] + temp[\"Parch\"]\n",
    "    temp[\"FamilySize\"] = family_size\n",
    "    \n",
    "    ## FARE PER PERSON\n",
    "    fare_per_person = temp[\"Fare\"] / (temp[\"FamilySize\"] + 1)\n",
    "    temp[\"FarePerPerson\"] = fare_per_person\n",
    "    \n",
    "    ## FARE - BINNED\n",
    "    temp[\"Fare\"] = pd.qcut(temp[\"Fare\"], 4, labels=[0,1,2,3])\n",
    "    temp[\"Fare\"] = temp[\"Fare\"].astype(int)\n",
    "    \n",
    "    return temp\n",
    "\n",
    "def engineer_categorical_features(df):\n",
    "    temp = df.copy()\n",
    "    \n",
    "    ## EMBARKED\n",
    "    temp[\"Embarked\"].fillna(temp[\"Embarked\"].mode()[0], inplace=True)\n",
    "    \n",
    "    ## TITLES\n",
    "    titles = temp[\"Name\"].str.split(', ', expand=True)[1].str.split(\". \", expand=True)[0]\n",
    "    temp[\"Title\"] = titles\n",
    "    temp[\"Title\"] = temp.apply(replace_rare_titles, axis=1)\n",
    "    \n",
    "    ## CABIN\n",
    "    temp[\"Cabin\"] = temp[\"Cabin\"].fillna(\"U0\")\n",
    "    deck = temp[\"Cabin\"].map(lambda x: x[0])\n",
    "    temp[\"Deck\"] = deck\n",
    "    decks = {\"A\": 1, \"T\": 1, \"B\": 2, \"C\": 3, \"D\": 4, \"E\": 5, \"F\": 6, \"G\": 7, \"U\": 8}\n",
    "    temp[\"Deck\"] = temp[\"Deck\"].map(decks)\n",
    "    temp[\"Deck\"] = temp[\"Deck\"].astype(int)\n",
    "    \n",
    "    ## ONE HOT ENCODING\n",
    "    one_hot_cols = [\"Title\", \"Sex\", \"Embarked\"]\n",
    "    \n",
    "    for o in one_hot_cols:\n",
    "        dummies = pd.get_dummies(temp[o], prefix=o)\n",
    "        temp = pd.concat([temp, dummies], axis=1)\n",
    "    \n",
    "    temp.drop(columns=list(cat_features) + [\"Title\", \"Sex\", \"Embarked\", \"PassengerId\"], inplace=True)\n",
    "    \n",
    "    return temp"
   ]
  },
  {
   "cell_type": "code",
   "execution_count": 218,
   "metadata": {},
   "outputs": [],
   "source": [
    "train = engineer_categorical_features(engineer_numerical_features(train_))\n",
    "test = engineer_categorical_features(engineer_numerical_features(test_))"
   ]
  },
  {
   "cell_type": "code",
   "execution_count": 138,
   "metadata": {},
   "outputs": [],
   "source": [
    "X = train.copy()\n",
    "y = X.pop(\"Survived\")"
   ]
  },
  {
   "cell_type": "code",
   "execution_count": 140,
   "metadata": {},
   "outputs": [],
   "source": [
    "kfold = StratifiedKFold(n_splits=NFOLDS, random_state=SEED)"
   ]
  },
  {
   "cell_type": "markdown",
   "metadata": {},
   "source": [
    "### Random Forest\n",
    "\n",
    "**RandomizedSearch**"
   ]
  },
  {
   "cell_type": "code",
   "execution_count": 141,
   "metadata": {},
   "outputs": [
    {
     "data": {
      "text/plain": [
       "RandomizedSearchCV(cv=StratifiedKFold(n_splits=5, random_state=42, shuffle=False),\n",
       "          error_score='raise-deprecating',\n",
       "          estimator=RandomForestClassifier(bootstrap=True, class_weight=None, criterion='gini',\n",
       "            max_depth=None, max_features='auto', max_leaf_nodes=None,\n",
       "            min_impurity_decrease=0.0, min_impurity_split=None,\n",
       "            min_samples_leaf=1, min_samples_split=2,\n",
       "            min_weight_fraction_leaf=0.0, n_estimators='warn', n_jobs=None,\n",
       "            oob_score=False, random_state=42, verbose=0, warm_start=False),\n",
       "          fit_params=None, iid='warn', n_iter=100, n_jobs=-1,\n",
       "          param_distributions={'n_estimators': [200, 400, 600, 800, 1000, 1200, 1400, 1600, 1800, 2000], 'max_features': ['auto', 'sqrt'], 'max_depth': [10, 20, 30, 40, 50, 60, 70, 80, 90, 100, 110, None], 'min_samples_split': [2, 5, 10], 'min_samples_leaf': [1, 2, 4], 'bootstrap': [True, False]},\n",
       "          pre_dispatch='2*n_jobs', random_state=42, refit=True,\n",
       "          return_train_score='warn', scoring=None, verbose=0)"
      ]
     },
     "execution_count": 141,
     "metadata": {},
     "output_type": "execute_result"
    }
   ],
   "source": [
    "rf = RandomForestClassifier(random_state=SEED)\n",
    "\n",
    "n_estimators = [int(x) for x in np.linspace(start = 200, stop = 2000, num = 10)]\n",
    "max_features = ['auto', 'sqrt']\n",
    "max_depth = [int(x) for x in np.linspace(10, 110, num = 11)]\n",
    "max_depth.append(None)\n",
    "min_samples_split = [2, 5, 10]\n",
    "min_samples_leaf = [1, 2, 4]\n",
    "bootstrap = [True, False]\n",
    "\n",
    "rf_random_param = {'n_estimators': n_estimators,\n",
    "               'max_features': max_features,\n",
    "               'max_depth': max_depth,\n",
    "               'min_samples_split': min_samples_split,\n",
    "               'min_samples_leaf': min_samples_leaf,\n",
    "               'bootstrap': bootstrap}\n",
    "\n",
    "rf_random = RandomizedSearchCV(estimator=rf, param_distributions=rf_random_param, n_iter=100, cv=kfold, random_state=SEED, n_jobs=-1)\n",
    "\n",
    "rf_random.fit(X, y)"
   ]
  },
  {
   "cell_type": "code",
   "execution_count": 142,
   "metadata": {},
   "outputs": [
    {
     "data": {
      "text/plain": [
       "0.8361391694725028"
      ]
     },
     "execution_count": 142,
     "metadata": {},
     "output_type": "execute_result"
    }
   ],
   "source": [
    "# rf_random.best_params_\n",
    "rf_random.best_score_ # 0.8361391694725028"
   ]
  },
  {
   "cell_type": "code",
   "execution_count": 160,
   "metadata": {},
   "outputs": [],
   "source": [
    "#rf_random.best_params_\n",
    "\n",
    "rf_random_p = {'n_estimators': 2000,\n",
    " 'min_samples_split': 10,\n",
    " 'min_samples_leaf': 2,\n",
    " 'max_features': 'auto',\n",
    " 'max_depth': 40,\n",
    " 'bootstrap': True}"
   ]
  },
  {
   "cell_type": "markdown",
   "metadata": {},
   "source": [
    "**GridSearch**"
   ]
  },
  {
   "cell_type": "code",
   "execution_count": 147,
   "metadata": {},
   "outputs": [
    {
     "data": {
      "text/plain": [
       "GridSearchCV(cv=StratifiedKFold(n_splits=5, random_state=42, shuffle=False),\n",
       "       error_score='raise-deprecating',\n",
       "       estimator=RandomForestClassifier(bootstrap=True, class_weight=None, criterion='gini',\n",
       "            max_depth=None, max_features='auto', max_leaf_nodes=None,\n",
       "            min_impurity_decrease=0.0, min_impurity_split=None,\n",
       "            min_samples_leaf=1, min_samples_split=2,\n",
       "            min_weight_fraction_leaf=0.0, n_estimators='warn', n_jobs=None,\n",
       "            oob_score=False, random_state=42, verbose=0, warm_start=False),\n",
       "       fit_params=None, iid='warn', n_jobs=-1,\n",
       "       param_grid={'n_estimators': [1000, 1250, 1500, 1750], 'min_samples_split': [8, 9, 10], 'min_samples_leaf': [2, 3, 4], 'max_features': ['auto'], 'max_depth': [30, 40, 50, 60], 'bootstrap': [True]},\n",
       "       pre_dispatch='2*n_jobs', refit=True, return_train_score='warn',\n",
       "       scoring=None, verbose=0)"
      ]
     },
     "execution_count": 147,
     "metadata": {},
     "output_type": "execute_result"
    }
   ],
   "source": [
    "rf = RandomForestClassifier(random_state=SEED)    \n",
    "\n",
    "rf_grid_param = {'n_estimators': [1000, 1250, 1500, 1750],\n",
    "     'min_samples_split': [8, 9, 10],\n",
    "     'min_samples_leaf': [2, 3, 4],\n",
    "     'max_features': ['auto'],\n",
    "     'max_depth': [30, 40, 50, 60],\n",
    "     'bootstrap': [True]}\n",
    "\n",
    "rf_grid = GridSearchCV(estimator=rf, param_grid=rf_grid_param, cv=kfold, n_jobs=-1)\n",
    "\n",
    "rf_grid.fit(X, y)"
   ]
  },
  {
   "cell_type": "code",
   "execution_count": 148,
   "metadata": {},
   "outputs": [
    {
     "data": {
      "text/plain": [
       "0.8361391694725028"
      ]
     },
     "execution_count": 148,
     "metadata": {},
     "output_type": "execute_result"
    }
   ],
   "source": [
    "# rf_grid.best_params_\n",
    "rf_random.best_score_ # 0.8361391694725028"
   ]
  },
  {
   "cell_type": "code",
   "execution_count": 158,
   "metadata": {},
   "outputs": [],
   "source": [
    "# rf_grid.best_params_\n",
    "\n",
    "rf_grid_p = {'bootstrap': True,\n",
    " 'max_depth': 30,\n",
    " 'max_features': 'auto',\n",
    " 'min_samples_leaf': 3,\n",
    " 'min_samples_split': 9,\n",
    " 'n_estimators': 1750}"
   ]
  },
  {
   "cell_type": "markdown",
   "metadata": {},
   "source": [
    "**Comparing Performance**"
   ]
  },
  {
   "cell_type": "code",
   "execution_count": 152,
   "metadata": {},
   "outputs": [
    {
     "name": "stderr",
     "output_type": "stream",
     "text": [
      "D:\\PROGRAMS\\Anaconda\\lib\\site-packages\\sklearn\\ensemble\\forest.py:246: FutureWarning: The default value of n_estimators will change from 10 in version 0.20 to 100 in 0.22.\n",
      "  \"10 in version 0.20 to 100 in 0.22.\", FutureWarning)\n"
     ]
    }
   ],
   "source": [
    "rf_baseline = RandomForestClassifier(random_state=SEED)\n",
    "rf_baseline.fit(X, y)\n",
    "rf_baseline_results = cross_validate(rf_baseline, X, y, cv=kfold, return_train_score=True)\n",
    "\n",
    "rf_random = RandomForestClassifier(random_state=SEED, **rf_random_p)\n",
    "rf_random.fit(X, y)\n",
    "rf_random_results = cross_validate(rf_random, X, y, cv=kfold, return_train_score=True)\n",
    "\n",
    "rf_grid = RandomForestClassifier(random_state=SEED, **rf_grid_p)\n",
    "rf_grid.fit(X, y)\n",
    "rf_grid_results = cross_validate(rf_grid, X, y, cv=kfold, return_train_score=True)"
   ]
  },
  {
   "cell_type": "code",
   "execution_count": 153,
   "metadata": {},
   "outputs": [
    {
     "name": "stdout",
     "output_type": "stream",
     "text": [
      "Baseline: 0.8160614613798843\n",
      "Random: 0.8361919535057082\n",
      "Grid: 0.8362045785727787\n"
     ]
    }
   ],
   "source": [
    "rf_baseline_score = rf_baseline_results[\"test_score\"].mean()\n",
    "rf_random_score = rf_random_results[\"test_score\"].mean()\n",
    "rf_grid_score = rf_grid_results[\"test_score\"].mean()\n",
    "print(\"Baseline: {}\\nRandom: {}\\nGrid: {}\".format(rf_baseline_score, rf_random_score, rf_grid_score))"
   ]
  },
  {
   "cell_type": "markdown",
   "metadata": {},
   "source": [
    "### Gradient Boosting Classifier"
   ]
  },
  {
   "cell_type": "markdown",
   "metadata": {},
   "source": [
    "**RandomizedSearch**"
   ]
  },
  {
   "cell_type": "code",
   "execution_count": 154,
   "metadata": {},
   "outputs": [
    {
     "data": {
      "text/plain": [
       "RandomizedSearchCV(cv=StratifiedKFold(n_splits=5, random_state=42, shuffle=False),\n",
       "          error_score='raise-deprecating',\n",
       "          estimator=GradientBoostingClassifier(criterion='friedman_mse', init=None,\n",
       "              learning_rate=0.1, loss='deviance', max_depth=3,\n",
       "              max_features=None, max_leaf_nodes=None,\n",
       "              min_impurity_decrease=0.0, min_impurity_split=None,\n",
       "              min_samples_leaf=1, min_sampl...      subsample=1.0, tol=0.0001, validation_fraction=0.1,\n",
       "              verbose=0, warm_start=False),\n",
       "          fit_params=None, iid='warn', n_iter=100, n_jobs=-1,\n",
       "          param_distributions={'loss': ['deviance'], 'n_estimators': [200, 400, 600, 800, 1000, 1200, 1400, 1600, 1800, 2000], 'learning_rate': [0.15, 0.1, 0.05, 0.01], 'max_depth': [2, 4, 6, 8], 'min_samples_leaf': [75, 100, 125, 150], 'max_features': [0.5, 0.3, 0.1]},\n",
       "          pre_dispatch='2*n_jobs', random_state=42, refit=True,\n",
       "          return_train_score='warn', scoring=None, verbose=0)"
      ]
     },
     "execution_count": 154,
     "metadata": {},
     "output_type": "execute_result"
    }
   ],
   "source": [
    "gbc = GradientBoostingClassifier(random_state=SEED)\n",
    "\n",
    "n_estimators = [int(x) for x in np.linspace(start = 200, stop = 2000, num = 10)]\n",
    "\n",
    "gbc_random_param = {'loss' : [\"deviance\"],\n",
    "              'n_estimators' : n_estimators,\n",
    "              'learning_rate': [0.15, 0.1, 0.05, 0.01],\n",
    "              'max_depth': [2, 4, 6, 8],\n",
    "              'min_samples_leaf': [75, 100, 125, 150],\n",
    "              'max_features': [0.5, 0.3, 0.1] \n",
    "              }\n",
    "\n",
    "gbc_random = RandomizedSearchCV(estimator=gbc, param_distributions=gbc_random_param, n_iter=100, cv=kfold, random_state=SEED, n_jobs=-1)\n",
    "\n",
    "gbc_random.fit(X, y)"
   ]
  },
  {
   "cell_type": "code",
   "execution_count": 155,
   "metadata": {},
   "outputs": [
    {
     "data": {
      "text/plain": [
       "0.8372615039281706"
      ]
     },
     "execution_count": 155,
     "metadata": {},
     "output_type": "execute_result"
    }
   ],
   "source": [
    "# gbc_random.best_params_\n",
    "gbc_random.best_score_ # 0.8372615039281706"
   ]
  },
  {
   "cell_type": "code",
   "execution_count": 157,
   "metadata": {},
   "outputs": [],
   "source": [
    "#gbc_random.best_params_\n",
    "\n",
    "gbc_random_p = {'n_estimators': 2000,\n",
    " 'min_samples_leaf': 125,\n",
    " 'max_features': 0.3,\n",
    " 'max_depth': 8,\n",
    " 'loss': 'deviance',\n",
    " 'learning_rate': 0.15}"
   ]
  },
  {
   "cell_type": "markdown",
   "metadata": {},
   "source": [
    "**GridSearch**"
   ]
  },
  {
   "cell_type": "code",
   "execution_count": 161,
   "metadata": {},
   "outputs": [
    {
     "data": {
      "text/plain": [
       "GridSearchCV(cv=StratifiedKFold(n_splits=5, random_state=42, shuffle=False),\n",
       "       error_score='raise-deprecating',\n",
       "       estimator=GradientBoostingClassifier(criterion='friedman_mse', init=None,\n",
       "              learning_rate=0.1, loss='deviance', max_depth=3,\n",
       "              max_features=None, max_leaf_nodes=None,\n",
       "              min_impurity_decrease=0.0, min_impurity_split=None,\n",
       "              min_samples_leaf=1, min_sampl...      subsample=1.0, tol=0.0001, validation_fraction=0.1,\n",
       "              verbose=0, warm_start=False),\n",
       "       fit_params=None, iid='warn', n_jobs=-1,\n",
       "       param_grid={'loss': ['deviance'], 'n_estimators': [1600, 1800, 2000, 2200], 'learning_rate': [0.2, 0.15, 0.1, 0.05], 'max_depth': [6, 8, 10], 'min_samples_leaf': [100, 125, 150], 'max_features': [0.2, 0.3, 0.4]},\n",
       "       pre_dispatch='2*n_jobs', refit=True, return_train_score='warn',\n",
       "       scoring='accuracy', verbose=0)"
      ]
     },
     "execution_count": 161,
     "metadata": {},
     "output_type": "execute_result"
    }
   ],
   "source": [
    "gbc = GradientBoostingClassifier(random_state=SEED)\n",
    "gbc_grid_param = {'loss' : [\"deviance\"],\n",
    "              'n_estimators' : [1600, 1800, 2000, 2200],\n",
    "              'learning_rate': [0.2, 0.15, 0.1, 0.05],\n",
    "              'max_depth': [6, 8, 10],\n",
    "              'min_samples_leaf': [100, 125, 150],\n",
    "              'max_features': [0.2, 0.3, 0.4]\n",
    "              }\n",
    "\n",
    "gbc_grid = GridSearchCV(gbc, param_grid=gbc_grid_param, cv=kfold, scoring=\"accuracy\", n_jobs=-1)\n",
    "\n",
    "gbc_grid.fit(X, y)"
   ]
  },
  {
   "cell_type": "code",
   "execution_count": 163,
   "metadata": {},
   "outputs": [
    {
     "data": {
      "text/plain": [
       "0.8406285072951739"
      ]
     },
     "execution_count": 163,
     "metadata": {},
     "output_type": "execute_result"
    }
   ],
   "source": [
    "# gbc_grid.best_params_\n",
    "gbc_grid.best_score_ # 0.8406285072951739"
   ]
  },
  {
   "cell_type": "code",
   "execution_count": 165,
   "metadata": {},
   "outputs": [],
   "source": [
    "# gbc_grid.best_params_\n",
    "\n",
    "gbc_grid_p = {'learning_rate': 0.15,\n",
    " 'loss': 'deviance',\n",
    " 'max_depth': 6,\n",
    " 'max_features': 0.2,\n",
    " 'min_samples_leaf': 125,\n",
    " 'n_estimators': 2000}"
   ]
  },
  {
   "cell_type": "code",
   "execution_count": 166,
   "metadata": {},
   "outputs": [],
   "source": [
    "gbc_baseline = GradientBoostingClassifier(random_state=SEED)\n",
    "gbc_baseline.fit(X, y)\n",
    "gbc_baseline_results = cross_validate(gbc_baseline, X, y, cv=kfold, return_train_score=True)\n",
    "\n",
    "gbc_random = GradientBoostingClassifier(random_state=SEED, **gbc_random_p)\n",
    "gbc_random.fit(X, y)\n",
    "gbc_random_results = cross_validate(gbc_random, X, y, cv=kfold, return_train_score=True)\n",
    "\n",
    "gbc_grid = GradientBoostingClassifier(random_state=SEED, **gbc_grid_p)\n",
    "gbc_grid.fit(X, y)\n",
    "gbc_grid_results = cross_validate(gbc_grid, X, y, cv=kfold, return_train_score=True)"
   ]
  },
  {
   "cell_type": "code",
   "execution_count": 167,
   "metadata": {},
   "outputs": [
    {
     "name": "stdout",
     "output_type": "stream",
     "text": [
      "Baseline: 0.8283959036622269\n",
      "Random: 0.8373847386345139\n",
      "Grid: 0.8407304168719127\n"
     ]
    }
   ],
   "source": [
    "gbc_baseline_score = gbc_baseline_results[\"test_score\"].mean()\n",
    "gbc_random_score = gbc_random_results[\"test_score\"].mean()\n",
    "gbc_grid_score = gbc_grid_results[\"test_score\"].mean()\n",
    "print(\"Baseline: {}\\nRandom: {}\\nGrid: {}\".format(gbc_baseline_score, gbc_random_score, gbc_grid_score))"
   ]
  },
  {
   "cell_type": "markdown",
   "metadata": {},
   "source": [
    "### ExtraTrees"
   ]
  },
  {
   "cell_type": "markdown",
   "metadata": {},
   "source": [
    "**RandomizedSearch**"
   ]
  },
  {
   "cell_type": "code",
   "execution_count": 190,
   "metadata": {},
   "outputs": [
    {
     "data": {
      "text/plain": [
       "RandomizedSearchCV(cv=StratifiedKFold(n_splits=5, random_state=42, shuffle=False),\n",
       "          error_score='raise-deprecating',\n",
       "          estimator=ExtraTreesClassifier(bootstrap=False, class_weight=None, criterion='gini',\n",
       "           max_depth=None, max_features='auto', max_leaf_nodes=None,\n",
       "           min_impurity_decrease=0.0, min_impurity_split=None,\n",
       "           min_samples_leaf=1, min_samples_split=2,\n",
       "           min_weight_fraction_leaf=0.0, n_estimators='warn', n_jobs=None,\n",
       "           oob_score=False, random_state=42, verbose=0, warm_start=False),\n",
       "          fit_params=None, iid='warn', n_iter=100, n_jobs=-1,\n",
       "          param_distributions={'max_depth': [None], 'max_features': [0.5, 2, 3], 'min_samples_split': [2, 3, 4], 'min_samples_leaf': [1, 2, 3], 'bootstrap': [False], 'n_estimators': [100, 300, 500, 700, 900], 'criterion': ['gini']},\n",
       "          pre_dispatch='2*n_jobs', random_state=42, refit=True,\n",
       "          return_train_score='warn', scoring=None, verbose=0)"
      ]
     },
     "execution_count": 190,
     "metadata": {},
     "output_type": "execute_result"
    }
   ],
   "source": [
    "etc = ExtraTreesClassifier(random_state=SEED)\n",
    "\n",
    "etc_random_param = {\"max_depth\": [None],\n",
    "              \"max_features\": [0.5, 2, 3],\n",
    "              \"min_samples_split\": [2, 3, 4],\n",
    "              \"min_samples_leaf\": [1, 2, 3],\n",
    "              \"bootstrap\": [False],\n",
    "              \"n_estimators\" :[100, 300, 500, 700, 900],\n",
    "              \"criterion\": [\"gini\"]}\n",
    "\n",
    "etc_random = RandomizedSearchCV(estimator=etc, param_distributions=etc_random_param, n_iter=100, cv=kfold, n_jobs=-1, random_state=SEED)\n",
    "\n",
    "etc_random.fit(X,y)"
   ]
  },
  {
   "cell_type": "code",
   "execution_count": 191,
   "metadata": {},
   "outputs": [
    {
     "data": {
      "text/plain": [
       "0.8316498316498316"
      ]
     },
     "execution_count": 191,
     "metadata": {},
     "output_type": "execute_result"
    }
   ],
   "source": [
    "# etc_random.best_params_\n",
    "etc_random.best_score_ # 0.835016835016835"
   ]
  },
  {
   "cell_type": "code",
   "execution_count": 192,
   "metadata": {},
   "outputs": [],
   "source": [
    "# etc_random.best_params_\n",
    "\n",
    "etc_random_p = {'n_estimators': 900,\n",
    " 'min_samples_split': 2,\n",
    " 'min_samples_leaf': 3,\n",
    " 'max_features': 2,\n",
    " 'max_depth': None,\n",
    " 'criterion': 'gini',\n",
    " 'bootstrap': False}"
   ]
  },
  {
   "cell_type": "markdown",
   "metadata": {},
   "source": [
    "**GridSearch**"
   ]
  },
  {
   "cell_type": "code",
   "execution_count": 193,
   "metadata": {},
   "outputs": [
    {
     "data": {
      "text/plain": [
       "GridSearchCV(cv=StratifiedKFold(n_splits=5, random_state=42, shuffle=False),\n",
       "       error_score='raise-deprecating',\n",
       "       estimator=ExtraTreesClassifier(bootstrap=False, class_weight=None, criterion='gini',\n",
       "           max_depth=None, max_features='auto', max_leaf_nodes=None,\n",
       "           min_impurity_decrease=0.0, min_impurity_split=None,\n",
       "           min_samples_leaf=1, min_samples_split=2,\n",
       "           min_weight_fraction_leaf=0.0, n_estimators='warn', n_jobs=None,\n",
       "           oob_score=False, random_state=42, verbose=0, warm_start=False),\n",
       "       fit_params=None, iid='warn', n_jobs=-1,\n",
       "       param_grid={'max_depth': [None], 'max_features': [2, 3, 4], 'min_samples_split': [2, 3, 4], 'min_samples_leaf': [2, 3, 4], 'bootstrap': [False], 'n_estimators': [800, 900, 1000, 1100], 'criterion': ['gini']},\n",
       "       pre_dispatch='2*n_jobs', refit=True, return_train_score='warn',\n",
       "       scoring='accuracy', verbose=0)"
      ]
     },
     "execution_count": 193,
     "metadata": {},
     "output_type": "execute_result"
    }
   ],
   "source": [
    "etc = ExtraTreesClassifier(random_state=SEED)\n",
    "\n",
    "etc_grid_param = {\"max_depth\": [None],\n",
    "              \"max_features\": [2, 3, 4],\n",
    "              \"min_samples_split\": [2, 3, 4],\n",
    "              \"min_samples_leaf\": [2, 3, 4],\n",
    "              \"bootstrap\": [False],\n",
    "              \"n_estimators\" :[800, 900, 1000, 1100],\n",
    "              \"criterion\": [\"gini\"]}\n",
    "\n",
    "etc_grid = GridSearchCV(etc, param_grid=etc_grid_param, scoring=\"accuracy\", cv=kfold, n_jobs=-1)\n",
    "\n",
    "etc_grid.fit(X,y)"
   ]
  },
  {
   "cell_type": "code",
   "execution_count": 195,
   "metadata": {},
   "outputs": [
    {
     "data": {
      "text/plain": [
       "0.8316498316498316"
      ]
     },
     "execution_count": 195,
     "metadata": {},
     "output_type": "execute_result"
    }
   ],
   "source": [
    "# etc_grid.best_params_\n",
    "etc_grid.best_score_ # 0.8316498316498316"
   ]
  },
  {
   "cell_type": "code",
   "execution_count": 197,
   "metadata": {},
   "outputs": [],
   "source": [
    "# etc_grid.best_params_\n",
    "\n",
    "etc_grid_p = {'bootstrap': False,\n",
    " 'criterion': 'gini',\n",
    " 'max_depth': None,\n",
    " 'max_features': 2,\n",
    " 'min_samples_leaf': 3,\n",
    " 'min_samples_split': 2,\n",
    " 'n_estimators': 900}"
   ]
  },
  {
   "cell_type": "code",
   "execution_count": 198,
   "metadata": {},
   "outputs": [
    {
     "name": "stderr",
     "output_type": "stream",
     "text": [
      "D:\\PROGRAMS\\Anaconda\\lib\\site-packages\\sklearn\\ensemble\\forest.py:246: FutureWarning: The default value of n_estimators will change from 10 in version 0.20 to 100 in 0.22.\n",
      "  \"10 in version 0.20 to 100 in 0.22.\", FutureWarning)\n"
     ]
    }
   ],
   "source": [
    "etc_baseline = ExtraTreesClassifier(random_state=SEED)\n",
    "etc_baseline.fit(X, y)\n",
    "etc_baseline_results = cross_validate(gbc_baseline, X, y, cv=kfold, return_train_score=True)\n",
    "\n",
    "etc_random = ExtraTreesClassifier(random_state=SEED, **etc_random_p)\n",
    "etc_random.fit(X, y)\n",
    "etc_random_results = cross_validate(etc_random, X, y, cv=kfold, return_train_score=True)\n",
    "\n",
    "etc_grid = ExtraTreesClassifier(random_state=SEED, **etc_grid_p)\n",
    "etc_grid.fit(X, y)\n",
    "etc_grid_results = cross_validate(etc_grid, X, y, cv=kfold, return_train_score=True)"
   ]
  },
  {
   "cell_type": "code",
   "execution_count": 199,
   "metadata": {},
   "outputs": [
    {
     "name": "stdout",
     "output_type": "stream",
     "text": [
      "Baseline: 0.8283959036622269\n",
      "Random: 0.831672392276438\n",
      "Grid: 0.831672392276438\n"
     ]
    }
   ],
   "source": [
    "etc_baseline_score = etc_baseline_results[\"test_score\"].mean()\n",
    "etc_random_score = etc_random_results[\"test_score\"].mean()\n",
    "etc_grid_score = etc_grid_results[\"test_score\"].mean()\n",
    "print(\"Baseline: {}\\nRandom: {}\\nGrid: {}\".format(etc_baseline_score, etc_random_score, etc_grid_score))"
   ]
  },
  {
   "cell_type": "markdown",
   "metadata": {},
   "source": [
    "### SVC"
   ]
  },
  {
   "cell_type": "markdown",
   "metadata": {},
   "source": [
    "**RandomizedSearch**"
   ]
  },
  {
   "cell_type": "code",
   "execution_count": 200,
   "metadata": {},
   "outputs": [
    {
     "name": "stderr",
     "output_type": "stream",
     "text": [
      "D:\\PROGRAMS\\Anaconda\\lib\\site-packages\\sklearn\\model_selection\\_search.py:271: UserWarning: The total space of parameters 56 is smaller than n_iter=100. Running 56 iterations. For exhaustive searches, use GridSearchCV.\n",
      "  % (grid_size, self.n_iter, grid_size), UserWarning)\n",
      "D:\\PROGRAMS\\Anaconda\\lib\\site-packages\\sklearn\\model_selection\\_search.py:841: DeprecationWarning: The default of the `iid` parameter will change from True to False in version 0.22 and will be removed in 0.24. This will change numeric results when test-set sizes are unequal.\n",
      "  DeprecationWarning)\n"
     ]
    },
    {
     "data": {
      "text/plain": [
       "RandomizedSearchCV(cv=StratifiedKFold(n_splits=5, random_state=42, shuffle=False),\n",
       "          error_score='raise-deprecating',\n",
       "          estimator=SVC(C=1.0, cache_size=200, class_weight=None, coef0=0.0,\n",
       "  decision_function_shape='ovr', degree=3, gamma='auto_deprecated',\n",
       "  kernel='rbf', max_iter=-1, probability=False, random_state=42,\n",
       "  shrinking=True, tol=0.001, verbose=False),\n",
       "          fit_params=None, iid='warn', n_iter=100, n_jobs=-1,\n",
       "          param_distributions={'kernel': ['rbf', 'linear'], 'gamma': [0.001, 0.01, 0.1, 1], 'C': [0.25, 1, 10, 50, 100, 500, 1000]},\n",
       "          pre_dispatch='2*n_jobs', random_state=42, refit=True,\n",
       "          return_train_score='warn', scoring=None, verbose=0)"
      ]
     },
     "execution_count": 200,
     "metadata": {},
     "output_type": "execute_result"
    }
   ],
   "source": [
    "svm = SVC(random_state=SEED, probability=True)\n",
    "\n",
    "svm_random_param = {'kernel': [\"rbf\", \"linear\"], \n",
    "                  'gamma': [0.001, 0.01, 0.1, 1],\n",
    "                  'C': [0.25, 1, 10, 50, 100, 500, 1000]}\n",
    "\n",
    "svm_random = RandomizedSearchCV(estimator=svm, param_distributions=svm_random_param, n_iter=100, cv=kfold, random_state=SEED, n_jobs=-1)\n",
    "\n",
    "svm_random.fit(X, y)"
   ]
  },
  {
   "cell_type": "code",
   "execution_count": 203,
   "metadata": {},
   "outputs": [
    {
     "data": {
      "text/plain": [
       "0.8237934904601572"
      ]
     },
     "execution_count": 203,
     "metadata": {},
     "output_type": "execute_result"
    }
   ],
   "source": [
    "# svm_random.best_params_\n",
    "svm_random.best_score_ # 0.8237934904601572"
   ]
  },
  {
   "cell_type": "code",
   "execution_count": 225,
   "metadata": {},
   "outputs": [],
   "source": [
    "# svm_random.best_params_\n",
    "\n",
    "svm_random_p = {'kernel': 'linear', 'gamma': 0.001, 'C': 100, \"probability\":True}"
   ]
  },
  {
   "cell_type": "markdown",
   "metadata": {},
   "source": [
    "**GridSearch**"
   ]
  },
  {
   "cell_type": "code",
   "execution_count": 207,
   "metadata": {},
   "outputs": [
    {
     "data": {
      "text/plain": [
       "GridSearchCV(cv=StratifiedKFold(n_splits=5, random_state=42, shuffle=False),\n",
       "       error_score='raise-deprecating',\n",
       "       estimator=SVC(C=1.0, cache_size=200, class_weight=None, coef0=0.0,\n",
       "  decision_function_shape='ovr', degree=3, gamma='auto_deprecated',\n",
       "  kernel='rbf', max_iter=-1, probability=False, random_state=42,\n",
       "  shrinking=True, tol=0.001, verbose=False),\n",
       "       fit_params=None, iid='warn', n_jobs=-1,\n",
       "       param_grid={'kernel': ['linear'], 'gamma': [0.001, 0.005, 0.01], 'C': [90, 100, 110, 120]},\n",
       "       pre_dispatch='2*n_jobs', refit=True, return_train_score='warn',\n",
       "       scoring='accuracy', verbose=0)"
      ]
     },
     "execution_count": 207,
     "metadata": {},
     "output_type": "execute_result"
    }
   ],
   "source": [
    "svm = SVC(random_state=SEED)\n",
    "\n",
    "svm_grid_param = {'kernel': [\"linear\"], \n",
    "                  'gamma': [0.001, 0.005, 0.01],\n",
    "                  'C': [90, 100, 110, 120]}\n",
    "\n",
    "svm_grid = GridSearchCV(svm, param_grid=svm_grid_param, scoring=\"accuracy\", cv=kfold, n_jobs=-1)\n",
    "\n",
    "svm_grid.fit(X, y)"
   ]
  },
  {
   "cell_type": "code",
   "execution_count": 210,
   "metadata": {},
   "outputs": [
    {
     "data": {
      "text/plain": [
       "0.8237934904601572"
      ]
     },
     "execution_count": 210,
     "metadata": {},
     "output_type": "execute_result"
    }
   ],
   "source": [
    "# svm_grid.best_params_\n",
    "svm_grid.best_score_ # 0.8294051627384961"
   ]
  },
  {
   "cell_type": "code",
   "execution_count": 228,
   "metadata": {},
   "outputs": [],
   "source": [
    "# svm_grid.best_params_\n",
    "\n",
    "svm_grid_p = {'C': 100, 'gamma': 0.001, 'kernel': 'linear', \"probability\":True}"
   ]
  },
  {
   "cell_type": "code",
   "execution_count": 229,
   "metadata": {},
   "outputs": [],
   "source": [
    "svm_baseline = SVC(random_state=SEED, gamma=\"scale\")\n",
    "svm_baseline.fit(X, y)\n",
    "svm_baseline_results = cross_validate(svm_baseline, X, y, cv=kfold, return_train_score=True)\n",
    "\n",
    "svm_random = SVC(random_state=SEED, **svm_random_p)\n",
    "svm_random.fit(X, y)\n",
    "svm_random_results = cross_validate(svm_random, X, y, cv=kfold, return_train_score=True)\n",
    "\n",
    "svm_grid = SVC(random_state=SEED, **svm_grid_p)\n",
    "svm_grid.fit(X, y)\n",
    "svm_grid_results = cross_validate(svm_grid, X, y, cv=kfold, return_train_score=True)"
   ]
  },
  {
   "cell_type": "code",
   "execution_count": 230,
   "metadata": {},
   "outputs": [
    {
     "name": "stdout",
     "output_type": "stream",
     "text": [
      "Baseline: 0.7015660048081646\n",
      "Random: 0.8237945277426982\n",
      "Grid: 0.8237945277426982\n"
     ]
    }
   ],
   "source": [
    "svm_baseline_score = svm_baseline_results[\"test_score\"].mean()\n",
    "svm_random_score = svm_random_results[\"test_score\"].mean()\n",
    "svm_grid_score = svm_grid_results[\"test_score\"].mean()\n",
    "print(\"Baseline: {}\\nRandom: {}\\nGrid: {}\".format(svm_baseline_score, svm_random_score, svm_grid_score))"
   ]
  },
  {
   "cell_type": "markdown",
   "metadata": {},
   "source": [
    "### Voting Ensemble"
   ]
  },
  {
   "cell_type": "code",
   "execution_count": 231,
   "metadata": {},
   "outputs": [
    {
     "data": {
      "text/plain": [
       "VotingClassifier(estimators=[('rf', RandomForestClassifier(bootstrap=True, class_weight=None, criterion='gini',\n",
       "            max_depth=30, max_features='auto', max_leaf_nodes=None,\n",
       "            min_impurity_decrease=0.0, min_impurity_split=None,\n",
       "            min_samples_leaf=3, min_samples_split=9,\n",
       "            min_weig...ar',\n",
       "  max_iter=-1, probability=True, random_state=42, shrinking=True,\n",
       "  tol=0.001, verbose=False))],\n",
       "         flatten_transform=None, n_jobs=5, voting='soft', weights=None)"
      ]
     },
     "execution_count": 231,
     "metadata": {},
     "output_type": "execute_result"
    }
   ],
   "source": [
    "voting_ensemble = VotingClassifier(estimators=[(\"rf\", rf_grid), \n",
    "                                               (\"gbc\", gbc_grid), \n",
    "                                               (\"etc\", etc_grid),\n",
    "                                               (\"svm\", svm_grid)], voting=\"soft\", n_jobs=5)\n",
    "voting_ensemble.fit(X, y)"
   ]
  },
  {
   "cell_type": "code",
   "execution_count": 232,
   "metadata": {},
   "outputs": [],
   "source": [
    "yhat = voting_ensemble.predict(test)"
   ]
  },
  {
   "cell_type": "code",
   "execution_count": 233,
   "metadata": {},
   "outputs": [],
   "source": [
    "def generate_submission(filename, yhat, save=False):\n",
    "    submission_df = pd.DataFrame(columns=[\"PassengerId\", \"Survived\"])\n",
    "    submission_df[\"PassengerId\"] = test_[\"PassengerId\"]\n",
    "    submission_df[\"Survived\"] = yhat\n",
    "    if save:\n",
    "        submission_df.to_csv(\"submissions/\"+filename, header=True, index=False)\n",
    "    return submission_df"
   ]
  },
  {
   "cell_type": "code",
   "execution_count": 234,
   "metadata": {},
   "outputs": [
    {
     "data": {
      "text/html": [
       "<div>\n",
       "<style scoped>\n",
       "    .dataframe tbody tr th:only-of-type {\n",
       "        vertical-align: middle;\n",
       "    }\n",
       "\n",
       "    .dataframe tbody tr th {\n",
       "        vertical-align: top;\n",
       "    }\n",
       "\n",
       "    .dataframe thead th {\n",
       "        text-align: right;\n",
       "    }\n",
       "</style>\n",
       "<table border=\"1\" class=\"dataframe\">\n",
       "  <thead>\n",
       "    <tr style=\"text-align: right;\">\n",
       "      <th></th>\n",
       "      <th>PassengerId</th>\n",
       "      <th>Survived</th>\n",
       "    </tr>\n",
       "  </thead>\n",
       "  <tbody>\n",
       "    <tr>\n",
       "      <th>0</th>\n",
       "      <td>892</td>\n",
       "      <td>0</td>\n",
       "    </tr>\n",
       "    <tr>\n",
       "      <th>1</th>\n",
       "      <td>893</td>\n",
       "      <td>0</td>\n",
       "    </tr>\n",
       "    <tr>\n",
       "      <th>2</th>\n",
       "      <td>894</td>\n",
       "      <td>0</td>\n",
       "    </tr>\n",
       "    <tr>\n",
       "      <th>3</th>\n",
       "      <td>895</td>\n",
       "      <td>0</td>\n",
       "    </tr>\n",
       "    <tr>\n",
       "      <th>4</th>\n",
       "      <td>896</td>\n",
       "      <td>1</td>\n",
       "    </tr>\n",
       "  </tbody>\n",
       "</table>\n",
       "</div>"
      ],
      "text/plain": [
       "   PassengerId  Survived\n",
       "0          892         0\n",
       "1          893         0\n",
       "2          894         0\n",
       "3          895         0\n",
       "4          896         1"
      ]
     },
     "execution_count": 234,
     "metadata": {},
     "output_type": "execute_result"
    }
   ],
   "source": [
    "filename = \"voting_ensemble_v2.csv\"\n",
    "submission = generate_submission(filename, yhat, True)\n",
    "submission.head()"
   ]
  },
  {
   "cell_type": "markdown",
   "metadata": {},
   "source": [
    "See https://www.kaggle.com/arthurtok/0-808-with-simple-stacking"
   ]
  },
  {
   "cell_type": "code",
   "execution_count": 235,
   "metadata": {},
   "outputs": [],
   "source": [
    "def get_oof(clf, x_train, y_train, x_test):\n",
    "    oof_train = np.zeros((ntrain,))\n",
    "    oof_test = np.zeros((ntest,))\n",
    "    oof_test_skf = np.empty((NFOLDS, ntest))\n",
    "\n",
    "    for i, (train_index, test_index) in enumerate(kfold.split(train, y)):\n",
    "        x_tr = x_train[train_index]\n",
    "        y_tr = y_train[train_index]\n",
    "        x_te = x_train[test_index]\n",
    "\n",
    "        clf.fit(x_tr, y_tr)\n",
    "\n",
    "        oof_train[test_index] = clf.predict(x_te)\n",
    "        oof_test_skf[i, :] = clf.predict(x_test)\n",
    "\n",
    "    oof_test[:] = oof_test_skf.mean(axis=0)\n",
    "    return oof_train.reshape(-1, 1), oof_test.reshape(-1, 1)"
   ]
  },
  {
   "cell_type": "code",
   "execution_count": 236,
   "metadata": {},
   "outputs": [],
   "source": [
    "train_c = train.copy()\n",
    "y_train = train_c.pop(\"Survived\").ravel()\n",
    "X_train = train_c.values\n",
    "X_test = test.values\n",
    "\n",
    "ntrain = train.shape[0]\n",
    "ntest = test.shape[0]"
   ]
  },
  {
   "cell_type": "code",
   "execution_count": 237,
   "metadata": {},
   "outputs": [
    {
     "name": "stdout",
     "output_type": "stream",
     "text": [
      "(891, 4),(418, 4)\n"
     ]
    }
   ],
   "source": [
    "et_oof_train, et_oof_test = get_oof(etc_grid, X_train, y_train, X_test)\n",
    "rf_oof_train, rf_oof_test = get_oof(rf_grid, X_train, y_train, X_test)\n",
    "gb_oof_train, gb_oof_test = get_oof(gbc_grid, X_train, y_train, X_test)\n",
    "svc_oof_train, svc_oof_test = get_oof(svm_grid, X_train, y_train, X_test)\n",
    "\n",
    "x_train = np.concatenate(( et_oof_train, rf_oof_train, gb_oof_train, svc_oof_train), axis=1)\n",
    "x_test = np.concatenate(( et_oof_test, rf_oof_test, gb_oof_test, svc_oof_test), axis=1)\n",
    "print(\"{},{}\".format(x_train.shape, x_test.shape))"
   ]
  },
  {
   "cell_type": "markdown",
   "metadata": {},
   "source": [
    "### XGB"
   ]
  },
  {
   "cell_type": "markdown",
   "metadata": {},
   "source": [
    "**RandomizedSearch**"
   ]
  },
  {
   "cell_type": "code",
   "execution_count": 238,
   "metadata": {},
   "outputs": [
    {
     "data": {
      "text/plain": [
       "RandomizedSearchCV(cv=StratifiedKFold(n_splits=5, random_state=42, shuffle=False),\n",
       "          error_score='raise-deprecating',\n",
       "          estimator=XGBClassifier(base_score=0.5, booster='gbtree', colsample_bylevel=1,\n",
       "       colsample_bynode=1, colsample_bytree=1, gamma=0, learning_rate=0.1,\n",
       "       max_delta_step=0, max_depth=3, min_child_weight=1, missing=None,\n",
       "       n_estimators=100, n_jobs=1, nthread=None,\n",
       "       objective='binary:logistic', random_state=42, reg_alpha=0,\n",
       "       reg_lambda=1, scale_pos_weight=1, seed=None, silent=None,\n",
       "       subsample=1, verbosity=1),\n",
       "          fit_params=None, iid='warn', n_iter=100, n_jobs=5,\n",
       "          param_distributions={'n_estimators': [500, 1000, 1500, 2000], 'max_depth': [3, 4, 5], 'min_child_weight': [2, 3, 4], 'gamma': [0.9, 1, 1.1], 'subsample': [0.8, 0.9, 1], 'colsample_bytree': [0.8, 0.9, 1]},\n",
       "          pre_dispatch='2*n_jobs', random_state=42, refit=True,\n",
       "          return_train_score='warn', scoring=None, verbose=0)"
      ]
     },
     "execution_count": 238,
     "metadata": {},
     "output_type": "execute_result"
    }
   ],
   "source": [
    "gbm = xgb.XGBClassifier(random_state=SEED)\n",
    "\n",
    "gbm_random_params = {\n",
    "    \"n_estimators\": [500, 1000, 1500, 2000],\n",
    "    \"max_depth\": [3, 4, 5],\n",
    "    \"min_child_weight\": [2, 3, 4],\n",
    "    \"gamma\": [0.9, 1, 1.1],\n",
    "    \"subsample\": [0.8, 0.9, 1],\n",
    "    \"colsample_bytree\": [0.8, 0.9, 1]\n",
    "}\n",
    "\n",
    "gbm_random = RandomizedSearchCV(estimator=gbm, param_distributions=gbm_random_params, n_iter=100, cv=kfold, random_state=SEED, n_jobs=-1)\n",
    "\n",
    "gbm_random.fit(X_train, y_train)"
   ]
  },
  {
   "cell_type": "code",
   "execution_count": 239,
   "metadata": {},
   "outputs": [
    {
     "data": {
      "text/plain": [
       "0.8395061728395061"
      ]
     },
     "execution_count": 239,
     "metadata": {},
     "output_type": "execute_result"
    }
   ],
   "source": [
    "# gbm_random.best_params_\n",
    "gbm_random.best_score_ # 0.8395061728395061"
   ]
  },
  {
   "cell_type": "code",
   "execution_count": 241,
   "metadata": {},
   "outputs": [],
   "source": [
    "# gbm_random.best_params_\n",
    "\n",
    "gbm_random_p = {'subsample': 0.9,\n",
    " 'n_estimators': 500,\n",
    " 'min_child_weight': 4,\n",
    " 'max_depth': 5,\n",
    " 'gamma': 1,\n",
    " 'colsample_bytree': 1}"
   ]
  },
  {
   "cell_type": "markdown",
   "metadata": {},
   "source": [
    "**GridSearch**"
   ]
  },
  {
   "cell_type": "code",
   "execution_count": 244,
   "metadata": {},
   "outputs": [
    {
     "data": {
      "text/plain": [
       "GridSearchCV(cv=StratifiedKFold(n_splits=5, random_state=42, shuffle=False),\n",
       "       error_score='raise-deprecating',\n",
       "       estimator=XGBClassifier(base_score=0.5, booster='gbtree', colsample_bylevel=1,\n",
       "       colsample_bynode=1, colsample_bytree=1, gamma=0, learning_rate=0.1,\n",
       "       max_delta_step=0, max_depth=3, min_child_weight=1, missing=None,\n",
       "       n_estimators=100, n_jobs=1, nthread=None,\n",
       "       objective='binary:logistic', random_state=42, reg_alpha=0,\n",
       "       reg_lambda=1, scale_pos_weight=1, seed=None, silent=None,\n",
       "       subsample=1, verbosity=1),\n",
       "       fit_params=None, iid='warn', n_jobs=-1,\n",
       "       param_grid={'n_estimators': [400, 500, 600, 700], 'max_depth': [4, 5, 6], 'min_child_weight': [3, 4, 5], 'gamma': [0.9, 1, 1.1], 'subsample': [0.8, 0.9, 1], 'colsample_bytree': [0.9, 1]},\n",
       "       pre_dispatch='2*n_jobs', refit=True, return_train_score='warn',\n",
       "       scoring='accuracy', verbose=0)"
      ]
     },
     "execution_count": 244,
     "metadata": {},
     "output_type": "execute_result"
    }
   ],
   "source": [
    "gbm = xgb.XGBClassifier(random_state=SEED)\n",
    "\n",
    "gbm_grid_params = {\n",
    "    \"n_estimators\": [400, 500, 600, 700],\n",
    "    \"max_depth\": [4, 5, 6],\n",
    "    \"min_child_weight\": [3, 4, 5],\n",
    "    \"gamma\": [0.9, 1, 1.1],\n",
    "    \"subsample\": [0.8, 0.9, 1],\n",
    "    \"colsample_bytree\": [0.9, 1]\n",
    "}\n",
    "\n",
    "gbm_grid = GridSearchCV(gbm, param_grid=gbm_grid_params, cv=kfold, scoring=\"accuracy\", n_jobs=-1)\n",
    "\n",
    "gbm_grid.fit(X_train, y_train)"
   ]
  },
  {
   "cell_type": "code",
   "execution_count": 245,
   "metadata": {},
   "outputs": [
    {
     "data": {
      "text/plain": [
       "0.8428731762065096"
      ]
     },
     "execution_count": 245,
     "metadata": {},
     "output_type": "execute_result"
    }
   ],
   "source": [
    "# gbm_grid.best_params_\n",
    "gbm_grid.best_score_ # 0.8428731762065096"
   ]
  },
  {
   "cell_type": "code",
   "execution_count": 247,
   "metadata": {},
   "outputs": [],
   "source": [
    "# gbm_grid.best_params_\n",
    "\n",
    "gbm_grid_p = {'colsample_bytree': 0.9,\n",
    " 'gamma': 1.1,\n",
    " 'max_depth': 6,\n",
    " 'min_child_weight': 5,\n",
    " 'n_estimators': 700,\n",
    " 'subsample': 0.8}"
   ]
  },
  {
   "cell_type": "code",
   "execution_count": 249,
   "metadata": {},
   "outputs": [
    {
     "data": {
      "text/html": [
       "<div>\n",
       "<style scoped>\n",
       "    .dataframe tbody tr th:only-of-type {\n",
       "        vertical-align: middle;\n",
       "    }\n",
       "\n",
       "    .dataframe tbody tr th {\n",
       "        vertical-align: top;\n",
       "    }\n",
       "\n",
       "    .dataframe thead th {\n",
       "        text-align: right;\n",
       "    }\n",
       "</style>\n",
       "<table border=\"1\" class=\"dataframe\">\n",
       "  <thead>\n",
       "    <tr style=\"text-align: right;\">\n",
       "      <th></th>\n",
       "      <th>PassengerId</th>\n",
       "      <th>Survived</th>\n",
       "    </tr>\n",
       "  </thead>\n",
       "  <tbody>\n",
       "    <tr>\n",
       "      <th>0</th>\n",
       "      <td>892</td>\n",
       "      <td>0</td>\n",
       "    </tr>\n",
       "    <tr>\n",
       "      <th>1</th>\n",
       "      <td>893</td>\n",
       "      <td>0</td>\n",
       "    </tr>\n",
       "    <tr>\n",
       "      <th>2</th>\n",
       "      <td>894</td>\n",
       "      <td>0</td>\n",
       "    </tr>\n",
       "    <tr>\n",
       "      <th>3</th>\n",
       "      <td>895</td>\n",
       "      <td>0</td>\n",
       "    </tr>\n",
       "    <tr>\n",
       "      <th>4</th>\n",
       "      <td>896</td>\n",
       "      <td>1</td>\n",
       "    </tr>\n",
       "  </tbody>\n",
       "</table>\n",
       "</div>"
      ],
      "text/plain": [
       "   PassengerId  Survived\n",
       "0          892         0\n",
       "1          893         0\n",
       "2          894         0\n",
       "3          895         0\n",
       "4          896         1"
      ]
     },
     "execution_count": 249,
     "metadata": {},
     "output_type": "execute_result"
    }
   ],
   "source": [
    "yhat = gbm_grid.predict(X_test)\n",
    "\n",
    "filename = \"stacked_model_v2.csv\"\n",
    "submission = generate_submission(filename, yhat, True)\n",
    "submission.head()"
   ]
  }
 ],
 "metadata": {
  "kernelspec": {
   "display_name": "Python 3",
   "language": "python",
   "name": "python3"
  },
  "language_info": {
   "codemirror_mode": {
    "name": "ipython",
    "version": 3
   },
   "file_extension": ".py",
   "mimetype": "text/x-python",
   "name": "python",
   "nbconvert_exporter": "python",
   "pygments_lexer": "ipython3",
   "version": "3.7.3"
  }
 },
 "nbformat": 4,
 "nbformat_minor": 2
}
