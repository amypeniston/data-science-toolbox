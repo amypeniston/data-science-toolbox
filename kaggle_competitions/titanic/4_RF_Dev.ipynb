{
 "cells": [
  {
   "cell_type": "markdown",
   "metadata": {},
   "source": [
    "## Developing the RF Model"
   ]
  },
  {
   "cell_type": "code",
   "execution_count": 309,
   "metadata": {},
   "outputs": [],
   "source": [
    "import pandas as pd\n",
    "import matplotlib.pyplot as plt\n",
    "import seaborn as sns\n",
    "import numpy as np\n",
    "from sklearn.model_selection import train_test_split\n",
    "from sklearn.ensemble import RandomForestRegressor\n",
    "from sklearn.metrics import mean_squared_error, roc_auc_score\n",
    "\n",
    "sns.set()\n",
    "plt.rcParams[\"figure.figsize\"] = (10, 8)\n",
    "SEED = 42\n",
    "\n",
    "train = pd.read_csv(\"assets/train.csv\")\n",
    "test = pd.read_csv(\"assets/test.csv\")\n",
    "\n",
    "X = train.copy()\n",
    "y = X.pop(\"Survived\")"
   ]
  },
  {
   "cell_type": "code",
   "execution_count": 310,
   "metadata": {},
   "outputs": [
    {
     "name": "stdout",
     "output_type": "stream",
     "text": [
      "Numerical Features: {'Age', 'Fare', 'SibSp', 'PassengerId', 'Pclass', 'Parch'}\n",
      "Categorical Features: {'Cabin', 'Sex', 'Name', 'Ticket', 'Embarked'}\n"
     ]
    }
   ],
   "source": [
    "num_features = set([c for c in X.columns if X[c].dtype != \"object\"])\n",
    "cat_features = set([c for c in X.columns if c not in num_features])\n",
    "print(\"Numerical Features: {}\\nCategorical Features: {}\".format(num_features, cat_features))"
   ]
  },
  {
   "cell_type": "markdown",
   "metadata": {},
   "source": [
    "#### Pre-Processing"
   ]
  },
  {
   "cell_type": "code",
   "execution_count": 311,
   "metadata": {},
   "outputs": [
    {
     "data": {
      "text/plain": [
       "PassengerId      0\n",
       "Pclass           0\n",
       "Name             0\n",
       "Sex              0\n",
       "Age            177\n",
       "SibSp            0\n",
       "Parch            0\n",
       "Ticket           0\n",
       "Fare             0\n",
       "Cabin          687\n",
       "Embarked         2\n",
       "dtype: int64"
      ]
     },
     "execution_count": 311,
     "metadata": {},
     "output_type": "execute_result"
    }
   ],
   "source": [
    "X.isnull().sum()"
   ]
  },
  {
   "cell_type": "code",
   "execution_count": 312,
   "metadata": {},
   "outputs": [],
   "source": [
    "X[\"Age\"].fillna(X[\"Age\"].mean(), inplace=True)"
   ]
  },
  {
   "cell_type": "code",
   "execution_count": 313,
   "metadata": {},
   "outputs": [
    {
     "data": {
      "text/html": [
       "<div>\n",
       "<style scoped>\n",
       "    .dataframe tbody tr th:only-of-type {\n",
       "        vertical-align: middle;\n",
       "    }\n",
       "\n",
       "    .dataframe tbody tr th {\n",
       "        vertical-align: top;\n",
       "    }\n",
       "\n",
       "    .dataframe thead th {\n",
       "        text-align: right;\n",
       "    }\n",
       "</style>\n",
       "<table border=\"1\" class=\"dataframe\">\n",
       "  <thead>\n",
       "    <tr style=\"text-align: right;\">\n",
       "      <th></th>\n",
       "      <th>PassengerId</th>\n",
       "      <th>Pclass</th>\n",
       "      <th>Name</th>\n",
       "      <th>Sex</th>\n",
       "      <th>Age</th>\n",
       "      <th>SibSp</th>\n",
       "      <th>Parch</th>\n",
       "      <th>Ticket</th>\n",
       "      <th>Fare</th>\n",
       "      <th>Cabin</th>\n",
       "      <th>Embarked</th>\n",
       "    </tr>\n",
       "  </thead>\n",
       "  <tbody>\n",
       "    <tr>\n",
       "      <th>61</th>\n",
       "      <td>62</td>\n",
       "      <td>1</td>\n",
       "      <td>Icard, Miss. Amelie</td>\n",
       "      <td>female</td>\n",
       "      <td>38.0</td>\n",
       "      <td>0</td>\n",
       "      <td>0</td>\n",
       "      <td>113572</td>\n",
       "      <td>80.0</td>\n",
       "      <td>B28</td>\n",
       "      <td>NaN</td>\n",
       "    </tr>\n",
       "    <tr>\n",
       "      <th>829</th>\n",
       "      <td>830</td>\n",
       "      <td>1</td>\n",
       "      <td>Stone, Mrs. George Nelson (Martha Evelyn)</td>\n",
       "      <td>female</td>\n",
       "      <td>62.0</td>\n",
       "      <td>0</td>\n",
       "      <td>0</td>\n",
       "      <td>113572</td>\n",
       "      <td>80.0</td>\n",
       "      <td>B28</td>\n",
       "      <td>NaN</td>\n",
       "    </tr>\n",
       "  </tbody>\n",
       "</table>\n",
       "</div>"
      ],
      "text/plain": [
       "     PassengerId  Pclass                                       Name     Sex  \\\n",
       "61            62       1                        Icard, Miss. Amelie  female   \n",
       "829          830       1  Stone, Mrs. George Nelson (Martha Evelyn)  female   \n",
       "\n",
       "      Age  SibSp  Parch  Ticket  Fare Cabin Embarked  \n",
       "61   38.0      0      0  113572  80.0   B28      NaN  \n",
       "829  62.0      0      0  113572  80.0   B28      NaN  "
      ]
     },
     "execution_count": 313,
     "metadata": {},
     "output_type": "execute_result"
    }
   ],
   "source": [
    "X[X[\"Embarked\"].isnull()]"
   ]
  },
  {
   "cell_type": "code",
   "execution_count": 314,
   "metadata": {},
   "outputs": [
    {
     "data": {
      "text/plain": [
       "S    0.724409\n",
       "C    0.188976\n",
       "Q    0.086614\n",
       "Name: Embarked, dtype: float64"
      ]
     },
     "execution_count": 314,
     "metadata": {},
     "output_type": "execute_result"
    }
   ],
   "source": [
    "X[\"Embarked\"].value_counts(normalize=True)"
   ]
  },
  {
   "cell_type": "code",
   "execution_count": 315,
   "metadata": {},
   "outputs": [
    {
     "data": {
      "text/plain": [
       "S    0.593458\n",
       "C    0.397196\n",
       "Q    0.009346\n",
       "Name: Embarked, dtype: float64"
      ]
     },
     "execution_count": 315,
     "metadata": {},
     "output_type": "execute_result"
    }
   ],
   "source": [
    "X[X[\"Pclass\"] == 1][\"Embarked\"].value_counts(normalize=True)"
   ]
  },
  {
   "cell_type": "code",
   "execution_count": 316,
   "metadata": {},
   "outputs": [],
   "source": [
    "X[\"Embarked\"].fillna(X[\"Embarked\"].mode()[0], inplace=True)"
   ]
  },
  {
   "cell_type": "code",
   "execution_count": 317,
   "metadata": {},
   "outputs": [
    {
     "data": {
      "text/plain": [
       "PassengerId      0\n",
       "Pclass           0\n",
       "Name             0\n",
       "Sex              0\n",
       "Age              0\n",
       "SibSp            0\n",
       "Parch            0\n",
       "Ticket           0\n",
       "Fare             0\n",
       "Cabin          687\n",
       "Embarked         0\n",
       "dtype: int64"
      ]
     },
     "execution_count": 317,
     "metadata": {},
     "output_type": "execute_result"
    }
   ],
   "source": [
    "X.isnull().sum()"
   ]
  },
  {
   "cell_type": "markdown",
   "metadata": {},
   "source": [
    "Deal with missing Cabin values later..."
   ]
  },
  {
   "cell_type": "code",
   "execution_count": 318,
   "metadata": {},
   "outputs": [
    {
     "data": {
      "text/plain": [
       "((712, 11), (179, 11), (712,), (179,))"
      ]
     },
     "execution_count": 318,
     "metadata": {},
     "output_type": "execute_result"
    }
   ],
   "source": [
    "X_train, X_test, y_train, y_test = train_test_split(X, y, test_size=0.2, random_state=SEED)\n",
    "X_train.shape, X_test.shape, y_train.shape, y_test.shape"
   ]
  },
  {
   "cell_type": "code",
   "execution_count": 319,
   "metadata": {},
   "outputs": [],
   "source": [
    "def train_model(X_train, X_test, y_train, y_test):\n",
    "    rf = RandomForestRegressor(n_estimators=1000, oob_score=True, random_state=SEED)\n",
    "    rf.fit(X_train, y_train)\n",
    "    yhat = rf.predict(X_test)\n",
    "    \n",
    "    roc = roc_auc_score(y_test, yhat)\n",
    "    mse = mean_squared_error(y_test, yhat)\n",
    "    accuracy = rf.score(X_test, y_test) #r2\n",
    "    oob_score = rf.oob_score_ #oob\n",
    "    \n",
    "    return roc, mse, accuracy, oob_score"
   ]
  },
  {
   "cell_type": "markdown",
   "metadata": {},
   "source": [
    "### Feature Engineering"
   ]
  },
  {
   "cell_type": "code",
   "execution_count": 320,
   "metadata": {},
   "outputs": [
    {
     "data": {
      "text/html": [
       "<div>\n",
       "<style scoped>\n",
       "    .dataframe tbody tr th:only-of-type {\n",
       "        vertical-align: middle;\n",
       "    }\n",
       "\n",
       "    .dataframe tbody tr th {\n",
       "        vertical-align: top;\n",
       "    }\n",
       "\n",
       "    .dataframe thead th {\n",
       "        text-align: right;\n",
       "    }\n",
       "</style>\n",
       "<table border=\"1\" class=\"dataframe\">\n",
       "  <thead>\n",
       "    <tr style=\"text-align: right;\">\n",
       "      <th></th>\n",
       "      <th>PassengerId</th>\n",
       "      <th>Pclass</th>\n",
       "      <th>Age</th>\n",
       "      <th>SibSp</th>\n",
       "      <th>Parch</th>\n",
       "      <th>Fare</th>\n",
       "    </tr>\n",
       "  </thead>\n",
       "  <tbody>\n",
       "    <tr>\n",
       "      <th>count</th>\n",
       "      <td>712.000000</td>\n",
       "      <td>712.000000</td>\n",
       "      <td>712.000000</td>\n",
       "      <td>712.000000</td>\n",
       "      <td>712.000000</td>\n",
       "      <td>712.000000</td>\n",
       "    </tr>\n",
       "    <tr>\n",
       "      <th>mean</th>\n",
       "      <td>448.234551</td>\n",
       "      <td>2.330056</td>\n",
       "      <td>29.538225</td>\n",
       "      <td>0.553371</td>\n",
       "      <td>0.379213</td>\n",
       "      <td>32.586276</td>\n",
       "    </tr>\n",
       "    <tr>\n",
       "      <th>std</th>\n",
       "      <td>256.731423</td>\n",
       "      <td>0.824584</td>\n",
       "      <td>12.994548</td>\n",
       "      <td>1.176404</td>\n",
       "      <td>0.791669</td>\n",
       "      <td>51.969529</td>\n",
       "    </tr>\n",
       "    <tr>\n",
       "      <th>min</th>\n",
       "      <td>1.000000</td>\n",
       "      <td>1.000000</td>\n",
       "      <td>0.420000</td>\n",
       "      <td>0.000000</td>\n",
       "      <td>0.000000</td>\n",
       "      <td>0.000000</td>\n",
       "    </tr>\n",
       "    <tr>\n",
       "      <th>25%</th>\n",
       "      <td>224.750000</td>\n",
       "      <td>2.000000</td>\n",
       "      <td>22.000000</td>\n",
       "      <td>0.000000</td>\n",
       "      <td>0.000000</td>\n",
       "      <td>7.925000</td>\n",
       "    </tr>\n",
       "    <tr>\n",
       "      <th>50%</th>\n",
       "      <td>453.500000</td>\n",
       "      <td>3.000000</td>\n",
       "      <td>29.699118</td>\n",
       "      <td>0.000000</td>\n",
       "      <td>0.000000</td>\n",
       "      <td>14.454200</td>\n",
       "    </tr>\n",
       "    <tr>\n",
       "      <th>75%</th>\n",
       "      <td>673.500000</td>\n",
       "      <td>3.000000</td>\n",
       "      <td>35.000000</td>\n",
       "      <td>1.000000</td>\n",
       "      <td>0.000000</td>\n",
       "      <td>30.500000</td>\n",
       "    </tr>\n",
       "    <tr>\n",
       "      <th>max</th>\n",
       "      <td>891.000000</td>\n",
       "      <td>3.000000</td>\n",
       "      <td>80.000000</td>\n",
       "      <td>8.000000</td>\n",
       "      <td>6.000000</td>\n",
       "      <td>512.329200</td>\n",
       "    </tr>\n",
       "  </tbody>\n",
       "</table>\n",
       "</div>"
      ],
      "text/plain": [
       "       PassengerId      Pclass         Age       SibSp       Parch        Fare\n",
       "count   712.000000  712.000000  712.000000  712.000000  712.000000  712.000000\n",
       "mean    448.234551    2.330056   29.538225    0.553371    0.379213   32.586276\n",
       "std     256.731423    0.824584   12.994548    1.176404    0.791669   51.969529\n",
       "min       1.000000    1.000000    0.420000    0.000000    0.000000    0.000000\n",
       "25%     224.750000    2.000000   22.000000    0.000000    0.000000    7.925000\n",
       "50%     453.500000    3.000000   29.699118    0.000000    0.000000   14.454200\n",
       "75%     673.500000    3.000000   35.000000    1.000000    0.000000   30.500000\n",
       "max     891.000000    3.000000   80.000000    8.000000    6.000000  512.329200"
      ]
     },
     "execution_count": 320,
     "metadata": {},
     "output_type": "execute_result"
    }
   ],
   "source": [
    "X_train.describe() # numerical features only"
   ]
  },
  {
   "cell_type": "code",
   "execution_count": 321,
   "metadata": {},
   "outputs": [
    {
     "data": {
      "text/html": [
       "<div>\n",
       "<style scoped>\n",
       "    .dataframe tbody tr th:only-of-type {\n",
       "        vertical-align: middle;\n",
       "    }\n",
       "\n",
       "    .dataframe tbody tr th {\n",
       "        vertical-align: top;\n",
       "    }\n",
       "\n",
       "    .dataframe thead th {\n",
       "        text-align: right;\n",
       "    }\n",
       "</style>\n",
       "<table border=\"1\" class=\"dataframe\">\n",
       "  <thead>\n",
       "    <tr style=\"text-align: right;\">\n",
       "      <th></th>\n",
       "      <th>PassengerId</th>\n",
       "      <th>Pclass</th>\n",
       "      <th>Name</th>\n",
       "      <th>Sex</th>\n",
       "      <th>Age</th>\n",
       "      <th>SibSp</th>\n",
       "      <th>Parch</th>\n",
       "      <th>Ticket</th>\n",
       "      <th>Fare</th>\n",
       "      <th>Cabin</th>\n",
       "      <th>Embarked</th>\n",
       "    </tr>\n",
       "  </thead>\n",
       "  <tbody>\n",
       "    <tr>\n",
       "      <th>331</th>\n",
       "      <td>332</td>\n",
       "      <td>1</td>\n",
       "      <td>Partner, Mr. Austen</td>\n",
       "      <td>male</td>\n",
       "      <td>45.5</td>\n",
       "      <td>0</td>\n",
       "      <td>0</td>\n",
       "      <td>113043</td>\n",
       "      <td>28.5000</td>\n",
       "      <td>C124</td>\n",
       "      <td>S</td>\n",
       "    </tr>\n",
       "    <tr>\n",
       "      <th>733</th>\n",
       "      <td>734</td>\n",
       "      <td>2</td>\n",
       "      <td>Berriman, Mr. William John</td>\n",
       "      <td>male</td>\n",
       "      <td>23.0</td>\n",
       "      <td>0</td>\n",
       "      <td>0</td>\n",
       "      <td>28425</td>\n",
       "      <td>13.0000</td>\n",
       "      <td>NaN</td>\n",
       "      <td>S</td>\n",
       "    </tr>\n",
       "    <tr>\n",
       "      <th>382</th>\n",
       "      <td>383</td>\n",
       "      <td>3</td>\n",
       "      <td>Tikkanen, Mr. Juho</td>\n",
       "      <td>male</td>\n",
       "      <td>32.0</td>\n",
       "      <td>0</td>\n",
       "      <td>0</td>\n",
       "      <td>STON/O 2. 3101293</td>\n",
       "      <td>7.9250</td>\n",
       "      <td>NaN</td>\n",
       "      <td>S</td>\n",
       "    </tr>\n",
       "    <tr>\n",
       "      <th>704</th>\n",
       "      <td>705</td>\n",
       "      <td>3</td>\n",
       "      <td>Hansen, Mr. Henrik Juul</td>\n",
       "      <td>male</td>\n",
       "      <td>26.0</td>\n",
       "      <td>1</td>\n",
       "      <td>0</td>\n",
       "      <td>350025</td>\n",
       "      <td>7.8542</td>\n",
       "      <td>NaN</td>\n",
       "      <td>S</td>\n",
       "    </tr>\n",
       "    <tr>\n",
       "      <th>813</th>\n",
       "      <td>814</td>\n",
       "      <td>3</td>\n",
       "      <td>Andersson, Miss. Ebba Iris Alfrida</td>\n",
       "      <td>female</td>\n",
       "      <td>6.0</td>\n",
       "      <td>4</td>\n",
       "      <td>2</td>\n",
       "      <td>347082</td>\n",
       "      <td>31.2750</td>\n",
       "      <td>NaN</td>\n",
       "      <td>S</td>\n",
       "    </tr>\n",
       "  </tbody>\n",
       "</table>\n",
       "</div>"
      ],
      "text/plain": [
       "     PassengerId  Pclass                                Name     Sex   Age  \\\n",
       "331          332       1                 Partner, Mr. Austen    male  45.5   \n",
       "733          734       2          Berriman, Mr. William John    male  23.0   \n",
       "382          383       3                  Tikkanen, Mr. Juho    male  32.0   \n",
       "704          705       3             Hansen, Mr. Henrik Juul    male  26.0   \n",
       "813          814       3  Andersson, Miss. Ebba Iris Alfrida  female   6.0   \n",
       "\n",
       "     SibSp  Parch             Ticket     Fare Cabin Embarked  \n",
       "331      0      0             113043  28.5000  C124        S  \n",
       "733      0      0              28425  13.0000   NaN        S  \n",
       "382      0      0  STON/O 2. 3101293   7.9250   NaN        S  \n",
       "704      1      0             350025   7.8542   NaN        S  \n",
       "813      4      2             347082  31.2750   NaN        S  "
      ]
     },
     "execution_count": 321,
     "metadata": {},
     "output_type": "execute_result"
    }
   ],
   "source": [
    "X_train.head()"
   ]
  },
  {
   "cell_type": "code",
   "execution_count": 322,
   "metadata": {},
   "outputs": [
    {
     "data": {
      "text/html": [
       "<div>\n",
       "<style scoped>\n",
       "    .dataframe tbody tr th:only-of-type {\n",
       "        vertical-align: middle;\n",
       "    }\n",
       "\n",
       "    .dataframe tbody tr th {\n",
       "        vertical-align: top;\n",
       "    }\n",
       "\n",
       "    .dataframe thead th {\n",
       "        text-align: right;\n",
       "    }\n",
       "</style>\n",
       "<table border=\"1\" class=\"dataframe\">\n",
       "  <thead>\n",
       "    <tr style=\"text-align: right;\">\n",
       "      <th></th>\n",
       "      <th>PassengerId</th>\n",
       "      <th>Pclass</th>\n",
       "      <th>Age</th>\n",
       "      <th>SibSp</th>\n",
       "      <th>Parch</th>\n",
       "      <th>Fare</th>\n",
       "      <th>FamilySize</th>\n",
       "      <th>AgeClass</th>\n",
       "    </tr>\n",
       "  </thead>\n",
       "  <tbody>\n",
       "    <tr>\n",
       "      <th>331</th>\n",
       "      <td>332</td>\n",
       "      <td>1</td>\n",
       "      <td>45.5</td>\n",
       "      <td>0</td>\n",
       "      <td>0</td>\n",
       "      <td>28.5000</td>\n",
       "      <td>0</td>\n",
       "      <td>45.5</td>\n",
       "    </tr>\n",
       "    <tr>\n",
       "      <th>733</th>\n",
       "      <td>734</td>\n",
       "      <td>2</td>\n",
       "      <td>23.0</td>\n",
       "      <td>0</td>\n",
       "      <td>0</td>\n",
       "      <td>13.0000</td>\n",
       "      <td>0</td>\n",
       "      <td>46.0</td>\n",
       "    </tr>\n",
       "    <tr>\n",
       "      <th>382</th>\n",
       "      <td>383</td>\n",
       "      <td>3</td>\n",
       "      <td>32.0</td>\n",
       "      <td>0</td>\n",
       "      <td>0</td>\n",
       "      <td>7.9250</td>\n",
       "      <td>0</td>\n",
       "      <td>96.0</td>\n",
       "    </tr>\n",
       "    <tr>\n",
       "      <th>704</th>\n",
       "      <td>705</td>\n",
       "      <td>3</td>\n",
       "      <td>26.0</td>\n",
       "      <td>1</td>\n",
       "      <td>0</td>\n",
       "      <td>7.8542</td>\n",
       "      <td>1</td>\n",
       "      <td>78.0</td>\n",
       "    </tr>\n",
       "    <tr>\n",
       "      <th>813</th>\n",
       "      <td>814</td>\n",
       "      <td>3</td>\n",
       "      <td>6.0</td>\n",
       "      <td>4</td>\n",
       "      <td>2</td>\n",
       "      <td>31.2750</td>\n",
       "      <td>6</td>\n",
       "      <td>18.0</td>\n",
       "    </tr>\n",
       "  </tbody>\n",
       "</table>\n",
       "</div>"
      ],
      "text/plain": [
       "     PassengerId  Pclass   Age  SibSp  Parch     Fare  FamilySize  AgeClass\n",
       "331          332       1  45.5      0      0  28.5000           0      45.5\n",
       "733          734       2  23.0      0      0  13.0000           0      46.0\n",
       "382          383       3  32.0      0      0   7.9250           0      96.0\n",
       "704          705       3  26.0      1      0   7.8542           1      78.0\n",
       "813          814       3   6.0      4      2  31.2750           6      18.0"
      ]
     },
     "execution_count": 322,
     "metadata": {},
     "output_type": "execute_result"
    }
   ],
   "source": [
    "def engineer_numerical_features(df):\n",
    "    temp = df.copy()\n",
    "    \n",
    "    family_size = df[\"SibSp\"] + df[\"Parch\"]\n",
    "    temp[\"FamilySize\"] = family_size\n",
    "    \n",
    "    age_class = df[\"Age\"] * df[\"Pclass\"]\n",
    "    temp[\"AgeClass\"] = age_class\n",
    "    \n",
    "    temp.drop(columns=cat_features, inplace=True)\n",
    "    \n",
    "    return temp\n",
    "\n",
    "\n",
    "X_train_num = engineer_numerical_features(X_train)\n",
    "X_test_num = engineer_numerical_features(X_test)\n",
    "X_train_num.head()"
   ]
  },
  {
   "cell_type": "code",
   "execution_count": 323,
   "metadata": {},
   "outputs": [
    {
     "data": {
      "text/plain": [
       "(0, 0)"
      ]
     },
     "execution_count": 323,
     "metadata": {},
     "output_type": "execute_result"
    }
   ],
   "source": [
    "X_train_num.isnull().sum().sum(), X_test_num.isnull().sum().sum() # confirm no missing values"
   ]
  },
  {
   "cell_type": "markdown",
   "metadata": {},
   "source": [
    "### Train Model - Numerical Only + Added Features"
   ]
  },
  {
   "cell_type": "code",
   "execution_count": 324,
   "metadata": {},
   "outputs": [
    {
     "data": {
      "text/plain": [
       "(0.8124195624195624,\n",
       " 0.1708312290502793,\n",
       " 0.2955465366795367,\n",
       " 0.1045799307589006)"
      ]
     },
     "execution_count": 324,
     "metadata": {},
     "output_type": "execute_result"
    }
   ],
   "source": [
    "train_model(X_train_num, X_test_num, y_train, y_test)"
   ]
  },
  {
   "cell_type": "markdown",
   "metadata": {},
   "source": [
    "### Categorical Variables"
   ]
  },
  {
   "cell_type": "code",
   "execution_count": 325,
   "metadata": {},
   "outputs": [
    {
     "data": {
      "text/html": [
       "<div>\n",
       "<style scoped>\n",
       "    .dataframe tbody tr th:only-of-type {\n",
       "        vertical-align: middle;\n",
       "    }\n",
       "\n",
       "    .dataframe tbody tr th {\n",
       "        vertical-align: top;\n",
       "    }\n",
       "\n",
       "    .dataframe thead th {\n",
       "        text-align: right;\n",
       "    }\n",
       "</style>\n",
       "<table border=\"1\" class=\"dataframe\">\n",
       "  <thead>\n",
       "    <tr style=\"text-align: right;\">\n",
       "      <th></th>\n",
       "      <th>0</th>\n",
       "      <th>1</th>\n",
       "    </tr>\n",
       "  </thead>\n",
       "  <tbody>\n",
       "    <tr>\n",
       "      <th>331</th>\n",
       "      <td>Partner</td>\n",
       "      <td>Mr. Austen</td>\n",
       "    </tr>\n",
       "    <tr>\n",
       "      <th>733</th>\n",
       "      <td>Berriman</td>\n",
       "      <td>Mr. William John</td>\n",
       "    </tr>\n",
       "    <tr>\n",
       "      <th>382</th>\n",
       "      <td>Tikkanen</td>\n",
       "      <td>Mr. Juho</td>\n",
       "    </tr>\n",
       "    <tr>\n",
       "      <th>704</th>\n",
       "      <td>Hansen</td>\n",
       "      <td>Mr. Henrik Juul</td>\n",
       "    </tr>\n",
       "    <tr>\n",
       "      <th>813</th>\n",
       "      <td>Andersson</td>\n",
       "      <td>Miss. Ebba Iris Alfrida</td>\n",
       "    </tr>\n",
       "  </tbody>\n",
       "</table>\n",
       "</div>"
      ],
      "text/plain": [
       "             0                        1\n",
       "331    Partner               Mr. Austen\n",
       "733   Berriman         Mr. William John\n",
       "382   Tikkanen                 Mr. Juho\n",
       "704     Hansen          Mr. Henrik Juul\n",
       "813  Andersson  Miss. Ebba Iris Alfrida"
      ]
     },
     "execution_count": 325,
     "metadata": {},
     "output_type": "execute_result"
    }
   ],
   "source": [
    "X_train[\"Name\"].str.split(', ', expand=True).head()"
   ]
  },
  {
   "cell_type": "code",
   "execution_count": 360,
   "metadata": {},
   "outputs": [
    {
     "data": {
      "text/plain": [
       "Mr        419\n",
       "Miss      143\n",
       "Mrs        96\n",
       "Master     33\n",
       "Rev         5\n",
       "Dr          5\n",
       "Major       2\n",
       "Col         2\n",
       "Mlle        2\n",
       "th          1\n",
       "Ms          1\n",
       "Mme         1\n",
       "Capt        1\n",
       "Lady        1\n",
       "Name: 0, dtype: int64"
      ]
     },
     "execution_count": 360,
     "metadata": {},
     "output_type": "execute_result"
    }
   ],
   "source": [
    "train_titles = X_train[\"Name\"].str.split(', ', expand=True)[1].str.split(\". \", expand=True)[0]\n",
    "train_titles.value_counts()"
   ]
  },
  {
   "cell_type": "code",
   "execution_count": 361,
   "metadata": {},
   "outputs": [
    {
     "data": {
      "text/plain": [
       "Mr          98\n",
       "Miss        39\n",
       "Mrs         29\n",
       "Master       7\n",
       "Dr           2\n",
       "Rev          1\n",
       "Don          1\n",
       "Sir          1\n",
       "Jonkheer     1\n",
       "Name: 0, dtype: int64"
      ]
     },
     "execution_count": 361,
     "metadata": {},
     "output_type": "execute_result"
    }
   ],
   "source": [
    "test_titles = X_test[\"Name\"].str.split(', ', expand=True)[1].str.split(\". \", expand=True)[0]\n",
    "test_titles.value_counts()"
   ]
  },
  {
   "cell_type": "markdown",
   "metadata": {},
   "source": [
    "Titles existing in either the training set or the test set, but not both."
   ]
  },
  {
   "cell_type": "code",
   "execution_count": 373,
   "metadata": {},
   "outputs": [
    {
     "data": {
      "text/plain": [
       "{'Capt',\n",
       " 'Col',\n",
       " 'Don',\n",
       " 'Jonkheer',\n",
       " 'Lady',\n",
       " 'Major',\n",
       " 'Mlle',\n",
       " 'Mme',\n",
       " 'Ms',\n",
       " 'Sir',\n",
       " 'th'}"
      ]
     },
     "execution_count": 373,
     "metadata": {},
     "output_type": "execute_result"
    }
   ],
   "source": [
    "set(set(train_titles.value_counts().index) - set(test_titles.value_counts().index)) | set(set(test_titles.value_counts().index) - set(train_titles.value_counts().index))"
   ]
  },
  {
   "cell_type": "code",
   "execution_count": 384,
   "metadata": {},
   "outputs": [],
   "source": [
    "def replace_rare_titles(df):\n",
    "    title = df[\"Title\"]\n",
    "    if title in [\"Capt\", \"Col\", \"Don\", \"Jonkheer\", \"Major\", \"Sir\"]:\n",
    "        return \"Mr\"\n",
    "    elif title in [\"Mme\", \"th\", \"Lady\"]:\n",
    "        return 'Mrs'\n",
    "    elif title in [\"Mlle\", \"Ms\"]:\n",
    "        return 'Miss'\n",
    "    elif title =='Dr':\n",
    "        if df['Sex']=='Male':\n",
    "            return 'Mr'\n",
    "        else:\n",
    "            return 'Mrs'\n",
    "    else:\n",
    "        return title"
   ]
  },
  {
   "cell_type": "code",
   "execution_count": 396,
   "metadata": {},
   "outputs": [],
   "source": [
    "def substrings_in_string(big_string, substrings):\n",
    "    if pd.isna(big_string):\n",
    "        return \"Unknown\"\n",
    "    for substring in substrings:\n",
    "        if big_string.find(substring) != -1:\n",
    "            if substring == \"T\":\n",
    "                return \"A\"\n",
    "            else:\n",
    "                return substring"
   ]
  },
  {
   "cell_type": "code",
   "execution_count": 386,
   "metadata": {},
   "outputs": [],
   "source": [
    "def list_decks():\n",
    "    cabins = X_train[\"Cabin\"].value_counts().index\n",
    "    \n",
    "    temp = []\n",
    "    for c in cabins:\n",
    "        for i in c:\n",
    "            if i.isalpha():\n",
    "                temp.append(i)\n",
    "\n",
    "    return np.unique(temp)"
   ]
  },
  {
   "cell_type": "code",
   "execution_count": 387,
   "metadata": {},
   "outputs": [
    {
     "data": {
      "text/plain": [
       "array(['A', 'B', 'C', 'D', 'E', 'F', 'G', 'T', 'Unknown'], dtype='<U7')"
      ]
     },
     "execution_count": 387,
     "metadata": {},
     "output_type": "execute_result"
    }
   ],
   "source": [
    "cabin_list = np.append(list_decks(),\"Unknown\")\n",
    "cabin_list"
   ]
  },
  {
   "cell_type": "code",
   "execution_count": 397,
   "metadata": {},
   "outputs": [
    {
     "data": {
      "text/html": [
       "<div>\n",
       "<style scoped>\n",
       "    .dataframe tbody tr th:only-of-type {\n",
       "        vertical-align: middle;\n",
       "    }\n",
       "\n",
       "    .dataframe tbody tr th {\n",
       "        vertical-align: top;\n",
       "    }\n",
       "\n",
       "    .dataframe thead th {\n",
       "        text-align: right;\n",
       "    }\n",
       "</style>\n",
       "<table border=\"1\" class=\"dataframe\">\n",
       "  <thead>\n",
       "    <tr style=\"text-align: right;\">\n",
       "      <th></th>\n",
       "      <th>PassengerId</th>\n",
       "      <th>Pclass</th>\n",
       "      <th>Age</th>\n",
       "      <th>SibSp</th>\n",
       "      <th>Parch</th>\n",
       "      <th>Fare</th>\n",
       "      <th>SexBinary</th>\n",
       "      <th>Embarked_C</th>\n",
       "      <th>Embarked_Q</th>\n",
       "      <th>Embarked_S</th>\n",
       "      <th>...</th>\n",
       "      <th>Title_Mrs</th>\n",
       "      <th>Title_Rev</th>\n",
       "      <th>Deck_A</th>\n",
       "      <th>Deck_B</th>\n",
       "      <th>Deck_C</th>\n",
       "      <th>Deck_D</th>\n",
       "      <th>Deck_E</th>\n",
       "      <th>Deck_F</th>\n",
       "      <th>Deck_G</th>\n",
       "      <th>Deck_Unknown</th>\n",
       "    </tr>\n",
       "  </thead>\n",
       "  <tbody>\n",
       "    <tr>\n",
       "      <th>331</th>\n",
       "      <td>332</td>\n",
       "      <td>1</td>\n",
       "      <td>45.5</td>\n",
       "      <td>0</td>\n",
       "      <td>0</td>\n",
       "      <td>28.5000</td>\n",
       "      <td>0</td>\n",
       "      <td>0</td>\n",
       "      <td>0</td>\n",
       "      <td>1</td>\n",
       "      <td>...</td>\n",
       "      <td>0</td>\n",
       "      <td>0</td>\n",
       "      <td>0</td>\n",
       "      <td>0</td>\n",
       "      <td>1</td>\n",
       "      <td>0</td>\n",
       "      <td>0</td>\n",
       "      <td>0</td>\n",
       "      <td>0</td>\n",
       "      <td>0</td>\n",
       "    </tr>\n",
       "    <tr>\n",
       "      <th>733</th>\n",
       "      <td>734</td>\n",
       "      <td>2</td>\n",
       "      <td>23.0</td>\n",
       "      <td>0</td>\n",
       "      <td>0</td>\n",
       "      <td>13.0000</td>\n",
       "      <td>0</td>\n",
       "      <td>0</td>\n",
       "      <td>0</td>\n",
       "      <td>1</td>\n",
       "      <td>...</td>\n",
       "      <td>0</td>\n",
       "      <td>0</td>\n",
       "      <td>0</td>\n",
       "      <td>0</td>\n",
       "      <td>0</td>\n",
       "      <td>0</td>\n",
       "      <td>0</td>\n",
       "      <td>0</td>\n",
       "      <td>0</td>\n",
       "      <td>1</td>\n",
       "    </tr>\n",
       "    <tr>\n",
       "      <th>382</th>\n",
       "      <td>383</td>\n",
       "      <td>3</td>\n",
       "      <td>32.0</td>\n",
       "      <td>0</td>\n",
       "      <td>0</td>\n",
       "      <td>7.9250</td>\n",
       "      <td>0</td>\n",
       "      <td>0</td>\n",
       "      <td>0</td>\n",
       "      <td>1</td>\n",
       "      <td>...</td>\n",
       "      <td>0</td>\n",
       "      <td>0</td>\n",
       "      <td>0</td>\n",
       "      <td>0</td>\n",
       "      <td>0</td>\n",
       "      <td>0</td>\n",
       "      <td>0</td>\n",
       "      <td>0</td>\n",
       "      <td>0</td>\n",
       "      <td>1</td>\n",
       "    </tr>\n",
       "    <tr>\n",
       "      <th>704</th>\n",
       "      <td>705</td>\n",
       "      <td>3</td>\n",
       "      <td>26.0</td>\n",
       "      <td>1</td>\n",
       "      <td>0</td>\n",
       "      <td>7.8542</td>\n",
       "      <td>0</td>\n",
       "      <td>0</td>\n",
       "      <td>0</td>\n",
       "      <td>1</td>\n",
       "      <td>...</td>\n",
       "      <td>0</td>\n",
       "      <td>0</td>\n",
       "      <td>0</td>\n",
       "      <td>0</td>\n",
       "      <td>0</td>\n",
       "      <td>0</td>\n",
       "      <td>0</td>\n",
       "      <td>0</td>\n",
       "      <td>0</td>\n",
       "      <td>1</td>\n",
       "    </tr>\n",
       "    <tr>\n",
       "      <th>813</th>\n",
       "      <td>814</td>\n",
       "      <td>3</td>\n",
       "      <td>6.0</td>\n",
       "      <td>4</td>\n",
       "      <td>2</td>\n",
       "      <td>31.2750</td>\n",
       "      <td>1</td>\n",
       "      <td>0</td>\n",
       "      <td>0</td>\n",
       "      <td>1</td>\n",
       "      <td>...</td>\n",
       "      <td>0</td>\n",
       "      <td>0</td>\n",
       "      <td>0</td>\n",
       "      <td>0</td>\n",
       "      <td>0</td>\n",
       "      <td>0</td>\n",
       "      <td>0</td>\n",
       "      <td>0</td>\n",
       "      <td>0</td>\n",
       "      <td>1</td>\n",
       "    </tr>\n",
       "  </tbody>\n",
       "</table>\n",
       "<p>5 rows × 23 columns</p>\n",
       "</div>"
      ],
      "text/plain": [
       "     PassengerId  Pclass   Age  SibSp  Parch     Fare  SexBinary  Embarked_C  \\\n",
       "331          332       1  45.5      0      0  28.5000          0           0   \n",
       "733          734       2  23.0      0      0  13.0000          0           0   \n",
       "382          383       3  32.0      0      0   7.9250          0           0   \n",
       "704          705       3  26.0      1      0   7.8542          0           0   \n",
       "813          814       3   6.0      4      2  31.2750          1           0   \n",
       "\n",
       "     Embarked_Q  Embarked_S  ...  Title_Mrs  Title_Rev  Deck_A  Deck_B  \\\n",
       "331           0           1  ...          0          0       0       0   \n",
       "733           0           1  ...          0          0       0       0   \n",
       "382           0           1  ...          0          0       0       0   \n",
       "704           0           1  ...          0          0       0       0   \n",
       "813           0           1  ...          0          0       0       0   \n",
       "\n",
       "     Deck_C  Deck_D  Deck_E  Deck_F  Deck_G  Deck_Unknown  \n",
       "331       1       0       0       0       0             0  \n",
       "733       0       0       0       0       0             1  \n",
       "382       0       0       0       0       0             1  \n",
       "704       0       0       0       0       0             1  \n",
       "813       0       0       0       0       0             1  \n",
       "\n",
       "[5 rows x 23 columns]"
      ]
     },
     "execution_count": 397,
     "metadata": {},
     "output_type": "execute_result"
    }
   ],
   "source": [
    "def engineer_categorical_features(df):\n",
    "    temp = df.copy()\n",
    "    \n",
    "    titles = df[\"Name\"].str.split(', ', expand=True)[1].str.split(\". \", expand=True)[0]\n",
    "    temp[\"Title\"] = titles\n",
    "    \n",
    "    deck = df[\"Cabin\"].map(lambda x: substrings_in_string(x, cabin_list))\n",
    "    temp[\"Deck\"] = deck\n",
    "    \n",
    "    temp[\"SexBinary\"] = 0\n",
    "    temp.loc[temp[\"Sex\"] == \"female\", \"SexBinary\"] = 1\n",
    "    \n",
    "    temp[\"Title\"] = temp.apply(replace_rare_titles, axis=1)\n",
    "    \n",
    "    one_hot_cols = [\"Embarked\", \"Title\", \"Deck\"]\n",
    "    \n",
    "    for o in one_hot_cols:\n",
    "        dummies = pd.get_dummies(temp[o], prefix=o)\n",
    "        temp = pd.concat([temp, dummies], axis=1)\n",
    "    \n",
    "    temp.drop(columns=list(cat_features) + [\"Title\", \"Deck\"], inplace=True)\n",
    "    \n",
    "    return temp\n",
    "\n",
    "X_train_all = engineer_categorical_features(X_train)\n",
    "X_test_all = engineer_categorical_features(X_test)\n",
    "X_train_all.head()"
   ]
  },
  {
   "cell_type": "code",
   "execution_count": 398,
   "metadata": {},
   "outputs": [
    {
     "data": {
      "text/plain": [
       "(Index(['PassengerId', 'Pclass', 'Age', 'SibSp', 'Parch', 'Fare', 'SexBinary',\n",
       "        'Embarked_C', 'Embarked_Q', 'Embarked_S', 'Title_Master', 'Title_Miss',\n",
       "        'Title_Mr', 'Title_Mrs', 'Title_Rev', 'Deck_A', 'Deck_B', 'Deck_C',\n",
       "        'Deck_D', 'Deck_E', 'Deck_F', 'Deck_G', 'Deck_Unknown'],\n",
       "       dtype='object'),\n",
       " Index(['PassengerId', 'Pclass', 'Age', 'SibSp', 'Parch', 'Fare', 'SexBinary',\n",
       "        'Embarked_C', 'Embarked_Q', 'Embarked_S', 'Title_Master', 'Title_Miss',\n",
       "        'Title_Mr', 'Title_Mrs', 'Title_Rev', 'Deck_A', 'Deck_B', 'Deck_C',\n",
       "        'Deck_D', 'Deck_E', 'Deck_F', 'Deck_G', 'Deck_Unknown'],\n",
       "       dtype='object'))"
      ]
     },
     "execution_count": 398,
     "metadata": {},
     "output_type": "execute_result"
    }
   ],
   "source": [
    "X_train_all.columns, X_test_all.columns"
   ]
  },
  {
   "cell_type": "markdown",
   "metadata": {},
   "source": [
    "### Train Model - All Features"
   ]
  },
  {
   "cell_type": "code",
   "execution_count": 399,
   "metadata": {},
   "outputs": [
    {
     "data": {
      "text/plain": [
       "((712, 23), (179, 23))"
      ]
     },
     "execution_count": 399,
     "metadata": {},
     "output_type": "execute_result"
    }
   ],
   "source": [
    "X_train_all.shape, X_test_all.shape"
   ]
  },
  {
   "cell_type": "code",
   "execution_count": 400,
   "metadata": {},
   "outputs": [
    {
     "data": {
      "text/plain": [
       "(Index(['PassengerId', 'Pclass', 'Age', 'SibSp', 'Parch', 'Fare', 'SexBinary',\n",
       "        'Embarked_C', 'Embarked_Q', 'Embarked_S', 'Title_Master', 'Title_Miss',\n",
       "        'Title_Mr', 'Title_Mrs', 'Title_Rev', 'Deck_A', 'Deck_B', 'Deck_C',\n",
       "        'Deck_D', 'Deck_E', 'Deck_F', 'Deck_G', 'Deck_Unknown'],\n",
       "       dtype='object'),\n",
       " Index(['PassengerId', 'Pclass', 'Age', 'SibSp', 'Parch', 'Fare', 'SexBinary',\n",
       "        'Embarked_C', 'Embarked_Q', 'Embarked_S', 'Title_Master', 'Title_Miss',\n",
       "        'Title_Mr', 'Title_Mrs', 'Title_Rev', 'Deck_A', 'Deck_B', 'Deck_C',\n",
       "        'Deck_D', 'Deck_E', 'Deck_F', 'Deck_G', 'Deck_Unknown'],\n",
       "       dtype='object'))"
      ]
     },
     "execution_count": 400,
     "metadata": {},
     "output_type": "execute_result"
    }
   ],
   "source": [
    "X_train_all.columns, X_test_all.columns"
   ]
  },
  {
   "cell_type": "code",
   "execution_count": 401,
   "metadata": {},
   "outputs": [
    {
     "data": {
      "text/plain": [
       "(0.8843629343629343, 0.1321069162011173, 0.455233242985843, 0.3901324702585224)"
      ]
     },
     "execution_count": 401,
     "metadata": {},
     "output_type": "execute_result"
    }
   ],
   "source": [
    "train_model(X_train_all, X_test_all, y_train, y_test)"
   ]
  },
  {
   "cell_type": "markdown",
   "metadata": {},
   "source": [
    "**To Do**\n",
    "\n",
    "- Experiment with grouping titles - i.e. Rev should be Mr"
   ]
  },
  {
   "cell_type": "markdown",
   "metadata": {},
   "source": [
    "**Resources**\n",
    "\n",
    "* https://www.kaggle.com/gunesevitan/titanic-advanced-feature-engineering-tutorial"
   ]
  }
 ],
 "metadata": {
  "kernelspec": {
   "display_name": "Python 3",
   "language": "python",
   "name": "python3"
  },
  "language_info": {
   "codemirror_mode": {
    "name": "ipython",
    "version": 3
   },
   "file_extension": ".py",
   "mimetype": "text/x-python",
   "name": "python",
   "nbconvert_exporter": "python",
   "pygments_lexer": "ipython3",
   "version": "3.7.3"
  }
 },
 "nbformat": 4,
 "nbformat_minor": 2
}
