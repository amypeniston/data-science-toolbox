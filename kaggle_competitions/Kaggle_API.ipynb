{
 "cells": [
  {
   "cell_type": "markdown",
   "metadata": {},
   "source": [
    "# Using the Kaggle API"
   ]
  },
  {
   "cell_type": "code",
   "execution_count": 1,
   "metadata": {},
   "outputs": [
    {
     "name": "stdout",
     "output_type": "stream",
     "text": [
      "ref                                          deadline             category            reward  teamCount  userHasEntered  \n",
      "-------------------------------------------  -------------------  ---------------  ---------  ---------  --------------  \n",
      "digit-recognizer                             2030-01-01 00:00:00  Getting Started  Knowledge       2666           False  \n",
      "titanic                                      2030-01-01 00:00:00  Getting Started  Knowledge      10776            True  \n",
      "house-prices-advanced-regression-techniques  2030-01-01 00:00:00  Getting Started  Knowledge       4618           False  \n",
      "facial-keypoints-detection                   2017-01-07 00:00:00  Getting Started  Knowledge        175           False  \n",
      "street-view-getting-started-with-julia       2017-01-07 00:00:00  Getting Started  Knowledge         56           False  \n",
      "word2vec-nlp-tutorial                        2015-06-30 23:59:00  Getting Started  Knowledge        578           False  \n",
      "data-science-london-scikit-learn             2014-12-31 23:59:00  Getting Started  Knowledge        191           False  \n",
      "just-the-basics-the-after-party              2013-03-01 01:00:00  Getting Started  Knowledge         48           False  \n",
      "just-the-basics-strata-2013                  2013-02-26 20:30:00  Getting Started  Knowledge         49           False  \n"
     ]
    }
   ],
   "source": [
    "!kaggle competitions list --category gettingStarted"
   ]
  },
  {
   "cell_type": "code",
   "execution_count": 7,
   "metadata": {},
   "outputs": [
    {
     "name": "stdout",
     "output_type": "stream",
     "text": [
      "name                    size  creationDate         \n",
      "---------------------  -----  -------------------  \n",
      "sample_submission.csv    5MB  2019-08-29 21:40:25  \n",
      "test.csv.zip            12MB  2019-08-29 21:40:28  \n",
      "train.csv.zip          351KB  2019-08-29 21:40:29  \n"
     ]
    }
   ],
   "source": [
    "!kaggle competitions files learn-together"
   ]
  },
  {
   "cell_type": "code",
   "execution_count": null,
   "metadata": {},
   "outputs": [],
   "source": []
  }
 ],
 "metadata": {
  "kernelspec": {
   "display_name": "Python 3",
   "language": "python",
   "name": "python3"
  },
  "language_info": {
   "codemirror_mode": {
    "name": "ipython",
    "version": 3
   },
   "file_extension": ".py",
   "mimetype": "text/x-python",
   "name": "python",
   "nbconvert_exporter": "python",
   "pygments_lexer": "ipython3",
   "version": "3.7.3"
  }
 },
 "nbformat": 4,
 "nbformat_minor": 2
}
