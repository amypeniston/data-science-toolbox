{
 "cells": [
  {
   "cell_type": "markdown",
   "metadata": {},
   "source": [
    "# Web Scraping\n",
    "\n",
    "* **Goal:** Extract World of Warcraft Classic cooking recipes for more convenient filtering by level learned."
   ]
  },
  {
   "cell_type": "code",
   "execution_count": 105,
   "metadata": {},
   "outputs": [],
   "source": [
    "import requests\n",
    "from bs4 import BeautifulSoup\n",
    "import pandas as pd\n",
    "import numpy as np\n",
    "import matplotlib.pyplot as plt\n",
    "import seaborn as sns"
   ]
  },
  {
   "cell_type": "code",
   "execution_count": 19,
   "metadata": {},
   "outputs": [],
   "source": [
    "url = \"https://wow.gamepedia.com/Classic_Cooking_Recipes\"\n",
    "\n",
    "page = requests.get(url)\n",
    "soup = BeautifulSoup(page.content, \"html.parser\")"
   ]
  },
  {
   "cell_type": "code",
   "execution_count": 31,
   "metadata": {},
   "outputs": [],
   "source": [
    "main_content = soup.find(\"div\", {\"id\": \"mw-content-text\"})\n",
    "tables = main_content.find_all(\"table\", {\"class\": \"sortable\"})"
   ]
  },
  {
   "cell_type": "markdown",
   "metadata": {},
   "source": [
    "#### Process HTML"
   ]
  },
  {
   "cell_type": "code",
   "execution_count": 92,
   "metadata": {},
   "outputs": [],
   "source": [
    "content = []\n",
    "row_content = []\n",
    "headers = []\n",
    "\n",
    "for header in tables[0].find_all(\"th\"):\n",
    "    headers.append(header.text.rstrip())\n",
    "\n",
    "for table in tables:\n",
    "    row_counter = 0\n",
    "    for row in table.find_all(\"tr\"):\n",
    "        \n",
    "        if row_counter > 0:\n",
    "            row_content = []\n",
    "            for entry in row.find_all(\"td\"):\n",
    "                row_content.append(entry.text.replace(\"[\",\"\").replace(\"]\",\"\").replace(\"*\",\"\").rstrip())\n",
    "            content.append(row_content)\n",
    "        row_counter += 1"
   ]
  },
  {
   "cell_type": "code",
   "execution_count": 93,
   "metadata": {},
   "outputs": [],
   "source": [
    "recipes_df = pd.DataFrame(content, columns=headers)"
   ]
  },
  {
   "cell_type": "code",
   "execution_count": 94,
   "metadata": {},
   "outputs": [
    {
     "data": {
      "text/html": [
       "<div>\n",
       "<style scoped>\n",
       "    .dataframe tbody tr th:only-of-type {\n",
       "        vertical-align: middle;\n",
       "    }\n",
       "\n",
       "    .dataframe tbody tr th {\n",
       "        vertical-align: top;\n",
       "    }\n",
       "\n",
       "    .dataframe thead th {\n",
       "        text-align: right;\n",
       "    }\n",
       "</style>\n",
       "<table border=\"1\" class=\"dataframe\">\n",
       "  <thead>\n",
       "    <tr style=\"text-align: right;\">\n",
       "      <th></th>\n",
       "      <th>Learn</th>\n",
       "      <th>Yellow</th>\n",
       "      <th>Green</th>\n",
       "      <th>Grey</th>\n",
       "      <th>Recipe</th>\n",
       "      <th>Source</th>\n",
       "    </tr>\n",
       "  </thead>\n",
       "  <tbody>\n",
       "    <tr>\n",
       "      <th>0</th>\n",
       "      <td>0</td>\n",
       "      <td></td>\n",
       "      <td></td>\n",
       "      <td></td>\n",
       "      <td>Apprentice Cooking</td>\n",
       "      <td>Trainer, for 95.</td>\n",
       "    </tr>\n",
       "    <tr>\n",
       "      <th>1</th>\n",
       "      <td>0</td>\n",
       "      <td></td>\n",
       "      <td></td>\n",
       "      <td></td>\n",
       "      <td>Basic Campfire</td>\n",
       "      <td>Trainer, for free (instantly learned upon obta...</td>\n",
       "    </tr>\n",
       "    <tr>\n",
       "      <th>2</th>\n",
       "      <td>0</td>\n",
       "      <td>45</td>\n",
       "      <td>65</td>\n",
       "      <td>85</td>\n",
       "      <td>Charred Wolf Meat</td>\n",
       "      <td>Trainer, for free (instantly learned upon obta...</td>\n",
       "    </tr>\n",
       "    <tr>\n",
       "      <th>3</th>\n",
       "      <td>0</td>\n",
       "      <td>45</td>\n",
       "      <td>65</td>\n",
       "      <td>85</td>\n",
       "      <td>Herb Baked Egg</td>\n",
       "      <td>Trainer, for free (instantly learned upon obta...</td>\n",
       "    </tr>\n",
       "    <tr>\n",
       "      <th>4</th>\n",
       "      <td>0</td>\n",
       "      <td>45</td>\n",
       "      <td>65</td>\n",
       "      <td>85</td>\n",
       "      <td>Roasted Boar Meat</td>\n",
       "      <td>Trainer, for free (instantly learned upon obta...</td>\n",
       "    </tr>\n",
       "    <tr>\n",
       "      <th>5</th>\n",
       "      <td>1</td>\n",
       "      <td>30</td>\n",
       "      <td>32</td>\n",
       "      <td>35</td>\n",
       "      <td>Sliced Peaches</td>\n",
       "      <td>Trainer, for 1.</td>\n",
       "    </tr>\n",
       "    <tr>\n",
       "      <th>6</th>\n",
       "      <td>1</td>\n",
       "      <td>30</td>\n",
       "      <td>35</td>\n",
       "      <td>40</td>\n",
       "      <td>Spice Bread</td>\n",
       "      <td>Trainer, for 10.</td>\n",
       "    </tr>\n",
       "    <tr>\n",
       "      <th>7</th>\n",
       "      <td>1</td>\n",
       "      <td>30</td>\n",
       "      <td>35</td>\n",
       "      <td>40</td>\n",
       "      <td>Bread of the Dead</td>\n",
       "      <td>Recipe: Bread of the Dead sold by  Chapman lo...</td>\n",
       "    </tr>\n",
       "    <tr>\n",
       "      <th>8</th>\n",
       "      <td>1</td>\n",
       "      <td>45</td>\n",
       "      <td>65</td>\n",
       "      <td>85</td>\n",
       "      <td>Brilliant Smallfish</td>\n",
       "      <td>Recipe: Brilliant Smallfish sold by various v...</td>\n",
       "    </tr>\n",
       "    <tr>\n",
       "      <th>9</th>\n",
       "      <td>1</td>\n",
       "      <td>45</td>\n",
       "      <td>65</td>\n",
       "      <td>85</td>\n",
       "      <td>Crispy Bat Wing</td>\n",
       "      <td>Recipe: Crispy Bat Wing sold by  Abigail Shie...</td>\n",
       "    </tr>\n",
       "  </tbody>\n",
       "</table>\n",
       "</div>"
      ],
      "text/plain": [
       "  Learn Yellow Green Grey                Recipe  \\\n",
       "0     0                      Apprentice Cooking   \n",
       "1     0                          Basic Campfire   \n",
       "2     0     45    65   85     Charred Wolf Meat   \n",
       "3     0     45    65   85        Herb Baked Egg   \n",
       "4     0     45    65   85     Roasted Boar Meat   \n",
       "5     1     30    32   35        Sliced Peaches   \n",
       "6     1     30    35   40           Spice Bread   \n",
       "7     1     30    35   40     Bread of the Dead   \n",
       "8     1     45    65   85   Brilliant Smallfish   \n",
       "9     1     45    65   85       Crispy Bat Wing   \n",
       "\n",
       "                                              Source  \n",
       "0                                   Trainer, for 95.  \n",
       "1  Trainer, for free (instantly learned upon obta...  \n",
       "2  Trainer, for free (instantly learned upon obta...  \n",
       "3  Trainer, for free (instantly learned upon obta...  \n",
       "4  Trainer, for free (instantly learned upon obta...  \n",
       "5                                    Trainer, for 1.  \n",
       "6                                   Trainer, for 10.  \n",
       "7   Recipe: Bread of the Dead sold by  Chapman lo...  \n",
       "8   Recipe: Brilliant Smallfish sold by various v...  \n",
       "9   Recipe: Crispy Bat Wing sold by  Abigail Shie...  "
      ]
     },
     "execution_count": 94,
     "metadata": {},
     "output_type": "execute_result"
    }
   ],
   "source": [
    "recipes_df.head(10)"
   ]
  },
  {
   "cell_type": "code",
   "execution_count": 117,
   "metadata": {},
   "outputs": [
    {
     "data": {
      "text/html": [
       "<div>\n",
       "<style scoped>\n",
       "    .dataframe tbody tr th:only-of-type {\n",
       "        vertical-align: middle;\n",
       "    }\n",
       "\n",
       "    .dataframe tbody tr th {\n",
       "        vertical-align: top;\n",
       "    }\n",
       "\n",
       "    .dataframe thead th {\n",
       "        text-align: right;\n",
       "    }\n",
       "</style>\n",
       "<table border=\"1\" class=\"dataframe\">\n",
       "  <thead>\n",
       "    <tr style=\"text-align: right;\">\n",
       "      <th></th>\n",
       "      <th>Learn</th>\n",
       "      <th>Yellow</th>\n",
       "      <th>Green</th>\n",
       "      <th>Grey</th>\n",
       "      <th>Recipe</th>\n",
       "      <th>Source</th>\n",
       "    </tr>\n",
       "  </thead>\n",
       "  <tbody>\n",
       "    <tr>\n",
       "      <th>79</th>\n",
       "      <td>175.0</td>\n",
       "      <td>215.0</td>\n",
       "      <td>235.0</td>\n",
       "      <td>255.0</td>\n",
       "      <td>Roast Raptor</td>\n",
       "      <td>Recipe: Roast Raptor sold by various vendors ...</td>\n",
       "    </tr>\n",
       "    <tr>\n",
       "      <th>121</th>\n",
       "      <td>300.0</td>\n",
       "      <td>330.0</td>\n",
       "      <td>332.0</td>\n",
       "      <td>335.0</td>\n",
       "      <td>Fish Cake</td>\n",
       "      <td>Trainer, for 50.</td>\n",
       "    </tr>\n",
       "    <tr>\n",
       "      <th>32</th>\n",
       "      <td>50.0</td>\n",
       "      <td>90.0</td>\n",
       "      <td>110.0</td>\n",
       "      <td>130.0</td>\n",
       "      <td>Loch Frenzy Delight</td>\n",
       "      <td>Recipe: Loch Frenzy Delight sold by  Khara De...</td>\n",
       "    </tr>\n",
       "    <tr>\n",
       "      <th>94</th>\n",
       "      <td>225.0</td>\n",
       "      <td>250.0</td>\n",
       "      <td>262.0</td>\n",
       "      <td>275.0</td>\n",
       "      <td>Tender Wolf Steak</td>\n",
       "      <td>Recipe: Tender Wolf Steak sold by  Dirge Quik...</td>\n",
       "    </tr>\n",
       "    <tr>\n",
       "      <th>51</th>\n",
       "      <td>100.0</td>\n",
       "      <td>100.0</td>\n",
       "      <td>105.0</td>\n",
       "      <td>110.0</td>\n",
       "      <td>Captain Rumsey's Lager</td>\n",
       "      <td>Recipe: Captain Rumsey's Lager, a possible dr...</td>\n",
       "    </tr>\n",
       "    <tr>\n",
       "      <th>95</th>\n",
       "      <td>225.0</td>\n",
       "      <td>250.0</td>\n",
       "      <td>262.0</td>\n",
       "      <td>275.0</td>\n",
       "      <td>Undermine Clam Chowder</td>\n",
       "      <td>Recipe: Undermine Clam Chowder sold by  \"Chef...</td>\n",
       "    </tr>\n",
       "    <tr>\n",
       "      <th>24</th>\n",
       "      <td>40.0</td>\n",
       "      <td>80.0</td>\n",
       "      <td>100.0</td>\n",
       "      <td>120.0</td>\n",
       "      <td>Smoked Bear Meat</td>\n",
       "      <td>Recipe: Smoked Bear Meat sold by  Drac Roughc...</td>\n",
       "    </tr>\n",
       "    <tr>\n",
       "      <th>84</th>\n",
       "      <td>200.0</td>\n",
       "      <td>225.0</td>\n",
       "      <td>237.0</td>\n",
       "      <td>250.0</td>\n",
       "      <td>Dragonbreath Chili</td>\n",
       "      <td>Recipe: Dragonbreath Chili sold by  Super-Sel...</td>\n",
       "    </tr>\n",
       "    <tr>\n",
       "      <th>34</th>\n",
       "      <td>50.0</td>\n",
       "      <td>90.0</td>\n",
       "      <td>110.0</td>\n",
       "      <td>130.0</td>\n",
       "      <td>Rainbow Fin Albacore</td>\n",
       "      <td>Recipe: Rainbow Fin Albacore sold by various ...</td>\n",
       "    </tr>\n",
       "    <tr>\n",
       "      <th>33</th>\n",
       "      <td>50.0</td>\n",
       "      <td>90.0</td>\n",
       "      <td>110.0</td>\n",
       "      <td>130.0</td>\n",
       "      <td>Longjaw Mud Snapper</td>\n",
       "      <td>Recipe: Longjaw Mud Snapper sold by various v...</td>\n",
       "    </tr>\n",
       "  </tbody>\n",
       "</table>\n",
       "</div>"
      ],
      "text/plain": [
       "     Learn  Yellow  Green   Grey                   Recipe  \\\n",
       "79   175.0   215.0  235.0  255.0             Roast Raptor   \n",
       "121  300.0   330.0  332.0  335.0                Fish Cake   \n",
       "32    50.0    90.0  110.0  130.0      Loch Frenzy Delight   \n",
       "94   225.0   250.0  262.0  275.0        Tender Wolf Steak   \n",
       "51   100.0   100.0  105.0  110.0   Captain Rumsey's Lager   \n",
       "95   225.0   250.0  262.0  275.0   Undermine Clam Chowder   \n",
       "24    40.0    80.0  100.0  120.0         Smoked Bear Meat   \n",
       "84   200.0   225.0  237.0  250.0       Dragonbreath Chili   \n",
       "34    50.0    90.0  110.0  130.0     Rainbow Fin Albacore   \n",
       "33    50.0    90.0  110.0  130.0      Longjaw Mud Snapper   \n",
       "\n",
       "                                                Source  \n",
       "79    Recipe: Roast Raptor sold by various vendors ...  \n",
       "121                                   Trainer, for 50.  \n",
       "32    Recipe: Loch Frenzy Delight sold by  Khara De...  \n",
       "94    Recipe: Tender Wolf Steak sold by  Dirge Quik...  \n",
       "51    Recipe: Captain Rumsey's Lager, a possible dr...  \n",
       "95    Recipe: Undermine Clam Chowder sold by  \"Chef...  \n",
       "24    Recipe: Smoked Bear Meat sold by  Drac Roughc...  \n",
       "84    Recipe: Dragonbreath Chili sold by  Super-Sel...  \n",
       "34    Recipe: Rainbow Fin Albacore sold by various ...  \n",
       "33    Recipe: Longjaw Mud Snapper sold by various v...  "
      ]
     },
     "execution_count": 117,
     "metadata": {},
     "output_type": "execute_result"
    }
   ],
   "source": [
    "recipes_df.sample(10)"
   ]
  },
  {
   "cell_type": "markdown",
   "metadata": {},
   "source": [
    "#### Replace missing values with Na"
   ]
  },
  {
   "cell_type": "code",
   "execution_count": 100,
   "metadata": {},
   "outputs": [],
   "source": [
    "recipes_df = recipes_df.replace(r'^\\s*$', np.nan, regex=True)"
   ]
  },
  {
   "cell_type": "markdown",
   "metadata": {},
   "source": [
    "#### Update data types"
   ]
  },
  {
   "cell_type": "code",
   "execution_count": 95,
   "metadata": {},
   "outputs": [
    {
     "data": {
      "text/plain": [
       "Learn     object\n",
       "Yellow    object\n",
       "Green     object\n",
       "Grey      object\n",
       "Recipe    object\n",
       "Source    object\n",
       "dtype: object"
      ]
     },
     "execution_count": 95,
     "metadata": {},
     "output_type": "execute_result"
    }
   ],
   "source": [
    "recipes_df.dtypes"
   ]
  },
  {
   "cell_type": "code",
   "execution_count": 102,
   "metadata": {},
   "outputs": [
    {
     "data": {
      "text/plain": [
       "Learn     float64\n",
       "Yellow    float64\n",
       "Green     float64\n",
       "Grey      float64\n",
       "Recipe     object\n",
       "Source     object\n",
       "dtype: object"
      ]
     },
     "execution_count": 102,
     "metadata": {},
     "output_type": "execute_result"
    }
   ],
   "source": [
    "recipes_df =recipes_df.astype({\"Learn\": \"float64\", \"Yellow\": \"float64\", \"Green\": \"float64\", \"Grey\": \"float64\"})\n",
    "recipes_df.dtypes"
   ]
  },
  {
   "cell_type": "code",
   "execution_count": 115,
   "metadata": {},
   "outputs": [
    {
     "data": {
      "image/png": "[encoded data removed]",
      "text/plain": [
       "<Figure size 864x576 with 1 Axes>"
      ]
     },
     "metadata": {},
     "output_type": "display_data"
    }
   ],
   "source": [
    "sns.set()\n",
    "fig = plt.figure(figsize=(12,8))\n",
    "sns.distplot(recipes_df[\"Learn\"], kde=False)\n",
    "plt.title(\"Histogram of World of Warcraft Classic Cooking Recipes by Level Learned\")\n",
    "plt.xlabel(\"Level Learned\")\n",
    "plt.ylabel(\"Count\")\n",
    "plt.show()"
   ]
  }
 ],
 "metadata": {
  "kernelspec": {
   "display_name": "Python 3",
   "language": "python",
   "name": "python3"
  },
  "language_info": {
   "codemirror_mode": {
    "name": "ipython",
    "version": 3
   },
   "file_extension": ".py",
   "mimetype": "text/x-python",
   "name": "python",
   "nbconvert_exporter": "python",
   "pygments_lexer": "ipython3",
   "version": "3.7.3"
  }
 },
 "nbformat": 4,
 "nbformat_minor": 2
}
