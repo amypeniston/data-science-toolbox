{
 "cells": [
  {
   "cell_type": "markdown",
   "metadata": {},
   "source": [
    "# Python Basics\n",
    "\n",
    "## General Info\n",
    "\n",
    "Python is an interpreted language, meaning it interprets code line by line when it is executed. \n",
    "\n",
    "* Printing: ```print(arg)```\n",
    "* Version: ```sys.version```\n",
    "\n",
    "*Note: sys is a built-in module that contains many system-specific parameters and functions. Before using it, we must explictly import it: ```import sys```.*"
   ]
  },
  {
   "cell_type": "markdown",
   "metadata": {},
   "source": [
    "### Expressions\n",
    "\n",
    "Double slash -> integer division (result is rounded down): ```25//6 = 4```"
   ]
  },
  {
   "cell_type": "code",
   "execution_count": 20,
   "metadata": {},
   "outputs": [
    {
     "name": "stdout",
     "output_type": "stream",
     "text": [
      "0.5\n",
      "0\n"
     ]
    }
   ],
   "source": [
    "print(1/2)\n",
    "print(1//2)"
   ]
  },
  {
   "cell_type": "markdown",
   "metadata": {},
   "source": [
    "## Types & Objects\n",
    "\n",
    "Python is an object-orientated language with many different types of objects, including:\n",
    "\n",
    "* Int: 1, 500\n",
    "* Float: 3.1, -9.44\n",
    "* String: \"may the force be with you\"\n",
    "* Boolean: True, False\n",
    "* List: [4, 1, \"hello\"]\n",
    "* Dictionary: {\"key\": \"value\", \"age\": 3}\n",
    "\n",
    "An object is an instance of a particular type. Each object has its own set of functions, called methods, which can be used to interact with the data."
   ]
  },
  {
   "cell_type": "code",
   "execution_count": 27,
   "metadata": {},
   "outputs": [
    {
     "data": {
      "text/plain": [
       "int"
      ]
     },
     "execution_count": 27,
     "metadata": {},
     "output_type": "execute_result"
    }
   ],
   "source": [
    "type(0)"
   ]
  },
  {
   "cell_type": "code",
   "execution_count": 28,
   "metadata": {},
   "outputs": [
    {
     "data": {
      "text/plain": [
       "float"
      ]
     },
     "execution_count": 28,
     "metadata": {},
     "output_type": "execute_result"
    }
   ],
   "source": [
    "type(-1.2)"
   ]
  },
  {
   "cell_type": "code",
   "execution_count": 4,
   "metadata": {},
   "outputs": [
    {
     "data": {
      "text/plain": [
       "str"
      ]
     },
     "execution_count": 4,
     "metadata": {},
     "output_type": "execute_result"
    }
   ],
   "source": [
    "type(\"foo\")"
   ]
  },
  {
   "cell_type": "code",
   "execution_count": 13,
   "metadata": {},
   "outputs": [
    {
     "data": {
      "text/plain": [
       "bool"
      ]
     },
     "execution_count": 13,
     "metadata": {},
     "output_type": "execute_result"
    }
   ],
   "source": [
    "type(True)"
   ]
  },
  {
   "cell_type": "code",
   "execution_count": 30,
   "metadata": {},
   "outputs": [
    {
     "data": {
      "text/plain": [
       "sys.float_info(max=1.7976931348623157e+308, max_exp=1024, max_10_exp=308, min=2.2250738585072014e-308, min_exp=-1021, min_10_exp=-307, dig=15, mant_dig=53, epsilon=2.220446049250313e-16, radix=2, rounds=1)"
      ]
     },
     "execution_count": 30,
     "metadata": {},
     "output_type": "execute_result"
    }
   ],
   "source": [
    "# Check the specifics of floats in your runtime env, including max & min values\n",
    "import sys\n",
    "sys.float_info"
   ]
  },
  {
   "cell_type": "markdown",
   "metadata": {},
   "source": [
    "#### Common Functions\n",
    "\n",
    "* ```sum()```\n",
    "* ```del()```\n",
    "* ```len()```\n",
    "* ```ord()```\n",
    "* ```chr()```\n",
    "* ```sorted()``` - returns a new list, but does not change original list"
   ]
  },
  {
   "cell_type": "code",
   "execution_count": 84,
   "metadata": {},
   "outputs": [
    {
     "name": "stdout",
     "output_type": "stream",
     "text": [
      "!, \", #, $, %, &, ', (, ), *, +, ,, -, ., /, 0, 1, 2, 3, 4, 5, 6, 7, 8, 9, :, ;, <, =, >, ?, @, A, B, C, D, E, F, G, H, I, J, K, L, M, N, O, P, Q, R, S, T, U, V, W, X, Y, Z, [, \\, ], ^, _, `, a, b, c, d, e, f, g, h, i, j, k, l, m, n, o, p, q, r, s, t, u, v, w, x, y, z, "
     ]
    }
   ],
   "source": [
    "for i in range(33,123):\n",
    "        print(chr(i), end=\", \")"
   ]
  },
  {
   "cell_type": "code",
   "execution_count": 9,
   "metadata": {},
   "outputs": [
    {
     "name": "stdout",
     "output_type": "stream",
     "text": [
      "L_sorted = [1, 2, 4] but L = [1, 4, 2]\n",
      "Using sort list method, L = [1, 2, 4]\n"
     ]
    }
   ],
   "source": [
    "L = [1, 4, 2]\n",
    "L_sorted = sorted(L) # sorted function returns a new sorted list\n",
    "print(\"L_sorted =\", L_sorted, \"but L =\", L)\n",
    "\n",
    "L.sort() # sort list method modifies list in place\n",
    "print(\"Using sort list method, L =\", L)"
   ]
  },
  {
   "cell_type": "markdown",
   "metadata": {},
   "source": [
    "#### Typecasting\n",
    "\n",
    "If you cast a float to an int, everything after the decimal is truncated. The number is **not** rounded."
   ]
  },
  {
   "cell_type": "code",
   "execution_count": 10,
   "metadata": {},
   "outputs": [
    {
     "data": {
      "text/plain": [
       "3"
      ]
     },
     "execution_count": 10,
     "metadata": {},
     "output_type": "execute_result"
    }
   ],
   "source": [
    "int(3.99)"
   ]
  },
  {
   "cell_type": "code",
   "execution_count": 6,
   "metadata": {},
   "outputs": [
    {
     "data": {
      "text/plain": [
       "2.0"
      ]
     },
     "execution_count": 6,
     "metadata": {},
     "output_type": "execute_result"
    }
   ],
   "source": [
    "float(2)"
   ]
  },
  {
   "cell_type": "code",
   "execution_count": 11,
   "metadata": {},
   "outputs": [
    {
     "data": {
      "text/plain": [
       "'1'"
      ]
     },
     "execution_count": 11,
     "metadata": {},
     "output_type": "execute_result"
    }
   ],
   "source": [
    "str(1)"
   ]
  },
  {
   "cell_type": "code",
   "execution_count": 32,
   "metadata": {},
   "outputs": [
    {
     "data": {
      "text/plain": [
       "3.3"
      ]
     },
     "execution_count": 32,
     "metadata": {},
     "output_type": "execute_result"
    }
   ],
   "source": [
    "float('3.3') # Note this works because the string contains numerals only"
   ]
  },
  {
   "cell_type": "code",
   "execution_count": 31,
   "metadata": {},
   "outputs": [
    {
     "data": {
      "text/plain": [
       "90"
      ]
     },
     "execution_count": 31,
     "metadata": {},
     "output_type": "execute_result"
    }
   ],
   "source": [
    "int('90') # Note this works because the string contains numerals only"
   ]
  },
  {
   "cell_type": "code",
   "execution_count": 14,
   "metadata": {},
   "outputs": [
    {
     "data": {
      "text/plain": [
       "1"
      ]
     },
     "execution_count": 14,
     "metadata": {},
     "output_type": "execute_result"
    }
   ],
   "source": [
    "int(True)"
   ]
  },
  {
   "cell_type": "code",
   "execution_count": 16,
   "metadata": {},
   "outputs": [
    {
     "data": {
      "text/plain": [
       "False"
      ]
     },
     "execution_count": 16,
     "metadata": {},
     "output_type": "execute_result"
    }
   ],
   "source": [
    "bool(0)"
   ]
  },
  {
   "cell_type": "markdown",
   "metadata": {},
   "source": [
    "#### String Operations\n",
    "\n",
    "A string can be thought of as an ordered sequence. Index into a string using square brackets: []. Note that the first character is considered index 0; alternatively, the last character is considered index -1. Negative indexing is helpful if you need to count backwards from the end of a string.\n",
    "\n",
    "Backslashes proceed escape sequences: ```\\n```, ```\\t```\n",
    "\n",
    "Methods:\n",
    "\n",
    "* ```str.upper()```\n",
    "* ```str.find(sub)```\n",
    "* ```str.replace()```\n",
    "* ```str.split()```\n",
    "* ```str.count(sub)```\n",
    "* ```str.isdigit()```\n",
    "* ```str.islower()```\n",
    "* ```str.isupper()```"
   ]
  },
  {
   "cell_type": "code",
   "execution_count": 3,
   "metadata": {},
   "outputs": [
    {
     "name": "stdout",
     "output_type": "stream",
     "text": [
      "a\n",
      "r\n"
     ]
    }
   ],
   "source": [
    "test_string = \"anakin skywalker\"\n",
    "print(test_string[0])\n",
    "print(test_string[-1])"
   ]
  },
  {
   "cell_type": "code",
   "execution_count": 26,
   "metadata": {},
   "outputs": [
    {
     "name": "stdout",
     "output_type": "stream",
     "text": [
      "a n a k i n   s k y w a l k e r "
     ]
    }
   ],
   "source": [
    "for i in test_string:\n",
    "    print(i, end = \" \")"
   ]
  },
  {
   "cell_type": "code",
   "execution_count": 6,
   "metadata": {},
   "outputs": [
    {
     "name": "stdout",
     "output_type": "stream",
     "text": [
      "nak\n",
      "kin skywalk\n",
      "aai kwle\n",
      "aai\n"
     ]
    }
   ],
   "source": [
    "# Slicing\n",
    "print(test_string[1:4])\n",
    "print(test_string[3:len(test_string)-2])\n",
    "\n",
    "# Striding - select every 2nd index\n",
    "print(test_string[::2])\n",
    "\n",
    "# Slicing & Striding - every 2nd index up to index 5\n",
    "print(test_string[0:5:2])"
   ]
  },
  {
   "cell_type": "code",
   "execution_count": 110,
   "metadata": {},
   "outputs": [
    {
     "name": "stdout",
     "output_type": "stream",
     "text": [
      "a n a k i n   s k y w a l k e r "
     ]
    }
   ],
   "source": [
    "for i in range(-1 * len(test_string),0):\n",
    "    print(test_string[i], end = \" \")"
   ]
  },
  {
   "cell_type": "code",
   "execution_count": 7,
   "metadata": {},
   "outputs": [
    {
     "name": "stdout",
     "output_type": "stream",
     "text": [
      "Length of string =  16\n",
      "anakin skywalkeranakin skywalker\n",
      "anakin skywalkeranakin skywalkeranakin skywalker\n"
     ]
    }
   ],
   "source": [
    "# Length of Strings\n",
    "print(\"Length of string = \", len(test_string))\n",
    "\n",
    "# Concatenation\n",
    "print(test_string + test_string)\n",
    "print(test_string * 3)"
   ]
  },
  {
   "cell_type": "code",
   "execution_count": null,
   "metadata": {},
   "outputs": [],
   "source": [
    "# Strings are immutable\n",
    "test_string[0] = 'A' # Does not work\n",
    "print(test_string)"
   ]
  },
  {
   "cell_type": "code",
   "execution_count": 43,
   "metadata": {},
   "outputs": [
    {
     "name": "stdout",
     "output_type": "stream",
     "text": [
      "anakin skywalker is a jedi\n"
     ]
    }
   ],
   "source": [
    "# However, you can create a new string with concatenation\n",
    "test_string = test_string + \" is a jedi\"\n",
    "print(test_string)"
   ]
  },
  {
   "cell_type": "code",
   "execution_count": 8,
   "metadata": {},
   "outputs": [
    {
     "name": "stdout",
     "output_type": "stream",
     "text": [
      "Including a \\ in a string\n",
      "Or, use prepend a letter r to display a \\ in a string without escaping\n"
     ]
    }
   ],
   "source": [
    "print(\"Including a \\\\ in a string\")\n",
    "print(r\"Or, use prepend a letter r to display a \\ in a string without escaping\") # A raw string"
   ]
  },
  {
   "cell_type": "code",
   "execution_count": 9,
   "metadata": {},
   "outputs": [
    {
     "name": "stdout",
     "output_type": "stream",
     "text": [
      "ANAKIN SKYWALKER\n",
      "10\n",
      "-1\n",
      "anakin skytalker\n"
     ]
    }
   ],
   "source": [
    "print(test_string.upper())\n",
    "print(test_string.find('w')) # returns index of first occurrence\n",
    "print(test_string.find('q')) # returns -1 if not found\n",
    "print(test_string.replace('w','t'))"
   ]
  },
  {
   "cell_type": "markdown",
   "metadata": {},
   "source": [
    "## Tuples & Lists\n",
    "\n",
    "A **tuple** is an ordered sequence of comma separated elements within parentheses. Tuples are immutable. As a result of immutability, manipulating tuples requires the creation of new tuples.\n",
    "\n",
    "A **list** is also an ordered sequence of elements, however they are contained within square brackets. The important difference between tuples and lists is that lists are mutable.\n",
    "\n",
    "Both data types can contain other complex data types, i.e. \"nested\" elements.\n",
    "\n",
    "Methods:\n",
    "* ```L.index(obj)``` / ```T.index(obj)```\n",
    "* ```L.append(obj)```\n",
    "* ```L.extend(obj)```\n",
    "* ```L.count(obj)``` / ```T.count(obj)```\n",
    "* ```L.pop([index])```\n",
    "* ```L.sort()```\n",
    "* ```L.reverse()```"
   ]
  },
  {
   "cell_type": "code",
   "execution_count": 19,
   "metadata": {},
   "outputs": [
    {
     "name": "stdout",
     "output_type": "stream",
     "text": [
      "Sorted:  (-4, 0, 1, 4, 6)\n",
      "Index Of:  1\n"
     ]
    }
   ],
   "source": [
    "numeric_tuple = (1, 4, 6, 0, -4)\n",
    "sorted_tuple = tuple(sorted(numeric_tuple)) # A new tuple must be created, since original tuple is immutable\n",
    "print(\"Sorted: \", sorted_tuple)\n",
    "\n",
    "print(\"Index Of: \", sorted_tuple.index(0)) # Indexing to find certain element"
   ]
  },
  {
   "cell_type": "code",
   "execution_count": 21,
   "metadata": {},
   "outputs": [
    {
     "name": "stdout",
     "output_type": "stream",
     "text": [
      "Create a new list, referencing the first with b[0] =  1\n",
      "Since lists are mutable, b[0] =  100\n"
     ]
    }
   ],
   "source": [
    "my_list = ['1', 45, [\"hello\", \"world\"]]\n",
    "\n",
    "b = my_list\n",
    "print('Create a new list, referencing the first with b[0] = ', b[0])\n",
    "\n",
    "my_list[0] = '100'\n",
    "\n",
    "print('Since lists are mutable, b[0] = ', b[0])"
   ]
  },
  {
   "cell_type": "code",
   "execution_count": 29,
   "metadata": {},
   "outputs": [
    {
     "name": "stdout",
     "output_type": "stream",
     "text": [
      "['star', 'wars']\n",
      "['2', '3', '4', '5']\n"
     ]
    }
   ],
   "source": [
    "new_list = \"star wars\".split() # By default, split separates strings based on the space character\n",
    "print(new_list)\n",
    "\n",
    "a_list = \"2,3,4,5\".split(\",\")\n",
    "print(a_list)"
   ]
  },
  {
   "cell_type": "code",
   "execution_count": 8,
   "metadata": {},
   "outputs": [
    {
     "name": "stdout",
     "output_type": "stream",
     "text": [
      "Appending:  ['8', ['3', '4'], '5', '6', '7', '8', ['3', '4']]\n",
      "Extended:  ['8', ['3', '4'], '5', '6', '7', '8', ['3', '4'], '5', '6']\n",
      "Concatenating:  ['8', ['3', '4'], '5', '6', '7', '8', ['3', '4'], '5', '6', '7', '8']\n",
      "Deleting:  [['3', '4'], '5', '6', '7', '8', ['3', '4'], '5', '6', '7', '8']\n",
      "Deleting:  ['7', '8', ['3', '4'], '5', '6', '7', '8']\n"
     ]
    }
   ],
   "source": [
    "my_list.append(['3','4']) # Add 1 element to list\n",
    "print(\"Appending: \", my_list)\n",
    "\n",
    "my_list.extend(['5','6']) # Concatenate list to end of list\n",
    "print(\"Extended: \", my_list)\n",
    "\n",
    "my_list = my_list + ['7','8'] # Another way to concatenate\n",
    "print(\"Concatenating: \", my_list)\n",
    "\n",
    "del(my_list[0]) # Delete element\n",
    "print(\"Deleting: \", my_list)\n",
    "\n",
    "del(my_list[0:3]) # Delete range of elements\n",
    "print(\"Deleting: \", my_list)"
   ]
  },
  {
   "cell_type": "markdown",
   "metadata": {},
   "source": [
    "#### Aliasing / Referencing vs Cloning"
   ]
  },
  {
   "cell_type": "code",
   "execution_count": 37,
   "metadata": {},
   "outputs": [
    {
     "name": "stdout",
     "output_type": "stream",
     "text": [
      "A =  ['jedi', 3, 'a']\n",
      "B =  ['jedi', 3, 'a']\n",
      "A =  ['luke', 3, 'a']\n",
      "B =  ['luke', 3, 'a']\n",
      "C =  ['luke', 3, 'a']\n",
      "A =  ['darth vader', 3, 'a']\n",
      "B =  ['darth vader', 3, 'a']\n",
      "C =  ['luke', 3, 'a']\n"
     ]
    }
   ],
   "source": [
    "A = [\"jedi\", 3, 'a']\n",
    "B = A # B references A\n",
    "\n",
    "print(\"A = \", A)\n",
    "print(\"B = \", B)\n",
    "\n",
    "A[0] = \"luke\" # When A is changed, B also changes\n",
    "print(\"A = \", A)\n",
    "print(\"B = \", B)\n",
    "\n",
    "C = A[:] # Clone of original list\n",
    "print(\"C = \", C)\n",
    "\n",
    "A[0] = \"darth vader\"\n",
    "print(\"A = \", A)\n",
    "print(\"B = \", B)\n",
    "print(\"C = \", C) # C did not change"
   ]
  },
  {
   "cell_type": "markdown",
   "metadata": {},
   "source": [
    "## Dictionaries"
   ]
  },
  {
   "cell_type": "markdown",
   "metadata": {},
   "source": [
    "Dictionaries consist of comma separated key:value pairs between curly braces: {}. Unlike lists, which use numerical indexes, a dictionary's keys do not have to be numeric.\n",
    "\n",
    "Methods:\n",
    "\n",
    "* ```dict.keys()```\n",
    "* ```dict.values()```\n",
    "* ```dict.items()```\n",
    "* ```dict.pop(key)```\n",
    "* ```dict.clear()```"
   ]
  },
  {
   "cell_type": "code",
   "execution_count": 29,
   "metadata": {},
   "outputs": [
    {
     "data": {
      "text/plain": [
       "{'color': 'brown', 'age': 4, 'favorites': ['fish', 'grass']}"
      ]
     },
     "execution_count": 29,
     "metadata": {},
     "output_type": "execute_result"
    }
   ],
   "source": [
    "my_dict = {\"color\": \"brown\", \"age\": 4, \"favorites\": [\"fish\", \"grass\"]}\n",
    "my_dict"
   ]
  },
  {
   "cell_type": "code",
   "execution_count": 27,
   "metadata": {},
   "outputs": [
    {
     "name": "stdout",
     "output_type": "stream",
     "text": [
      "{'color': 'brown', 'age': 4, 'favorites': ['fish', 'grass'], 'size': 'small'}\n",
      "{'color': 'brown', 'age': 4, 'favorites': ['fish', 'grass']}\n"
     ]
    }
   ],
   "source": [
    "my_dict[\"size\"] = \"small\" # Adding an element\n",
    "print(my_dict)\n",
    "\n",
    "del(my_dict[\"size\"]) # Deleting an element\n",
    "print(my_dict)"
   ]
  },
  {
   "cell_type": "code",
   "execution_count": 29,
   "metadata": {},
   "outputs": [
    {
     "name": "stdout",
     "output_type": "stream",
     "text": [
      "dict_keys(['color', 'age', 'favorites'])\n",
      "dict_values(['brown', 4, ['fish', 'grass']])\n"
     ]
    }
   ],
   "source": [
    "print(my_dict.keys())\n",
    "print(my_dict.values())"
   ]
  },
  {
   "cell_type": "code",
   "execution_count": 30,
   "metadata": {},
   "outputs": [
    {
     "data": {
      "text/plain": [
       "True"
      ]
     },
     "execution_count": 30,
     "metadata": {},
     "output_type": "execute_result"
    }
   ],
   "source": [
    "\"color\" in my_dict # Verify if a key is in a dictionary"
   ]
  },
  {
   "cell_type": "markdown",
   "metadata": {},
   "source": [
    "## Sets\n",
    "\n",
    "Sets are a type of collection that are delimited by curly braces: {}. There is no concept of element position; values are unordered and unique.\n",
    "\n",
    "Methods:\n",
    "\n",
    "* ```set.add()```\n",
    "* ```set.remove()```\n",
    "* ```set.intersection()```\n",
    "* ```set.union()```\n",
    "* ```set.difference()```\n",
    "* ```set.issubset()```\n",
    "* ```set.issuperset()```"
   ]
  },
  {
   "cell_type": "code",
   "execution_count": 34,
   "metadata": {},
   "outputs": [
    {
     "name": "stdout",
     "output_type": "stream",
     "text": [
      "{'orange', 'apple', 'grapes'}\n"
     ]
    }
   ],
   "source": [
    "fruit = {\"apple\", \"orange\", \"grapes\"}\n",
    "print(fruit)"
   ]
  },
  {
   "cell_type": "code",
   "execution_count": 36,
   "metadata": {},
   "outputs": [
    {
     "name": "stdout",
     "output_type": "stream",
     "text": [
      "{'apple'}\n",
      "{'apple'}\n"
     ]
    }
   ],
   "source": [
    "food = {\"bread\", \"milk\", \"apple\"}\n",
    "print(food & fruit) # One way to get elements in both sets\n",
    "print(food.intersection(fruit)) # Another way to get intersection"
   ]
  },
  {
   "cell_type": "code",
   "execution_count": 37,
   "metadata": {},
   "outputs": [
    {
     "name": "stdout",
     "output_type": "stream",
     "text": [
      "{'bread', 'orange', 'apple', 'milk', 'grapes'}\n"
     ]
    }
   ],
   "source": [
    "print(food.union(fruit)) # Add both sets together"
   ]
  },
  {
   "cell_type": "code",
   "execution_count": 39,
   "metadata": {},
   "outputs": [
    {
     "name": "stdout",
     "output_type": "stream",
     "text": [
      "False\n",
      "True\n"
     ]
    }
   ],
   "source": [
    "print(food.issubset(fruit)) # Determine if fruit is a subset\n",
    "fruit_subset = {\"apple\", \"orange\"}\n",
    "print(fruit_subset.issubset(fruit))"
   ]
  },
  {
   "cell_type": "code",
   "execution_count": 45,
   "metadata": {},
   "outputs": [
    {
     "data": {
      "text/plain": [
       "{'bread', 'milk'}"
      ]
     },
     "execution_count": 45,
     "metadata": {},
     "output_type": "execute_result"
    }
   ],
   "source": [
    "food.difference(fruit) # Items contained in one but not the other"
   ]
  },
  {
   "cell_type": "code",
   "execution_count": 40,
   "metadata": {},
   "outputs": [
    {
     "data": {
      "text/plain": [
       "True"
      ]
     },
     "execution_count": 40,
     "metadata": {},
     "output_type": "execute_result"
    }
   ],
   "source": [
    "\"apple\" in fruit"
   ]
  },
  {
   "cell_type": "code",
   "execution_count": 42,
   "metadata": {},
   "outputs": [
    {
     "name": "stdout",
     "output_type": "stream",
     "text": [
      "{'orange', 'apple', 'grapes'}\n",
      "{'orange', 'apple', 'grapefruit', 'grapes'}\n"
     ]
    }
   ],
   "source": [
    "fruit.add(\"apple\") # Adding a duplicate element has no effect\n",
    "print(fruit)\n",
    "fruit.add(\"grapefruit\")\n",
    "print(fruit)"
   ]
  },
  {
   "cell_type": "code",
   "execution_count": 43,
   "metadata": {},
   "outputs": [
    {
     "data": {
      "text/plain": [
       "{'apple', 'grapes', 'orange'}"
      ]
     },
     "execution_count": 43,
     "metadata": {},
     "output_type": "execute_result"
    }
   ],
   "source": [
    "my_list = [\"apple\", \"orange\", \"grapes\", \"apple\"] # A list with duplicates\n",
    "my_set = set(my_list) # Python removes duplicates\n",
    "my_set"
   ]
  },
  {
   "cell_type": "markdown",
   "metadata": {},
   "source": [
    "## Conditionals"
   ]
  },
  {
   "cell_type": "code",
   "execution_count": 57,
   "metadata": {},
   "outputs": [
    {
     "name": "stdout",
     "output_type": "stream",
     "text": [
      "False\n",
      "97\n",
      "98\n"
     ]
    }
   ],
   "source": [
    "print('a' > 'b')\n",
    "print(ord('a'))\n",
    "print(ord('b'))"
   ]
  },
  {
   "cell_type": "code",
   "execution_count": 52,
   "metadata": {},
   "outputs": [
    {
     "name": "stdout",
     "output_type": "stream",
     "text": [
      "Try again next year\n"
     ]
    }
   ],
   "source": [
    "age = 17\n",
    "\n",
    "if age > 17:\n",
    "    print(\"Allowed to enter\")\n",
    "elif age == 17:\n",
    "    print(\"Try again next year\")\n",
    "else:\n",
    "    print(\"Good try!\")"
   ]
  },
  {
   "cell_type": "markdown",
   "metadata": {},
   "source": [
    "## Logic Operators\n",
    "\n",
    "* ```not```\n",
    "* ```or```\n",
    "* ```and``` / ```&```"
   ]
  },
  {
   "cell_type": "code",
   "execution_count": 55,
   "metadata": {},
   "outputs": [
    {
     "data": {
      "text/plain": [
       "True"
      ]
     },
     "execution_count": 55,
     "metadata": {},
     "output_type": "execute_result"
    }
   ],
   "source": [
    "True and True"
   ]
  },
  {
   "cell_type": "markdown",
   "metadata": {},
   "source": [
    "## Loops"
   ]
  },
  {
   "cell_type": "code",
   "execution_count": 90,
   "metadata": {},
   "outputs": [
    {
     "name": "stdout",
     "output_type": "stream",
     "text": [
      "0\n",
      "1\n",
      "2\n"
     ]
    }
   ],
   "source": [
    "for i in range(0,3): # Note, range(3) would be analagous\n",
    "    print(i)"
   ]
  },
  {
   "cell_type": "code",
   "execution_count": 91,
   "metadata": {},
   "outputs": [
    {
     "name": "stdout",
     "output_type": "stream",
     "text": [
      "red\n",
      "green\n",
      "blue\n"
     ]
    }
   ],
   "source": [
    "colors = [\"red\", \"green\", \"blue\"]\n",
    "\n",
    "for color in colors:\n",
    "    print(color)"
   ]
  },
  {
   "cell_type": "code",
   "execution_count": 7,
   "metadata": {},
   "outputs": [
    {
     "name": "stdout",
     "output_type": "stream",
     "text": [
      "12345678\n"
     ]
    }
   ],
   "source": [
    "print(*(range(1, 9)), sep=\"\")"
   ]
  },
  {
   "cell_type": "code",
   "execution_count": 96,
   "metadata": {},
   "outputs": [
    {
     "name": "stdout",
     "output_type": "stream",
     "text": [
      "freedom\n",
      "justice\n",
      "ambition\n",
      "greed\n"
     ]
    }
   ],
   "source": [
    "concepts = [\"freedom\", \"justice\", \"ambition\", \"greed\"]\n",
    "n = len(concepts)\n",
    "\n",
    "for i in range(n):\n",
    "    print(concepts[i])"
   ]
  },
  {
   "cell_type": "code",
   "execution_count": 92,
   "metadata": {},
   "outputs": [
    {
     "name": "stdout",
     "output_type": "stream",
     "text": [
      "0 red\n",
      "1 green\n",
      "2 blue\n"
     ]
    }
   ],
   "source": [
    "for i,color in enumerate(colors):\n",
    "    print(i, color)"
   ]
  },
  {
   "cell_type": "code",
   "execution_count": 95,
   "metadata": {},
   "outputs": [
    {
     "name": "stdout",
     "output_type": "stream",
     "text": [
      "Keep going...\n",
      "Keep going...\n",
      "Keep going...\n",
      "Run!\n"
     ]
    }
   ],
   "source": [
    "animals = [\"duck\", \"duck\", \"duck\", \"goose\", \"duck\"]\n",
    "i = 0\n",
    "while animals[i] != \"goose\":\n",
    "    print(\"Keep going...\")\n",
    "    i = i + 1\n",
    "print(\"Run!\")"
   ]
  },
  {
   "cell_type": "markdown",
   "metadata": {},
   "source": [
    "## Functions\n",
    "\n",
    "When a function is called, it creates a new scope. This scope and all local variables are deleted once the function has exited. If there is no ```return``` statement, the function returns ```None```.\n",
    "\n",
    "Enclose the documentation string aka help text between three double quotes. Use the ```help(function_name)``` command to read the help text.\n",
    "\n",
    "Functions containing ```*``` within parentheses can take an arbitrary number of arguments. Functions can also set default values for their arguments, ex: ```def func(x = 3)```."
   ]
  },
  {
   "cell_type": "code",
   "execution_count": 15,
   "metadata": {},
   "outputs": [
    {
     "name": "stdout",
     "output_type": "stream",
     "text": [
      "hello world "
     ]
    }
   ],
   "source": [
    "def multiple_args(*inputs):\n",
    "    for i in inputs:\n",
    "        print(i, end = \" \")\n",
    "\n",
    "multiple_args(\"hello\", \"world\")"
   ]
  },
  {
   "cell_type": "code",
   "execution_count": 13,
   "metadata": {},
   "outputs": [
    {
     "name": "stdout",
     "output_type": "stream",
     "text": [
      "Help on function test in module __main__:\n",
      "\n",
      "test(a)\n",
      "    Function Documentation String\n",
      "\n"
     ]
    }
   ],
   "source": [
    "def test(a):\n",
    "    \"\"\"Function Documentation String\"\"\"\n",
    "    return (a+1)\n",
    "\n",
    "help(test)"
   ]
  },
  {
   "cell_type": "code",
   "execution_count": 25,
   "metadata": {},
   "outputs": [
    {
     "name": "stdout",
     "output_type": "stream",
     "text": [
      "2\n"
     ]
    }
   ],
   "source": [
    "def add_one(a):\n",
    "    global start # Global variable continues to exist after function returns\n",
    "    start = a + 1\n",
    "    return start\n",
    "\n",
    "add_one(1)\n",
    "print(start)"
   ]
  },
  {
   "cell_type": "markdown",
   "metadata": {},
   "source": [
    "## Classes\n",
    "\n",
    "Classes enable us to create custom objects. Use the ```dir(obj)``` function to list all attributes and methods available to an object."
   ]
  },
  {
   "cell_type": "code",
   "execution_count": 31,
   "metadata": {},
   "outputs": [
    {
     "data": {
      "text/plain": [
       "[1, 2]"
      ]
     },
     "execution_count": 31,
     "metadata": {},
     "output_type": "execute_result"
    }
   ],
   "source": [
    "L = [2, 1]\n",
    "L.sort()\n",
    "L"
   ]
  },
  {
   "cell_type": "code",
   "execution_count": 13,
   "metadata": {},
   "outputs": [
    {
     "name": "stdout",
     "output_type": "stream",
     "text": [
      "A new object was created with radius = 4 and color = red\n",
      "Radius updated to = 1\n"
     ]
    }
   ],
   "source": [
    "import matplotlib.pyplot as plt\n",
    "%matplotlib inline\n",
    "\n",
    "class Circle(object): # Class parent = object\n",
    "    def __init__(self, radius = 1, color = \"black\"): # Default attribute values\n",
    "        self.radius = radius\n",
    "        self.color = color\n",
    "    \n",
    "    def add_radius(self, r):\n",
    "        self.radius = self.radius + r\n",
    "        return(self.radius)\n",
    "    \n",
    "    def draw_circle(self):\n",
    "        plt.gca().add_patch(plt.Circle((0, 0), radius=self.radius, fc=self.color))\n",
    "        plt.axis(\"scaled\")\n",
    "        plt.show() \n",
    "\n",
    "my_circle = Circle(4, \"red\") # Use the object constructor to create a new instance of type Circle with desired attributes\n",
    "\n",
    "print(\"A new object was created with radius =\", my_circle.radius, \"and color =\", my_circle.color)\n",
    "\n",
    "my_circle.radius = 1\n",
    "print(\"Radius updated to =\", my_circle.radius)"
   ]
  },
  {
   "cell_type": "code",
   "execution_count": 3,
   "metadata": {},
   "outputs": [
    {
     "data": {
      "text/plain": [
       "4"
      ]
     },
     "execution_count": 3,
     "metadata": {},
     "output_type": "execute_result"
    }
   ],
   "source": [
    "my_circle.add_radius(3)\n",
    "my_circle.radius"
   ]
  },
  {
   "cell_type": "code",
   "execution_count": 4,
   "metadata": {},
   "outputs": [
    {
     "data": {
      "text/plain": [
       "['__class__',\n",
       " '__delattr__',\n",
       " '__dict__',\n",
       " '__dir__',\n",
       " '__doc__',\n",
       " '__eq__',\n",
       " '__format__',\n",
       " '__ge__',\n",
       " '__getattribute__',\n",
       " '__gt__',\n",
       " '__hash__',\n",
       " '__init__',\n",
       " '__init_subclass__',\n",
       " '__le__',\n",
       " '__lt__',\n",
       " '__module__',\n",
       " '__ne__',\n",
       " '__new__',\n",
       " '__reduce__',\n",
       " '__reduce_ex__',\n",
       " '__repr__',\n",
       " '__setattr__',\n",
       " '__sizeof__',\n",
       " '__str__',\n",
       " '__subclasshook__',\n",
       " '__weakref__',\n",
       " 'add_radius',\n",
       " 'color',\n",
       " 'radius']"
      ]
     },
     "execution_count": 4,
     "metadata": {},
     "output_type": "execute_result"
    }
   ],
   "source": [
    "dir(my_circle)"
   ]
  },
  {
   "cell_type": "code",
   "execution_count": 14,
   "metadata": {},
   "outputs": [
    {
     "data": {
      "image/png": "[encoded data removed]",
      "text/plain": [
       "<Figure size 432x288 with 1 Axes>"
      ]
     },
     "metadata": {
      "needs_background": "light"
     },
     "output_type": "display_data"
    }
   ],
   "source": [
    "my_circle.draw_circle()"
   ]
  },
  {
   "cell_type": "markdown",
   "metadata": {},
   "source": [
    "## OOP\n",
    "\n",
    "There are two main ways to relate classes: composition and inheritance.\n",
    "\n",
    "**Composition**\n",
    "\n",
    "A composition relationship can be described as \"has-a\". In this form, objects are quite strongly linked, i.e. some objects' attributes are other objects.\n",
    "\n",
    "**Inheritance**\n",
    "\n",
    "An inheritance relationship can be described as \"is-a\". In this form, objects are hierarchical, with \"child classes\" inheriting characteristics from \"parent classes\"."
   ]
  },
  {
   "cell_type": "code",
   "execution_count": 40,
   "metadata": {},
   "outputs": [
    {
     "name": "stdout",
     "output_type": "stream",
     "text": [
      "Now playing...\n",
      "Hotel California\n",
      "Life in the Fast Lane\n",
      "New Kid in Town\n"
     ]
    }
   ],
   "source": [
    "class Song(object):\n",
    "    def __init__(self, title, artist, album, track_number):\n",
    "        self.title = title\n",
    "        self.artist = artist\n",
    "        self.album = album\n",
    "        self.track_number = track_number\n",
    "        \n",
    "        artist.add_song(self)\n",
    "\n",
    "class Album(object):\n",
    "    def __init__(self, title, artist, year):\n",
    "        self.title = title\n",
    "        self.artist = artist\n",
    "        self.year = year\n",
    "\n",
    "        self.tracks = []\n",
    "        \n",
    "        artist.add_album(self)\n",
    "    \n",
    "    def add_track(self, title, artist=None):\n",
    "        if artist is None:\n",
    "            artist = self.artist\n",
    "            \n",
    "        track_number = len(self.tracks)\n",
    "        \n",
    "        song = Song(title, artist, self, track_number)\n",
    "        \n",
    "        self.tracks.append(song)\n",
    "        \n",
    "class Artist(object):\n",
    "    def __init__(self, name):\n",
    "        self.name = name\n",
    "        \n",
    "        self.albums = []\n",
    "        self.songs = []\n",
    "        \n",
    "    def add_song(self, song):\n",
    "        self.songs.append(song)\n",
    "        \n",
    "    def add_album(self, album):\n",
    "        self.albums.append(album)\n",
    "        \n",
    "class Playlist(object):\n",
    "    def __init__(self, name):\n",
    "        self.name = name\n",
    "        \n",
    "        self.songs = []\n",
    "        \n",
    "    def add_song(self, song):\n",
    "        self.songs.append(song)\n",
    "        \n",
    "    def play_songs(self):\n",
    "        print(\"Now playing...\")\n",
    "        for song in self.songs:\n",
    "            print(song.title)\n",
    "        \n",
    "artist = Artist(\"The Eagles\")\n",
    "album = Album(\"Hotel California\", artist, 1976)\n",
    "album.add_track(\"Hotel California\")\n",
    "album.add_track(\"Life in the Fast Lane\")\n",
    "album.add_track(\"New Kid in Town\")\n",
    "\n",
    "playlist = Playlist(\"Chill Music\")\n",
    "\n",
    "for song in album.tracks:\n",
    "    playlist.add_song(song)\n",
    "\n",
    "playlist.play_songs()"
   ]
  },
  {
   "cell_type": "markdown",
   "metadata": {},
   "source": [
    "## Reading Files\n",
    "\n",
    "Use the ```open()``` function to create a file object that contains methods/attributes to write/read/append data. Best practice is to use a ```with``` statement, which alleviates the need to ```close()``` the file when you are finished with it.\n",
    "\n",
    "Step through the file byte by byte using ```read(n)```. "
   ]
  },
  {
   "cell_type": "code",
   "execution_count": 12,
   "metadata": {},
   "outputs": [
    {
     "name": "stdout",
     "output_type": "stream",
     "text": [
      "File name:  example.txt\n",
      "Mode:  r\n",
      "first line\n",
      "\n",
      "[]\n"
     ]
    }
   ],
   "source": [
    "file1 = open(\"assets/example.txt\",\"r\")\n",
    "print(\"File name: \", file1.name)\n",
    "print(\"Mode: \", file1.mode)\n",
    "\n",
    "line_array = file1.readlines() # Each line is considered an element in an array\n",
    "print(line_array[0])\n",
    "\n",
    "file1.close() # Remember to close the file when you are finished with it"
   ]
  },
  {
   "cell_type": "code",
   "execution_count": 50,
   "metadata": {},
   "outputs": [
    {
     "name": "stdout",
     "output_type": "stream",
     "text": [
      "['first line\\n', 'second line\\n', 'third lineAdding another line\\n', 'Adding another line\\n']\n",
      "fi\n",
      "File closed automatically? True\n",
      "first line\n",
      "second line\n",
      "third lineAdding another line\n",
      "Adding another line\n",
      "\n"
     ]
    }
   ],
   "source": [
    "with open(\"assets/example.txt\", \"r\") as file2:\n",
    "    print(file2.readlines()) # View lines as an array\n",
    "    file2.seek(0) # Go back to beginning of file\n",
    "    print(file2.read(2)) # Step through the file byte by byte\n",
    "    file2.seek(0) # Go back to beginning of file\n",
    "    file_content = file2.read() # Read entire file into variable\n",
    "    \n",
    "print(\"File closed automatically?\", file2.closed)\n",
    "print(file_content)"
   ]
  },
  {
   "cell_type": "code",
   "execution_count": 23,
   "metadata": {},
   "outputs": [
    {
     "name": "stdout",
     "output_type": "stream",
     "text": [
      "Currently on line 1\n",
      "Currently on line 2\n",
      "Currently on line 3\n"
     ]
    }
   ],
   "source": [
    "with open(\"assets/example.txt\", \"r\") as file3:\n",
    "    i = 1\n",
    "    for line in file3:\n",
    "        print(\"Currently on line\", i) # Loop through each line in file\n",
    "        i = i + 1"
   ]
  },
  {
   "cell_type": "markdown",
   "metadata": {},
   "source": [
    "## Writing Files\n",
    "\n",
    "Use the ```\"w\"``` mode to create a new file and write to it. Caution! This will overwrite the file, if it already exists. Use the ```\"a\"``` mode to append to an existing file."
   ]
  },
  {
   "cell_type": "code",
   "execution_count": 62,
   "metadata": {},
   "outputs": [],
   "source": [
    "with open(\"assets/new_file.txt\", \"w\") as new_file:\n",
    "    new_file.write(\"Hello\\nWorld\\n\")\n",
    "    new_file.write(\"Ok, Goodbye\\n\")"
   ]
  },
  {
   "cell_type": "code",
   "execution_count": 57,
   "metadata": {},
   "outputs": [
    {
     "name": "stdout",
     "output_type": "stream",
     "text": [
      "first line\n",
      "\n",
      "second line\n",
      "\n",
      "third line\n",
      "\n",
      "Adding another line\n",
      "\n",
      "Adding another line\n",
      "\n",
      "Adding another line\n",
      "\n",
      "Adding another line\n",
      "\n",
      "Newly added content on line 7 : Adding another line\n",
      "\n"
     ]
    }
   ],
   "source": [
    "with open(\"assets/example.txt\", \"a\") as file4:\n",
    "    file4.write(\"Adding another line\\n\")\n",
    "\n",
    "with open(\"example.txt\", \"r\") as file4:\n",
    "    file4_content = file4.readlines()\n",
    "    i = 0\n",
    "    for line in file4_content:\n",
    "        print(line)\n",
    "        i = i + 1\n",
    "    print(\"Newly added content on line\", i, \":\", file4_content[i-1])\n",
    "    "
   ]
  },
  {
   "cell_type": "markdown",
   "metadata": {},
   "source": [
    "## Copying Files"
   ]
  },
  {
   "cell_type": "code",
   "execution_count": 63,
   "metadata": {},
   "outputs": [],
   "source": [
    "with open(\"assets/destination_file.txt\", \"w\") as destination_file:\n",
    "    with open(\"example.txt\", \"r\") as source_file:\n",
    "        for line in source_file:\n",
    "            destination_file.write(line)"
   ]
  },
  {
   "cell_type": "code",
   "execution_count": 64,
   "metadata": {},
   "outputs": [
    {
     "name": "stdout",
     "output_type": "stream",
     "text": [
      "first line\n",
      "second line\n",
      "third line\n",
      "Adding another line\n",
      "Adding another line\n",
      "Adding another line\n",
      "Adding another line\n",
      "\n"
     ]
    }
   ],
   "source": [
    "with open(\"assets/destination_file.txt\", \"r\") as destination_file:\n",
    "    print(destination_file.read())"
   ]
  }
 ],
 "metadata": {
  "kernelspec": {
   "display_name": "Python 3",
   "language": "python",
   "name": "python3"
  },
  "language_info": {
   "codemirror_mode": {
    "name": "ipython",
    "version": 3
   },
   "file_extension": ".py",
   "mimetype": "text/x-python",
   "name": "python",
   "nbconvert_exporter": "python",
   "pygments_lexer": "ipython3",
   "version": "3.7.3"
  }
 },
 "nbformat": 4,
 "nbformat_minor": 2
}
